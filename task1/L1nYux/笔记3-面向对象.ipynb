{
 "cells": [
  {
   "cell_type": "code",
   "execution_count": null,
   "id": "49ed7921",
   "metadata": {},
   "outputs": [
    {
     "name": "stdout",
     "output_type": "stream",
     "text": [
      "<__main__.Student object at 0x0000012166AF1010>\n",
      "<__main__.Student object at 0x0000012166AF4410>\n",
      "0x12166af1010 0x12166af4410\n"
     ]
    }
   ],
   "source": [
    "#面向对象编程：把一组数据和处理数据的方法组成对象，把行为相同的对象归纳为类，通过封装隐藏对象的内部细节，通过继承实现类的特化和泛化，通过多态实现基于对象类型的动态分派。\n",
    "#使用class关键字加上类名来定义类\n",
    "class Student:\n",
    "\n",
    "    def study(self, course_name):\n",
    "        print(f'学生正在学习{course_name}.')\n",
    "\n",
    "    def play(self):\n",
    "        print(f'学生正在玩游戏.')\n",
    "\n"
   ]
  },
  {
   "cell_type": "code",
   "execution_count": 13,
   "id": "03f4d4f9",
   "metadata": {},
   "outputs": [
    {
     "name": "stdout",
     "output_type": "stream",
     "text": [
      "<__main__.Student object at 0x0000012166AD9A90>\n",
      "<__main__.Student object at 0x0000012166AD9630>\n",
      "0x12166ad9a90 0x12166ad9630\n"
     ]
    }
   ],
   "source": [
    "#定义好一个类之后，可以使用构造器语法来创建对象 \n",
    "stu1 = Student()\n",
    "stu2 = Student()\n",
    "print(stu1)    # <__main__.Student object at 0x0000012166AF4B90>\n",
    "print(stu2)    # <__main__.Student object at 0x0000012166A7E3F0>\n",
    "print(hex(id(stu1)), hex(id(stu2)))    # 0x12166af4b90 0x12166a7e3f0\n"
   ]
  },
  {
   "cell_type": "code",
   "execution_count": 14,
   "id": "14c94899",
   "metadata": {},
   "outputs": [
    {
     "name": "stdout",
     "output_type": "stream",
     "text": [
      "学生正在学习Python程序设计.\n",
      "学生正在学习Python程序设计.\n",
      "学生正在玩游戏.\n",
      "学生正在玩游戏.\n"
     ]
    }
   ],
   "source": [
    "# 通过“类.方法”调用方法\n",
    "# 第一个参数是接收消息的对象\n",
    "# 第二个参数是学习的课程名称\n",
    "Student.study(stu1, 'Python程序设计')    # 学生正在学习Python程序设计.\n",
    "# 通过“对象.方法”调用方法\n",
    "# 点前面的对象就是接收消息的对象\n",
    "# 只需要传入第二个参数课程名称\n",
    "stu1.study('Python程序设计')             # 学生正在学习Python程序设计.\n",
    "\n",
    "Student.play(stu2)                      # 学生正在玩游戏.\n",
    "stu2.play()                             # 学生正在玩游戏. "
   ]
  },
  {
   "cell_type": "code",
   "execution_count": 15,
   "id": "499bd8d7",
   "metadata": {},
   "outputs": [],
   "source": [
    "#初始化方法\n",
    "#如果要给学生对象定义属性，可以修改Student类，为其添加一个名为__init__的方法\n",
    "#在调用Student类的构造器创建对象时，首先会在内存中获得保存学生对象所需的内存空间，然后通过自动执行__init__方法，完成对内存的初始化操作\n",
    "class Student:\n",
    "    \"\"\"学生\"\"\"\n",
    "\n",
    "    def __init__(self, name, age):\n",
    "        \"\"\"初始化方法\"\"\"\n",
    "        self.name = name\n",
    "        self.age = age\n",
    "\n",
    "    def study(self, course_name):\n",
    "        \"\"\"学习\"\"\"\n",
    "        print(f'{self.name}正在学习{course_name}.')\n",
    "\n",
    "    def play(self):\n",
    "        \"\"\"玩耍\"\"\"\n",
    "        print(f'{self.name}正在玩游戏.')"
   ]
  },
  {
   "cell_type": "code",
   "execution_count": 17,
   "id": "dadacfb2",
   "metadata": {},
   "outputs": [
    {
     "name": "stdout",
     "output_type": "stream",
     "text": [
      "abc正在学习Python程序设计.\n",
      "xyz正在玩游戏.\n"
     ]
    }
   ],
   "source": [
    "# 调用Student类的构造器创建对象并传入初始化参数\n",
    "stu1 = Student('abc', 44)\n",
    "stu2 = Student('xyz', 25)\n",
    "stu1.study('Python程序设计')    # abc正在学习Python程序设计.\n",
    "stu2.play()                    # xyz正在玩游戏."
   ]
  },
  {
   "cell_type": "code",
   "execution_count": null,
   "id": "d58e17c7",
   "metadata": {},
   "outputs": [
    {
     "name": "stdout",
     "output_type": "stream",
     "text": [
      "abc正在玩游戏.\n",
      "abc正在学习Python程序设计.\n"
     ]
    }
   ],
   "source": [
    "#封装：私有属性和方法\n",
    "#在类的内部，可以通过在属性名或方法名前加上两个下划线__将其声明为私有的\n",
    "class Student:\n",
    "    \"\"\"学生\"\"\"\n",
    "\n",
    "    def __init__(self, name, age):\n",
    "        \"\"\"初始化方法\"\"\"\n",
    "        self.__name = name      # 私有属性\n",
    "        self.__age = age        # 私有属性\n",
    "\n",
    "    def __study(self, course_name):\n",
    "        \"\"\"私有方法\"\"\"\n",
    "        print(f'{self.__name}正在学习{course_name}.')\n",
    "\n",
    "    def do(self):\n",
    "        \"\"\"玩耍\"\"\"\n",
    "        print(f'{self.__name}正在玩游戏.')\n",
    "        self.__study('Python程序设计')  # 在类的内部可以访问私有方法\n",
    "\n",
    "stu1 = Student('abc', 44)\n",
    "stu1.do()                    # abc正在玩游戏. abc正在学习Python程序设计.\n",
    "# print(stu1.__name)           # AttributeError: 'Student' object has no attribute '__name' 报错，无法访问私有属性"
   ]
  },
  {
   "cell_type": "code",
   "execution_count": null,
   "id": "1f4401c2",
   "metadata": {},
   "outputs": [],
   "source": [
    "#继承：子类从父类那里获得属性和方法（不包括私有的）\n",
    "class Person:\n",
    "    \"\"\"人\"\"\"\n",
    "\n",
    "    def __init__(self, name, age):\n",
    "        self.name = name\n",
    "        self.age = age\n",
    "\n",
    "    def eat(self):\n",
    "        print(f'{self.name}正在吃饭.')\n",
    "\n",
    "class Student(Person):\n",
    "    \"\"\"学生\"\"\"\n",
    "\n",
    "    def study(self, course_name):\n",
    "        print(f'{self.name}正在学习{course_name}.')"
   ]
  },
  {
   "cell_type": "code",
   "execution_count": 21,
   "id": "5a5fa806",
   "metadata": {},
   "outputs": [
    {
     "name": "stdout",
     "output_type": "stream",
     "text": [
      "汪汪汪\n",
      "喵喵喵\n"
     ]
    }
   ],
   "source": [
    "#多态：不同类型的对象对同一消息作出不同的响应，多应用在继承上：父类做定义声明，子类做具体实现\n",
    "class Animal:\n",
    "    def speak(self):\n",
    "        pass\n",
    "class Dog(Animal):\n",
    "    def speak(self):\n",
    "        print('汪汪汪')\n",
    "class Cat(Animal):\n",
    "    def speak(self):\n",
    "        print('喵喵喵')\n",
    "def make_noise(animal:Animal):\n",
    "    animal.speak()\n",
    "dog = Dog()\n",
    "cat = Cat()\n",
    "make_noise(dog)  # 汪汪汪\n",
    "make_noise(cat)  # 喵喵喵"
   ]
  },
  {
   "cell_type": "code",
   "execution_count": null,
   "id": "c0bb018b",
   "metadata": {},
   "outputs": [],
   "source": [
    "#魔术方法：类内置方法,我的理解是类似于C++的运算符重载\n",
    "#__str__：定义当使用print()函数输出对象时的行为\n",
    "#__lt__：定义小于运算符<的行为; __gt__：> ; __eq__：==; __ne__：!= ; __le__：<= ; __ge__：>=\n",
    "class Student:\n",
    "    def __init__(self, name, age):\n",
    "        self.name = name\n",
    "        self.age = age\n",
    "    def __str__(self):\n",
    "        return f'Student类对象, name={self.name}, age={self.age})'\n",
    "    def __lt__(self, other):\n",
    "        return self.age < other.age\n",
    "stu1 = Student('abc', 20)\n",
    "stu2 = Student('xyz', 22)\n",
    "print(stu1)  # Student类对象, name=abc, age=20)\n",
    "print(stu1<stu2)  # True"
   ]
  }
 ],
 "metadata": {
  "kernelspec": {
   "display_name": "Python 3",
   "language": "python",
   "name": "python3"
  },
  "language_info": {
   "codemirror_mode": {
    "name": "ipython",
    "version": 3
   },
   "file_extension": ".py",
   "mimetype": "text/x-python",
   "name": "python",
   "nbconvert_exporter": "python",
   "pygments_lexer": "ipython3",
   "version": "3.13.7"
  }
 },
 "nbformat": 4,
 "nbformat_minor": 5
}
