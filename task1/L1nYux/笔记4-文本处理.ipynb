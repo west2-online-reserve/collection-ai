{
 "cells": [
  {
   "cell_type": "code",
   "execution_count": null,
   "id": "b0576109",
   "metadata": {},
   "outputs": [],
   "source": [
    "#re正则表达式\n",
    "# 符号\t                 解释\t                 示例\t                         说明\n",
    "# .\t                 匹配任意字符\t              b.t\t            可以匹配bat / but / b#t / b1t等\n",
    "# \\w\t        匹配字母/数字/下划线\t          b\\wt\t        可以匹配bat / b1t / b_t等 但不能匹配b#t\n",
    "# \\s\t        匹配空白字符（包括\\r、\\n、\\t等）  love\\syou\t                可以匹配love you\n",
    "# \\d\t                匹配数字\t              \\d\\d\t                可以匹配01 / 23 / 99等\n",
    "# \\b\t            匹配单词的边界\t               \\bThe\\b\t\n",
    "# ^\t                匹配字符串的开始\t          ^The\t                可以匹配The开头的字符串\n",
    "# $\t                匹配字符串的结束\t          .exe$\t                可以匹配.exe结尾的字符串\n",
    "# \\W\t            匹配非字母/数字/下划线\t       b\\Wt\t          可以匹配b#t / b@t等但不能匹配but / b1t / b_t等\n",
    "# \\S\t            匹配非空白字符\t             love\\Syou\t        可以匹配love#you等 但不能匹配love you\n",
    "# \\D\t            匹配非数字\t                    \\d\\D\t            可以匹配9a / 3# / 0F等\n",
    "# \\B\t              匹配非单词边界\t            \\Bio\\B\t\n",
    "# []\t        匹配来自字符集的任意单一字符\t    [aeiou]\t            可以匹配任一元音字母字符\n",
    "# [^]\t        匹配不在字符集中的任意单一字符\t    [^aeiou]\t        可以匹配任一非元音字母字符\n",
    "# *             \t匹配0次或多次\t                \\w*\t\n",
    "# +\t                匹配1次或多次\t                \\w+\t\n",
    "# ?\t                匹配0次或1次\t                \\w?\t\n",
    "# {N}\t            匹配N次\t                      \\w{3}\t\n",
    "# {M,}          \t匹配至少M次                     \\w{3,}\t\n",
    "# {M,N}\t          匹配至少M次至多N次\t            \\w{3,6}\t\n",
    "# |\t              匹配左右任意一个表达式\t        bat|but\n",
    "\n",
    "import re\n",
    "pattern1 = r'^[a-zA-Z_][a-zA-Z0-9_]{2,15}$'  # 匹配合法的变量名\n",
    "pattern2 = r'^[1-9][0-9]{4,10}$'             # 匹配一组纯数字，长度为5-11位且首位不为0\n",
    "pattern3 = r'^[\\w-]+(\\.[\\w-]+)*@(qq/163/gmail)(\\.[\\w-]+)+$'      # 匹配电子邮箱地址\n",
    "\n",
    "#match(pattern, string, flags=0)                    从字符串开头匹配，成功则返回匹配对象（包含匹配信息），不成功则返回None\n",
    "#search(pattern, string, flags=0)                   搜索整个字符串，匹配到第一个后停止，找不到则返回None\n",
    "#findall(pattern, string, flags=0)                  找出所有匹配项，返回一个列表，找不到则返回空列表[]\n",
    "#sub(pattern, repl, string, count=0, flags=0)       用指定的字符串替换原字符串中与正则表达式匹配的模式 可以用count指定替换的次数\n",
    "#re.I / re.IGNORECASE                               忽略大小写匹配标记\n",
    "#re.M / re.MULTILINE                                多行匹配标记\n",
    "#re.S / re.DOTALL                                   使.可以匹配换行符"
   ]
  }
 ],
 "metadata": {
  "language_info": {
   "name": "python"
  }
 },
 "nbformat": 4,
 "nbformat_minor": 5
}
