{
 "cells": [
  {
   "cell_type": "code",
   "execution_count": null,
   "id": "57d48ce1",
   "metadata": {},
   "outputs": [
    {
     "name": "stdout",
     "output_type": "stream",
     "text": [
      "0\n",
      "1\n",
      "4\n",
      "9\n",
      "16\n",
      "25\n",
      "36\n",
      "49\n",
      "64\n",
      "81\n"
     ]
    }
   ],
   "source": [
    "#Generator 生成器\n",
    "#边循环边计算，不必创建完整的数据容器，从而节省空间\n",
    "g = (x*x for x in range(10))    #类似列表生成式，将[]改为()\n",
    "next(g)     #0\n",
    "next(g)     #1\n",
    "next(g)     #4\n",
    "#通过next()函数获得generator的下一个返回值，超过range时抛出StopIteration错误\n",
    "#或利用for循环：(不会越界)\n",
    "g2 = (x*x for x in range(10))\n",
    "for n in g2:\n",
    "    print(n)"
   ]
  },
  {
   "cell_type": "code",
   "execution_count": null,
   "id": "709e489a",
   "metadata": {},
   "outputs": [
    {
     "data": {
      "text/plain": [
       "<generator object fib at 0x000001BABFA297E0>"
      ]
     },
     "execution_count": 7,
     "metadata": {},
     "output_type": "execute_result"
    }
   ],
   "source": [
    "#yield关键字\n",
    "#若一个函数的声明中包含yield关键字，则此函数为generator函数\n",
    "def fib(max):\n",
    "    n, a, b = 0, 0, 1\n",
    "    while n < max:\n",
    "        yield b\n",
    "        a, b = b, a+b\n",
    "        n += 1\n",
    "    return 'Done'\n",
    "#generator函数在每次调用next()时执行，遇到yield语句返回，再次执行时从上次返回的yield语句处继续执行"
   ]
  },
  {
   "cell_type": "code",
   "execution_count": null,
   "id": "57cefdc3",
   "metadata": {},
   "outputs": [
    {
     "name": "stdout",
     "output_type": "stream",
     "text": [
      "g3: 1\n",
      "g3: 1\n",
      "g3: 2\n",
      "g3: 3\n",
      "g3: 5\n",
      "g3: 8\n",
      "g3: 13\n",
      "g3: 21\n",
      "g3: 34\n",
      "g3: 55\n",
      "Generator return value: Done\n"
     ]
    }
   ],
   "source": [
    "g3 = fib(10)\n",
    "while True:\n",
    "    try:\n",
    "        x = next(g3)\n",
    "        print(\"g3:\",x)\n",
    "    except StopIteration as e:\n",
    "        print('Generator return value:',e.value)\n",
    "        break\n",
    "#用for循环调用generator时，拿不到函数的return值。这时可以通过捕获StopIteration错误重的value包来获取return值"
   ]
  }
 ],
 "metadata": {
  "kernelspec": {
   "display_name": "Python 3",
   "language": "python",
   "name": "python3"
  },
  "language_info": {
   "codemirror_mode": {
    "name": "ipython",
    "version": 3
   },
   "file_extension": ".py",
   "mimetype": "text/x-python",
   "name": "python",
   "nbconvert_exporter": "python",
   "pygments_lexer": "ipython3",
   "version": "3.13.7"
  }
 },
 "nbformat": 4,
 "nbformat_minor": 5
}
