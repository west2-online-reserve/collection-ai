{
 "cells": [
  {
   "cell_type": "code",
   "execution_count": 14,
   "id": "d7a40334",
   "metadata": {},
   "outputs": [
    {
     "name": "stdout",
     "output_type": "stream",
     "text": [
      "[144, 64, 3600, 2704]\n"
     ]
    }
   ],
   "source": [
    "#Lambda匿名函数\n",
    "#如果作为参数或者返回值的函数本身非常简单，一行代码就能够完成，也不需要考虑对函数的复用，那么可以使用 lambda 函数\n",
    "#lambda 函数只能有一行代码，代码中的表达式产生的运算结果就是这个匿名函数的返回值\n",
    "def is_even(num):\n",
    "    \"\"\"判断num是不是偶数\"\"\"\n",
    "    return num % 2 == 0\n",
    "\n",
    "def square(num):\n",
    "    \"\"\"求平方\"\"\"\n",
    "    return num ** 2\n",
    "\n",
    "old_nums = [35, 12, 8, 99, 60, 52]\n",
    "new_nums = list(map(square, filter(is_even, old_nums)))\n",
    "print(new_nums)  # [144, 64, 3600, 2704]"
   ]
  },
  {
   "cell_type": "code",
   "execution_count": 15,
   "id": "afa04963",
   "metadata": {},
   "outputs": [
    {
     "name": "stdout",
     "output_type": "stream",
     "text": [
      "[144, 64, 3600, 2704]\n"
     ]
    }
   ],
   "source": [
    "#使用lambda\n",
    "old_nums = [35, 12, 8, 99, 60, 52]\n",
    "new_nums = list(map(lambda x: x ** 2, filter(lambda x: x % 2 == 0, old_nums)))\n",
    "print(new_nums)  # [144, 64, 3600, 2704]"
   ]
  },
  {
   "cell_type": "code",
   "execution_count": 16,
   "id": "558d733a",
   "metadata": {},
   "outputs": [
    {
     "name": "stdout",
     "output_type": "stream",
     "text": [
      "开始下载MySQL从删库到跑路.avi.\n",
      "MySQL从删库到跑路.avi下载完成.\n",
      "开始上传Python从入门到住院.pdf.\n",
      "Python从入门到住院.pdf上传完成.\n"
     ]
    }
   ],
   "source": [
    "#装饰器是“用一个函数装饰另外一个函数并为其提供额外的能力”的语法现象\n",
    "#装饰器本身是一个函数，它的参数是被装饰的函数，它的返回值是一个带有装饰功能的函数\n",
    "import random\n",
    "import time\n",
    "\n",
    "def download(filename):\n",
    "    \"\"\"下载文件\"\"\"\n",
    "    print(f'开始下载{filename}.')\n",
    "    time.sleep(random.random() * 6)\n",
    "    print(f'{filename}下载完成.')\n",
    "\n",
    "def upload(filename):\n",
    "    \"\"\"上传文件\"\"\"\n",
    "    print(f'开始上传{filename}.')\n",
    "    time.sleep(random.random() * 8)\n",
    "    print(f'{filename}上传完成.')\n",
    "\n",
    "download('MySQL从删库到跑路.avi')\n",
    "upload('Python从入门到住院.pdf')"
   ]
  },
  {
   "cell_type": "code",
   "execution_count": null,
   "id": "13882e78",
   "metadata": {},
   "outputs": [],
   "source": [
    "#若需要记录函数运行时间，可以将此功能写入装饰器\n",
    "#*args和**kwargs用于接收任意数量和类型的参数\n",
    "#*args用于接收位置参数，**kwargs用于接收关键字参数\n",
    "def record_time(func):\n",
    "\n",
    "    def wrapper(*args, **kwargs):\n",
    "        # 在执行被装饰的函数之前记录开始时间\n",
    "        start = time.time()\n",
    "        # 执行被装饰的函数并获取返回值\n",
    "        result = func(*args, **kwargs)\n",
    "        # 在执行被装饰的函数之后记录结束时间\n",
    "        end = time.time()\n",
    "        # 计算和显示被装饰函数的执行时间\n",
    "        print(f'{func.__name__}执行时间: {end - start:.2f}秒')\n",
    "        # 返回被装饰函数的返回值\n",
    "        return result\n",
    "    \n",
    "    return wrapper"
   ]
  },
  {
   "cell_type": "code",
   "execution_count": 18,
   "id": "5aff0fb4",
   "metadata": {},
   "outputs": [
    {
     "name": "stdout",
     "output_type": "stream",
     "text": [
      "开始下载MySQL从删库到跑路.avi.\n",
      "MySQL从删库到跑路.avi下载完成.\n",
      "download执行时间: 0.36秒\n",
      "开始上传Python从入门到住院.pdf.\n",
      "Python从入门到住院.pdf上传完成.\n",
      "upload执行时间: 1.09秒\n"
     ]
    }
   ],
   "source": [
    "#再用@装饰器函数将装饰器函数直接放在被装饰的函数上\n",
    "@record_time\n",
    "def download(filename):\n",
    "    print(f'开始下载{filename}.')\n",
    "    time.sleep(random.random() * 6)\n",
    "    print(f'{filename}下载完成.')\n",
    "\n",
    "\n",
    "@record_time\n",
    "def upload(filename):\n",
    "    print(f'开始上传{filename}.')\n",
    "    time.sleep(random.random() * 8)\n",
    "    print(f'{filename}上传完成.')\n",
    "\n",
    "\n",
    "download('MySQL从删库到跑路.avi')\n",
    "upload('Python从入门到住院.pdf')"
   ]
  }
 ],
 "metadata": {
  "kernelspec": {
   "display_name": "Python 3",
   "language": "python",
   "name": "python3"
  },
  "language_info": {
   "codemirror_mode": {
    "name": "ipython",
    "version": 3
   },
   "file_extension": ".py",
   "mimetype": "text/x-python",
   "name": "python",
   "nbconvert_exporter": "python",
   "pygments_lexer": "ipython3",
   "version": "3.13.7"
  }
 },
 "nbformat": 4,
 "nbformat_minor": 5
}
