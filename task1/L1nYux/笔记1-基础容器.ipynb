{
 "cells": [
  {
   "cell_type": "code",
   "execution_count": 26,
   "id": "e4085a99",
   "metadata": {},
   "outputs": [
    {
     "name": "stdout",
     "output_type": "stream",
     "text": [
      "[1, 9, 2, 8, 3, 7, 4, 6, 5]\n",
      "[]\n",
      "<class 'list'>\n"
     ]
    }
   ],
   "source": [
    "#list列表：用来处理一组有序项目的数据结构\n",
    "\n",
    "#创建列表\n",
    "my_list = [1, 9, 2, 8, 3, 7, 4, 6, 5]\n",
    "another_list = list(range(1, 10))  #使用list、range函数创建列表\n",
    "#或创建空列表\n",
    "empty_list = []\n",
    "another_empty_list = list()\n",
    "#list也可以包含多种数据类型\n",
    "mixed_list = [1, \"hello\", 3.14, True, None]\n",
    "\n",
    "print(my_list)          #[1, 9, 2, 8, 3, 7, 4, 6, 5]\n",
    "print(empty_list)       #[]\n",
    "print(type(my_list))    #<class 'list'>\n"
   ]
  },
  {
   "cell_type": "code",
   "execution_count": 27,
   "id": "eaf27931",
   "metadata": {},
   "outputs": [
    {
     "name": "stdout",
     "output_type": "stream",
     "text": [
      "1\n",
      "3\n",
      "5\n",
      "4\n",
      "[10, 9, 2, 8, 3, 7, 4, 6, 5]\n",
      "[10, 9, 2, 8, 3, 7, 4, 6, 5, 11]\n",
      "[10, 15, 9, 2, 8, 3, 7, 4, 6, 5, 11]\n",
      "[10, 15, 9, 8, 3, 7, 4, 6, 5, 11]\n",
      "[15, 9, 8, 3, 7, 4, 6, 5, 11]\n",
      "9\n"
     ]
    }
   ],
   "source": [
    "#操作list\n",
    "#访问元素：通过索引访问列表中的元素，索引从0开始\n",
    "print(my_list[0])  #1\n",
    "print(my_list[4])  #3\n",
    "print(my_list[-1]) #5，负数索引表示从列表末尾开始访问\n",
    "print(my_list[-3]) #4\n",
    "\n",
    "#修改元素\n",
    "my_list[0] = 10 #将索引0位置的元素修改为10\n",
    "print(my_list)  #[10, 9, 2, 8, 3, 7, 4, 6, 5]\n",
    "\n",
    "#添加元素\n",
    "my_list.append(11)          #在列表末尾添加元素11\n",
    "print(my_list)  #[10, 9, 2, 8, 3, 7, 4, 6, 5, 11]\n",
    "\n",
    "my_list.insert(1, 15)      #在索引1位置插入元素15\n",
    "print(my_list)  #[10, 15, 9, 2, 8, 3, 7, 4, 6, 5, 11]\n",
    "\n",
    "#删除元素\n",
    "my_list.remove(2)          #删除值为2的第一个元素   \n",
    "print(my_list)  #[10, 15, 9, 8, 3, 7, 4, 6, 5, 11]\n",
    "\n",
    "del my_list[0]             #删除下标为0的元素\n",
    "print(my_list)  #[15, 9, 8, 3, 7, 4, 6, 5, 11]\n",
    "\n",
    "#获取元素个数\n",
    "print(len(my_list)) #9\n"
   ]
  },
  {
   "cell_type": "code",
   "execution_count": 28,
   "id": "dd180510",
   "metadata": {},
   "outputs": [
    {
     "name": "stdout",
     "output_type": "stream",
     "text": [
      "[9, 8]\n",
      "[15, 9, 8]\n",
      "[9, 8, 3, 7, 4, 6, 5, 11]\n",
      "[15, 9, 8, 3, 7, 4, 6, 5, 11]\n",
      "[9, 8, 3, 7, 4, 6, 5]\n"
     ]
    }
   ],
   "source": [
    "#list切片\n",
    "#切片操作符是在[]内提供一对可选数字，用:分割。冒号前的数表示切片的开始位置，冒号后的数字表示切片到哪里结束。前包后不包\n",
    "print(my_list[1:3]) #[9, 8]\n",
    "#如果不指定第一个数，切片就从列表第一个元素开始\n",
    "print(my_list[:3])  #[15, 9, 8]\n",
    "#如果不指定第二个数，就一直到最后一个元素结束\n",
    "print(my_list[1:])  #[9, 8, 3, 7, 4, 6, 5, 11]\n",
    "#都不指定，则返回整个列表\n",
    "print(my_list[:])   #[15, 9, 8, 3, 7, 4, 6, 5, 11]\n",
    "#切片中的数字也可以使用负数\n",
    "print(my_list[1:-1])    #[9, 8, 3, 7, 4, 6, 5]"
   ]
  },
  {
   "cell_type": "code",
   "execution_count": 29,
   "id": "32080685",
   "metadata": {},
   "outputs": [
    {
     "name": "stdout",
     "output_type": "stream",
     "text": [
      "['I', 'am', 'an', 'English', 'sentence']\n",
      "['Hi', ' I am Jack', ' Bye', '']\n",
      "apple;pear;orange\n"
     ]
    }
   ],
   "source": [
    "#字符串与list\n",
    "#字符串的分割\n",
    "sentence1 = 'I am an English sentence'\n",
    "list1 = sentence1.split()   #通过split()函数将字符串分割为列表\n",
    "print(list1)    #['I', 'am', 'an', 'English', 'sentence']\n",
    "\n",
    "sentence2 = 'Hi. I am Jack. Bye.'\n",
    "list2 = sentence2.split('.')\n",
    "print(list2)    #['Hi', ' I am Jack', ' Bye', '']\n",
    "#注意最后那个空字符串。每个'.'都会被作为分割符，即使它的后面没有其他字符，也会有一个空串被分割出来\n",
    "\n",
    "#连接list\n",
    "list3 = ['apple', 'pear', 'orange']\n",
    "print(';'.join(list3)) #apple;pear;orange\n",
    "#join是把一个list中的所有字符串连接成一个字符串"
   ]
  },
  {
   "cell_type": "code",
   "execution_count": 30,
   "id": "452e341d",
   "metadata": {},
   "outputs": [
    {
     "name": "stdout",
     "output_type": "stream",
     "text": [
      "{'name': '王大锤', 'age': 55, 'height': 168, 'weight': 60, 'addr': '成都市'}\n",
      "{'A': '1', 'B': '2', 'C': '3', 'D': '4', 'E': '5'}\n",
      "{'A': 1, 'B': 2, 'C': 3, 'D': 4, 'E': 5}\n"
     ]
    }
   ],
   "source": [
    "#dictionary字典:一个键/值对的集合\n",
    "#基本格式：d = {key1 : value1, key2 : value2}\n",
    "#注意：1.键必须是唯一的；2.键只能是简单对象，比如字符串、整数、浮点数、bool值。\n",
    "\n",
    "#使用内置函数dict或者是字典的生成式语法来创建字典\n",
    "person = dict(name='王大锤', age=55, height=168, weight=60, addr='成都市')\n",
    "print(person)  # {'name': '王大锤', 'age': 55, 'height': 168, 'weight': 60, 'addr': '成都市'}\n",
    "\n",
    "# 可以通过Python内置函数zip压缩两个序列并创建字典\n",
    "items1 = dict(zip('ABCDE', '12345'))\n",
    "print(items1)  # {'A': '1', 'B': '2', 'C': '3', 'D': '4', 'E': '5'}\n",
    "items2 = dict(zip('ABCDE', range(1, 10)))\n",
    "print(items2)  # {'A': 1, 'B': 2, 'C': 3, 'D': 4, 'E': 5}"
   ]
  },
  {
   "cell_type": "code",
   "execution_count": 31,
   "id": "cd450268",
   "metadata": {},
   "outputs": [
    {
     "name": "stdout",
     "output_type": "stream",
     "text": [
      "5\n",
      "name\n",
      "age\n",
      "height\n",
      "weight\n",
      "addr\n",
      "name: 王大锤\n",
      "age: 55\n",
      "height: 168\n",
      "weight: 60\n",
      "addr: 成都市\n",
      "name: 王大锤\n",
      "age: 55\n",
      "height: 168\n",
      "weight: 60\n",
      "addr: 成都市\n",
      "True\n",
      "王大锤\n",
      "{'name': '王大锤', 'age': 56, 'height': 168, 'weight': 60, 'addr': '成都市', 'tel': '12345678910'}\n"
     ]
    }
   ],
   "source": [
    "#获取字典键值对个数\n",
    "print(len(person))  #5\n",
    "\n",
    "#通过循环访问字典中的键值对\n",
    "for key in person:\n",
    "    print(f\"{key}\")\n",
    "for key in person:\n",
    "    print(f\"{key}: {person[key]}\")\n",
    "for key, value in person.items():\n",
    "    print(f\"{key}: {value}\")\n",
    "\n",
    "#字典的成员运算\n",
    "print('name' in person)    #True\n",
    "\n",
    "#字典的索引运算\n",
    "print(person['name'])      #王大锤\n",
    "#通过索引运算获取字典中的值时，若不存在指定的键，将会引发KeyError错误\n",
    "person['age'] = 56         #修改键'age'对应的值\n",
    "person['tel'] = '12345678910'  #添加新的键值对\n",
    "print(person)\n"
   ]
  },
  {
   "cell_type": "code",
   "execution_count": null,
   "id": "e617141c",
   "metadata": {},
   "outputs": [
    {
     "name": "stdout",
     "output_type": "stream",
     "text": [
      "王大锤\n",
      "dict_keys(['name', 'age', 'height', 'weight', 'addr', 'tel'])\n",
      "dict_values(['王大锤', 56, 168, 60, '成都市', '12345678910'])\n",
      "dict_items([('name', '王大锤'), ('age', 56), ('height', 168), ('weight', 60), ('addr', '成都市'), ('tel', '12345678910')])\n",
      "{'name': '王大锤', 'age': 56, 'height': 168, 'weight': 60, 'addr': '成都市', 'tel': '12345678910', 'emalil': '123456@qq.com'}\n",
      "12345678910\n",
      "{'name': '王大锤', 'age': 56, 'height': 168, 'weight': 60, 'addr': '成都市', 'emalil': '123456@qq.com'}\n",
      "('emalil', '123456@qq.com')\n",
      "{'name': '王大锤', 'age': 56, 'height': 168, 'weight': 60, 'addr': '成都市'}\n",
      "{'name': '王大锤', 'age': 56, 'height': 168, 'addr': '成都市'}\n",
      "{}\n"
     ]
    }
   ],
   "source": [
    "#字典的方法\n",
    "print(person.get('name'))       # 王大锤\n",
    "#get方法在字典中没有指定的键时不会产生异常，而是返回None或指定的默认值\n",
    "\n",
    "#如果需要获取字典中所有的键，可以使用keys方法\n",
    "print(person.keys())\n",
    "#如果需要获取字典中所有的值，可以使用values方法\n",
    "print(person.values())\n",
    "#如果需要获取字典中所有的键值对，可以使用items方法\n",
    "print(person.items())\n",
    "\n",
    "#update方法实现两个字典的合并操作\n",
    "person_add = {'emalil':'123456@qq.com'}\n",
    "person.update(person_add)\n",
    "print(person)\n",
    "\n",
    "#使用pop方法删除指定键的键值对，并返回对应的值\n",
    "removed_value = person.pop('tel')\n",
    "print(removed_value)   #12345678910\n",
    "print(person)          \n",
    "#使用popitem方法删除字典中的最后一个键值对，并以元组形式返回该键值对\n",
    "last_item = person.popitem()\n",
    "print(last_item)   \n",
    "print(person)\n",
    "#使用del语句删除指定键的键值对\n",
    "del person['weight']\n",
    "print(person)\n",
    "#使用clear方法清空字典\n",
    "person.clear()\n",
    "print(person)  #{}"
   ]
  }
 ],
 "metadata": {
  "kernelspec": {
   "display_name": "Python 3",
   "language": "python",
   "name": "python3"
  },
  "language_info": {
   "codemirror_mode": {
    "name": "ipython",
    "version": 3
   },
   "file_extension": ".py",
   "mimetype": "text/x-python",
   "name": "python",
   "nbconvert_exporter": "python",
   "pygments_lexer": "ipython3",
   "version": "3.13.7"
  }
 },
 "nbformat": 4,
 "nbformat_minor": 5
}
