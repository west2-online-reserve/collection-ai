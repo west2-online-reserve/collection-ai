{
 "cells": [
  {
   "cell_type": "code",
   "execution_count": null,
   "id": "9ae0ff16",
   "metadata": {},
   "outputs": [
    {
     "name": "stdout",
     "output_type": "stream",
     "text": [
      "[2, 8, 22]\n"
     ]
    }
   ],
   "source": [
    "#使用列表推导式创建列表不仅代码简单优雅，而且性能上也优于使用for-in循环和append方法向空列表中追加元素的方式\n",
    "#因为Python 解释器的字节码指令中有专门针对生成式的指令（LIST_APPEND指令）；而for循环是通过方法调用（LOAD_METHOD和CALL_METHOD指令）的方式为列表添加元素，方法调用本身就是一个相对比较耗时的操作\n",
    "#创建一个取值范围在1到99且能被3或者5整除的数字构成的列表：\n",
    "items = []\n",
    "for i in range(1, 100):\n",
    "    if i % 3 == 0 or i % 5 == 0:\n",
    "        items.append(i)\n",
    "print(items)"
   ]
  },
  {
   "cell_type": "code",
   "execution_count": null,
   "id": "760cb447",
   "metadata": {},
   "outputs": [
    {
     "name": "stdout",
     "output_type": "stream",
     "text": [
      "[2, 8, 22]\n"
     ]
    }
   ],
   "source": [
    "#使用列表推导式：\n",
    "items = [i for i in range(1, 100) if i % 3 == 0 or i % 5 == 0]\n",
    "print(items)"
   ]
  },
  {
   "cell_type": "code",
   "execution_count": null,
   "id": "8210bca9",
   "metadata": {},
   "outputs": [],
   "source": [
    "#假设有一个由数字组成的 list，现在需要把其中的偶数项取出来，组成一个新的 list：\n",
    "list_1 = [1, 2, 3, 5, 8, 13, 22]\n",
    "list_2 = []\n",
    "for i in list_1:\n",
    "    if i % 2 == 0:\n",
    "        list_2.append(i)\n",
    "print (list_2)"
   ]
  },
  {
   "cell_type": "code",
   "execution_count": null,
   "id": "a4ced4be",
   "metadata": {},
   "outputs": [],
   "source": [
    "#使用列表推导式：\n",
    "list_1 = [1, 2, 3, 5, 8, 13, 22]\n",
    "list_2 = [i for i in list_1 if i % 2 == 0]\n",
    "print (list_2)"
   ]
  },
  {
   "cell_type": "code",
   "execution_count": null,
   "id": "4cd9a10e",
   "metadata": {},
   "outputs": [],
   "source": [
    "#类型注释：支持变量或函数返回值的注解，帮助代码提示与备注\n",
    "#变量注释------变量：类型\n",
    "age: int = 20\n",
    "name: str = \"Jack\"\n",
    "height: float = 1.75\n",
    "is_student: bool = True\n",
    "scores: list[int] = [90, 85, 92]\n",
    "\n",
    "#函数返回值注释------def 函数名(参数: 类型) -> 返回值类型:\n",
    "def add(a: int, b: int) -> int:\n",
    "    return a + b\n",
    "\n",
    "#Union类型注释：定义联合类型注解，表示变量可以是多种类型之一：\n",
    "from typing import Union\n",
    "my_list: list[Union[int, str]] = [20, \"Jack\", 30, \"Alice\"]\n",
    "my_dict: dict[str, Union[int, float]] = {\"age\": 20, \"height\": 1.75}\n",
    "def func(value: Union[int, str]) -> Union[str, int]:\n",
    "    pass"
   ]
  }
 ],
 "metadata": {
  "kernelspec": {
   "display_name": "Python 3",
   "language": "python",
   "name": "python3"
  },
  "language_info": {
   "codemirror_mode": {
    "name": "ipython",
    "version": 3
   },
   "file_extension": ".py",
   "mimetype": "text/x-python",
   "name": "python",
   "nbconvert_exporter": "python",
   "pygments_lexer": "ipython3",
   "version": "3.13.7"
  }
 },
 "nbformat": 4,
 "nbformat_minor": 5
}
