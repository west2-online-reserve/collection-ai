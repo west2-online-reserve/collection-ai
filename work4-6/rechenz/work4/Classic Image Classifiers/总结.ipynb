{
 "cells": [
  {
   "cell_type": "markdown",
   "id": "e3980489-7330-40e6-9239-59cc20b7bb9d",
   "metadata": {},
   "source": [
    "在本次任务中，我们完成了k-NN算法，softmax和SVM分类器，并分别实现了两层全连接神经网络"
   ]
  },
  {
   "cell_type": "markdown",
   "id": "4006d547-a42e-44b6-abcd-ba23b8d14d0e",
   "metadata": {},
   "source": [
    "以下是对他们的比较"
   ]
  },
  {
   "cell_type": "markdown",
   "id": "7e63bd60-7381-4963-b845-9bf9f3beb35d",
   "metadata": {},
   "source": [
    "1.k-NN"
   ]
  },
  {
   "cell_type": "code",
   "execution_count": 1,
   "id": "16ff5d4b-3375-42bb-bbe9-e6d24203b760",
   "metadata": {},
   "outputs": [
    {
     "name": "stdout",
     "output_type": "stream",
     "text": [
      "5 is the best k\n",
      "Start to final test\n",
      "0.3398\n"
     ]
    }
   ],
   "source": [
    "%run k-NN/main.py"
   ]
  },
  {
   "cell_type": "markdown",
   "id": "9fc2d7fb-8b37-4cf8-9a74-075202723d23",
   "metadata": {},
   "source": [
    "2.使用SVM的两层全连接神经网络（使用relu为激活函数）"
   ]
  },
  {
   "cell_type": "code",
   "execution_count": 2,
   "id": "dc8e7165-a8b1-4c50-9ae2-17fcce408323",
   "metadata": {},
   "outputs": [
    {
     "name": "stdout",
     "output_type": "stream",
     "text": [
      "accuracy: 0.494\n"
     ]
    }
   ],
   "source": [
    "%run SVM/main.py"
   ]
  },
  {
   "cell_type": "markdown",
   "id": "75ec5a98-266c-4116-a297-effa303324fa",
   "metadata": {},
   "source": [
    "3.使用softmax的两层全连接神经网络（使用relu为激活函数）"
   ]
  },
  {
   "cell_type": "code",
   "execution_count": 3,
   "id": "440efe84-5b77-419c-8508-4ea4084481fa",
   "metadata": {},
   "outputs": [
    {
     "name": "stdout",
     "output_type": "stream",
     "text": [
      "train accuracy: 0.7166\n"
     ]
    }
   ],
   "source": [
    "%run softmax/main.py"
   ]
  },
  {
   "cell_type": "markdown",
   "id": "76d8b0aa-d4a1-4f5d-a0b7-bba42f2299b9",
   "metadata": {},
   "source": [
    "不难发现，k-NN算法在准确率方面明显劣于神经网络，且经过测试，k-NN算法的运行效率也要劣于神经网络。"
   ]
  },
  {
   "cell_type": "markdown",
   "id": "92caa3ee-63d1-4cad-a408-bf484f8e3d6b",
   "metadata": {},
   "source": [
    "此外，在使用SVM时，对数据进行归一化会显著降低准确率，猜测是因为对于图像分类来说，数据范围稳定控制在0-255，所以归一化的优化作用不大，并且我没有适当降低learningrate，导致学习率过大而过拟合"
   ]
  }
 ],
 "metadata": {
  "kernelspec": {
   "display_name": "Python 3 (ipykernel)",
   "language": "python",
   "name": "python3"
  },
  "language_info": {
   "codemirror_mode": {
    "name": "ipython",
    "version": 3
   },
   "file_extension": ".py",
   "mimetype": "text/x-python",
   "name": "python",
   "nbconvert_exporter": "python",
   "pygments_lexer": "ipython3",
   "version": "3.14.0"
  }
 },
 "nbformat": 4,
 "nbformat_minor": 5
}
