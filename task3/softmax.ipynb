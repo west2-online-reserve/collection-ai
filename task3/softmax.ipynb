{
  "cells": [
    {
      "cell_type": "markdown",
      "metadata": {
        "id": "view-in-github",
        "colab_type": "text"
      },
      "source": [
        "<a href=\"https://colab.research.google.com/github/Volcano-Heidi/growing/blob/main/softmax.ipynb\" target=\"_parent\"><img src=\"https://colab.research.google.com/assets/colab-badge.svg\" alt=\"Open In Colab\"/></a>"
      ]
    },
    {
      "cell_type": "code",
      "execution_count": 1,
      "id": "d8aaae81",
      "metadata": {
        "colab": {
          "base_uri": "https://localhost:8080/"
        },
        "id": "d8aaae81",
        "outputId": "a7b777c3-8362-47d4-889c-b7e490dd9001"
      },
      "outputs": [
        {
          "output_type": "stream",
          "name": "stdout",
          "text": [
            "Mounted at /content/drive\n",
            "/content/drive/My Drive/cs231n/assessment/assignment1-2/cs231n/datasets\n",
            "/content/drive/My Drive/cs231n/assessment/assignment1-2\n"
          ]
        }
      ],
      "source": [
        "# This mounts your Google Drive to the Colab VM.\n",
        "from google.colab import drive\n",
        "drive.mount('/content/drive')\n",
        "\n",
        "# TODO: Enter the foldername in your Drive where you have saved the unzipped\n",
        "# assignment folder, e.g. 'cs231n/assignments/assignment1/'\n",
        "FOLDERNAME = 'cs231n/assessment/assignment1-2/'\n",
        "assert FOLDERNAME is not None, \"[!] Enter the foldername.\"\n",
        "\n",
        "# Now that we've mounted your Drive, this ensures that\n",
        "# the Python interpreter of the Colab VM can load\n",
        "# python files from within it.\n",
        "import sys\n",
        "sys.path.append('/content/drive/My Drive/{}'.format(FOLDERNAME))\n",
        "\n",
        "# This downloads the CIFAR-10 dataset to your Drive\n",
        "# if it doesn't already exist.\n",
        "%cd /content/drive/My\\ Drive/$FOLDERNAME/cs231n/datasets/\n",
        "!bash get_datasets.sh\n",
        "%cd /content/drive/My\\ Drive/$FOLDERNAME"
      ]
    },
    {
      "cell_type": "markdown",
      "id": "e2c3cfa1",
      "metadata": {
        "tags": [
          "pdf-title"
        ],
        "id": "e2c3cfa1"
      },
      "source": [
        "# Softmax exercise\n",
        "\n",
        "*Complete and hand in this completed worksheet (including its outputs and any supporting code outside of the worksheet) with your assignment submission. For more details see the [assignments page](http://vision.stanford.edu/teaching/cs231n/assignments.html) on the course website.*\n",
        "\n",
        "This exercise is analogous to the SVM exercise. You will:\n",
        "\n",
        "- implement a fully-vectorized **loss function** for the Softmax classifier\n",
        "- implement the fully-vectorized expression for its **analytic gradient**\n",
        "- **check your implementation** with numerical gradient\n",
        "- use a validation set to **tune the learning rate and regularization** strength\n",
        "- **optimize** the loss function with **SGD**\n",
        "- **visualize** the final learned weights\n"
      ]
    },
    {
      "cell_type": "code",
      "execution_count": 2,
      "id": "c55a72bf",
      "metadata": {
        "tags": [
          "pdf-ignore"
        ],
        "id": "c55a72bf"
      },
      "outputs": [],
      "source": [
        "import random\n",
        "import numpy as np\n",
        "from cs231n.data_utils import load_CIFAR10\n",
        "import matplotlib.pyplot as plt\n",
        "\n",
        "%matplotlib inline\n",
        "plt.rcParams['figure.figsize'] = (10.0, 8.0) # set default size of plots\n",
        "plt.rcParams['image.interpolation'] = 'nearest'\n",
        "plt.rcParams['image.cmap'] = 'gray'\n",
        "\n",
        "# for auto-reloading extenrnal modules\n",
        "# see http://stackoverflow.com/questions/1907993/autoreload-of-modules-in-ipython\n",
        "%load_ext autoreload\n",
        "%autoreload 2"
      ]
    },
    {
      "cell_type": "code",
      "execution_count": 3,
      "id": "b99594ec",
      "metadata": {
        "tags": [
          "pdf-ignore"
        ],
        "colab": {
          "base_uri": "https://localhost:8080/"
        },
        "id": "b99594ec",
        "outputId": "bcf50cbf-2ec2-4130-d0f6-577f59e33403"
      },
      "outputs": [
        {
          "output_type": "stream",
          "name": "stdout",
          "text": [
            "Train data shape:  (49000, 3073)\n",
            "Train labels shape:  (49000,)\n",
            "Validation data shape:  (1000, 3073)\n",
            "Validation labels shape:  (1000,)\n",
            "Test data shape:  (1000, 3073)\n",
            "Test labels shape:  (1000,)\n",
            "dev data shape:  (500, 3073)\n",
            "dev labels shape:  (500,)\n"
          ]
        }
      ],
      "source": [
        "def get_CIFAR10_data(num_training=49000, num_validation=1000, num_test=1000, num_dev=500):\n",
        "    \"\"\"\n",
        "    Load the CIFAR-10 dataset from disk and perform preprocessing to prepare\n",
        "    it for the linear classifier. These are the same steps as we used for the\n",
        "    SVM, but condensed to a single function.\n",
        "    \"\"\"\n",
        "    # Load the raw CIFAR-10 data\n",
        "    cifar10_dir = 'cs231n/datasets/cifar-10-batches-py'\n",
        "\n",
        "    # Cleaning up variables to prevent loading data multiple times (which may cause memory issue)\n",
        "    try:\n",
        "       del X_train, y_train\n",
        "       del X_test, y_test\n",
        "       print('Clear previously loaded data.')\n",
        "    except:\n",
        "       pass\n",
        "\n",
        "    X_train, y_train, X_test, y_test = load_CIFAR10(cifar10_dir)\n",
        "\n",
        "    # subsample the data\n",
        "    mask = list(range(num_training, num_training + num_validation))\n",
        "    X_val = X_train[mask]\n",
        "    y_val = y_train[mask]\n",
        "    mask = list(range(num_training))\n",
        "    X_train = X_train[mask]\n",
        "    y_train = y_train[mask]\n",
        "    mask = list(range(num_test))\n",
        "    X_test = X_test[mask]\n",
        "    y_test = y_test[mask]\n",
        "    mask = np.random.choice(num_training, num_dev, replace=False)\n",
        "    X_dev = X_train[mask]\n",
        "    y_dev = y_train[mask]\n",
        "\n",
        "    # Preprocessing: reshape the image data into rows\n",
        "    X_train = np.reshape(X_train, (X_train.shape[0], -1))\n",
        "    X_val = np.reshape(X_val, (X_val.shape[0], -1))\n",
        "    X_test = np.reshape(X_test, (X_test.shape[0], -1))\n",
        "    X_dev = np.reshape(X_dev, (X_dev.shape[0], -1))\n",
        "\n",
        "    # Normalize the data: subtract the mean image\n",
        "    mean_image = np.mean(X_train, axis = 0)\n",
        "    X_train -= mean_image\n",
        "    X_val -= mean_image\n",
        "    X_test -= mean_image\n",
        "    X_dev -= mean_image\n",
        "\n",
        "    # add bias dimension and transform into columns\n",
        "    X_train = np.hstack([X_train, np.ones((X_train.shape[0], 1))])\n",
        "    X_val = np.hstack([X_val, np.ones((X_val.shape[0], 1))])\n",
        "    X_test = np.hstack([X_test, np.ones((X_test.shape[0], 1))])\n",
        "    X_dev = np.hstack([X_dev, np.ones((X_dev.shape[0], 1))])\n",
        "\n",
        "    return X_train, y_train, X_val, y_val, X_test, y_test, X_dev, y_dev\n",
        "\n",
        "\n",
        "# Invoke the above function to get our data.\n",
        "X_train, y_train, X_val, y_val, X_test, y_test, X_dev, y_dev = get_CIFAR10_data()\n",
        "print('Train data shape: ', X_train.shape)\n",
        "print('Train labels shape: ', y_train.shape)\n",
        "print('Validation data shape: ', X_val.shape)\n",
        "print('Validation labels shape: ', y_val.shape)\n",
        "print('Test data shape: ', X_test.shape)\n",
        "print('Test labels shape: ', y_test.shape)\n",
        "print('dev data shape: ', X_dev.shape)\n",
        "print('dev labels shape: ', y_dev.shape)"
      ]
    },
    {
      "cell_type": "markdown",
      "id": "2713b7f4",
      "metadata": {
        "id": "2713b7f4"
      },
      "source": [
        "## Softmax Classifier\n",
        "\n",
        "Your code for this section will all be written inside `cs231n/classifiers/softmax.py`.\n"
      ]
    },
    {
      "cell_type": "code",
      "execution_count": 4,
      "id": "6168f67e",
      "metadata": {
        "colab": {
          "base_uri": "https://localhost:8080/"
        },
        "id": "6168f67e",
        "outputId": "318d8e87-a3d0-43e9-8b68-e1446d892332"
      },
      "outputs": [
        {
          "output_type": "stream",
          "name": "stdout",
          "text": [
            "loss: 2.392834\n",
            "sanity check: 2.302585\n"
          ]
        }
      ],
      "source": [
        "# First implement the naive softmax loss function with nested loops.\n",
        "# Open the file cs231n/classifiers/softmax.py and implement the\n",
        "# softmax_loss_naive function.\n",
        "\n",
        "from cs231n.classifiers.softmax import softmax_loss_naive\n",
        "import time\n",
        "\n",
        "# Generate a random softmax weight matrix and use it to compute the loss.\n",
        "W = np.random.randn(3073, 10) * 0.0001\n",
        "loss, grad = softmax_loss_naive(W, X_dev, y_dev, 0.0)\n",
        "\n",
        "# As a rough sanity check, our loss should be something close to -log(0.1).\n",
        "print('loss: %f' % loss)\n",
        "print('sanity check: %f' % (-np.log(0.1)))"
      ]
    },
    {
      "cell_type": "markdown",
      "id": "b35bc604",
      "metadata": {
        "tags": [
          "pdf-inline"
        ],
        "id": "b35bc604"
      },
      "source": [
        "**Inline Question 1**\n",
        "\n",
        "Why do we expect our loss to be close to -log(0.1)? Explain briefly.**\n",
        "\n",
        "$\\color{blue}{\\textit Your Answer:}$ 因为有十个类别,随机预测的话,预测正确的概率为0.1\n",
        "\n"
      ]
    },
    {
      "cell_type": "code",
      "execution_count": 5,
      "id": "b7bef674",
      "metadata": {
        "colab": {
          "base_uri": "https://localhost:8080/"
        },
        "id": "b7bef674",
        "outputId": "1bf5ddaa-3ea0-4410-bee8-b0dba80224d5"
      },
      "outputs": [
        {
          "output_type": "stream",
          "name": "stdout",
          "text": [
            "numerical: 0.416829 analytic: 0.416829, relative error: 5.551897e-08\n",
            "numerical: 1.215283 analytic: 1.215283, relative error: 2.246215e-08\n",
            "numerical: 2.634334 analytic: 2.634334, relative error: 1.940496e-08\n",
            "numerical: 0.694812 analytic: 0.694812, relative error: 7.467317e-08\n",
            "numerical: -0.327635 analytic: -0.327635, relative error: 8.257373e-09\n",
            "numerical: -4.830928 analytic: -4.830928, relative error: 9.425079e-09\n",
            "numerical: -2.024769 analytic: -2.024769, relative error: 8.934049e-09\n",
            "numerical: -3.719797 analytic: -3.719798, relative error: 1.339353e-08\n",
            "numerical: -0.577331 analytic: -0.577331, relative error: 3.448766e-08\n",
            "numerical: 2.399174 analytic: 2.399174, relative error: 7.204045e-09\n",
            "numerical: 1.109565 analytic: 1.109565, relative error: 3.439176e-08\n",
            "numerical: 3.597769 analytic: 3.597769, relative error: 9.824340e-09\n",
            "numerical: -0.941266 analytic: -0.941266, relative error: 5.037865e-08\n",
            "numerical: -2.825363 analytic: -2.825363, relative error: 8.847308e-09\n",
            "numerical: 0.525806 analytic: 0.525806, relative error: 1.012774e-07\n",
            "numerical: 0.436771 analytic: 0.436771, relative error: 9.321507e-08\n",
            "numerical: 3.439067 analytic: 3.439067, relative error: 2.509980e-08\n",
            "numerical: 1.016361 analytic: 1.016361, relative error: 1.943534e-08\n",
            "numerical: 1.506575 analytic: 1.506575, relative error: 2.227735e-08\n",
            "numerical: -0.349022 analytic: -0.349022, relative error: 3.362022e-08\n"
          ]
        }
      ],
      "source": [
        "# Complete the implementation of softmax_loss_naive and implement a (naive)\n",
        "# version of the gradient that uses nested loops.\n",
        "loss, grad = softmax_loss_naive(W, X_dev, y_dev, 0.0)\n",
        "\n",
        "# As we did for the SVM, use numeric gradient checking as a debugging tool.\n",
        "# The numeric gradient should be close to the analytic gradient.\n",
        "from cs231n.gradient_check import grad_check_sparse\n",
        "f = lambda w: softmax_loss_naive(w, X_dev, y_dev, 0.0)[0]\n",
        "grad_numerical = grad_check_sparse(f, W, grad, 10)\n",
        "\n",
        "# similar to SVM case, do another gradient check with regularization\n",
        "loss, grad = softmax_loss_naive(W, X_dev, y_dev, 5e1)\n",
        "f = lambda w: softmax_loss_naive(w, X_dev, y_dev, 5e1)[0]\n",
        "grad_numerical = grad_check_sparse(f, W, grad, 10)"
      ]
    },
    {
      "cell_type": "code",
      "execution_count": 6,
      "id": "3994f8a3",
      "metadata": {
        "colab": {
          "base_uri": "https://localhost:8080/"
        },
        "id": "3994f8a3",
        "outputId": "5eb20dce-8fbd-4821-88c1-3902a14361b8"
      },
      "outputs": [
        {
          "output_type": "stream",
          "name": "stdout",
          "text": [
            "naive loss: 2.392834e+00 computed in 0.100502s\n",
            "vectorized loss: 2.392834e+00 computed in 0.012275s\n",
            "Loss difference: 0.000000\n",
            "Gradient difference: 0.000000\n"
          ]
        }
      ],
      "source": [
        "# Now that we have a naive implementation of the softmax loss function and its gradient,\n",
        "# implement a vectorized version in softmax_loss_vectorized.\n",
        "# The two versions should compute the same results, but the vectorized version should be\n",
        "# much faster.\n",
        "tic = time.time()\n",
        "loss_naive, grad_naive = softmax_loss_naive(W, X_dev, y_dev, 0.000005)\n",
        "toc = time.time()\n",
        "print('naive loss: %e computed in %fs' % (loss_naive, toc - tic))\n",
        "\n",
        "from cs231n.classifiers.softmax import softmax_loss_vectorized\n",
        "tic = time.time()\n",
        "loss_vectorized, grad_vectorized = softmax_loss_vectorized(W, X_dev, y_dev, 0.000005)\n",
        "toc = time.time()\n",
        "print('vectorized loss: %e computed in %fs' % (loss_vectorized, toc - tic))\n",
        "\n",
        "# As we did for the SVM, we use the Frobenius norm to compare the two versions\n",
        "# of the gradient.\n",
        "grad_difference = np.linalg.norm(grad_naive - grad_vectorized, ord='fro')\n",
        "print('Loss difference: %f' % np.abs(loss_naive - loss_vectorized))\n",
        "print('Gradient difference: %f' % grad_difference)"
      ]
    },
    {
      "cell_type": "code",
      "execution_count": 10,
      "id": "bd171311",
      "metadata": {
        "tags": [
          "code"
        ],
        "test": "tuning",
        "colab": {
          "base_uri": "https://localhost:8080/"
        },
        "id": "bd171311",
        "outputId": "7d6e9a7f-a224-47c0-9c19-c83ac16fc346"
      },
      "outputs": [
        {
          "output_type": "stream",
          "name": "stdout",
          "text": [
            "iteration 0 / 2000: loss 774.855838\n",
            "iteration 100 / 2000: loss 284.216120\n",
            "iteration 200 / 2000: loss 105.311739\n",
            "iteration 300 / 2000: loss 39.826314\n",
            "iteration 400 / 2000: loss 15.892201\n",
            "iteration 500 / 2000: loss 7.142500\n",
            "iteration 600 / 2000: loss 3.957934\n",
            "iteration 700 / 2000: loss 2.820006\n",
            "iteration 800 / 2000: loss 2.275178\n",
            "iteration 900 / 2000: loss 2.200859\n",
            "iteration 1000 / 2000: loss 2.087343\n",
            "iteration 1100 / 2000: loss 2.117727\n",
            "iteration 1200 / 2000: loss 2.150871\n",
            "iteration 1300 / 2000: loss 2.137470\n",
            "iteration 1400 / 2000: loss 2.094222\n",
            "iteration 1500 / 2000: loss 2.079773\n",
            "iteration 1600 / 2000: loss 2.019525\n",
            "iteration 1700 / 2000: loss 2.100742\n",
            "iteration 1800 / 2000: loss 2.107482\n",
            "iteration 1900 / 2000: loss 2.030170\n",
            "iteration 0 / 2000: loss 1552.689042\n",
            "iteration 100 / 2000: loss 208.958807\n",
            "iteration 200 / 2000: loss 29.759896\n",
            "iteration 300 / 2000: loss 5.823304\n",
            "iteration 400 / 2000: loss 2.631475\n",
            "iteration 500 / 2000: loss 2.213751\n",
            "iteration 600 / 2000: loss 2.126333\n",
            "iteration 700 / 2000: loss 2.124747\n",
            "iteration 800 / 2000: loss 2.128573\n",
            "iteration 900 / 2000: loss 2.158333\n",
            "iteration 1000 / 2000: loss 2.105016\n",
            "iteration 1100 / 2000: loss 2.195715\n",
            "iteration 1200 / 2000: loss 2.135762\n",
            "iteration 1300 / 2000: loss 2.146941\n",
            "iteration 1400 / 2000: loss 2.160333\n",
            "iteration 1500 / 2000: loss 2.141389\n",
            "iteration 1600 / 2000: loss 2.139141\n",
            "iteration 1700 / 2000: loss 2.107678\n",
            "iteration 1800 / 2000: loss 2.166220\n",
            "iteration 1900 / 2000: loss 2.110290\n",
            "iteration 0 / 2000: loss 786.022938\n",
            "iteration 100 / 2000: loss 6.953955\n",
            "iteration 200 / 2000: loss 2.125528\n",
            "iteration 300 / 2000: loss 2.076103\n",
            "iteration 400 / 2000: loss 2.074927\n",
            "iteration 500 / 2000: loss 2.130263\n",
            "iteration 600 / 2000: loss 2.092359\n",
            "iteration 700 / 2000: loss 2.112849\n",
            "iteration 800 / 2000: loss 2.075057\n",
            "iteration 900 / 2000: loss 2.034930\n",
            "iteration 1000 / 2000: loss 2.093893\n",
            "iteration 1100 / 2000: loss 2.094564\n",
            "iteration 1200 / 2000: loss 2.051632\n",
            "iteration 1300 / 2000: loss 2.029210\n",
            "iteration 1400 / 2000: loss 2.082231\n",
            "iteration 1500 / 2000: loss 2.128498\n",
            "iteration 1600 / 2000: loss 2.192634\n",
            "iteration 1700 / 2000: loss 2.068082\n",
            "iteration 1800 / 2000: loss 2.109567\n",
            "iteration 1900 / 2000: loss 2.094219\n",
            "iteration 0 / 2000: loss 1537.146996\n",
            "iteration 100 / 2000: loss 2.195688\n",
            "iteration 200 / 2000: loss 2.154664\n",
            "iteration 300 / 2000: loss 2.121715\n",
            "iteration 400 / 2000: loss 2.119056\n",
            "iteration 500 / 2000: loss 2.149632\n",
            "iteration 600 / 2000: loss 2.104836\n",
            "iteration 700 / 2000: loss 2.141399\n",
            "iteration 800 / 2000: loss 2.135324\n",
            "iteration 900 / 2000: loss 2.150088\n",
            "iteration 1000 / 2000: loss 2.170570\n",
            "iteration 1100 / 2000: loss 2.184323\n",
            "iteration 1200 / 2000: loss 2.170218\n",
            "iteration 1300 / 2000: loss 2.138386\n",
            "iteration 1400 / 2000: loss 2.220032\n",
            "iteration 1500 / 2000: loss 2.187601\n",
            "iteration 1600 / 2000: loss 2.134960\n",
            "iteration 1700 / 2000: loss 2.144813\n",
            "iteration 1800 / 2000: loss 2.147735\n",
            "iteration 1900 / 2000: loss 2.149132\n",
            "lr 1.000000e-07 reg 2.500000e+04 train accuracy: 0.326551 val accuracy: 0.334000\n",
            "lr 1.000000e-07 reg 5.000000e+04 train accuracy: 0.303796 val accuracy: 0.319000\n",
            "lr 5.000000e-07 reg 2.500000e+04 train accuracy: 0.327776 val accuracy: 0.345000\n",
            "lr 5.000000e-07 reg 5.000000e+04 train accuracy: 0.307143 val accuracy: 0.314000\n",
            "best validation accuracy achieved during cross-validation: 0.345000\n"
          ]
        }
      ],
      "source": [
        "# Use the validation set to tune hyperparameters (regularization strength and\n",
        "# learning rate). You should experiment with different ranges for the learning\n",
        "# rates and regularization strengths; if you are careful you should be able to\n",
        "# get a classification accuracy of over 0.35 on the validation set.\n",
        "\n",
        "from cs231n.classifiers import Softmax\n",
        "results = {}\n",
        "best_val = -1\n",
        "best_softmax = None\n",
        "\n",
        "################################################################################\n",
        "# TODO:                                                                        #\n",
        "# Use the validation set to set the learning rate and regularization strength. #\n",
        "# This should be identical to the validation that you did for the SVM; save    #\n",
        "# the best trained softmax classifer in best_softmax.                          #\n",
        "################################################################################\n",
        "\n",
        "# Provided as a reference. You may or may not want to change these hyperparameters\n",
        "learning_rates = [1e-7, 5e-7]\n",
        "regularization_strengths = [2.5e4, 5e4]\n",
        "\n",
        "# *****START OF YOUR CODE (DO NOT DELETE/MODIFY THIS LINE)*****\n",
        "\n",
        "for lr in learning_rates:\n",
        "    for reg in regularization_strengths:\n",
        "        softmax = Softmax()\n",
        "        loss_history=softmax.train(X_train, y_train, learning_rate=lr, reg=reg, num_iters=2000, verbose=True)\n",
        "        y_train_pred = softmax.predict(X_train)\n",
        "        y_val_pred = softmax.predict(X_val)\n",
        "        train_accuracy = np.mean(softmax.predict(X_train) == y_train)\n",
        "        val_accuracy = np.mean(softmax.predict(X_val) == y_val)\n",
        "        results[(lr, reg)] = (train_accuracy, val_accuracy)\n",
        "        if val_accuracy > best_val:\n",
        "            best_val = val_accuracy\n",
        "            best_softmax = softmax\n",
        "\n",
        "\n",
        "# *****END OF YOUR CODE (DO NOT DELETE/MODIFY THIS LINE)*****\n",
        "\n",
        "# Print out results.\n",
        "for lr, reg in sorted(results):\n",
        "    train_accuracy, val_accuracy = results[(lr, reg)]\n",
        "    print('lr %e reg %e train accuracy: %f val accuracy: %f' % (\n",
        "                lr, reg, train_accuracy, val_accuracy))\n",
        "\n",
        "print('best validation accuracy achieved during cross-validation: %f' % best_val)"
      ]
    },
    {
      "cell_type": "code",
      "execution_count": 12,
      "id": "f94a8f12",
      "metadata": {
        "test": "test",
        "colab": {
          "base_uri": "https://localhost:8080/"
        },
        "id": "f94a8f12",
        "outputId": "bbc62145-e6e4-4646-e8a9-f2dbb452d5ce"
      },
      "outputs": [
        {
          "output_type": "stream",
          "name": "stdout",
          "text": [
            "softmax on raw pixels final test set accuracy: 0.337000\n"
          ]
        }
      ],
      "source": [
        "# evaluate on test set\n",
        "# Evaluate the best softmax on test set\n",
        "y_test_pred = best_softmax.predict(X_test)\n",
        "test_accuracy = np.mean(y_test == y_test_pred)\n",
        "print('softmax on raw pixels final test set accuracy: %f' % (test_accuracy, ))"
      ]
    },
    {
      "cell_type": "markdown",
      "id": "7e2112ee",
      "metadata": {
        "tags": [
          "pdf-inline"
        ],
        "id": "7e2112ee"
      },
      "source": [
        "**Inline Question 2** - *True or False*\n",
        "\n",
        "Suppose the overall training loss is defined as the sum of the per-datapoint loss over all training examples. It is possible to add a new datapoint to a training set that would leave the SVM loss unchanged, but this is not the case with the Softmax classifier loss.\n",
        "\n",
        "$\\color{blue}{\\textit Your Answer:}$\n",
        "\n",
        "\n",
        "$\\color{blue}{\\textit Your Explanation:}$\n",
        "\n"
      ]
    },
    {
      "cell_type": "code",
      "execution_count": 13,
      "id": "86d86120",
      "metadata": {
        "colab": {
          "base_uri": "https://localhost:8080/",
          "height": 528
        },
        "id": "86d86120",
        "outputId": "31ad88db-bd8d-4a0c-99e3-18369ccd2877"
      },
      "outputs": [
        {
          "output_type": "display_data",
          "data": {
            "text/plain": [
              "<Figure size 1000x800 with 10 Axes>"
            ],
            "image/png": "[encoded data removed]"
          },
          "metadata": {}
        }
      ],
      "source": [
        "# Visualize the learned weights for each class\n",
        "w = best_softmax.W[:-1,:] # strip out the bias\n",
        "w = w.reshape(32, 32, 3, 10)\n",
        "\n",
        "w_min, w_max = np.min(w), np.max(w)\n",
        "\n",
        "classes = ['plane', 'car', 'bird', 'cat', 'deer', 'dog', 'frog', 'horse', 'ship', 'truck']\n",
        "for i in range(10):\n",
        "    plt.subplot(2, 5, i + 1)\n",
        "\n",
        "    # Rescale the weights to be between 0 and 255\n",
        "    wimg = 255.0 * (w[:, :, :, i].squeeze() - w_min) / (w_max - w_min)\n",
        "    plt.imshow(wimg.astype('uint8'))\n",
        "    plt.axis('off')\n",
        "    plt.title(classes[i])"
      ]
    },
    {
      "cell_type": "code",
      "execution_count": 9,
      "id": "24688f99",
      "metadata": {
        "id": "24688f99"
      },
      "outputs": [],
      "source": []
    }
  ],
  "metadata": {
    "colab": {
      "provenance": [],
      "include_colab_link": true
    },
    "language_info": {
      "name": "python"
    },
    "kernelspec": {
      "name": "python3",
      "display_name": "Python 3"
    }
  },
  "nbformat": 4,
  "nbformat_minor": 5
}