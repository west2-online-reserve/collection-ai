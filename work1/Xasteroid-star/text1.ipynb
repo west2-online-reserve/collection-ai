{
 "cells": [
  {
   "cell_type": "markdown",
   "id": "e20ac34b",
   "metadata": {},
   "source": [
    "## 基础容器"
   ]
  },
  {
   "cell_type": "code",
   "execution_count": 2,
   "id": "ce78992b",
   "metadata": {},
   "outputs": [
    {
     "name": "stdout",
     "output_type": "stream",
     "text": [
      "[2, 3, 4]\n",
      "Index 0: apple\n",
      "Index 1: banana\n",
      "[('Alice', 25), ('Bob', 30), ('Charlie', 35)]\n",
      "Index 0: a = 1\n",
      "Index 1: b = 2\n",
      "Index 2: c = 3\n"
     ]
    }
   ],
   "source": [
    "#List (列表)的使用技巧\n",
    "my_list = [0, 1, 2, 3, 4, 5]\n",
    "squares = [x**2 for x in range(10)] # 基本推导式\n",
    "reversed_list = my_list[::-1] # 反转列表\n",
    "print(my_list[2:5])    #基本切片[2, 3, 4]\n",
    "\n",
    "# enumerate 获取索引和值\n",
    "fruits = ['apple', 'banana', ]              # 输出：\n",
    "for index, value in enumerate(fruits):      # Index 0: apple\n",
    "    print(f\"Index {index}: {value}\")        # Index 1: banana\n",
    "\n",
    "# zip 合并多个列表\n",
    "names = ['Alice', 'Bob', 'Charlie']\n",
    "ages = [25, 30, 35]\n",
    "# 转换为元组列表\n",
    "zipped_list = list(zip(names, ages))\n",
    "print(zipped_list)  # [('Alice', 25), ('Bob', 30), ('Charlie', 35)]\n",
    "\n",
    "#Dict (字典)的使用技巧\n",
    "# 基本推导式\n",
    "squares = {x: x**2 for x in range(5)}\n",
    "# {0: 0, 1: 1, 2: 4, 3: 9, 4: 16}\n",
    "\n",
    "# 条件推导式\n",
    "even_squares = {x: x**2 for x in range(10) if x % 2 == 0}\n",
    "\n",
    "my_dict = {'a': 1, 'b': 2, 'c': 3}\n",
    "# 同时获取索引和键值\n",
    "for idx, (key, value) in enumerate(my_dict.items()):\n",
    "    print(f\"Index {idx}: {key} = {value}\")\n",
    "\n",
    "# 按键排序\n",
    "my_dict = {'b': 2, 'a': 1, 'c': 3}\n",
    "sorted_by_key = dict(sorted(my_dict.items()))\n",
    "# {'a': 1, 'b': 2, 'c': 3}"
   ]
  },
  {
   "cell_type": "markdown",
   "id": "ab8451c9",
   "metadata": {},
   "source": [
    "## Lambda匿名函数"
   ]
  },
  {
   "cell_type": "code",
   "execution_count": 3,
   "id": "c7946ef3",
   "metadata": {},
   "outputs": [
    {
     "name": "stdout",
     "output_type": "stream",
     "text": [
      "8\n"
     ]
    }
   ],
   "source": [
    "#Lambda函数是一种简单的、在一行内定义匿名函数的方法\n",
    "add = lambda x, y: x + y\n",
    "print(add(3, 5))  "
   ]
  },
  {
   "cell_type": "markdown",
   "id": "0f9f9b37",
   "metadata": {},
   "source": [
    "## Decorator装饰器"
   ]
  },
  {
   "cell_type": "code",
   "execution_count": 4,
   "id": "b941f9ce",
   "metadata": {},
   "outputs": [
    {
     "name": "stdout",
     "output_type": "stream",
     "text": [
      "函数执行前\n",
      "Hello!\n",
      "函数执行后\n"
     ]
    }
   ],
   "source": [
    "#装饰器是一种修改或增强函数或类行为的方法，而不改变其原有代码。它实际上是一个函数，接受一个函数作为参数并返回一个新的函数。\n",
    "def my_decorator(func):\n",
    "    def wrapper():\n",
    "        print(\"函数执行前\")\n",
    "        func()\n",
    "        print(\"函数执行后\")\n",
    "    return wrapper\n",
    "\n",
    "@my_decorator\n",
    "def say_hello():\n",
    "    print(\"Hello!\")\n",
    "\n",
    "say_hello()\n",
    "# 输出：\n",
    "# 函数执行前\n",
    "# Hello!\n",
    "# 函数执行后"
   ]
  },
  {
   "cell_type": "markdown",
   "id": "efaf22ad",
   "metadata": {},
   "source": [
    "## 面向对象"
   ]
  },
  {
   "cell_type": "markdown",
   "id": "6fc54b30",
   "metadata": {},
   "source": [
    "    Class (类)  \n",
    "        类属性  \n",
    "        属于类本身的属性  \n",
    "        所有实例共享  \n",
    "        用于存储类的共同特征  \n",
    "    Magic Methods (魔法方法) ：魔法方法使得自定义类能够融入Python的生态系统，支持各种内置操作，从而使得代码更加直观和易用。魔法方法是 Python 中特殊的方法，它们以双下划线开头和结尾（例如 __init__）。这些方法在特定情况下会被 Python 解 释器自动调用，用于实现对象的特定行为。\n",
    "\n",
    "    OOP (面向对象编程) 的思想 :三大核心特性 封装 继承 多态  \n",
    "\n",
    "\n"
   ]
  },
  {
   "cell_type": "markdown",
   "id": "afce68f6",
   "metadata": {},
   "source": [
    "##文本处理"
   ]
  },
  {
   "cell_type": "markdown",
   "id": "dcec1148",
   "metadata": {},
   "source": [
    "re正则表达式的使用  \n",
    "正则表达式是一种用于匹配和处理文本的强大工具，它使用特定的语法规则来描述字符串的模式。在 Python 中通过 re 模块提供正则表达式功能。"
   ]
  },
  {
   "cell_type": "code",
   "execution_count": 2,
   "id": "e297516a",
   "metadata": {},
   "outputs": [],
   "source": [
    "#邮箱验证的例子\n",
    "import re\n",
    "\n",
    "def validate_email(email):\n",
    "    pattern = r'^[a-zA-Z0-9._%+-]+@[a-zA-Z0-9.-]+\\.[a-zA-Z]{2,}$'\n",
    "    return bool(re.match(pattern, email))"
   ]
  },
  {
   "cell_type": "markdown",
   "id": "cc835178",
   "metadata": {},
   "source": [
    "## 代码美学"
   ]
  },
  {
   "cell_type": "code",
   "execution_count": 3,
   "id": "390929cf",
   "metadata": {},
   "outputs": [
    {
     "name": "stdout",
     "output_type": "stream",
     "text": [
      "平方数: [1, 4, 9, 16, 25, 36, 49, 64, 81, 100, 121]\n"
     ]
    }
   ],
   "source": [
    "#列表推导式\n",
    "numbers = [1, 2, 3, 4, 5, 6, 7, 8, 9, 10,11]\n",
    "squares = [x**2 for x in numbers]\n",
    "print(f\"平方数: {squares}\")\n",
    "\n",
    "\n",
    "\"\"\"\n",
    "Type Hint (类型注释)\n",
    "变量类型注释\n",
    "变量名: 类型 = 值\n",
    "函数参数和返回类型注释\n",
    "def 函数名(参数: 类型) -> 返回类型:\n",
    "    pass\n",
    "\"\"\"\n",
    "name: str = \"Alice\"\n",
    "age: int = 30\n",
    "height: float = 1.65\n",
    "is_student: bool = True"
   ]
  },
  {
   "cell_type": "markdown",
   "id": "1ef1f5ef",
   "metadata": {},
   "source": [
    "##进阶技巧"
   ]
  },
  {
   "cell_type": "markdown",
   "id": "f2ca00ae",
   "metadata": {},
   "source": [
    "generator 生成器 (yield 关键字)  \n",
    "生成器是一种特殊的迭代器，它使用 yield 关键字来逐步产生值，而不是一次性返回所有结果。生成器在每次调用时产生一个值，并在下次调用时从上次离开的位置继续执行。"
   ]
  }
 ],
 "metadata": {
  "kernelspec": {
   "display_name": "DL",
   "language": "python",
   "name": "python3"
  },
  "language_info": {
   "codemirror_mode": {
    "name": "ipython",
    "version": 3
   },
   "file_extension": ".py",
   "mimetype": "text/x-python",
   "name": "python",
   "nbconvert_exporter": "python",
   "pygments_lexer": "ipython3",
   "version": "3.9.21"
  }
 },
 "nbformat": 4,
 "nbformat_minor": 5
}
