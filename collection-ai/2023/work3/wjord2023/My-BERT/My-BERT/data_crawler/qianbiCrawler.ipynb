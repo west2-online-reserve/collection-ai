{
 "cells": [
  {
   "cell_type": "code",
   "execution_count": 1,
   "id": "initial_id",
   "metadata": {
    "collapsed": true,
    "ExecuteTime": {
     "end_time": "2024-02-24T02:52:47.811480700Z",
     "start_time": "2024-02-24T02:52:47.363496100Z"
    }
   },
   "outputs": [],
   "source": [
    "import requests\n",
    "from scrapy import Selector\n",
    "from lxml import etree\n",
    "from concurrent.futures import ThreadPoolExecutor\n",
    "import pickle"
   ]
  },
  {
   "cell_type": "code",
   "outputs": [],
   "source": [
    "url = 'https://www.qianbitxt.com/'\n",
    "\n",
    "headers = {\n",
    "    'User-Agent': 'Mozilla/5.0 (Windows NT 10.0; Win64; x64) AppleWebKit/537.36 (KHTML, like Gecko) Chrome/91.0.4472.124 Safari/537.36'\n",
    "}\n",
    "\n",
    "response = requests.get(url, headers=headers)\n",
    "\n",
    "selector = Selector(text=response.text)\n",
    "\n",
    "detail_url_list = selector.xpath('//*[@id=\"main\"]//a/@href').extract()\n",
    "\n",
    "detail_url_list = list(set(detail_url_list))\n",
    "\n",
    "len(detail_url_list)\n",
    "\n",
    "with open('detail_url_list_qianbi.pkl', 'wb') as f:\n",
    "    pickle.dump(detail_url_list, f)"
   ],
   "metadata": {
    "collapsed": false,
    "ExecuteTime": {
     "end_time": "2024-02-24T02:52:52.408265400Z",
     "start_time": "2024-02-24T02:52:47.802901200Z"
    }
   },
   "id": "9161eb72c6abc",
   "execution_count": 2
  },
  {
   "cell_type": "code",
   "outputs": [],
   "source": [
    "def get_text(detail_url):\n",
    "    with open('../data/qianbi.csv', 'w', encoding='utf-8') as f:\n",
    "        for detail_url in detail_url_list:\n",
    "            response = requests.get(detail_url)\n",
    "            selector = Selector(text=response.text)\n",
    "            text_url_list = selector.xpath('//*[@id=\"chapterList\"]/li/a/@href').extract()\n",
    "            \n",
    "            for text_url in text_url_list:\n",
    "                response = requests.get(text_url, headers=headers)\n",
    "                response.encoding = response.apparent_encoding\n",
    "                response = etree.HTML(response.text)\n",
    "                text_list = response.xpath('//*[@id=\"TextContent\"]/text()')\n",
    "                for text in text_list:\n",
    "                    text = text.strip()\n",
    "                    text = text.replace('【未完待续】求收藏，求推荐票～', '')\n",
    "                    text = text.split('PS：')[0]\n",
    "                    text = text.split('ps:')[0]\n",
    "                    if text != '':\n",
    "                        f.write(text)\n",
    "                f.write('\\n')\n",
    "            print(f'{detail_url} 爬取完成！')\n",
    "                "
   ],
   "metadata": {
    "collapsed": false,
    "ExecuteTime": {
     "end_time": "2024-02-24T02:52:52.414686700Z",
     "start_time": "2024-02-24T02:52:52.410434700Z"
    }
   },
   "id": "c339f4eb114fae6d",
   "execution_count": 3
  },
  {
   "cell_type": "code",
   "outputs": [
    {
     "name": "stdout",
     "output_type": "stream",
     "text": [
      "https://www.qianbitxt.com/book/25745 爬取完成！\n",
      "https://www.qianbitxt.com/book/1374 爬取完成！\n",
      "https://www.qianbitxt.com/book/91 爬取完成！\n",
      "https://www.qianbitxt.com/book/50090 爬取完成！\n",
      "https://www.qianbitxt.com/book/3386 爬取完成！\n",
      "https://www.qianbitxt.com/book/27877 爬取完成！\n",
      "https://www.qianbitxt.com/book/90 爬取完成！\n",
      "https://www.qianbitxt.com/book/22 爬取完成！\n",
      "https://www.qianbitxt.com/book/27370 爬取完成！\n",
      "https://www.qianbitxt.com/book/26771 爬取完成！\n",
      "https://www.qianbitxt.com/book/53725 爬取完成！\n",
      "https://www.qianbitxt.com/book/53044 爬取完成！\n",
      "https://www.qianbitxt.com/book/28433 爬取完成！\n",
      "https://www.qianbitxt.com/book/599 爬取完成！\n",
      "https://www.qianbitxt.com/book/45657 爬取完成！\n",
      "https://www.qianbitxt.com/book/53593 爬取完成！\n",
      "https://www.qianbitxt.com/book/23842 爬取完成！\n",
      "https://www.qianbitxt.com/book/22624 爬取完成！\n",
      "https://www.qianbitxt.com/book/31304 爬取完成！\n",
      "https://www.qianbitxt.com/book/50364 爬取完成！\n",
      "https://www.qianbitxt.com/book/47152 爬取完成！\n",
      "https://www.qianbitxt.com/book/18408 爬取完成！\n",
      "https://www.qianbitxt.com/book/6459 爬取完成！\n"
     ]
    }
   ],
   "source": [
    "with open('detail_url_list_qianbi.pkl', 'rb') as f:\n",
    "    detail_url_list = pickle.load(f)\n",
    "    \n",
    "with ThreadPoolExecutor(max_workers=32) as t:\n",
    "    t.submit(get_text, detail_url_list)"
   ],
   "metadata": {
    "collapsed": false,
    "is_executing": true,
    "ExecuteTime": {
     "start_time": "2024-02-24T02:52:52.413681900Z"
    }
   },
   "id": "fe4434ef3d36edc7",
   "execution_count": null
  }
 ],
 "metadata": {
  "kernelspec": {
   "display_name": "Python 3",
   "language": "python",
   "name": "python3"
  },
  "language_info": {
   "codemirror_mode": {
    "name": "ipython",
    "version": 2
   },
   "file_extension": ".py",
   "mimetype": "text/x-python",
   "name": "python",
   "nbconvert_exporter": "python",
   "pygments_lexer": "ipython2",
   "version": "2.7.6"
  }
 },
 "nbformat": 4,
 "nbformat_minor": 5
}
