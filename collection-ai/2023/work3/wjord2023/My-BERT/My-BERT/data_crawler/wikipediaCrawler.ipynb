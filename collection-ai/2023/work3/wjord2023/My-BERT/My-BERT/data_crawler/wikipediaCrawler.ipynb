{
 "cells": [
  {
   "cell_type": "markdown",
   "source": [
    "# 维基百科爬虫"
   ],
   "metadata": {
    "collapsed": false
   },
   "id": "190314dc0e47df87"
  },
  {
   "cell_type": "code",
   "outputs": [
    {
     "ename": "ModuleNotFoundError",
     "evalue": "No module named 'scrapy'",
     "output_type": "error",
     "traceback": [
      "\u001B[1;31m---------------------------------------------------------------------------\u001B[0m",
      "\u001B[1;31mModuleNotFoundError\u001B[0m                       Traceback (most recent call last)",
      "Cell \u001B[1;32mIn[4], line 2\u001B[0m\n\u001B[0;32m      1\u001B[0m \u001B[38;5;28;01mimport\u001B[39;00m \u001B[38;5;21;01mrequests\u001B[39;00m\n\u001B[1;32m----> 2\u001B[0m \u001B[38;5;28;01mfrom\u001B[39;00m \u001B[38;5;21;01mscrapy\u001B[39;00m\u001B[38;5;21;01m.\u001B[39;00m\u001B[38;5;21;01mselector\u001B[39;00m \u001B[38;5;28;01mimport\u001B[39;00m Selector\n\u001B[0;32m      3\u001B[0m \u001B[38;5;28;01mfrom\u001B[39;00m \u001B[38;5;21;01mlxml\u001B[39;00m \u001B[38;5;28;01mimport\u001B[39;00m etree\n\u001B[0;32m      4\u001B[0m \u001B[38;5;28;01mfrom\u001B[39;00m \u001B[38;5;21;01mconcurrent\u001B[39;00m\u001B[38;5;21;01m.\u001B[39;00m\u001B[38;5;21;01mfutures\u001B[39;00m \u001B[38;5;28;01mimport\u001B[39;00m ThreadPoolExecutor\n",
      "\u001B[1;31mModuleNotFoundError\u001B[0m: No module named 'scrapy'"
     ]
    }
   ],
   "source": [
    "import requests\n",
    "from scrapy.selector import Selector\n",
    "from lxml import etree\n",
    "from concurrent.futures import ThreadPoolExecutor"
   ],
   "metadata": {
    "collapsed": true,
    "ExecuteTime": {
     "end_time": "2024-02-24T15:41:46.463574700Z",
     "start_time": "2024-02-24T15:41:46.440189300Z"
    }
   },
   "id": "initial_id",
   "execution_count": 4
  },
  {
   "cell_type": "code",
   "outputs": [],
   "source": [
    "def crawl_wiki(url): \n",
    "    headers = {\n",
    "        'User-Agent': 'Mozilla/5.0 (Windows NT 10.0; Win64; x64) AppleWebKit/537.36 (KHTML, like Gecko) Chrome/121.0.0.0 Safari/537.36',\n",
    "        # 设置简体中文\n",
    "        'Accept-Language': 'zh-CN,zh'\n",
    "    }\n",
    "        \n",
    "    with open(f'../data/wiki.csv', 'a', encoding='utf-8') as f:\n",
    "        response = requests.get(url, headers=headers)\n",
    "\n",
    "        html = etree.HTML(response.text)\n",
    "\n",
    "        # 删除所有的style标签及其内容\n",
    "        etree.strip_elements(html,'style', 'sup', with_tail=False)\n",
    "\n",
    "        # 创建一个新的变量response_text，并将response.text的值赋给它\n",
    "        response_text = etree.tostring(html, encoding='utf-8').decode('utf-8')\n",
    "\n",
    "        selector = Selector(text=response_text)\n",
    "\n",
    "        # 提取文本\n",
    "        sentence = selector.xpath('//*[@id=\"mw-content-text\"]//p//text()').extract()\n",
    "\n",
    "        # 移除换行符和多余的空格\n",
    "        sentence = [s.replace('\\n', '').strip() for s in sentence]\n",
    "\n",
    "        # 连接文本\n",
    "        join_sentence = ''.join(sentence)\n",
    "\n",
    "        # 写入文件\n",
    "        f.write(join_sentence + '\\n')\n",
    "\n",
    "        # print(join_sentence)"
   ],
   "metadata": {
    "collapsed": false,
    "ExecuteTime": {
     "end_time": "2024-02-24T02:38:12.127965500Z",
     "start_time": "2024-02-24T02:38:12.122825600Z"
    }
   },
   "id": "358a647b574621b7",
   "execution_count": 11
  },
  {
   "cell_type": "code",
   "outputs": [],
   "source": [
    "def main():\n",
    "    # 维基百科随机词条url\n",
    "    url = 'https://zh.wikipedia.org/wiki/Special:%E9%9A%8F%E6%9C%BA%E9%A1%B5%E9%9D%A2'\n",
    "\n",
    "    # 创建ThreadPoolExecutor，设置线程数量\n",
    "    with ThreadPoolExecutor(max_workers=32) as executor:\n",
    "        # 使用线程池并行爬取页面\n",
    "        executor.map(crawl_wiki, [url] * 3)  # 将url放入一个列表中"
   ],
   "metadata": {
    "collapsed": false,
    "ExecuteTime": {
     "end_time": "2024-02-24T02:38:12.146046600Z",
     "start_time": "2024-02-24T02:38:12.131634800Z"
    }
   },
   "id": "e0b19106de5ea4d4",
   "execution_count": 12
  },
  {
   "cell_type": "code",
   "outputs": [],
   "source": [
    "if __name__ == '__main__':\n",
    "    for i in range(100):\n",
    "        main()"
   ],
   "metadata": {
    "collapsed": false,
    "ExecuteTime": {
     "end_time": "2024-02-24T02:41:24.649170500Z",
     "start_time": "2024-02-24T02:38:12.134251200Z"
    }
   },
   "id": "10046901e9e36c38",
   "execution_count": 13
  }
 ],
 "metadata": {
  "kernelspec": {
   "display_name": "Python 3",
   "language": "python",
   "name": "python3"
  },
  "language_info": {
   "codemirror_mode": {
    "name": "ipython",
    "version": 2
   },
   "file_extension": ".py",
   "mimetype": "text/x-python",
   "name": "python",
   "nbconvert_exporter": "python",
   "pygments_lexer": "ipython2",
   "version": "2.7.6"
  }
 },
 "nbformat": 4,
 "nbformat_minor": 5
}
