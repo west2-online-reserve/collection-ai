{
 "cells": [
  {
   "cell_type": "markdown",
   "source": [
    "# 知乎爬虫"
   ],
   "metadata": {
    "collapsed": false
   },
   "id": "89485519c5debb7f"
  },
  {
   "cell_type": "code",
   "outputs": [],
   "source": [
    "import csv\n",
    "import os\n",
    "import pickle\n",
    "import time\n",
    "\n",
    "from scrapy import Selector\n",
    "from selenium import webdriver\n",
    "from selenium.common.exceptions import NoSuchElementException\n",
    "from selenium.webdriver.common.action_chains import ActionChains\n",
    "from selenium.webdriver.common.by import By\n",
    "from selenium.webdriver.common.keys import Keys\n",
    "from selenium.webdriver.support import expected_conditions as EC\n",
    "from selenium.webdriver.support.ui import WebDriverWait\n",
    "from concurrent.futures import ThreadPoolExecutor\n",
    "import threading"
   ],
   "metadata": {
    "collapsed": true,
    "ExecuteTime": {
     "end_time": "2024-02-24T03:21:30.860838900Z",
     "start_time": "2024-02-24T03:21:30.438566500Z"
    }
   },
   "id": "initial_id",
   "execution_count": 1
  },
  {
   "cell_type": "code",
   "outputs": [],
   "source": [
    "# 采用非常没有水平的手动扫码登入\n",
    "# 不加载图片\n",
    "chrome_options = webdriver.ChromeOptions()\n",
    "prefs = {\"profile.managed_default_content_settings.images\": 2}\n",
    "chrome_options.add_experimental_option(\"prefs\", prefs)\n",
    "\n",
    "driver = webdriver.Chrome(options=chrome_options)\n",
    "\n",
    "driver.get('https://www.zhihu.com/signin')\n",
    "\n",
    "time.sleep(10)"
   ],
   "metadata": {
    "collapsed": false,
    "ExecuteTime": {
     "end_time": "2024-02-24T03:23:45.233802100Z",
     "start_time": "2024-02-24T03:23:32.793045800Z"
    }
   },
   "id": "9fd25b4b4411e68f",
   "execution_count": 7
  },
  {
   "cell_type": "code",
   "outputs": [],
   "source": [
    "url = 'https://www.zhihu.com/topics'\n",
    "\n",
    "driver.get(url)"
   ],
   "metadata": {
    "collapsed": false,
    "ExecuteTime": {
     "end_time": "2024-02-24T03:21:47.037381Z",
     "start_time": "2024-02-24T03:21:45.089485700Z"
    }
   },
   "id": "2265b26f3f12bad",
   "execution_count": 3
  },
  {
   "cell_type": "code",
   "outputs": [
    {
     "data": {
      "text/plain": "(['https://www.zhihu.com/topic/19555513',\n  'https://www.zhihu.com/topic/19551556',\n  'https://www.zhihu.com/topic/19551137',\n  'https://www.zhihu.com/topic/19551469',\n  'https://www.zhihu.com/topic/19641262',\n  'https://www.zhihu.com/topic/19551052',\n  'https://www.zhihu.com/topic/19560585',\n  'https://www.zhihu.com/topic/19554051',\n  'https://www.zhihu.com/topic/19551805',\n  'https://www.zhihu.com/topic/19552249',\n  'https://www.zhihu.com/topic/19562435',\n  'https://www.zhihu.com/topic/19628469',\n  'https://www.zhihu.com/topic/19551167',\n  'https://www.zhihu.com/topic/19555754',\n  'https://www.zhihu.com/topic/19571906',\n  'https://www.zhihu.com/topic/19557244',\n  'https://www.zhihu.com/topic/19551151',\n  'https://www.zhihu.com/topic/19559947',\n  'https://www.zhihu.com/topic/19551387',\n  'https://www.zhihu.com/topic/19570261',\n  'https://www.zhihu.com/topic/19556311',\n  'https://www.zhihu.com/topic/19551841',\n  'https://www.zhihu.com/topic/19624425',\n  'https://www.zhihu.com/topic/19600073',\n  'https://www.zhihu.com/topic/19559231',\n  'https://www.zhihu.com/topic/19553543',\n  'https://www.zhihu.com/topic/19564965',\n  'https://www.zhihu.com/topic/19551636',\n  'https://www.zhihu.com/topic/19555391',\n  'https://www.zhihu.com/topic/19607063',\n  'https://www.zhihu.com/topic/19560163',\n  'https://www.zhihu.com/topic/19629004',\n  'https://www.zhihu.com/topic/19623017',\n  'https://www.zhihu.com/topic/19580423',\n  'https://www.zhihu.com/topic/19612686',\n  'https://www.zhihu.com/topic/19579552',\n  'https://www.zhihu.com/topic/19868716',\n  'https://www.zhihu.com/topic/19645158',\n  'https://www.zhihu.com/topic/19793537',\n  'https://www.zhihu.com/topic/19647099',\n  'https://www.zhihu.com/topic/19618685',\n  'https://www.zhihu.com/topic/19769983',\n  'https://www.zhihu.com/topic/19557644',\n  'https://www.zhihu.com/topic/19585358',\n  'https://www.zhihu.com/topic/19552189',\n  'https://www.zhihu.com/topic/19610023',\n  'https://www.zhihu.com/topic/19573372',\n  'https://www.zhihu.com/topic/19555489',\n  'https://www.zhihu.com/topic/19650466',\n  'https://www.zhihu.com/topic/19575374',\n  'https://www.zhihu.com/topic/19666493',\n  'https://www.zhihu.com/topic/19582090',\n  'https://www.zhihu.com/topic/19766512',\n  'https://www.zhihu.com/topic/19557333',\n  'https://www.zhihu.com/topic/19595031',\n  'https://www.zhihu.com/topic/19581985',\n  'https://www.zhihu.com/topic/19752767',\n  'https://www.zhihu.com/topic/19868718',\n  'https://www.zhihu.com/topic/19644670',\n  'https://www.zhihu.com/topic/19569509',\n  'https://www.zhihu.com/topic/19631436',\n  'https://www.zhihu.com/topic/19554159',\n  'https://www.zhihu.com/topic/19597991',\n  'https://www.zhihu.com/topic/19557474',\n  'https://www.zhihu.com/topic/19587096',\n  'https://www.zhihu.com/topic/19630110',\n  'https://www.zhihu.com/topic/19619599',\n  'https://www.zhihu.com/topic/19553761',\n  'https://www.zhihu.com/topic/19602174',\n  'https://www.zhihu.com/topic/19710589',\n  'https://www.zhihu.com/topic/19817152',\n  'https://www.zhihu.com/topic/19560155',\n  'https://www.zhihu.com/topic/19550395',\n  'https://www.zhihu.com/topic/19616902',\n  'https://www.zhihu.com/topic/19620930',\n  'https://www.zhihu.com/topic/19613907',\n  'https://www.zhihu.com/topic/19594609',\n  'https://www.zhihu.com/topic/19579489',\n  'https://www.zhihu.com/topic/19581623',\n  'https://www.zhihu.com/topic/19565602',\n  'https://www.zhihu.com/topic/19601171',\n  'https://www.zhihu.com/topic/19579555',\n  'https://www.zhihu.com/topic/19554100',\n  'https://www.zhihu.com/topic/19556761',\n  'https://www.zhihu.com/topic/19552371',\n  'https://www.zhihu.com/topic/19656784',\n  'https://www.zhihu.com/topic/19567592',\n  'https://www.zhihu.com/topic/19578492',\n  'https://www.zhihu.com/topic/19600078',\n  'https://www.zhihu.com/topic/19650647',\n  'https://www.zhihu.com/topic/19584190',\n  'https://www.zhihu.com/topic/19560767',\n  'https://www.zhihu.com/topic/19622563',\n  'https://www.zhihu.com/topic/20008783',\n  'https://www.zhihu.com/topic/19589405',\n  'https://www.zhihu.com/topic/19590441',\n  'https://www.zhihu.com/topic/19597386',\n  'https://www.zhihu.com/topic/19554061',\n  'https://www.zhihu.com/topic/19580540',\n  'https://www.zhihu.com/topic/19585323',\n  'https://www.zhihu.com/topic/19837820',\n  'https://www.zhihu.com/topic/19554161',\n  'https://www.zhihu.com/topic/19575583',\n  'https://www.zhihu.com/topic/19605460',\n  'https://www.zhihu.com/topic/19664433',\n  'https://www.zhihu.com/topic/19644137',\n  'https://www.zhihu.com/topic/19594045',\n  'https://www.zhihu.com/topic/19577187',\n  'https://www.zhihu.com/topic/19647620',\n  'https://www.zhihu.com/topic/19659473',\n  'https://www.zhihu.com/topic/19609448',\n  'https://www.zhihu.com/topic/19554431',\n  'https://www.zhihu.com/topic/19652006',\n  'https://www.zhihu.com/topic/19584298',\n  'https://www.zhihu.com/topic/19585326',\n  'https://www.zhihu.com/topic/19636658',\n  'https://www.zhihu.com/topic/19559245',\n  'https://www.zhihu.com/topic/19560627',\n  'https://www.zhihu.com/topic/19656938',\n  'https://www.zhihu.com/topic/19656938',\n  'https://www.zhihu.com/topic/19666620',\n  'https://www.zhihu.com/topic/19626671',\n  'https://www.zhihu.com/topic/19615290',\n  'https://www.zhihu.com/topic/19595524',\n  'https://www.zhihu.com/topic/19668157',\n  'https://www.zhihu.com/topic/19661030',\n  'https://www.zhihu.com/topic/19628937',\n  'https://www.zhihu.com/topic/19615291',\n  'https://www.zhihu.com/topic/19696568',\n  'https://www.zhihu.com/topic/19726326',\n  'https://www.zhihu.com/topic/19576184',\n  'https://www.zhihu.com/topic/19581680',\n  'https://www.zhihu.com/topic/19665024',\n  'https://www.zhihu.com/topic/19605101',\n  'https://www.zhihu.com/topic/19579554',\n  'https://www.zhihu.com/topic/19604679',\n  'https://www.zhihu.com/topic/19625285',\n  'https://www.zhihu.com/topic/19585321',\n  'https://www.zhihu.com/topic/19561009',\n  'https://www.zhihu.com/topic/19589252',\n  'https://www.zhihu.com/topic/19642102',\n  'https://www.zhihu.com/topic/19585914',\n  'https://www.zhihu.com/topic/19577002',\n  'https://www.zhihu.com/topic/19685915',\n  'https://www.zhihu.com/topic/19821271',\n  'https://www.zhihu.com/topic/19581640',\n  'https://www.zhihu.com/topic/19600086',\n  'https://www.zhihu.com/topic/19566230',\n  'https://www.zhihu.com/topic/19566696',\n  'https://www.zhihu.com/topic/19664263',\n  'https://www.zhihu.com/topic/19619135',\n  'https://www.zhihu.com/topic/19598960',\n  'https://www.zhihu.com/topic/19574703',\n  'https://www.zhihu.com/topic/19597673',\n  'https://www.zhihu.com/topic/19574767',\n  'https://www.zhihu.com/topic/19557482',\n  'https://www.zhihu.com/topic/19638731',\n  'https://www.zhihu.com/topic/19691112',\n  'https://www.zhihu.com/topic/19561024',\n  'https://www.zhihu.com/topic/19571647',\n  'https://www.zhihu.com/topic/19606965',\n  'https://www.zhihu.com/topic/19611453',\n  'https://www.zhihu.com/topic/19571113',\n  'https://www.zhihu.com/topic/19590758',\n  'https://www.zhihu.com/topic/19607281',\n  'https://www.zhihu.com/topic/19607576',\n  'https://www.zhihu.com/topic/19560571',\n  'https://www.zhihu.com/topic/19686042',\n  'https://www.zhihu.com/topic/19602036',\n  'https://www.zhihu.com/topic/19585764',\n  'https://www.zhihu.com/topic/19633776',\n  'https://www.zhihu.com/topic/19868702',\n  'https://www.zhihu.com/topic/19595631',\n  'https://www.zhihu.com/topic/19671295',\n  'https://www.zhihu.com/topic/19790920',\n  'https://www.zhihu.com/topic/19621507',\n  'https://www.zhihu.com/topic/19584644',\n  'https://www.zhihu.com/topic/19772060',\n  'https://www.zhihu.com/topic/19606388',\n  'https://www.zhihu.com/topic/19713044',\n  'https://www.zhihu.com/topic/19584010',\n  'https://www.zhihu.com/topic/19898949',\n  'https://www.zhihu.com/topic/19656070',\n  'https://www.zhihu.com/topic/19564359',\n  'https://www.zhihu.com/topic/19755487',\n  'https://www.zhihu.com/topic/19821989',\n  'https://www.zhihu.com/topic/19625242',\n  'https://www.zhihu.com/topic/19857073',\n  'https://www.zhihu.com/topic/19612996',\n  'https://www.zhihu.com/topic/19568908',\n  'https://www.zhihu.com/topic/19574413',\n  'https://www.zhihu.com/topic/19699093',\n  'https://www.zhihu.com/topic/19691224',\n  'https://www.zhihu.com/topic/19611105',\n  'https://www.zhihu.com/topic/19631417',\n  'https://www.zhihu.com/topic/19821619',\n  'https://www.zhihu.com/topic/19654918',\n  'https://www.zhihu.com/topic/19633050',\n  'https://www.zhihu.com/topic/19620194',\n  'https://www.zhihu.com/topic/19658662',\n  'https://www.zhihu.com/topic/19600202',\n  'https://www.zhihu.com/topic/19741133',\n  'https://www.zhihu.com/topic/19654745',\n  'https://www.zhihu.com/topic/19584151',\n  'https://www.zhihu.com/topic/19643473',\n  'https://www.zhihu.com/topic/19831984',\n  'https://www.zhihu.com/topic/19658124',\n  'https://www.zhihu.com/topic/19640847',\n  'https://www.zhihu.com/topic/19657237',\n  'https://www.zhihu.com/topic/19612576',\n  'https://www.zhihu.com/topic/19874756',\n  'https://www.zhihu.com/topic/19572963',\n  'https://www.zhihu.com/topic/19625559',\n  'https://www.zhihu.com/topic/19763053',\n  'https://www.zhihu.com/topic/19651905',\n  'https://www.zhihu.com/topic/19573730',\n  'https://www.zhihu.com/topic/19556964',\n  'https://www.zhihu.com/topic/19599836',\n  'https://www.zhihu.com/topic/19786710',\n  'https://www.zhihu.com/topic/19594153',\n  'https://www.zhihu.com/topic/19837158',\n  'https://www.zhihu.com/topic/19803528',\n  'https://www.zhihu.com/topic/19559230',\n  'https://www.zhihu.com/topic/19565740',\n  'https://www.zhihu.com/topic/19566392',\n  'https://www.zhihu.com/topic/19601809',\n  'https://www.zhihu.com/topic/19651051',\n  'https://www.zhihu.com/topic/19560691',\n  'https://www.zhihu.com/topic/19709683',\n  'https://www.zhihu.com/topic/19587661',\n  'https://www.zhihu.com/topic/19626412',\n  'https://www.zhihu.com/topic/19688018',\n  'https://www.zhihu.com/topic/19832742',\n  'https://www.zhihu.com/topic/19736688',\n  'https://www.zhihu.com/topic/19639995',\n  'https://www.zhihu.com/topic/19657601',\n  'https://www.zhihu.com/topic/19601716',\n  'https://www.zhihu.com/topic/19590770',\n  'https://www.zhihu.com/topic/19590770',\n  'https://www.zhihu.com/topic/19648461',\n  'https://www.zhihu.com/topic/19685350',\n  'https://www.zhihu.com/topic/19650588',\n  'https://www.zhihu.com/topic/19643152',\n  'https://www.zhihu.com/topic/19570763',\n  'https://www.zhihu.com/topic/19708543',\n  'https://www.zhihu.com/topic/19855896',\n  'https://www.zhihu.com/topic/19702443',\n  'https://www.zhihu.com/topic/19639969',\n  'https://www.zhihu.com/topic/19573655',\n  'https://www.zhihu.com/topic/19624056',\n  'https://www.zhihu.com/topic/19684645',\n  'https://www.zhihu.com/topic/19624484',\n  'https://www.zhihu.com/topic/19815704',\n  'https://www.zhihu.com/topic/19672977',\n  'https://www.zhihu.com/topic/19578781',\n  'https://www.zhihu.com/topic/19556364',\n  'https://www.zhihu.com/topic/19887144',\n  'https://www.zhihu.com/topic/19556086',\n  'https://www.zhihu.com/topic/19649082',\n  'https://www.zhihu.com/topic/19578143',\n  'https://www.zhihu.com/topic/19565029',\n  'https://www.zhihu.com/topic/19585563',\n  'https://www.zhihu.com/topic/19634503',\n  'https://www.zhihu.com/topic/20009958',\n  'https://www.zhihu.com/topic/19809907',\n  'https://www.zhihu.com/topic/19651644',\n  'https://www.zhihu.com/topic/19684168',\n  'https://www.zhihu.com/topic/19660510',\n  'https://www.zhihu.com/topic/19781150',\n  'https://www.zhihu.com/topic/19613235',\n  'https://www.zhihu.com/topic/19867006',\n  'https://www.zhihu.com/topic/19655792',\n  'https://www.zhihu.com/topic/19591587',\n  'https://www.zhihu.com/topic/19573507',\n  'https://www.zhihu.com/topic/19630702',\n  'https://www.zhihu.com/topic/19648531',\n  'https://www.zhihu.com/topic/19629886',\n  'https://www.zhihu.com/topic/19843432',\n  'https://www.zhihu.com/topic/19634673',\n  'https://www.zhihu.com/topic/19629957',\n  'https://www.zhihu.com/topic/19731485',\n  'https://www.zhihu.com/topic/19651500',\n  'https://www.zhihu.com/topic/19625231',\n  'https://www.zhihu.com/topic/19718224',\n  'https://www.zhihu.com/topic/19904178',\n  'https://www.zhihu.com/topic/19819111',\n  'https://www.zhihu.com/topic/19599802',\n  'https://www.zhihu.com/topic/19659622',\n  'https://www.zhihu.com/topic/20000625',\n  'https://www.zhihu.com/topic/19832035',\n  'https://www.zhihu.com/topic/20005351',\n  'https://www.zhihu.com/topic/19889607',\n  'https://www.zhihu.com/topic/19650629',\n  'https://www.zhihu.com/topic/19729050',\n  'https://www.zhihu.com/topic/19634383',\n  'https://www.zhihu.com/topic/19629787',\n  'https://www.zhihu.com/topic/19633859',\n  'https://www.zhihu.com/topic/19671045',\n  'https://www.zhihu.com/topic/19568253',\n  'https://www.zhihu.com/topic/19744376',\n  'https://www.zhihu.com/topic/19594134',\n  'https://www.zhihu.com/topic/19632838',\n  'https://www.zhihu.com/topic/19575111',\n  'https://www.zhihu.com/topic/19599852',\n  'https://www.zhihu.com/topic/19695097',\n  'https://www.zhihu.com/topic/19636151',\n  'https://www.zhihu.com/topic/19574900',\n  'https://www.zhihu.com/topic/19900747',\n  'https://www.zhihu.com/topic/19774867',\n  'https://www.zhihu.com/topic/19597486',\n  'https://www.zhihu.com/topic/19887286',\n  'https://www.zhihu.com/topic/19673484',\n  'https://www.zhihu.com/topic/20005833',\n  'https://www.zhihu.com/topic/19626534',\n  'https://www.zhihu.com/topic/19720465',\n  'https://www.zhihu.com/topic/19661511',\n  'https://www.zhihu.com/topic/19895668',\n  'https://www.zhihu.com/topic/19895668',\n  'https://www.zhihu.com/topic/19681352',\n  'https://www.zhihu.com/topic/19681083',\n  'https://www.zhihu.com/topic/19608451',\n  'https://www.zhihu.com/topic/19559927',\n  'https://www.zhihu.com/topic/19567341',\n  'https://www.zhihu.com/topic/19842365',\n  'https://www.zhihu.com/topic/19641987',\n  'https://www.zhihu.com/topic/19759367',\n  'https://www.zhihu.com/topic/19576045',\n  'https://www.zhihu.com/topic/19695441',\n  'https://www.zhihu.com/topic/19883156',\n  'https://www.zhihu.com/topic/19674516',\n  'https://www.zhihu.com/topic/19695094',\n  'https://www.zhihu.com/topic/19664742',\n  'https://www.zhihu.com/topic/19592586',\n  'https://www.zhihu.com/topic/19659381',\n  'https://www.zhihu.com/topic/19720765',\n  'https://www.zhihu.com/topic/20006343',\n  'https://www.zhihu.com/topic/19628129',\n  'https://www.zhihu.com/topic/19574331',\n  'https://www.zhihu.com/topic/20001636',\n  'https://www.zhihu.com/topic/19766491',\n  'https://www.zhihu.com/topic/19790779',\n  'https://www.zhihu.com/topic/19669998',\n  'https://www.zhihu.com/topic/19840653',\n  'https://www.zhihu.com/topic/19669287',\n  'https://www.zhihu.com/topic/19843269',\n  'https://www.zhihu.com/topic/19720441',\n  'https://www.zhihu.com/topic/19822754',\n  'https://www.zhihu.com/topic/19644774',\n  'https://www.zhihu.com/topic/19900768',\n  'https://www.zhihu.com/topic/19680854',\n  'https://www.zhihu.com/topic/19680890',\n  'https://www.zhihu.com/topic/19859825',\n  'https://www.zhihu.com/topic/19684173',\n  'https://www.zhihu.com/topic/20006338',\n  'https://www.zhihu.com/topic/20009514',\n  'https://www.zhihu.com/topic/19759237',\n  'https://www.zhihu.com/topic/19759237',\n  'https://www.zhihu.com/topic/19745381',\n  'https://www.zhihu.com/topic/19562329',\n  'https://www.zhihu.com/topic/19644769',\n  'https://www.zhihu.com/topic/19584208',\n  'https://www.zhihu.com/topic/19891460',\n  'https://www.zhihu.com/topic/19627230',\n  'https://www.zhihu.com/topic/19830411',\n  'https://www.zhihu.com/topic/19917150',\n  'https://www.zhihu.com/topic/19999313',\n  'https://www.zhihu.com/topic/19802258',\n  'https://www.zhihu.com/topic/19653673',\n  'https://www.zhihu.com/topic/19688014',\n  'https://www.zhihu.com/topic/19873410',\n  'https://www.zhihu.com/topic/19633862',\n  'https://www.zhihu.com/topic/19935181',\n  'https://www.zhihu.com/topic/19659530',\n  'https://www.zhihu.com/topic/19901289',\n  'https://www.zhihu.com/topic/19878846',\n  'https://www.zhihu.com/topic/19903481',\n  'https://www.zhihu.com/topic/19762303',\n  'https://www.zhihu.com/topic/19590938',\n  'https://www.zhihu.com/topic/19775180',\n  'https://www.zhihu.com/topic/19812780',\n  'https://www.zhihu.com/topic/20011782',\n  'https://www.zhihu.com/topic/19921162',\n  'https://www.zhihu.com/topic/19595849',\n  'https://www.zhihu.com/topic/19732565',\n  'https://www.zhihu.com/topic/19857026',\n  'https://www.zhihu.com/topic/19806694',\n  'https://www.zhihu.com/topic/20009889',\n  'https://www.zhihu.com/topic/19636548',\n  'https://www.zhihu.com/topic/19607813',\n  'https://www.zhihu.com/topic/19785444',\n  'https://www.zhihu.com/topic/20008080',\n  'https://www.zhihu.com/topic/19860699',\n  'https://www.zhihu.com/topic/20008823',\n  'https://www.zhihu.com/topic/19849849',\n  'https://www.zhihu.com/topic/19887755',\n  'https://www.zhihu.com/topic/19901282',\n  'https://www.zhihu.com/topic/20005840',\n  'https://www.zhihu.com/topic/19777388',\n  'https://www.zhihu.com/topic/19920056',\n  'https://www.zhihu.com/topic/19896446',\n  'https://www.zhihu.com/topic/19866291',\n  'https://www.zhihu.com/topic/19848786',\n  'https://www.zhihu.com/topic/19648108',\n  'https://www.zhihu.com/topic/20011399',\n  'https://www.zhihu.com/topic/19919275',\n  'https://www.zhihu.com/topic/19801469',\n  'https://www.zhihu.com/topic/20007296',\n  'https://www.zhihu.com/topic/19874158',\n  'https://www.zhihu.com/topic/19868249',\n  'https://www.zhihu.com/topic/19660052',\n  'https://www.zhihu.com/topic/19678654',\n  'https://www.zhihu.com/topic/19820084',\n  'https://www.zhihu.com/topic/20004577',\n  'https://www.zhihu.com/topic/20005344',\n  'https://www.zhihu.com/topic/20011736',\n  'https://www.zhihu.com/topic/20011742',\n  'https://www.zhihu.com/topic/20011775',\n  'https://www.zhihu.com/topic/19945011',\n  'https://www.zhihu.com/topic/19897053',\n  'https://www.zhihu.com/topic/20001639',\n  'https://www.zhihu.com/topic/19836385',\n  'https://www.zhihu.com/topic/20008901',\n  'https://www.zhihu.com/topic/19665412',\n  'https://www.zhihu.com/topic/19911418',\n  'https://www.zhihu.com/topic/20009892',\n  'https://www.zhihu.com/topic/20011738'],\n 426)"
     },
     "execution_count": 4,
     "metadata": {},
     "output_type": "execute_result"
    }
   ],
   "source": [
    "while True:\n",
    "    try:\n",
    "        more_button = WebDriverWait(driver, 10).until(\n",
    "            EC.element_to_be_clickable((By.XPATH, '//div/div/div[2]/a[1]'))\n",
    "        )\n",
    "        more_button.click()\n",
    "    except:\n",
    "        break\n",
    "\n",
    "selector = Selector(text=driver.page_source)\n",
    "\n",
    "detail_url_list = selector.xpath('//div/div/div[2]/div/div/div/a[1]/@href').extract()\n",
    "\n",
    "detail_url_list = ['https://www.zhihu.com' + url for url in detail_url_list]\n",
    "\n",
    "with open('detail_url_list.pkl', 'wb') as f:\n",
    "    pickle.dump(detail_url_list, f)\n",
    "\n",
    "detail_url_list, len(detail_url_list)"
   ],
   "metadata": {
    "collapsed": false,
    "ExecuteTime": {
     "end_time": "2024-02-24T03:22:11.239260900Z",
     "start_time": "2024-02-24T03:21:47.040706800Z"
    }
   },
   "id": "cfd98279c4c27f13",
   "execution_count": 4
  },
  {
   "cell_type": "code",
   "outputs": [
    {
     "ename": "NoSuchWindowException",
     "evalue": "Message: no such window: target window already closed\nfrom unknown error: web view not found\n  (Session info: chrome=121.0.6167.185)\nStacktrace:\n\tGetHandleVerifier [0x00007FF644517012+3522402]\n\t(No symbol) [0x00007FF644138352]\n\t(No symbol) [0x00007FF643FE5ABB]\n\t(No symbol) [0x00007FF643FC287C]\n\t(No symbol) [0x00007FF644055D97]\n\t(No symbol) [0x00007FF64406B3CF]\n\t(No symbol) [0x00007FF64404EE03]\n\t(No symbol) [0x00007FF64401F4D4]\n\t(No symbol) [0x00007FF6440205F1]\n\tGetHandleVerifier [0x00007FF644549B9D+3730157]\n\tGetHandleVerifier [0x00007FF64459F02D+4079485]\n\tGetHandleVerifier [0x00007FF6445975D3+4048163]\n\tGetHandleVerifier [0x00007FF64426A649+718233]\n\t(No symbol) [0x00007FF644144A3F]\n\t(No symbol) [0x00007FF64413FA94]\n\t(No symbol) [0x00007FF64413FBC2]\n\t(No symbol) [0x00007FF64412F2E4]\n\tBaseThreadInitThunk [0x00007FFE1E7D8D17+23]\n\tRtlUserThreadStart [0x00007FFE1F8A7450+32]\n",
     "output_type": "error",
     "traceback": [
      "\u001B[1;31m---------------------------------------------------------------------------\u001B[0m",
      "\u001B[1;31mNoSuchWindowException\u001B[0m                     Traceback (most recent call last)",
      "Cell \u001B[1;32mIn[5], line 32\u001B[0m\n\u001B[0;32m     30\u001B[0m \u001B[38;5;28;01mfor\u001B[39;00m _ \u001B[38;5;129;01min\u001B[39;00m \u001B[38;5;28mrange\u001B[39m(\u001B[38;5;241m2\u001B[39m):\n\u001B[0;32m     31\u001B[0m     actions \u001B[38;5;241m=\u001B[39m ActionChains(driver)\n\u001B[1;32m---> 32\u001B[0m     actions\u001B[38;5;241m.\u001B[39msend_keys(Keys\u001B[38;5;241m.\u001B[39mEND)\u001B[38;5;241m.\u001B[39mperform()\n\u001B[0;32m     33\u001B[0m     time\u001B[38;5;241m.\u001B[39msleep(\u001B[38;5;241m1\u001B[39m)  \u001B[38;5;66;03m# 等待页面加载 \u001B[39;00m\n\u001B[0;32m     35\u001B[0m selector \u001B[38;5;241m=\u001B[39m Selector(text\u001B[38;5;241m=\u001B[39mdriver\u001B[38;5;241m.\u001B[39mpage_source)\n",
      "File \u001B[1;32mD:\\Anaconda\\envs\\pytorch_gpu\\Lib\\site-packages\\selenium\\webdriver\\common\\action_chains.py:94\u001B[0m, in \u001B[0;36mActionChains.perform\u001B[1;34m(self)\u001B[0m\n\u001B[0;32m     92\u001B[0m \u001B[38;5;28;01mdef\u001B[39;00m \u001B[38;5;21mperform\u001B[39m(\u001B[38;5;28mself\u001B[39m) \u001B[38;5;241m-\u001B[39m\u001B[38;5;241m>\u001B[39m \u001B[38;5;28;01mNone\u001B[39;00m:\n\u001B[0;32m     93\u001B[0m \u001B[38;5;250m    \u001B[39m\u001B[38;5;124;03m\"\"\"Performs all stored actions.\"\"\"\u001B[39;00m\n\u001B[1;32m---> 94\u001B[0m     \u001B[38;5;28mself\u001B[39m\u001B[38;5;241m.\u001B[39mw3c_actions\u001B[38;5;241m.\u001B[39mperform()\n",
      "File \u001B[1;32mD:\\Anaconda\\envs\\pytorch_gpu\\Lib\\site-packages\\selenium\\webdriver\\common\\actions\\action_builder.py:96\u001B[0m, in \u001B[0;36mActionBuilder.perform\u001B[1;34m(self)\u001B[0m\n\u001B[0;32m     94\u001B[0m         enc[\u001B[38;5;124m\"\u001B[39m\u001B[38;5;124mactions\u001B[39m\u001B[38;5;124m\"\u001B[39m]\u001B[38;5;241m.\u001B[39mappend(encoded)\n\u001B[0;32m     95\u001B[0m         device\u001B[38;5;241m.\u001B[39mactions \u001B[38;5;241m=\u001B[39m []\n\u001B[1;32m---> 96\u001B[0m \u001B[38;5;28mself\u001B[39m\u001B[38;5;241m.\u001B[39mdriver\u001B[38;5;241m.\u001B[39mexecute(Command\u001B[38;5;241m.\u001B[39mW3C_ACTIONS, enc)\n",
      "File \u001B[1;32mD:\\Anaconda\\envs\\pytorch_gpu\\Lib\\site-packages\\selenium\\webdriver\\remote\\webdriver.py:347\u001B[0m, in \u001B[0;36mWebDriver.execute\u001B[1;34m(self, driver_command, params)\u001B[0m\n\u001B[0;32m    345\u001B[0m response \u001B[38;5;241m=\u001B[39m \u001B[38;5;28mself\u001B[39m\u001B[38;5;241m.\u001B[39mcommand_executor\u001B[38;5;241m.\u001B[39mexecute(driver_command, params)\n\u001B[0;32m    346\u001B[0m \u001B[38;5;28;01mif\u001B[39;00m response:\n\u001B[1;32m--> 347\u001B[0m     \u001B[38;5;28mself\u001B[39m\u001B[38;5;241m.\u001B[39merror_handler\u001B[38;5;241m.\u001B[39mcheck_response(response)\n\u001B[0;32m    348\u001B[0m     response[\u001B[38;5;124m\"\u001B[39m\u001B[38;5;124mvalue\u001B[39m\u001B[38;5;124m\"\u001B[39m] \u001B[38;5;241m=\u001B[39m \u001B[38;5;28mself\u001B[39m\u001B[38;5;241m.\u001B[39m_unwrap_value(response\u001B[38;5;241m.\u001B[39mget(\u001B[38;5;124m\"\u001B[39m\u001B[38;5;124mvalue\u001B[39m\u001B[38;5;124m\"\u001B[39m, \u001B[38;5;28;01mNone\u001B[39;00m))\n\u001B[0;32m    349\u001B[0m     \u001B[38;5;28;01mreturn\u001B[39;00m response\n",
      "File \u001B[1;32mD:\\Anaconda\\envs\\pytorch_gpu\\Lib\\site-packages\\selenium\\webdriver\\remote\\errorhandler.py:229\u001B[0m, in \u001B[0;36mErrorHandler.check_response\u001B[1;34m(self, response)\u001B[0m\n\u001B[0;32m    227\u001B[0m         alert_text \u001B[38;5;241m=\u001B[39m value[\u001B[38;5;124m\"\u001B[39m\u001B[38;5;124malert\u001B[39m\u001B[38;5;124m\"\u001B[39m]\u001B[38;5;241m.\u001B[39mget(\u001B[38;5;124m\"\u001B[39m\u001B[38;5;124mtext\u001B[39m\u001B[38;5;124m\"\u001B[39m)\n\u001B[0;32m    228\u001B[0m     \u001B[38;5;28;01mraise\u001B[39;00m exception_class(message, screen, stacktrace, alert_text)  \u001B[38;5;66;03m# type: ignore[call-arg]  # mypy is not smart enough here\u001B[39;00m\n\u001B[1;32m--> 229\u001B[0m \u001B[38;5;28;01mraise\u001B[39;00m exception_class(message, screen, stacktrace)\n",
      "\u001B[1;31mNoSuchWindowException\u001B[0m: Message: no such window: target window already closed\nfrom unknown error: web view not found\n  (Session info: chrome=121.0.6167.185)\nStacktrace:\n\tGetHandleVerifier [0x00007FF644517012+3522402]\n\t(No symbol) [0x00007FF644138352]\n\t(No symbol) [0x00007FF643FE5ABB]\n\t(No symbol) [0x00007FF643FC287C]\n\t(No symbol) [0x00007FF644055D97]\n\t(No symbol) [0x00007FF64406B3CF]\n\t(No symbol) [0x00007FF64404EE03]\n\t(No symbol) [0x00007FF64401F4D4]\n\t(No symbol) [0x00007FF6440205F1]\n\tGetHandleVerifier [0x00007FF644549B9D+3730157]\n\tGetHandleVerifier [0x00007FF64459F02D+4079485]\n\tGetHandleVerifier [0x00007FF6445975D3+4048163]\n\tGetHandleVerifier [0x00007FF64426A649+718233]\n\t(No symbol) [0x00007FF644144A3F]\n\t(No symbol) [0x00007FF64413FA94]\n\t(No symbol) [0x00007FF64413FBC2]\n\t(No symbol) [0x00007FF64412F2E4]\n\tBaseThreadInitThunk [0x00007FFE1E7D8D17+23]\n\tRtlUserThreadStart [0x00007FFE1F8A7450+32]\n"
     ]
    }
   ],
   "source": [
    "content_url = []\n",
    "\n",
    "with open('./progress/detail_url_list.pkl', 'rb') as f:\n",
    "    detail_url_list = pickle.load(f)\n",
    "    \n",
    "if os.path.exists('./progress/content_url.pkl'):\n",
    "    with open('./progress/content_url.pkl', 'rb') as f:\n",
    "        content_url = pickle.load(f)\n",
    "\n",
    "# 保存进度的文件名\n",
    "progress_file = './progress/progress_get_content.txt'\n",
    "\n",
    "# 读取进度\n",
    "if os.path.exists(progress_file):\n",
    "    with open(progress_file, 'r') as f:\n",
    "        start_url = f.read().strip()\n",
    "else:\n",
    "    start_url = None\n",
    "\n",
    "# 在爬取每个URL之前，保存进度\n",
    "for url in detail_url_list:\n",
    "    if start_url is not None:\n",
    "        if url == start_url:\n",
    "            start_url = None\n",
    "        continue\n",
    "\n",
    "    # 爬取url的代码...\n",
    "    driver.get(url)\n",
    "\n",
    "    for _ in range(2):\n",
    "        actions = ActionChains(driver)\n",
    "        actions.send_keys(Keys.END).perform()\n",
    "        time.sleep(1)  # 等待页面加载 \n",
    "\n",
    "    selector = Selector(text=driver.page_source)\n",
    "    content_url.extend(selector.xpath(\n",
    "        '//*[@id=\"TopicMain\"]//div/h2/div/a/@href | //*[@id=\"TopicMain\"]//div/h2/span/a/@href').extract())\n",
    "    content_url = list(set(content_url))\n",
    "\n",
    "    # 保存进度\n",
    "    with open(progress_file, 'w') as f:\n",
    "        f.write(url)\n",
    "\n",
    "    print('已经获取' + str(len(content_url)) + '个URL')\n",
    "\n",
    "    with open('content_url.pkl', 'wb') as f:\n",
    "        pickle.dump(content_url, f)"
   ],
   "metadata": {
    "collapsed": false,
    "ExecuteTime": {
     "end_time": "2024-02-24T03:22:15.220130400Z",
     "start_time": "2024-02-24T03:22:11.239260900Z"
    }
   },
   "id": "eccb7ad8edb7d7c",
   "execution_count": 5
  },
  {
   "cell_type": "code",
   "outputs": [],
   "source": [
    "with open('content_url.pkl', 'rb') as f:\n",
    "    content_url = pickle.load(f)\n",
    "\n",
    "content_url = ['https:' + url for url in content_url]\n",
    "\n",
    "with open('content_url.pkl', 'wb') as f:\n",
    "    pickle.dump(content_url, f)\n",
    "    "
   ],
   "metadata": {
    "collapsed": false,
    "ExecuteTime": {
     "start_time": "2024-02-24T03:22:15.213128Z"
    }
   },
   "id": "a995438a4929c3a3",
   "execution_count": null
  },
  {
   "cell_type": "code",
   "outputs": [
    {
     "ename": "ModuleNotFoundError",
     "evalue": "No module named 'selenium'",
     "output_type": "error",
     "traceback": [
      "\u001B[1;31m---------------------------------------------------------------------------\u001B[0m",
      "\u001B[1;31mModuleNotFoundError\u001B[0m                       Traceback (most recent call last)",
      "Cell \u001B[1;32mIn[2], line 1\u001B[0m\n\u001B[1;32m----> 1\u001B[0m \u001B[38;5;28;01mfrom\u001B[39;00m \u001B[38;5;21;01mselenium\u001B[39;00m\u001B[38;5;21;01m.\u001B[39;00m\u001B[38;5;21;01mcommon\u001B[39;00m\u001B[38;5;21;01m.\u001B[39;00m\u001B[38;5;21;01mexceptions\u001B[39;00m \u001B[38;5;28;01mimport\u001B[39;00m WebDriverException\n\u001B[0;32m      2\u001B[0m \u001B[38;5;28;01mtry\u001B[39;00m:\n\u001B[0;32m      4\u001B[0m     \u001B[38;5;28;01mwith\u001B[39;00m \u001B[38;5;28mopen\u001B[39m(\u001B[38;5;124m'\u001B[39m\u001B[38;5;124mcontent_url.pkl\u001B[39m\u001B[38;5;124m'\u001B[39m, \u001B[38;5;124m'\u001B[39m\u001B[38;5;124mrb\u001B[39m\u001B[38;5;124m'\u001B[39m) \u001B[38;5;28;01mas\u001B[39;00m f:\n",
      "\u001B[1;31mModuleNotFoundError\u001B[0m: No module named 'selenium'"
     ]
    }
   ],
   "source": [
    "from selenium.common.exceptions import WebDriverException\n",
    "try:\n",
    "    \n",
    "    with open('content_url.pkl', 'rb') as f:\n",
    "        content_url = pickle.load(f)\n",
    "    \n",
    "    # 保存进度的文件名\n",
    "    progress_file = '../data/progress_get_content_detail.txt'\n",
    "    \n",
    "    # 读取进度\n",
    "    if os.path.exists(progress_file):\n",
    "        with open(progress_file, 'r') as f:\n",
    "            start_url = f.read().strip()\n",
    "    else:\n",
    "        start_url = None\n",
    "    \n",
    "    # 打开CSV文件\n",
    "    with open('zhihu.csv', 'a', newline='', encoding='utf-8') as f:\n",
    "        writer = csv.writer(f)\n",
    "        for url in content_url:\n",
    "            if start_url is not None:\n",
    "                if url == start_url:\n",
    "                    start_url = None\n",
    "                continue\n",
    "    \n",
    "            if url.startswith('https://www.zhihu.com/question'):\n",
    "                driver.get(url)\n",
    "                for _ in range(2):\n",
    "                    try:\n",
    "                        target_element = driver.find_element('xpath', '//*[@id=\"root\"]/div/main//div[1]/div/div[4]/a')\n",
    "            \n",
    "                        action = ActionChains(driver)\n",
    "                        action.move_to_element(target_element).perform()\n",
    "            \n",
    "                        target_element.click()\n",
    "            \n",
    "                    except NoSuchElementException as e:\n",
    "                        pass\n",
    "    \n",
    "                    for i in range(2):\n",
    "                        # 下滑操作\n",
    "                        for _ in range(4):\n",
    "                            actions = ActionChains(driver)\n",
    "                            actions.send_keys(Keys.END).perform()\n",
    "                            time.sleep(0.5)\n",
    "                        # 上滑操作\n",
    "                        driver.execute_script(\"window.scrollBy(0, -100);\")\n",
    "    \n",
    "                selector = Selector(text=driver.page_source)\n",
    "    \n",
    "                text_list = selector.xpath('//*[@id=\"root\"]/div/main//span[1]/div/div/span')\n",
    "    \n",
    "                for text in text_list:\n",
    "                    content_list = []\n",
    "                    content = text.xpath('./p/text()').extract()\n",
    "                    for i in content:\n",
    "                        content_list.append(i.strip())\n",
    "                    f.write(''.join(content_list) + '\\n')\n",
    "    \n",
    "            elif url.startswith('https://zhuanlan.zhihu.com'):\n",
    "                driver.get(url)\n",
    "                for _ in range(5):\n",
    "                    actions = ActionChains(driver)\n",
    "                    actions.send_keys(Keys.END).perform()\n",
    "                    time.sleep(0.5)\n",
    "    \n",
    "                selector = Selector(text=driver.page_source)\n",
    "    \n",
    "                text_list = selector.xpath('//*[@id=\"root\"]/div/main/div/article/div[1]/div/div/div/p//text()').extract()\n",
    "    \n",
    "                text_list = [text.strip() for text in text_list]\n",
    "    \n",
    "                f.write(''.join(text_list) + '\\n')\n",
    "    \n",
    "            else:\n",
    "                continue\n",
    "            \n",
    "            # 保存进度\n",
    "            with open(progress_file, 'w') as pf:\n",
    "                pf.write(url)\n",
    "except WebDriverException as e:\n",
    "    print(e)\n",
    "    driver.refresh()"
   ],
   "metadata": {
    "collapsed": false,
    "ExecuteTime": {
     "end_time": "2024-02-24T15:44:08.929401700Z",
     "start_time": "2024-02-24T15:44:08.895328Z"
    }
   },
   "id": "b64f80b62e823a0c",
   "execution_count": 2
  }
 ],
 "metadata": {
  "kernelspec": {
   "display_name": "Python 3",
   "language": "python",
   "name": "python3"
  },
  "language_info": {
   "codemirror_mode": {
    "name": "ipython",
    "version": 2
   },
   "file_extension": ".py",
   "mimetype": "text/x-python",
   "name": "python",
   "nbconvert_exporter": "python",
   "pygments_lexer": "ipython2",
   "version": "2.7.6"
  }
 },
 "nbformat": 4,
 "nbformat_minor": 5
}
