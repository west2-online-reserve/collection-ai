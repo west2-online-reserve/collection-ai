{
 "cells": [
  {
   "cell_type": "code",
   "execution_count": 255,
   "id": "initial_id",
   "metadata": {
    "collapsed": true,
    "ExecuteTime": {
     "end_time": "2024-02-25T06:57:11.429554100Z",
     "start_time": "2024-02-25T06:57:11.410388900Z"
    }
   },
   "outputs": [],
   "source": [
    "from torch.utils.data import Dataset, DataLoader\n",
    "import torch\n",
    "\n",
    "import random\n",
    "import jieba\n",
    "\n",
    "class MyChineseBertDataset(Dataset):\n",
    "    def __init__(self, corpus_path, vocab, seq_len, encoding='utf-8'):\n",
    "        \"\"\"\n",
    "        创建数据集\n",
    "        :param corpus_path: 数据集的路径，corpus的意思是语料库\n",
    "        :param vocab: 词典\n",
    "        :param seq_len: 指定的序列长度\n",
    "        :param encoding: 编码方式，默认为utf-8\n",
    "        \"\"\"\n",
    "        self.vocab = vocab\n",
    "        self.seq_len = seq_len\n",
    "        \n",
    "        self.corpus_path = corpus_path\n",
    "        self.encoding = encoding\n",
    "        \n",
    "        # 将数据集的每一行分割并存储到 self.lines中, 以'\\t'分割，用于下面的__getitem__方法，以强化其在不同任务中的通用性\n",
    "        with open(corpus_path, 'r', encoding=encoding) as f:\n",
    "            self.lines = [line[:-1].split('\\t') for line in f.readlines()]\n",
    "            self.corpus_lines = len(self.lines)\n",
    "            \n",
    "    def __len__(self):\n",
    "        return self.corpus_lines\n",
    "        \n",
    "    def __getitem__(self, item):\n",
    "        # is_next_label: 1表示是下一句，0表示不是下一句\n",
    "        t1, t2, is_next_label = self.random_sent(item)\n",
    "        t1_random, t1_label = self.random_word(t1)\n",
    "        t2_random, t2_label = self.random_word(t2)\n",
    "        \n",
    "        # 在t1_random和t2_random的首尾分别加上[CLS]和[SEP]标志\n",
    "        t1 = [self.vocab.cls_index] + t1_random + [self.vocab.sep_index]\n",
    "        t2 = t2_random + [self.vocab.sep_index]\n",
    "        \n",
    "        # 在句子的标签中加上[PAD]标志, 使得句子的长度都为seq_len\n",
    "        t1_label = [self.vocab.pad_index] + t1_label + [self.vocab.pad_index] \n",
    "        t2_label = t2_label + [self.vocab.pad_index]\n",
    "    \n",
    "        # segment_label 是一个列表，用于指示句子中的每个词属于哪个句子, segment的意思是段落\n",
    "        segment_label = ([0 for _ in range(len(t1))] + [1 for _ in range(len(t2))])[:self.seq_len]\n",
    "        \n",
    "        # 输入由两个句子组成, 将两个句子拼接在一起，并且截断到指定长度\n",
    "        model_input = (t1+t2)[:self.seq_len]\n",
    "        model_label = (t1_label+t2_label)[:self.seq_len]\n",
    "        \n",
    "        # 如果输入的长度小于指定长度，则用[PAD]标签来填充\n",
    "        padding = [self.vocab.pad_index for _ in range(self.seq_len - len(model_label))]\n",
    "        model_input.extend(padding), model_label.extend(padding), segment_label.extend(padding)\n",
    "        \n",
    "        # 将模型输入和标签转换回原始句子\n",
    "        # original_t1 = self.vocab.from_seq(t1, join=True, with_pad=True)\n",
    "        # original_t2 = self.vocab.from_seq(t2, join=True, with_pad=True)\n",
    "        \n",
    "        # 返回模型的输入和标签\n",
    "        output = {\n",
    "            'input': torch.tensor(model_input),\n",
    "            'output': torch.tensor(model_label),\n",
    "            'segment': torch.tensor(segment_label),\n",
    "            'is_next': torch.tensor(is_next_label)\n",
    "        }\n",
    "        \n",
    "        return {key: value.clone().detach() for key, value in output.items()}\n",
    "        \n",
    "        # 生成随机遮蔽的句子，返回遮蔽后的句子和标签\n",
    "    def random_word(self, sentence):\n",
    "        # 对中文token进行分割\n",
    "        tokens = [char for char in sentence]\n",
    "        output_label = []\n",
    "        \n",
    "        for i, token in enumerate(tokens):\n",
    "            # 将15%的词进行替换\n",
    "            prob = random.random()\n",
    "            if prob < 0.15:\n",
    "                prob /= 0.15\n",
    "                \n",
    "                # 80% 的概率进行替换为[MASK]\n",
    "                if prob < 0.8:\n",
    "                    tokens[i] = self.vocab.mask_index\n",
    "                    \n",
    "                # 10% 的概率进行替换为随机字, 增加模型的鲁棒性\n",
    "                elif prob < 0.9:\n",
    "                    tokens[i] = random.randrange(len(self.vocab))\n",
    "                    \n",
    "                # 10% 的概率不进行替换，也是为了增加鲁棒性\n",
    "                else:\n",
    "                    # stoi是string to index的缩写，如果没有找到这个字返回'<unk>'\n",
    "                    tokens[i] = self.vocab.stoi.get(token, self.vocab.unk_index)\n",
    "                                            \n",
    "                # 记录被替换的词, 用于计算loss\n",
    "                output_label.append(self.vocab.stoi.get(token, 1))\n",
    "                \n",
    "            else:\n",
    "                tokens[i] = self.vocab.stoi.get(token, self.vocab.unk_index)\n",
    "                output_label.append(0)\n",
    "                \n",
    "        return tokens, output_label\n",
    "    \n",
    "    # 随机获取一对句子和一个标签\n",
    "    def random_sent(self, index):\n",
    "        t1, t2 = self.get_corpus_line(index)\n",
    "        \n",
    "        # 50%的概率获得连续的句子，标记标签1，这样做是为了提升在预测下一句任务上的能力\n",
    "        if random.random() > 0.5:\n",
    "            return t1, t2, 1\n",
    "        else:\n",
    "            return t1, self.get_random_line(), 0\n",
    "        \n",
    "    # 获取数据集的一行\n",
    "    def get_corpus_line(self, item):\n",
    "        return self.lines[item][0], self.lines[item][1]\n",
    "    \n",
    "    # 随机获取数据集的一行\n",
    "    def get_random_line(self):\n",
    "        return self.lines[random.randrange(self.corpus_lines)][0]"
   ]
  },
  {
   "cell_type": "code",
   "outputs": [],
   "source": [
    "import pickle\n",
    "from collections import Counter\n",
    "\n",
    "import tqdm\n",
    "\n",
    "class WordVocab:\n",
    "    def __init__(self, texts, min_freq=1):\n",
    "        print(\"正在构建Vocab词表\")\n",
    "        counter = Counter() # Counter可以接受迭代器，进行计数\n",
    "        for line in tqdm.tqdm(texts):\n",
    "            # # 检查line是不是一个列表， 用来判断是不是连续的（主要应该是处理英文单词的吧，我这里就不修改了，以后好搬用）\n",
    "            # if isinstance(line, list):\n",
    "            #     words = line\n",
    "            # else:\n",
    "            #     # 要处理中文词汇要去除' ' \n",
    "            #     words = list(line.replace('\\n', '').replace('\\t','').replace(' ',''))\n",
    "            # 处理中文的方法\n",
    "            words = [char for char in line]\n",
    "            \n",
    "            # 提取字并计数\n",
    "            for word in words:\n",
    "                counter[word] += 1\n",
    "                \n",
    "        self.freq = counter\n",
    "        counter = counter.copy()\n",
    "        \n",
    "        # itos是index_to_string的缩写\n",
    "        self.itos = ['[PAD]', '<unk>', '[CLS]', '[SEP]', '[MASK]']\n",
    "        for token in self.itos:\n",
    "            del counter[token]\n",
    "            \n",
    "        # 通过词频进行排序， counter.items()返回元组对，lambda无名函数用于获取次数\n",
    "        words_and_freq = sorted(counter.items(), key=lambda tup: tup[0])\n",
    "        # 然后按字母顺序进行排序\n",
    "        words_and_freq.sort(key=lambda tup: tup[1], reverse=True)\n",
    "        \n",
    "        # 去除过少出现的字符\n",
    "        for word, freq in words_and_freq:\n",
    "            if freq < min_freq:\n",
    "                break\n",
    "            self.itos.append(word)\n",
    "        \n",
    "        self.stoi = {token: i for i, token in enumerate(self.itos)}\n",
    "        \n",
    "        self.unk_index = self.stoi['<unk>']\n",
    "        self.cls_index = self.stoi['[CLS]']\n",
    "        self.sep_index = self.stoi['[SEP]']\n",
    "        self.mask_index = self.stoi['[MASK]']\n",
    "        self.pad_index = self.stoi['[PAD]']\n",
    "        \n",
    "    def __len__(self):\n",
    "        return len(self.itos)\n",
    "    \n",
    "    def to_seq(self, sentence, seq_len=None, with_len=False):\n",
    "        # 由于处理的是中文，不能采用原本的分割方式，所以我改用了jieba的分割\n",
    "        words = jieba.lcut(sentence)\n",
    "            \n",
    "        # 如果word在stoi中，就返回word中对应的数值，否则返回<unk>\n",
    "        seq = [self.stoi.get(word, self.unk_index) for word in sentence]\n",
    "        \n",
    "        origin_seq_len = len(seq)\n",
    "        \n",
    "        if seq_len is None:\n",
    "            pass\n",
    "        elif len(seq) <= seq_len:\n",
    "            # 如果不足长度就补0\n",
    "            seq += [0 for _ in range(seq_len - len(seq))]\n",
    "        else:\n",
    "            seq = seq[:seq_len]\n",
    "            \n",
    "        return (seq, origin_seq_len) if with_len else seq\n",
    "    \n",
    "    def from_seq(self, seq, join=False, with_pad=False):\n",
    "        # 将一个整数序列转换回词的序列，如果idx小于itos的长度,就返回itos[idx]，否则返回'<%d>'%d是idx的数值\n",
    "        words = [self.itos[idx] if idx < len(self.itos) else '<%d>' % idx for idx in seq if not with_pad or idx != 0]\n",
    "        return \"\".join(words) if join else words\n",
    "    \n",
    "    @staticmethod\n",
    "    def load_vocab(vocab_path: str) -> 'WordVocab':\n",
    "        with open(vocab_path, 'rb') as f:\n",
    "            return pickle.load(f)\n",
    "        \n",
    "    def save_vocab(self, vocab_path):\n",
    "        with open(vocab_path, 'wb') as f:\n",
    "            pickle.dump(self, f)\n",
    "        "
   ],
   "metadata": {
    "collapsed": false,
    "ExecuteTime": {
     "end_time": "2024-02-25T06:57:11.481374700Z",
     "start_time": "2024-02-25T06:57:11.435556100Z"
    }
   },
   "id": "a8b06dce3249c607",
   "execution_count": 256
  },
  {
   "cell_type": "code",
   "outputs": [
    {
     "name": "stdout",
     "output_type": "stream",
     "text": [
      "['[PAD]', '<unk>', '[CLS]', '[SEP]', '[MASK]', '，', '。', '的', '了', '不', '一', '“', '是', '”', '人', '道', '来', '我', '这', '说', '：', '有', '你', '着', '个', '在', '他', '也', '去', '子', '里', '上', '们', '儿', '大', '那', '得', '玉', '出', '只', '宝', '又', '见', '就', '么', '好', '下', '到', '笑', '贾']\n",
      "5209\n"
     ]
    }
   ],
   "source": [
    "# 读取数据集\n",
    "import os\n",
    "if os.path.exists('word_vocab.pkl'):\n",
    "    vocab = WordVocab.load_vocab('word_vocab.pkl')\n",
    "else:\n",
    "    with open('../data/text_for_vocab.txt', 'r', encoding='utf-8') as f:\n",
    "        texts = f.readlines()\n",
    "    vocab = WordVocab(texts)\n",
    "    vocab.save_vocab('word_vocab.pkl')\n",
    "\n",
    "vocab_size = len(vocab)\n",
    "print(vocab.itos[:50])\n",
    "print(vocab_size)"
   ],
   "metadata": {
    "collapsed": false,
    "ExecuteTime": {
     "end_time": "2024-02-25T06:57:11.514090700Z",
     "start_time": "2024-02-25T06:57:11.483399900Z"
    }
   },
   "id": "d46b3281cefa92c2",
   "execution_count": 257
  },
  {
   "cell_type": "code",
   "outputs": [
    {
     "name": "stdout",
     "output_type": "stream",
     "text": [
      "{'input': tensor([[   2, 2286, 1281,  405,  102,  592,  172,    5,  839,   53,    4,   23,\n",
      "          133,  134,  136,   97,   15,    4,    4,  350,  452,    4,    4,  113,\n",
      "           90,  523,    4,  254,    4,  230,  642,  460,   64,  338, 1037,    4,\n",
      "            6,  295,  732,  532,    4,  913,  436,    1,    4,    3,  244,   83,\n",
      "            4,  909,   91,  572,  141,   25,   60,   28,    7,  294,    4,  156,\n",
      "           30,    4,    4,   12,  648,  470, 1433, 1179,    7,    4,    4,    5,\n",
      "          171, 1149,  113,   71,  155,  271,    9, 1496, 1735,  154, 1079,  492,\n",
      "          933,    6,  466,    4,   25,  111,  507,    4,   50,  557,  235,   14,\n",
      "            7,   74,  173,  515,    5,  572,  141,    4,  426, 1659,  369,    5,\n",
      "          267,   47,    8, 1398,  863,    4,  429,    6,    4,    4,    4,    4,\n",
      "          141,  320, 1416,    5,   21,   10,   24,  307]]), 'output': tensor([[   0,    0,    0,    0,    0,    0,  172,    0,    0,    0,   61,    0,\n",
      "            0,    0,    0,    0,    0,   11,  366,    0,    0,  229,   77,    0,\n",
      "            0,    0,  103,    0,    5,    0,    0,    0,    0,    0,    0,   17,\n",
      "            0,    0,    0,    0,  223,    0,    0,    0,    1,    0,    0,    0,\n",
      "          245,    0,    0,    0,    0,   25,    0,    0,    0,    0,  386,    0,\n",
      "            0,    5,   57,    0,    0,    0,    0,    0,    0, 1784,  698,    0,\n",
      "            0,    0,    0,    0,    0,    0,    0,    0,    0,    0,    0,    0,\n",
      "            0,    0,    0,  240,    0,    0,    0, 1442,    0,    0,    0,    0,\n",
      "            0,    0,    0,   31,    0,    0,  141, 1457,    0,    0,    0,    0,\n",
      "            0,    0,    0,    0,    0, 1352,    0,    0,  171,  626,   12,  572,\n",
      "            0,    0,    0,    0,    0,    0,    0,    0]]), 'segment': tensor([[0, 0, 0, 0, 0, 0, 0, 0, 0, 0, 0, 0, 0, 0, 0, 0, 0, 0, 0, 0, 0, 0, 0, 0,\n",
      "         0, 0, 0, 0, 0, 0, 0, 0, 0, 0, 0, 0, 0, 0, 0, 0, 0, 0, 0, 0, 0, 0, 1, 1,\n",
      "         1, 1, 1, 1, 1, 1, 1, 1, 1, 1, 1, 1, 1, 1, 1, 1, 1, 1, 1, 1, 1, 1, 1, 1,\n",
      "         1, 1, 1, 1, 1, 1, 1, 1, 1, 1, 1, 1, 1, 1, 1, 1, 1, 1, 1, 1, 1, 1, 1, 1,\n",
      "         1, 1, 1, 1, 1, 1, 1, 1, 1, 1, 1, 1, 1, 1, 1, 1, 1, 1, 1, 1, 1, 1, 1, 1,\n",
      "         1, 1, 1, 1, 1, 1, 1, 1]]), 'is_next': tensor([0])}\n"
     ]
    }
   ],
   "source": [
    "# 测试读取数据集\n",
    "from torch.utils.data import DataLoader\n",
    "\n",
    "vocab = WordVocab.load_vocab('word_vocab.pkl')\n",
    "dataset = MyChineseBertDataset('../data/qianbi.csv', vocab, 128)\n",
    "dataloader = DataLoader(dataset, batch_size=1, shuffle=True)\n",
    "\n",
    "loader = next(iter(dataloader))\n",
    "print(loader)"
   ],
   "metadata": {
    "collapsed": false,
    "ExecuteTime": {
     "end_time": "2024-02-25T06:57:11.547382100Z",
     "start_time": "2024-02-25T06:57:11.516089900Z"
    }
   },
   "id": "29c74a50dc054c91",
   "execution_count": 258
  },
  {
   "cell_type": "code",
   "outputs": [],
   "source": [
    "# from torch import nn\n",
    "# \n",
    "# class MultiHeadedAttention(nn.Module):\n",
    "#     def __init__(self, h, d_model, dropout=0.1):\n",
    "#         # h表示number of heads， d_model表示hidden_layer_dimension\n",
    "#         super().__init__()\n",
    "#         # 确保每个头的维度都是整数不会出现尺寸不一致的情况\n",
    "#         assert d_model % h == 0\n",
    "# \n",
    "#         # 每个头的查询（Query）和键（Key）的维度\n",
    "#         self.d_k = d_model // h\n",
    "#         self.h = h\n",
    "# \n",
    "#         self.multihead_attn = nn.MultiheadAttention(embed_dim=d_model, num_heads=h, dropout=dropout)\n",
    "# \n",
    "#     def forward(self, query, key, value, mask=None):\n",
    "#         # 默认情况下，PyTorch中的线性层的输入形状是 (batch_size, sequence_length, d_model)，但是在多头注意力中，我们通常希望将序列长度（sequence_length）作为第一个维度，\n",
    "#         query, key, value = [x.permute(1,0,2) for x in (query,key,value)]\n",
    "# \n",
    "#         attn_output, attn_weights = self.multihead_attn(query,key,value,attn_mask=mask)\n",
    "#         return attn_output.permute(1,0,2)"
   ],
   "metadata": {
    "collapsed": false,
    "ExecuteTime": {
     "end_time": "2024-02-25T06:57:11.575720500Z",
     "start_time": "2024-02-25T06:57:11.547989900Z"
    }
   },
   "id": "3e96ae636a3e900",
   "execution_count": 259
  },
  {
   "cell_type": "code",
   "outputs": [],
   "source": [
    "import torch.nn as nn\n",
    "import torch.nn.functional as F\n",
    "import torch\n",
    "\n",
    "import math\n",
    "\n",
    "class Attention(nn.Module):\n",
    "\n",
    "    def forward(self, query, key, value, mask=None, dropout=None):\n",
    "        scores = torch.matmul(query, key.transpose(-2, -1)) \\\n",
    "                 / math.sqrt(query.size(-1))\n",
    "\n",
    "        if mask is not None:\n",
    "            scores = scores.masked_fill(mask == 0, -1e9)\n",
    "\n",
    "        p_attn = F.softmax(scores, dim=-1)\n",
    "\n",
    "        if dropout is not None:\n",
    "            p_attn = dropout(p_attn)\n",
    "\n",
    "        return torch.matmul(p_attn, value), p_attn\n",
    "\n",
    "class MultiHeadedAttention(nn.Module):\n",
    "\n",
    "    def __init__(self, h, d_model, dropout=0.1):\n",
    "        super().__init__()\n",
    "        assert d_model % h == 0\n",
    "\n",
    "        self.d_k = d_model // h\n",
    "        self.h = h\n",
    "\n",
    "        self.linear_layers = nn.ModuleList([nn.Linear(d_model, d_model) for _ in range(3)])\n",
    "        self.output_linear = nn.Linear(d_model, d_model)\n",
    "        self.attention = Attention()\n",
    "\n",
    "        self.dropout = nn.Dropout(p=dropout)\n",
    "\n",
    "    def forward(self, query, key, value, mask=None):\n",
    "        batch_size = query.size(0)\n",
    "\n",
    "        query, key, value = [l(x).view(batch_size, -1, self.h, self.d_k).transpose(1, 2)\n",
    "                             for l, x in zip(self.linear_layers, (query, key, value))]\n",
    "\n",
    "        x, attn = self.attention(query, key, value, mask=mask, dropout=self.dropout)\n",
    "\n",
    "        x = x.transpose(1, 2).contiguous().view(batch_size, -1, self.h * self.d_k)\n",
    "\n",
    "        return self.output_linear(x)\n"
   ],
   "metadata": {
    "collapsed": false,
    "ExecuteTime": {
     "end_time": "2024-02-25T06:57:11.626693300Z",
     "start_time": "2024-02-25T06:57:11.578974500Z"
    }
   },
   "id": "3692066051e6d78c",
   "execution_count": 260
  },
  {
   "cell_type": "code",
   "outputs": [
    {
     "name": "stdout",
     "output_type": "stream",
     "text": [
      "Output shape: torch.Size([32, 10, 64])\n"
     ]
    }
   ],
   "source": [
    "# 测试MultiHeadAttention\n",
    "import torch\n",
    "\n",
    "# 定义输入\n",
    "batch_size = 32\n",
    "sequence_length = 10\n",
    "d_model = 64\n",
    "h = 8  # 注意力头的数量\n",
    "dropout = 0.1\n",
    "\n",
    "# 创建 MultiHeadedAttention 实例\n",
    "attention_layer = MultiHeadedAttention(h, d_model, dropout)\n",
    "\n",
    "# 生成随机输入\n",
    "query = torch.randn((batch_size, sequence_length, d_model))\n",
    "key = torch.randn((batch_size, sequence_length, d_model))\n",
    "value = torch.randn((batch_size, sequence_length, d_model))\n",
    "\n",
    "# 调用 forward 方法进行前向传播\n",
    "output = attention_layer(query, key, value)\n",
    "\n",
    "# 打印输出的形状\n",
    "print(\"Output shape:\", output.shape)"
   ],
   "metadata": {
    "collapsed": false,
    "ExecuteTime": {
     "end_time": "2024-02-25T06:57:11.657363700Z",
     "start_time": "2024-02-25T06:57:11.613611200Z"
    }
   },
   "id": "a7689a866c14e5b4",
   "execution_count": 261
  },
  {
   "cell_type": "code",
   "outputs": [],
   "source": [
    "import torch.nn as nn\n",
    "import torch.nn.functional as F\n",
    "\n",
    "# 助于在编码器和解码器层中引入非线性特征映射，增加模型的表示能力。\n",
    "class PositionwiseFeedForward(nn.Module):\n",
    "    # d_ff:Feedforward 层的输出维度\n",
    "    def __init__(self, d_model, d_ff, dropout=0.1):\n",
    "        super(PositionwiseFeedForward, self).__init__()\n",
    "        self.linear1 = nn.Linear(d_model, d_ff)\n",
    "        self.linear2 = nn.Linear(d_ff, d_model)\n",
    "        self.dropout = nn.Dropout(dropout)\n",
    "        \n",
    "    # 新版torch加入了gelu，我们就不用再写gelu了\n",
    "    def forward(self, x):\n",
    "        return self.linear2(self.dropout(F.gelu(self.linear1(x))))"
   ],
   "metadata": {
    "collapsed": false,
    "ExecuteTime": {
     "end_time": "2024-02-25T06:57:11.695368600Z",
     "start_time": "2024-02-25T06:57:11.660363700Z"
    }
   },
   "id": "301156994fd080ae",
   "execution_count": 262
  },
  {
   "cell_type": "code",
   "outputs": [
    {
     "name": "stdout",
     "output_type": "stream",
     "text": [
      "Input shape: torch.Size([32, 10, 64])\n",
      "Output shape: torch.Size([32, 10, 64])\n"
     ]
    }
   ],
   "source": [
    "# 测试PositionwiseFeedForward\n",
    "import torch\n",
    "\n",
    "# 创建 PositionwiseFeedForward 模块\n",
    "d_model = 64\n",
    "d_ff = 128\n",
    "dropout = 0.1\n",
    "feed_forward = PositionwiseFeedForward(d_model, d_ff, dropout)\n",
    "\n",
    "# 生成示例输入\n",
    "batch_size = 32\n",
    "sequence_length = 10\n",
    "input_tensor = torch.randn(batch_size, sequence_length, d_model)\n",
    "\n",
    "# 将输入传递给模块\n",
    "output_tensor = feed_forward(input_tensor)\n",
    "\n",
    "# 打印输出的形状\n",
    "print(\"Input shape:\", input_tensor.shape)\n",
    "print(\"Output shape:\", output_tensor.shape)\n"
   ],
   "metadata": {
    "collapsed": false,
    "ExecuteTime": {
     "end_time": "2024-02-25T06:57:11.744333800Z",
     "start_time": "2024-02-25T06:57:11.697345Z"
    }
   },
   "id": "b095faca416ff805",
   "execution_count": 263
  },
  {
   "cell_type": "code",
   "outputs": [],
   "source": [
    "# 残差连接（Residual Connection）和层归一化\n",
    "# 通过堆叠多层网络，可以提高网络的表示能力，但也容易引入梯度消失或梯度爆炸等问题\n",
    "class SublayerConnection(nn.Module):\n",
    "    def __init__(self, size, dropout):\n",
    "        super(SublayerConnection, self).__init__()\n",
    "        self.norm = nn.LayerNorm(size)\n",
    "        self.dropout = nn.Dropout(dropout)\n",
    "        \n",
    "    def forward(self, x, sublayer):\n",
    "        return x + self.dropout(sublayer(self.norm(x)))"
   ],
   "metadata": {
    "collapsed": false,
    "ExecuteTime": {
     "end_time": "2024-02-25T06:57:11.788787800Z",
     "start_time": "2024-02-25T06:57:11.745936700Z"
    }
   },
   "id": "cb98ac0b2f0da279",
   "execution_count": 264
  },
  {
   "cell_type": "code",
   "outputs": [
    {
     "name": "stdout",
     "output_type": "stream",
     "text": [
      "Input shape: torch.Size([32, 10, 64])\n",
      "Output shape: torch.Size([32, 10, 64])\n"
     ]
    }
   ],
   "source": [
    "import torch\n",
    "\n",
    "# 创建一个小的输入张量\n",
    "x = torch.rand((32, 10, 64))\n",
    "\n",
    "# 创建 SublayerConnection 实例\n",
    "size = 64  # 你的模型中的尺寸大小\n",
    "dropout = 0.1  # 你的模型中的 dropout 率\n",
    "sublayer_connection = SublayerConnection(size, dropout)\n",
    "\n",
    "# 调用 forward 方法\n",
    "output = sublayer_connection(x, lambda x: x * 2)  # 这里的 lambda 函数仅用于示例，你需要提供实际的 sublayer 函数\n",
    "\n",
    "# 打印输出张量的形状\n",
    "print(\"Input shape:\", x.shape)\n",
    "print(\"Output shape:\", output.shape)\n"
   ],
   "metadata": {
    "collapsed": false,
    "ExecuteTime": {
     "end_time": "2024-02-25T06:57:11.841192600Z",
     "start_time": "2024-02-25T06:57:11.771979Z"
    }
   },
   "id": "11fa240d8834b11e",
   "execution_count": 265
  },
  {
   "cell_type": "code",
   "outputs": [],
   "source": [
    "class TransformerBlock(nn.Module):\n",
    "    def __init__(self, hidden, attn_heads, feed_forward_hidden, dropout):\n",
    "        super().__init__()\n",
    "        self.attention = MultiHeadedAttention(h=attn_heads,d_model=hidden)\n",
    "        self.feed_forward = PositionwiseFeedForward(d_model=hidden, d_ff=feed_forward_hidden, dropout=dropout)\n",
    "        self.input_sublayer = SublayerConnection(size=hidden, dropout=dropout)\n",
    "        self.output_sublayer = SublayerConnection(size=hidden, dropout=dropout)\n",
    "        self.dropout = nn.Dropout(p=dropout)\n",
    "        \n",
    "    def forward(self, x, mask):\n",
    "        # 表示注意机制的 lambda 函数。注意机制应用于输入序列 _x 三次（查询、键和值相同），并且使用 mask 来屏蔽注意分数中的特定位置。\n",
    "        x = self.input_sublayer(x, lambda _x: self.attention.forward(_x, _x, _x, mask=mask))\n",
    "        x = self.output_sublayer(x, self.feed_forward)\n",
    "        return self.dropout(x)"
   ],
   "metadata": {
    "collapsed": false,
    "ExecuteTime": {
     "end_time": "2024-02-25T06:57:11.846192400Z",
     "start_time": "2024-02-25T06:57:11.796045900Z"
    }
   },
   "id": "52d23bdcbeb8d346",
   "execution_count": 266
  },
  {
   "cell_type": "code",
   "outputs": [
    {
     "name": "stdout",
     "output_type": "stream",
     "text": [
      "Output shape: torch.Size([32, 10, 256])\n"
     ]
    }
   ],
   "source": [
    "import torch\n",
    "\n",
    "# 假设 hidden_size=256，attn_heads=8，feed_forward_hidden=1024，dropout=0.1\n",
    "transformer_block = TransformerBlock(hidden=256, attn_heads=8, feed_forward_hidden=1024, dropout=0.1)\n",
    "\n",
    "# 生成一个形状为 (batch_size, sequence_length, hidden_size) 的输入张量\n",
    "input_tensor = torch.rand((32, 10, 256))\n",
    "\n",
    "# 生成一个形状为 (batch_size, sequence_length, sequence_length) 的注意力遮蔽张量，例如屏蔽了对角线以下的元素\n",
    "mask_tensor = torch.triu(torch.ones(10, 10)) == 1\n",
    "\n",
    "# 调用 TransformerBlock 的 forward 方法\n",
    "output_tensor = transformer_block(input_tensor, mask_tensor)\n",
    "\n",
    "# 打印输出张量的形状\n",
    "print(\"Output shape:\", output_tensor.shape)\n"
   ],
   "metadata": {
    "collapsed": false,
    "ExecuteTime": {
     "end_time": "2024-02-25T06:57:11.897478800Z",
     "start_time": "2024-02-25T06:57:11.848191900Z"
    }
   },
   "id": "40f231c00d7521c",
   "execution_count": 267
  },
  {
   "cell_type": "code",
   "outputs": [],
   "source": [
    "import torch.nn as nn\n",
    "import torch\n",
    "import math\n",
    "\n",
    "class PositionalEmbedding(nn.Module):\n",
    "    def __init__(self, d_model, max_len=512):\n",
    "        super().__init__()\n",
    "\n",
    "        # 初始化位置编码矩阵，大小为 (max_len, d_model)\n",
    "        pe = torch.zeros(max_len, d_model).float()\n",
    "        pe.requires_grad = False  # 设置位置编码不需要梯度更新\n",
    "\n",
    "        # 生成位置信息，表示为从 0 到 max_len-1 的浮点数，形状为 (max_len, 1)\n",
    "        position = torch.arange(0, max_len).float().unsqueeze(1)\n",
    "\n",
    "        # 计算位置编码的除数项，形状为 (d_model/2,)\n",
    "        div_term = (torch.arange(0, d_model, 2).float() * -(math.log(10000.0) / d_model)).exp()\n",
    "\n",
    "        # 使用 sin 和 cos 函数计算位置编码矩阵中的值，分别作用于偶数和奇数列\n",
    "        pe[:, 0::2] = torch.sin(position * div_term)\n",
    "        pe[:, 1::2] = torch.cos(position * div_term)\n",
    "\n",
    "        # 将位置编码矩阵添加一个维度，并注册为模型的缓冲区\n",
    "        pe = pe.unsqueeze(0)\n",
    "        self.register_buffer('pe', pe)\n",
    "\n",
    "    def forward(self, x):\n",
    "        \"\"\"\n",
    "        输入 x 的形状为 (batch_size, sequence_length, d_model)，\n",
    "        输出的位置编码将选择适当长度的部分返回。\n",
    "        \"\"\"\n",
    "        return self.pe[:, :x.size(1)]\n"
   ],
   "metadata": {
    "collapsed": false,
    "ExecuteTime": {
     "end_time": "2024-02-25T06:57:11.940923200Z",
     "start_time": "2024-02-25T06:57:11.883206300Z"
    }
   },
   "id": "42513abea7bbe4e3",
   "execution_count": 268
  },
  {
   "cell_type": "code",
   "outputs": [
    {
     "name": "stdout",
     "output_type": "stream",
     "text": [
      "Input shape: torch.Size([32, 50, 256])\n",
      "Output shape: torch.Size([1, 50, 256])\n"
     ]
    }
   ],
   "source": [
    "# 假设 input_tensor 是你的输入张量\n",
    "d_model = input_tensor.size(-1)  # 获取输入张量的维度大小\n",
    "max_len = 100\n",
    "positional_embedding = PositionalEmbedding(d_model, max_len)\n",
    "\n",
    "# 创建一个示例输入张量\n",
    "batch_size = 32\n",
    "sequence_length = 50\n",
    "input_tensor = torch.randn(batch_size, sequence_length, d_model)\n",
    "\n",
    "# 使用 PositionalEmbedding 进行前向传播\n",
    "output_embedding = positional_embedding(input_tensor)\n",
    "\n",
    "# 打印输出张量的形状\n",
    "print(\"Input shape:\", input_tensor.shape)\n",
    "print(\"Output shape:\", output_embedding.shape)\n"
   ],
   "metadata": {
    "collapsed": false,
    "ExecuteTime": {
     "end_time": "2024-02-25T06:57:11.963912700Z",
     "start_time": "2024-02-25T06:57:11.942922900Z"
    }
   },
   "id": "c1cfbed605c96ba6",
   "execution_count": 269
  },
  {
   "cell_type": "code",
   "outputs": [],
   "source": [
    "# 为输入的句子中的每个词生成对应的段（segment）嵌入（embedding）\n",
    "class SegmentEmbedding(nn.Embedding):\n",
    "    def __init__(self, embed_size=512):\n",
    "        super().__init__(3, embed_size, padding_idx=0)"
   ],
   "metadata": {
    "collapsed": false,
    "ExecuteTime": {
     "end_time": "2024-02-25T06:57:12.004823500Z",
     "start_time": "2024-02-25T06:57:11.966428300Z"
    }
   },
   "id": "78f91e4ef2a839d7",
   "execution_count": 270
  },
  {
   "cell_type": "code",
   "outputs": [],
   "source": [
    "# 为输入的每个词生成对应的词嵌入（word embedding）。\n",
    "class TokenEmbedding(nn.Embedding):\n",
    "    def __init__(self, vocab_size, embed_size=512):\n",
    "        super().__init__(vocab_size, embed_size, padding_idx=0)"
   ],
   "metadata": {
    "collapsed": false,
    "ExecuteTime": {
     "end_time": "2024-02-25T06:57:12.006839900Z",
     "start_time": "2024-02-25T06:57:11.983690800Z"
    }
   },
   "id": "8f99ccecce0fcf1a",
   "execution_count": 271
  },
  {
   "cell_type": "code",
   "outputs": [],
   "source": [
    "class MyBERTEmbedding(nn.Module):\n",
    "    def __init__(self, vocab_size, embed_size, dropout=0.1):\n",
    "        super().__init__()\n",
    "        self.token = TokenEmbedding(vocab_size=vocab_size, embed_size=embed_size)\n",
    "        self.position = PositionalEmbedding(d_model=self.token.embedding_dim)\n",
    "        self.segment = SegmentEmbedding(embed_size=self.token.embedding_dim)\n",
    "        self.dropout = nn.Dropout(p=dropout)\n",
    "        self.embed_size = embed_size\n",
    "        \n",
    "    def forward(self, sequence, segment_label):\n",
    "        x = self.token(sequence) + self.position(sequence) + self.segment(segment_label)\n",
    "        return self.dropout(x)"
   ],
   "metadata": {
    "collapsed": false,
    "ExecuteTime": {
     "end_time": "2024-02-25T06:57:12.033575100Z",
     "start_time": "2024-02-25T06:57:12.010820400Z"
    }
   },
   "id": "70f8ede4ab2965c5",
   "execution_count": 272
  },
  {
   "cell_type": "code",
   "outputs": [],
   "source": [
    "import torch.nn as nn\n",
    "\n",
    "class MyChineseBERT(nn.Module):\n",
    "\n",
    "    def __init__(self, vocab_size, hidden=256, n_layers=12, attn_heads=8, dropout=0.1):\n",
    "\n",
    "        super().__init__()\n",
    "        self.hidden = hidden\n",
    "        self.n_layers = n_layers\n",
    "        self.attn_heads = attn_heads\n",
    "\n",
    "        self.feed_forward_hidden = hidden * 4\n",
    "\n",
    "        self.embedding = MyBERTEmbedding(vocab_size=vocab_size, embed_size=hidden)\n",
    "\n",
    "        self.transformer_blocks = nn.ModuleList(\n",
    "            [TransformerBlock(hidden, attn_heads, hidden * 4, dropout) for _ in range(n_layers)])\n",
    "        self.linear_next_sentence = nn.Linear(hidden, 2)\n",
    "        self.linear_mask_lm = nn.Linear(hidden, vocab_size)\n",
    "        self.softmax = nn.LogSoftmax(dim=-1)\n",
    "\n",
    "    def forward(self, x, segment_info):\n",
    "        mask = (x > 0).unsqueeze(1).repeat(1, x.size(1), 1).unsqueeze(1)\n",
    "\n",
    "        x = self.embedding(x, segment_info)\n",
    "\n",
    "        for transformer in self.transformer_blocks:\n",
    "            x = transformer.forward(x, mask)\n",
    "        x1 = self.softmax(self.linear_next_sentence(x[:, 0]))\n",
    "        x2 = self.softmax(self.linear_mask_lm(x))\n",
    "        return x1, x2"
   ],
   "metadata": {
    "collapsed": false,
    "ExecuteTime": {
     "end_time": "2024-02-25T06:57:12.073494200Z",
     "start_time": "2024-02-25T06:57:12.035574800Z"
    }
   },
   "id": "c51f77623f4ca57a",
   "execution_count": 273
  },
  {
   "cell_type": "code",
   "outputs": [],
   "source": [
    "import matplotlib.pyplot as plt\n",
    "import tqdm\n",
    "import numpy as np\n",
    "\n",
    "class MyBERTTrainer:\n",
    "    def __init__(self, model, vocab, train_dataloader, lr=0.001, betas=(0.9, 0.999), weight_decay=0.01):\n",
    "        self.device = torch.device('cuda' if torch.cuda.is_available() else 'cpu')\n",
    "        self.model = model.to(self.device)\n",
    "        self.vocab = vocab\n",
    "        self.train_dataloader = train_dataloader\n",
    "        self.optimizer = torch.optim.Adam(model.parameters(), lr=lr, betas=betas, weight_decay=weight_decay)\n",
    "        self.criterion = nn.CrossEntropyLoss()\n",
    "        print(\"模型总参数量：\", sum(p.numel() for p in model.parameters()))\n",
    "        self.train_losses = []\n",
    "        \n",
    "    def train(self, epochs, dataloader):\n",
    "        data_itr = tqdm.tqdm(enumerate(dataloader), desc=\"正在载入%d epoch的数据\" % epochs, total=len(dataloader))\n",
    "        \n",
    "        loss = 0.0\n",
    "        \n",
    "        for i, data in data_itr:\n",
    "            data = {key: value.to(self.device) for key, value in data.items()}\n",
    "            \n",
    "            next_sent_output, mask_lm_output = self.model.forward(data['input'], data['segment'])\n",
    "            \n",
    "            next_loss = self.criterion(next_sent_output, data['is_next'])\n",
    "            \n",
    "            mask_loss = self.criterion(mask_lm_output.transpose(1, 2), data['output'])\n",
    "            \n",
    "            loss = next_loss + mask_loss\n",
    "            \n",
    "            self.optimizer.zero_grad()\n",
    "            loss.backward()\n",
    "            self.optimizer.step()\n",
    "            \n",
    "            loss = loss.item()\n",
    "            self.train_losses.append(loss)\n",
    "            \n",
    "            data_itr.set_postfix({'Epoch': epochs, 'Loss': loss})\n",
    "            \n",
    "        print(\"Epoch %d, Loss: %.4f\" % (epochs, loss))\n",
    "        \n",
    "        return self.train_losses\n",
    "    \n",
    "    def plot_train_loss(self):\n",
    "        plt.plot(np.arange(len(self.train_losses)), self.train_losses, label='Train Loss')\n",
    "        plt.xlabel('Iterations')\n",
    "        plt.ylabel('Loss')\n",
    "        plt.legend()\n",
    "        plt.show()\n",
    "        \n",
    "    def save_model(self, model_path):\n",
    "        torch.save(self.model.state_dict(), model_path)\n",
    "        "
   ],
   "metadata": {
    "collapsed": false,
    "ExecuteTime": {
     "end_time": "2024-02-25T06:57:12.096022100Z",
     "start_time": "2024-02-25T06:57:12.063901400Z"
    }
   },
   "id": "1e859517481bb9ef",
   "execution_count": 274
  },
  {
   "cell_type": "code",
   "outputs": [
    {
     "name": "stdout",
     "output_type": "stream",
     "text": [
      "模型总参数量： 12150619\n"
     ]
    },
    {
     "name": "stderr",
     "output_type": "stream",
     "text": [
      "正在载入0 epoch的数据: 100%|██████████| 114/114 [03:25<00:00,  1.80s/it, Epoch=0, Loss=1.85]"
     ]
    },
    {
     "name": "stdout",
     "output_type": "stream",
     "text": [
      "Epoch 0, Loss: 1.8462\n"
     ]
    },
    {
     "name": "stderr",
     "output_type": "stream",
     "text": [
      "\n"
     ]
    },
    {
     "data": {
      "text/plain": "<Figure size 640x480 with 1 Axes>",
      "image/png": "[encoded data removed]"
     },
     "metadata": {},
     "output_type": "display_data"
    },
    {
     "name": "stderr",
     "output_type": "stream",
     "text": [
      "正在载入1 epoch的数据:  11%|█         | 12/114 [00:23<03:17,  1.93s/it, Epoch=1, Loss=1.91]\n"
     ]
    },
    {
     "ename": "KeyboardInterrupt",
     "evalue": "",
     "output_type": "error",
     "traceback": [
      "\u001B[1;31m---------------------------------------------------------------------------\u001B[0m",
      "\u001B[1;31mKeyboardInterrupt\u001B[0m                         Traceback (most recent call last)",
      "Cell \u001B[1;32mIn[275], line 10\u001B[0m\n\u001B[0;32m      7\u001B[0m trainer \u001B[38;5;241m=\u001B[39m MyBERTTrainer(model, vocab, dataloader)\n\u001B[0;32m      9\u001B[0m \u001B[38;5;28;01mfor\u001B[39;00m epoch \u001B[38;5;129;01min\u001B[39;00m \u001B[38;5;28mrange\u001B[39m(\u001B[38;5;241m10\u001B[39m):\n\u001B[1;32m---> 10\u001B[0m     trainer\u001B[38;5;241m.\u001B[39mtrain(epoch, dataloader)\n\u001B[0;32m     11\u001B[0m     \u001B[38;5;28;01mif\u001B[39;00m epoch \u001B[38;5;241m%\u001B[39m \u001B[38;5;241m5\u001B[39m \u001B[38;5;241m==\u001B[39m \u001B[38;5;241m0\u001B[39m:\n\u001B[0;32m     12\u001B[0m         trainer\u001B[38;5;241m.\u001B[39mplot_train_loss()\n",
      "Cell \u001B[1;32mIn[274], line 33\u001B[0m, in \u001B[0;36mMyBERTTrainer.train\u001B[1;34m(self, epochs, dataloader)\u001B[0m\n\u001B[0;32m     30\u001B[0m loss \u001B[38;5;241m=\u001B[39m next_loss \u001B[38;5;241m+\u001B[39m mask_loss\n\u001B[0;32m     32\u001B[0m \u001B[38;5;28mself\u001B[39m\u001B[38;5;241m.\u001B[39moptimizer\u001B[38;5;241m.\u001B[39mzero_grad()\n\u001B[1;32m---> 33\u001B[0m loss\u001B[38;5;241m.\u001B[39mbackward()\n\u001B[0;32m     34\u001B[0m \u001B[38;5;28mself\u001B[39m\u001B[38;5;241m.\u001B[39moptimizer\u001B[38;5;241m.\u001B[39mstep()\n\u001B[0;32m     36\u001B[0m loss \u001B[38;5;241m=\u001B[39m loss\u001B[38;5;241m.\u001B[39mitem()\n",
      "File \u001B[1;32mD:\\Anaconda\\envs\\pytorch_gpu\\Lib\\site-packages\\torch\\_tensor.py:492\u001B[0m, in \u001B[0;36mTensor.backward\u001B[1;34m(self, gradient, retain_graph, create_graph, inputs)\u001B[0m\n\u001B[0;32m    482\u001B[0m \u001B[38;5;28;01mif\u001B[39;00m has_torch_function_unary(\u001B[38;5;28mself\u001B[39m):\n\u001B[0;32m    483\u001B[0m     \u001B[38;5;28;01mreturn\u001B[39;00m handle_torch_function(\n\u001B[0;32m    484\u001B[0m         Tensor\u001B[38;5;241m.\u001B[39mbackward,\n\u001B[0;32m    485\u001B[0m         (\u001B[38;5;28mself\u001B[39m,),\n\u001B[1;32m   (...)\u001B[0m\n\u001B[0;32m    490\u001B[0m         inputs\u001B[38;5;241m=\u001B[39minputs,\n\u001B[0;32m    491\u001B[0m     )\n\u001B[1;32m--> 492\u001B[0m torch\u001B[38;5;241m.\u001B[39mautograd\u001B[38;5;241m.\u001B[39mbackward(\n\u001B[0;32m    493\u001B[0m     \u001B[38;5;28mself\u001B[39m, gradient, retain_graph, create_graph, inputs\u001B[38;5;241m=\u001B[39minputs\n\u001B[0;32m    494\u001B[0m )\n",
      "File \u001B[1;32mD:\\Anaconda\\envs\\pytorch_gpu\\Lib\\site-packages\\torch\\autograd\\__init__.py:251\u001B[0m, in \u001B[0;36mbackward\u001B[1;34m(tensors, grad_tensors, retain_graph, create_graph, grad_variables, inputs)\u001B[0m\n\u001B[0;32m    246\u001B[0m     retain_graph \u001B[38;5;241m=\u001B[39m create_graph\n\u001B[0;32m    248\u001B[0m \u001B[38;5;66;03m# The reason we repeat the same comment below is that\u001B[39;00m\n\u001B[0;32m    249\u001B[0m \u001B[38;5;66;03m# some Python versions print out the first line of a multi-line function\u001B[39;00m\n\u001B[0;32m    250\u001B[0m \u001B[38;5;66;03m# calls in the traceback and some print out the last line\u001B[39;00m\n\u001B[1;32m--> 251\u001B[0m Variable\u001B[38;5;241m.\u001B[39m_execution_engine\u001B[38;5;241m.\u001B[39mrun_backward(  \u001B[38;5;66;03m# Calls into the C++ engine to run the backward pass\u001B[39;00m\n\u001B[0;32m    252\u001B[0m     tensors,\n\u001B[0;32m    253\u001B[0m     grad_tensors_,\n\u001B[0;32m    254\u001B[0m     retain_graph,\n\u001B[0;32m    255\u001B[0m     create_graph,\n\u001B[0;32m    256\u001B[0m     inputs,\n\u001B[0;32m    257\u001B[0m     allow_unreachable\u001B[38;5;241m=\u001B[39m\u001B[38;5;28;01mTrue\u001B[39;00m,\n\u001B[0;32m    258\u001B[0m     accumulate_grad\u001B[38;5;241m=\u001B[39m\u001B[38;5;28;01mTrue\u001B[39;00m,\n\u001B[0;32m    259\u001B[0m )\n",
      "\u001B[1;31mKeyboardInterrupt\u001B[0m: "
     ]
    }
   ],
   "source": [
    "if __name__ == '__main__':\n",
    "    vocab = WordVocab.load_vocab('word_vocab.pkl')\n",
    "    dataset = MyChineseBertDataset('../data/qianbi.csv', vocab, 128)\n",
    "    dataloader = DataLoader(dataset, batch_size=32, shuffle=True)\n",
    "    \n",
    "    model = MyChineseBERT(vocab_size=len(vocab), hidden=256)\n",
    "    trainer = MyBERTTrainer(model, vocab, dataloader)\n",
    "    \n",
    "    for epoch in range(10):\n",
    "        trainer.train(epoch, dataloader)\n",
    "        if epoch % 5 == 0:\n",
    "            trainer.plot_train_loss()\n",
    "            trainer.save_model('save_model/my_chinese_bert_%d.pth' % epoch)"
   ],
   "metadata": {
    "collapsed": false,
    "ExecuteTime": {
     "end_time": "2024-02-25T07:01:01.362798300Z",
     "start_time": "2024-02-25T06:57:12.098021800Z"
    }
   },
   "id": "910f266d0ddee7eb",
   "execution_count": 275
  }
 ],
 "metadata": {
  "kernelspec": {
   "display_name": "Python 3",
   "language": "python",
   "name": "python3"
  },
  "language_info": {
   "codemirror_mode": {
    "name": "ipython",
    "version": 2
   },
   "file_extension": ".py",
   "mimetype": "text/x-python",
   "name": "python",
   "nbconvert_exporter": "python",
   "pygments_lexer": "ipython2",
   "version": "2.7.6"
  }
 },
 "nbformat": 4,
 "nbformat_minor": 5
}
