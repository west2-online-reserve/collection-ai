{
 "cells": [
  {
   "cell_type": "code",
   "execution_count": 27,
   "id": "initial_id",
   "metadata": {
    "collapsed": true,
    "ExecuteTime": {
     "end_time": "2024-02-24T19:09:07.702924500Z",
     "start_time": "2024-02-24T19:09:07.692311500Z"
    }
   },
   "outputs": [],
   "source": [
    "import re\n",
    "# 数据清洗\n",
    "min_length = 10  \n",
    "def clean_file(file):\n",
    "    with open(file, 'r', encoding='utf-8',errors='ignore') as f:\n",
    "        lines = f.readlines()\n",
    "        lines = [re.sub(r'([!?.\\-,，。？！、；：‘’“”…—～]){2,}', r'\\1', line) for line in lines]  \n",
    "        lines = [line.replace('\\t','').strip() + '\\n' for line in lines if len(line) >= min_length]\n",
    "        lines = [line.replace('<br>','') for line in lines]\n",
    "    with open(file, 'w', encoding='utf-8') as f:\n",
    "        f.writelines(lines)"
   ]
  },
  {
   "cell_type": "code",
   "outputs": [],
   "source": [
    "# 数据处理\n",
    "import random\n",
    "\n",
    "def insert_tab_randomly(file):\n",
    "    with open(file, 'r', encoding='utf-8') as f:\n",
    "        lines = f.readlines()\n",
    "        insert_position = [random.randint(1, len(line) - 1) for line in lines]\n",
    "        lines = [line[:pos] + '\\t' + line[pos:] for line, pos in zip(lines, insert_position)]\n",
    "    with open(file, 'w', encoding='utf-8') as f:\n",
    "        f.writelines(lines)"
   ],
   "metadata": {
    "collapsed": false,
    "ExecuteTime": {
     "end_time": "2024-02-24T17:39:55.365323200Z",
     "start_time": "2024-02-24T17:39:55.353611500Z"
    }
   },
   "id": "27db4cfd64d93f6a",
   "execution_count": 11
  },
  {
   "cell_type": "code",
   "outputs": [],
   "source": [
    "def split_sentences(file):\n",
    "    with open(file, 'r', encoding='utf-8') as f:\n",
    "        lines = f.readlines()\n",
    "    new_lines = []\n",
    "    for line in lines:\n",
    "        if len(line) > 150:\n",
    "            period_index = line.find('。', 150)\n",
    "            if period_index != -1:\n",
    "                new_lines.append(line[:period_index+1] + '\\n')\n",
    "        else:\n",
    "            new_lines.append(line)\n",
    "    with open(file, 'w', encoding='utf-8') as f:\n",
    "        f.writelines(new_lines)"
   ],
   "metadata": {
    "collapsed": false,
    "ExecuteTime": {
     "end_time": "2024-02-24T17:39:55.365323200Z",
     "start_time": "2024-02-24T17:39:55.358035900Z"
    }
   },
   "id": "baa8402d8f872bbd",
   "execution_count": 12
  },
  {
   "cell_type": "code",
   "outputs": [],
   "source": [
    "clean_file('../data/qianbi.csv')\n",
    "split_sentences('../data/qianbi.csv')\n",
    "insert_tab_randomly('../data/qianbi.csv')"
   ],
   "metadata": {
    "collapsed": false,
    "ExecuteTime": {
     "end_time": "2024-02-24T19:09:11.291345600Z",
     "start_time": "2024-02-24T19:09:11.230466700Z"
    }
   },
   "id": "ef416a80456db1f2",
   "execution_count": 28
  },
  {
   "cell_type": "code",
   "outputs": [],
   "source": [
    "with open('../data/qianbi.csv','r',encoding='utf-8',errors='ignore') as f:\n",
    "    text = f.readlines()\n",
    "    \n",
    "with open('../data/text_for_vocab.txt','a',encoding='gbk',errors='ignore') as f:\n",
    "    f.writelines(text)"
   ],
   "metadata": {
    "collapsed": false,
    "ExecuteTime": {
     "end_time": "2024-02-24T18:48:59.631617200Z",
     "start_time": "2024-02-24T18:48:59.615023500Z"
    }
   },
   "id": "fb6cfe97d359f6b1",
   "execution_count": 23
  },
  {
   "cell_type": "code",
   "outputs": [],
   "source": [
    "with open('../data/text_for_vocab.txt','r',errors='ignore') as f:\n",
    "    texts = f.readlines()\n",
    "    texts = [text.replace(' ','').replace('\\n','').replace('\\t','').replace('<br>','') for text in texts]\n",
    "\n",
    "with open('../data/text_for_vocab.txt','w',encoding='utf-8') as f:\n",
    "    f.writelines(texts)"
   ],
   "metadata": {
    "collapsed": false,
    "ExecuteTime": {
     "end_time": "2024-02-24T18:49:01.624396Z",
     "start_time": "2024-02-24T18:49:01.591363100Z"
    }
   },
   "id": "ef8cf4a2ad37a801",
   "execution_count": 24
  }
 ],
 "metadata": {
  "kernelspec": {
   "display_name": "Python 3",
   "language": "python",
   "name": "python3"
  },
  "language_info": {
   "codemirror_mode": {
    "name": "ipython",
    "version": 2
   },
   "file_extension": ".py",
   "mimetype": "text/x-python",
   "name": "python",
   "nbconvert_exporter": "python",
   "pygments_lexer": "ipython2",
   "version": "2.7.6"
  }
 },
 "nbformat": 4,
 "nbformat_minor": 5
}
