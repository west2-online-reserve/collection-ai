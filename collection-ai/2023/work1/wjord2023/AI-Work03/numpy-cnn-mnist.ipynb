{
 "cells": [
  {
   "cell_type": "code",
   "execution_count": 48,
   "id": "initial_id",
   "metadata": {
    "collapsed": true,
    "ExecuteTime": {
     "end_time": "2023-11-29T09:44:57.678147800Z",
     "start_time": "2023-11-29T09:44:57.673091900Z"
    }
   },
   "outputs": [],
   "source": [
    "import torch\n",
    "import torchvision\n",
    "import numpy as np"
   ]
  },
  {
   "cell_type": "code",
   "execution_count": 49,
   "outputs": [
    {
     "name": "stdout",
     "output_type": "stream",
     "text": [
      "torch.Size([60000, 28, 28])\n"
     ]
    }
   ],
   "source": [
    "train_dataset = torchvision.datasets.MNIST(root='./data', train=True, transform=torchvision.transforms.ToTensor(), download=True)\n",
    "test_dataset = torchvision.datasets.MNIST(root='./data', train=False, transform=torchvision.transforms.ToTensor(), download=True)\n",
    "\n",
    "print(train_dataset.data.size())"
   ],
   "metadata": {
    "collapsed": false,
    "ExecuteTime": {
     "end_time": "2023-11-29T09:44:57.950735600Z",
     "start_time": "2023-11-29T09:44:57.915563900Z"
    }
   },
   "id": "cc253ca60ec1be9c"
  },
  {
   "cell_type": "code",
   "execution_count": 50,
   "outputs": [
    {
     "data": {
      "text/plain": "(torch.Size([64, 1, 28, 28]), torch.Size([64]))"
     },
     "execution_count": 50,
     "metadata": {},
     "output_type": "execute_result"
    }
   ],
   "source": [
    "train_dataloader = torch.utils.data.DataLoader(dataset=train_dataset, batch_size=64, shuffle=True)\n",
    "test_dataloader = torch.utils.data.DataLoader(dataset=test_dataset, batch_size=64, shuffle=True)\n",
    "\n",
    "x, y = next(iter(train_dataloader))\n",
    "x.shape, y.shape"
   ],
   "metadata": {
    "collapsed": false,
    "ExecuteTime": {
     "end_time": "2023-11-29T09:44:58.110333600Z",
     "start_time": "2023-11-29T09:44:58.097508500Z"
    }
   },
   "id": "df865623d3de24c8"
  },
  {
   "cell_type": "markdown",
   "source": [
    "## sigmoid函数\n",
    "$$\n",
    "sigmoid(x) = \\frac{1}{1 + e^{-x}}\n",
    "$$"
   ],
   "metadata": {
    "collapsed": false
   },
   "id": "9f449582e9425487"
  },
  {
   "cell_type": "code",
   "execution_count": 51,
   "outputs": [],
   "source": [
    "def sigmoid(x):\n",
    "    return 1 / (1 + np.exp(-x))\n"
   ],
   "metadata": {
    "collapsed": false,
    "ExecuteTime": {
     "end_time": "2023-11-29T09:44:58.478997Z",
     "start_time": "2023-11-29T09:44:58.474970100Z"
    }
   },
   "id": "39174fcf5b5f6201"
  },
  {
   "cell_type": "markdown",
   "source": [
    "## cross entropy 二分类交叉熵\n",
    "$$\n",
    "L = -\\frac{1}{N}\\sum_{i=1}^{N}y_i\\log(\\hat{y_i}) + (1-y_i)\\log(1-\\hat{y_i})\n",
    "$$"
   ],
   "metadata": {
    "collapsed": false
   },
   "id": "da638b3651ee6a71"
  },
  {
   "cell_type": "code",
   "execution_count": 52,
   "outputs": [
    {
     "data": {
      "text/plain": "0.19763488164214868"
     },
     "execution_count": 52,
     "metadata": {},
     "output_type": "execute_result"
    }
   ],
   "source": [
    "def cross_entropy(y, y_hat):\n",
    "    # 防止log(0)出现\n",
    "    epsilon = 1e-12\n",
    "    # 用于限制数组中的值在指定范围内,numpy.clip(a, a_min, a_max, out=None)\n",
    "    y_pred = np.clip(y_hat, epsilon, 1. - epsilon)\n",
    "    # 交叉熵\n",
    "    loss = -(y * np.log(y_pred) + (1 - y) * np.log(1 - y_pred))\n",
    "    # np.mean()求平均值\n",
    "    return np.mean(loss)\n",
    "\n",
    "y = np.array([1, 0, 1, 1])\n",
    "y_hat = np.array([0.9, 0.1, 0.8, 0.7])\n",
    "cross_entropy(y, y_hat)"
   ],
   "metadata": {
    "collapsed": false,
    "ExecuteTime": {
     "end_time": "2023-11-29T09:44:58.817875100Z",
     "start_time": "2023-11-29T09:44:58.811404500Z"
    }
   },
   "id": "61e808dd696a068c"
  },
  {
   "cell_type": "markdown",
   "source": [
    "## ReLU函数(把所有负值都变成0)\n",
    "$$\n",
    "ReLU(x) = \\max(0, x)\n",
    "$$"
   ],
   "metadata": {
    "collapsed": false
   },
   "id": "65745c245a049b07"
  },
  {
   "cell_type": "code",
   "execution_count": 53,
   "outputs": [
    {
     "name": "stdout",
     "output_type": "stream",
     "text": [
      "[0 1 2]\n"
     ]
    }
   ],
   "source": [
    "def relu(x):\n",
    "    return np.maximum(0, x)\n",
    "\n",
    "x = np.array([-1, 1, 2])\n",
    "print(relu(x))"
   ],
   "metadata": {
    "collapsed": false,
    "ExecuteTime": {
     "end_time": "2023-11-29T09:44:59.176981500Z",
     "start_time": "2023-11-29T09:44:59.171417900Z"
    }
   },
   "id": "76e4fd74a1266ca"
  },
  {
   "cell_type": "markdown",
   "source": [
    "## 池化层\n",
    "维度：\n",
    "$$\n",
    "\\text{output\\_size} = \\frac{\\text{input\\_size} - \\text{pool\\_size}}{\\text{stride}} + 1\n",
    "$$"
   ],
   "metadata": {
    "collapsed": false
   },
   "id": "ab8d575a5fd0fcd1"
  },
  {
   "cell_type": "code",
   "execution_count": 54,
   "outputs": [
    {
     "name": "stdout",
     "output_type": "stream",
     "text": [
      "(2, 3, 2, 2)\n"
     ]
    }
   ],
   "source": [
    "def max_pooling(x, kernel_size, stride):\n",
    "    # N:样本数,C:通道数,H:高,W:宽\n",
    "    N, C, H, W = x.shape\n",
    "    # 计算输出的维度\n",
    "    # 如果是3*3，池化窗口为2*2,步长为1,那么输出的维度为2*2\n",
    "    out_h = (H - kernel_size) // stride + 1 \n",
    "    out_w = (W - kernel_size) // stride + 1\n",
    "    # 初始化输出\n",
    "    out = np.zeros((N, C, out_h, out_w))\n",
    "    # 池化\n",
    "    for i in range(out_h):\n",
    "        for j in range(out_w):\n",
    "            # 取出每个池化窗口\n",
    "            # 取出batch中所有样本，所有通道，i*stride到i*stride+kernel_size行，j*stride到j*stride+kernel_size列(也就是一个窗口的大小)\n",
    "            x_masked = x[:, :, i * stride: i * stride + kernel_size, j * stride: j * stride + kernel_size]\n",
    "            # 每个池化窗口中的最大值（取每个窗口的最大值就是最大池化）\n",
    "            out[:, :, i, j] = np.max(x_masked, axis=(2, 3))\n",
    "    return out\n",
    "\n",
    "x = np.random.randn(2, 3, 3, 3)\n",
    "out = max_pooling(x, kernel_size=2, stride=1)\n",
    "print(out.shape)"
   ],
   "metadata": {
    "collapsed": false,
    "ExecuteTime": {
     "end_time": "2023-11-29T09:44:59.536489700Z",
     "start_time": "2023-11-29T09:44:59.533630700Z"
    }
   },
   "id": "73c988cd5d3f44af"
  },
  {
   "cell_type": "markdown",
   "source": [
    "## 卷积Conv2d\n",
    "$$\n",
    "Y_{ijk} = \\sum_{m=0}^{C-1} \\sum_{p=0}^{H-1} \\sum_{q=0}^{W-1} X_{m, i+p, j+q} \\cdot W_{k, m, p, q} + b_k\n",
    "$$\n",
    "$$\n",
    "\\text{output\\_size} = \\frac{\\text{input\\_size} - \\text{kernel\\_size} + 2 \\times \\text{padding}}{\\text{stride}} + 1\n",
    "$$"
   ],
   "metadata": {
    "collapsed": false
   },
   "id": "ddfa1c8571a894d"
  },
  {
   "cell_type": "code",
   "execution_count": 55,
   "outputs": [
    {
     "name": "stdout",
     "output_type": "stream",
     "text": [
      "(2, 3, 2, 2)\n"
     ]
    }
   ],
   "source": [
    "def conv(x, kernel, bias, stride=2, padding=1):\n",
    "    # N:样本数,C:通道数,H:高,W:宽\n",
    "    N, C, H, W = x.shape\n",
    "    # K:卷积核个数,C:通道数,H:高,W:宽\n",
    "    # 卷积核的个数就是输出的通道数\n",
    "    K, C, KH, KW = kernel.shape\n",
    "    # 计算输出的维度\n",
    "    # 如果是4*4,卷积核为3*3,步长为2,补丁为1（补丁完就先当于5*5）,那么输出的维度为2*2\n",
    "    out_h = (H - KH + 2 * padding) // stride + 1 \n",
    "    out_w = (W - KW + 2 * padding) // stride + 1\n",
    "    # 初始化输出\n",
    "    out = np.zeros((N, K, out_h, out_w))\n",
    "    # 填充\n",
    "    # （0，0）表示在通道维度上不填充，（0，0）表示在高维度上不填充，（padding，padding）表示在宽维度上填充padding个0，constant_values表示填充的值\n",
    "    x_pad = np.pad(x, ((0, 0), (0, 0), (padding, padding), (padding, padding)), mode='constant', constant_values=0)\n",
    "    # 卷积\n",
    "    for i in range(out_h):\n",
    "        for j in range(out_w):\n",
    "            # 取出每个卷积窗口\n",
    "            # 取出batch中所有样本，所有通道，i*stride到i*stride+KH行，j*stride到j*stride+KW列(也就是一个窗口的大小)\n",
    "            x_masked = x_pad[:, :, i * stride: i * stride + KH, j * stride: j * stride + KW]\n",
    "            # 计算每个卷积窗口的卷积\n",
    "            for k in range(K):\n",
    "                # 有一个核就有一个多一个图像的深度\n",
    "                # 计算每个卷积窗口的卷积\n",
    "                # 映射到输出的图像的第i行第j列的第k个通道\n",
    "                # x_masked * kernel[k, :, :, :]: 执行逐元素相乘，即将窗口中的每个元素与卷积核中的对应元素相乘。\n",
    "                # np.sum(..., axis=(1, 2, 3)): 对乘积结果沿着通道维度进行求和，得到卷积操作的结果。这相当于对卷积核在窗口上滑动时，逐元素相乘并相加，最终得到一个输出值。\n",
    "                # 简单来说就是将每个窗口中的元素与卷积核中的元素相乘，然后将结果相加，得到卷积操作的结果。\n",
    "                out[:, k, i, j] = np.sum(x_masked * kernel[k, :, :, :], axis=(1, 2, 3))\n",
    "    # 加上偏置\n",
    "    # reshape(1, -1, 1, 1)：将偏置转换成1*K*1*1的形状，这样才能与输出相加\n",
    "    out = out + bias.reshape(1, -1, 1, 1)\n",
    "    return out\n",
    "\n",
    "x = np.random.randn(2, 3, 4, 4)\n",
    "kernel = np.random.randn(3, 3, 3, 3)\n",
    "bias = np.random.randn(3)\n",
    "out = conv(x, kernel, bias, stride=2, padding=1)\n",
    "print(out.shape)"
   ],
   "metadata": {
    "collapsed": false,
    "ExecuteTime": {
     "end_time": "2023-11-29T09:44:59.942244200Z",
     "start_time": "2023-11-29T09:44:59.938838300Z"
    }
   },
   "id": "7ac4c2f48af6ebc"
  },
  {
   "cell_type": "markdown",
   "source": [
    "## numpy实现反向传播"
   ],
   "metadata": {
    "collapsed": false
   },
   "id": "6c97fa33e768ef4"
  },
  {
   "cell_type": "markdown",
   "source": [],
   "metadata": {
    "collapsed": false
   },
   "id": "fe10e112afc69905"
  },
  {
   "cell_type": "markdown",
   "source": [
    "### 前向传播\n"
   ],
   "metadata": {
    "collapsed": false
   },
   "id": "83b1b3ce73c3052"
  },
  {
   "cell_type": "code",
   "execution_count": 56,
   "outputs": [],
   "source": [
    "def forward(x, w, b):\n",
    "    ## 就和算y_hat一样\n",
    "    return np.dot(x, w) + b"
   ],
   "metadata": {
    "collapsed": false,
    "ExecuteTime": {
     "end_time": "2023-11-29T09:45:00.705962600Z",
     "start_time": "2023-11-29T09:45:00.701041Z"
    }
   },
   "id": "1daae165978c7489"
  },
  {
   "cell_type": "markdown",
   "source": [
    "### sigmoid的导数\n",
    "$$\n",
    "\\sigma'(x) = \\sigma(x)(1-\\sigma(x))\n",
    "$$"
   ],
   "metadata": {
    "collapsed": false
   },
   "id": "891f3892c563f61"
  },
  {
   "cell_type": "code",
   "execution_count": 57,
   "outputs": [],
   "source": [
    "def sigmoid_grad(z):\n",
    "    return sigmoid(z) * (1 - sigmoid(z))"
   ],
   "metadata": {
    "collapsed": false,
    "ExecuteTime": {
     "end_time": "2023-11-29T09:45:01.135361700Z",
     "start_time": "2023-11-29T09:45:01.130217700Z"
    }
   },
   "id": "b99322d64268a9bd"
  },
  {
   "cell_type": "markdown",
   "source": [
    "### 交叉熵的导数\n",
    "$$\n",
    "H(y, p) = -y \\cdot \\log(p) - (1 - y) \\cdot \\log(1 - p)\n",
    "$$"
   ],
   "metadata": {
    "collapsed": false
   },
   "id": "82463a47fc75b66a"
  },
  {
   "cell_type": "code",
   "execution_count": 58,
   "outputs": [],
   "source": [
    "def cross_entropy_grad(y, p):\n",
    "    epsilon = 1e-12  # 为了避免log(0)的情况，添加一个微小值\n",
    "    p = np.clip(p, epsilon, 1 - epsilon)  # 对概率值进行截断，确保不会取到0或1\n",
    "    return - (y * np.log(p) + (1 - y) * np.log(1 - p))"
   ],
   "metadata": {
    "collapsed": false,
    "ExecuteTime": {
     "end_time": "2023-11-29T09:45:01.540145700Z",
     "start_time": "2023-11-29T09:45:01.537640600Z"
    }
   },
   "id": "f2fdb70867dc42f1"
  },
  {
   "cell_type": "markdown",
   "source": [
    "### 反向传播"
   ],
   "metadata": {
    "collapsed": false
   },
   "id": "4bfa612d8a1c75da"
  },
  {
   "cell_type": "code",
   "execution_count": 68,
   "outputs": [],
   "source": [
    "def backward(x, y, y_hat, w, b, lr):\n",
    "    # 参数说明:x:输入,y:标签,y_hat:预测值,w:权重,b:偏置,lr:学习率\n",
    "    # 计算梯度\n",
    "    # 交叉熵的导数\n",
    "    grad_y_hat = cross_entropy_grad(y, y_hat)\n",
    "    # sigmoid的导数\n",
    "    grad_z = sigmoid_grad(y_hat)\n",
    "    # 梯度下降\n",
    "    grad_w = np.dot(x.T, grad_y_hat * grad_z)\n",
    "    grad_b = np.sum(grad_y_hat * grad_z, axis=0)\n",
    "    # 更新参数\n",
    "    w -= lr * grad_w\n",
    "    b -= lr * grad_b\n",
    "    return w, b"
   ],
   "metadata": {
    "collapsed": false,
    "ExecuteTime": {
     "end_time": "2023-11-29T09:47:43.113914200Z",
     "start_time": "2023-11-29T09:47:43.111862100Z"
    }
   },
   "id": "ad38daeafe5ae3c4"
  }
 ],
 "metadata": {
  "kernelspec": {
   "display_name": "Python 3",
   "language": "python",
   "name": "python3"
  },
  "language_info": {
   "codemirror_mode": {
    "name": "ipython",
    "version": 2
   },
   "file_extension": ".py",
   "mimetype": "text/x-python",
   "name": "python",
   "nbconvert_exporter": "python",
   "pygments_lexer": "ipython2",
   "version": "2.7.6"
  }
 },
 "nbformat": 4,
 "nbformat_minor": 5
}
