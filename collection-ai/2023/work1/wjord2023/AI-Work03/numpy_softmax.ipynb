{
 "cells": [
  {
   "cell_type": "markdown",
   "source": [
    "## 使用numpy实现softmax函数\n",
    "$$\n",
    "\\displaystyle \\text{Softmax}(\\mathbf{z})_i = \\frac{e^{z_i}}{\\sum_{j=1}^{K} e^{z_j}}\n",
    "$$"
   ],
   "metadata": {
    "collapsed": false
   },
   "id": "c20a8b01effdb347"
  },
  {
   "cell_type": "code",
   "execution_count": 8,
   "outputs": [
    {
     "data": {
      "text/plain": "((3,), (3,))"
     },
     "execution_count": 8,
     "metadata": {},
     "output_type": "execute_result"
    }
   ],
   "source": [
    "import numpy as np\n",
    "def softmax(z):\n",
    "    return np.exp(z) / np.sum(np.exp(z))\n",
    "\n",
    "z = np.array([1, 2, 3])\n",
    "z.shape,softmax(z).shape"
   ],
   "metadata": {
    "collapsed": false,
    "ExecuteTime": {
     "end_time": "2023-11-29T00:27:22.570355200Z",
     "start_time": "2023-11-29T00:27:22.568148Z"
    }
   },
   "id": "664d9c189cb81ac"
  }
 ],
 "metadata": {
  "kernelspec": {
   "display_name": "Python 3",
   "language": "python",
   "name": "python3"
  },
  "language_info": {
   "codemirror_mode": {
    "name": "ipython",
    "version": 2
   },
   "file_extension": ".py",
   "mimetype": "text/x-python",
   "name": "python",
   "nbconvert_exporter": "python",
   "pygments_lexer": "ipython2",
   "version": "2.7.6"
  }
 },
 "nbformat": 4,
 "nbformat_minor": 5
}
