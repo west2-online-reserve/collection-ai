{
 "cells": [
  {
   "cell_type": "markdown",
   "source": [
    "## 创建tensor"
   ],
   "metadata": {
    "collapsed": false
   },
   "id": "2c387a9904ac3969"
  },
  {
   "cell_type": "code",
   "execution_count": 2,
   "outputs": [],
   "source": [
    "import torch"
   ],
   "metadata": {
    "collapsed": false,
    "ExecuteTime": {
     "end_time": "2023-11-27T07:11:53.511158500Z",
     "start_time": "2023-11-27T07:11:49.113265900Z"
    }
   },
   "id": "b56c5b3e5e6fc833"
  },
  {
   "cell_type": "code",
   "execution_count": 2,
   "outputs": [
    {
     "data": {
      "text/plain": "(tensor([1, 2, 3]),\n tensor([[1, 2, 3],\n         [4, 5, 6]]))"
     },
     "execution_count": 2,
     "metadata": {},
     "output_type": "execute_result"
    }
   ],
   "source": [
    "# 从list创建\n",
    "torch.tensor([1,2,3]), torch.tensor([[1,2,3],[4,5,6]])"
   ],
   "metadata": {
    "collapsed": false,
    "ExecuteTime": {
     "end_time": "2023-11-27T05:24:18.877361Z",
     "start_time": "2023-11-27T05:24:18.866156400Z"
    }
   },
   "id": "872d4ab97ac2542c"
  },
  {
   "cell_type": "code",
   "execution_count": 3,
   "outputs": [],
   "source": [
    "import numpy as np"
   ],
   "metadata": {
    "collapsed": false,
    "ExecuteTime": {
     "end_time": "2023-11-27T05:24:32.555485100Z",
     "start_time": "2023-11-27T05:24:32.551963100Z"
    }
   },
   "id": "dae9b2aade9c7da3"
  },
  {
   "cell_type": "code",
   "execution_count": 4,
   "outputs": [
    {
     "data": {
      "text/plain": "(tensor([1, 2, 3], dtype=torch.int32),\n tensor([[1, 2, 3],\n         [4, 5, 6]], dtype=torch.int32))"
     },
     "execution_count": 4,
     "metadata": {},
     "output_type": "execute_result"
    }
   ],
   "source": [
    "# 从numpy创建\n",
    "torch.tensor(np.array([1,2,3])), torch.tensor(np.array([[1,2,3],[4,5,6]]))"
   ],
   "metadata": {
    "collapsed": false,
    "ExecuteTime": {
     "end_time": "2023-11-27T05:24:46.391238Z",
     "start_time": "2023-11-27T05:24:46.384295700Z"
    }
   },
   "id": "803e825bce166621"
  },
  {
   "cell_type": "code",
   "execution_count": 5,
   "outputs": [
    {
     "name": "stdout",
     "output_type": "stream",
     "text": [
      "tensor([[1., 1., 1.],\n",
      "        [1., 1., 1.]])\n"
     ]
    }
   ],
   "source": [
    "# 全1填充\n",
    "print(torch.ones(2,3))"
   ],
   "metadata": {
    "collapsed": false,
    "ExecuteTime": {
     "end_time": "2023-11-27T05:25:24.584297800Z",
     "start_time": "2023-11-27T05:25:24.565980300Z"
    }
   },
   "id": "435372237127b3e0"
  },
  {
   "cell_type": "code",
   "execution_count": 6,
   "outputs": [
    {
     "name": "stdout",
     "output_type": "stream",
     "text": [
      "tensor([[0., 0., 0.],\n",
      "        [0., 0., 0.]])\n"
     ]
    }
   ],
   "source": [
    "# 全0填充\n",
    "print(torch.zeros(2,3))"
   ],
   "metadata": {
    "collapsed": false,
    "ExecuteTime": {
     "end_time": "2023-11-27T05:25:32.270064Z",
     "start_time": "2023-11-27T05:25:32.264306400Z"
    }
   },
   "id": "a3af9d42ac4aa94a"
  },
  {
   "cell_type": "code",
   "execution_count": 7,
   "outputs": [
    {
     "name": "stdout",
     "output_type": "stream",
     "text": [
      "tensor([[0.5740, 0.6228, 0.9038],\n",
      "        [0.4893, 0.0069, 0.5658]])\n"
     ]
    }
   ],
   "source": [
    "# 随机填充\n",
    "print(torch.rand(2,3))"
   ],
   "metadata": {
    "collapsed": false,
    "ExecuteTime": {
     "end_time": "2023-11-27T05:25:51.307579200Z",
     "start_time": "2023-11-27T05:25:51.302024200Z"
    }
   },
   "id": "6262eb28bfd5c4f5"
  },
  {
   "cell_type": "code",
   "execution_count": 8,
   "outputs": [
    {
     "name": "stdout",
     "output_type": "stream",
     "text": [
      "tensor([[7, 7, 7],\n",
      "        [7, 7, 7]])\n"
     ]
    }
   ],
   "source": [
    "# full填充\n",
    "print(torch.full((2,3), 7))"
   ],
   "metadata": {
    "collapsed": false,
    "ExecuteTime": {
     "end_time": "2023-11-27T05:26:06.063363500Z",
     "start_time": "2023-11-27T05:26:06.056990100Z"
    }
   },
   "id": "cc77849e811e2e5c"
  },
  {
   "cell_type": "code",
   "execution_count": 9,
   "outputs": [
    {
     "name": "stdout",
     "output_type": "stream",
     "text": [
      "tensor([[1., 0., 0.],\n",
      "        [0., 1., 0.],\n",
      "        [0., 0., 1.]])\n"
     ]
    }
   ],
   "source": [
    "# 对角填充\n",
    "print(torch.eye(3))"
   ],
   "metadata": {
    "collapsed": false,
    "ExecuteTime": {
     "end_time": "2023-11-27T05:26:34.656973100Z",
     "start_time": "2023-11-27T05:26:34.653509100Z"
    }
   },
   "id": "a31130c9ec7e8d0c"
  },
  {
   "cell_type": "code",
   "execution_count": 16,
   "outputs": [
    {
     "name": "stdout",
     "output_type": "stream",
     "text": [
      "tensor([[1.9482e+33, 9.2205e-43, 0.0000e+00],\n",
      "        [0.0000e+00, 0.0000e+00, 0.0000e+00]])\n"
     ]
    }
   ],
   "source": [
    "# 创建但不初始化\n",
    "print(torch.empty(2,3))"
   ],
   "metadata": {
    "collapsed": false,
    "ExecuteTime": {
     "end_time": "2023-11-27T05:29:05.345815300Z",
     "start_time": "2023-11-27T05:29:05.340109300Z"
    }
   },
   "id": "78fb50e09024c025"
  },
  {
   "cell_type": "code",
   "execution_count": 11,
   "outputs": [
    {
     "name": "stdout",
     "output_type": "stream",
     "text": [
      "tensor([[-1.2501, -0.3135, -1.0307],\n",
      "        [ 0.5372,  0.0946,  0.7478]])\n"
     ]
    }
   ],
   "source": [
    "# 标准正态分布\n",
    "print(torch.randn(2,3))"
   ],
   "metadata": {
    "collapsed": false,
    "ExecuteTime": {
     "end_time": "2023-11-27T05:28:02.326874Z",
     "start_time": "2023-11-27T05:28:02.321155400Z"
    }
   },
   "id": "963f122afd731ba3"
  },
  {
   "cell_type": "code",
   "execution_count": 12,
   "outputs": [
    {
     "name": "stdout",
     "output_type": "stream",
     "text": [
      "tensor([[0.3527, 0.0922, 0.5367],\n",
      "        [0.5997, 0.7802, 0.7606]])\n"
     ]
    }
   ],
   "source": [
    "# 0-1均匀分布\n",
    "print(torch.rand(2,3))"
   ],
   "metadata": {
    "collapsed": false,
    "ExecuteTime": {
     "end_time": "2023-11-27T05:28:16.379406100Z",
     "start_time": "2023-11-27T05:28:16.376579400Z"
    }
   },
   "id": "91b595799ec3c28e"
  },
  {
   "cell_type": "code",
   "execution_count": 13,
   "outputs": [
    {
     "name": "stdout",
     "output_type": "stream",
     "text": [
      "tensor([[1, 2, 8],\n",
      "        [4, 5, 9]])\n"
     ]
    }
   ],
   "source": [
    "# 1-9的整数均匀分布\n",
    "print(torch.randint(1,10,(2,3)))"
   ],
   "metadata": {
    "collapsed": false,
    "ExecuteTime": {
     "end_time": "2023-11-27T05:28:39.092119600Z",
     "start_time": "2023-11-27T05:28:39.084707500Z"
    }
   },
   "id": "debcc41c8be354a0"
  },
  {
   "cell_type": "code",
   "execution_count": 19,
   "outputs": [
    {
     "name": "stdout",
     "output_type": "stream",
     "text": [
      "tensor([0, 2, 4, 6, 8])\n"
     ]
    }
   ],
   "source": [
    "# 自增数列，0-9，步长为2\n",
    "print(torch.arange(0,10,2))"
   ],
   "metadata": {
    "collapsed": false,
    "ExecuteTime": {
     "end_time": "2023-11-27T05:30:32.084032700Z",
     "start_time": "2023-11-27T05:30:32.078466500Z"
    }
   },
   "id": "b35c256e24f580e8"
  },
  {
   "cell_type": "code",
   "execution_count": 21,
   "outputs": [
    {
     "name": "stdout",
     "output_type": "stream",
     "text": [
      "tensor([ 0.0000,  3.3333,  6.6667, 10.0000])\n"
     ]
    }
   ],
   "source": [
    "# 等差数列，0-10，4个数\n",
    "print(torch.linspace(0,10,4))"
   ],
   "metadata": {
    "collapsed": false,
    "ExecuteTime": {
     "end_time": "2023-11-27T05:31:17.398121900Z",
     "start_time": "2023-11-27T05:31:17.392604900Z"
    }
   },
   "id": "e2ef94d8dd3243b1"
  },
  {
   "cell_type": "code",
   "execution_count": 22,
   "outputs": [
    {
     "name": "stdout",
     "output_type": "stream",
     "text": [
      "tensor([1., 2., 4., 8.])\n"
     ]
    }
   ],
   "source": [
    "# 等比数列，2^0-2^3，4个数\n",
    "print(torch.logspace(0,3,4,2))"
   ],
   "metadata": {
    "collapsed": false,
    "ExecuteTime": {
     "end_time": "2023-11-27T05:31:43.613901500Z",
     "start_time": "2023-11-27T05:31:43.608377600Z"
    }
   },
   "id": "966b5dfb5db922ba"
  },
  {
   "cell_type": "code",
   "execution_count": 23,
   "outputs": [
    {
     "data": {
      "text/plain": "(tensor([[1.9483e+33, 9.2205e-43, 0.0000e+00],\n         [0.0000e+00, 0.0000e+00, 0.0000e+00]]),\n tensor([[2828080843056,             0,             0],\n         [            0,             0,             0]]),\n tensor([[0., 0., 0.],\n         [0., 0., 0.]], dtype=torch.float64))"
     },
     "execution_count": 23,
     "metadata": {},
     "output_type": "execute_result"
    }
   ],
   "source": [
    "# 指定类型的创建\n",
    "torch.FloatTensor(2,3), torch.LongTensor(2,3), torch.DoubleTensor(2,3)"
   ],
   "metadata": {
    "collapsed": false,
    "ExecuteTime": {
     "end_time": "2023-11-27T05:32:28.457341500Z",
     "start_time": "2023-11-27T05:32:28.451482Z"
    }
   },
   "id": "f5fc34b67a64c76b"
  },
  {
   "cell_type": "code",
   "execution_count": 24,
   "outputs": [
    {
     "data": {
      "text/plain": "torch.float32"
     },
     "execution_count": 24,
     "metadata": {},
     "output_type": "execute_result"
    }
   ],
   "source": [
    "# 获取数据类型\n",
    "torch.FloatTensor(2,3).dtype"
   ],
   "metadata": {
    "collapsed": false,
    "ExecuteTime": {
     "end_time": "2023-11-27T05:33:07.761499600Z",
     "start_time": "2023-11-27T05:33:07.757417600Z"
    }
   },
   "id": "40b3f2b04d2740bd"
  },
  {
   "cell_type": "code",
   "execution_count": 25,
   "outputs": [
    {
     "data": {
      "text/plain": "torch.int64"
     },
     "execution_count": 25,
     "metadata": {},
     "output_type": "execute_result"
    }
   ],
   "source": [
    "# 转换数据类型\n",
    "torch.randn(2,3).to(torch.int64).dtype"
   ],
   "metadata": {
    "collapsed": false,
    "ExecuteTime": {
     "end_time": "2023-11-27T05:33:49.431952Z",
     "start_time": "2023-11-27T05:33:49.429407600Z"
    }
   },
   "id": "51081d29580c93f9"
  },
  {
   "cell_type": "markdown",
   "source": [
    "## 索引tensor"
   ],
   "metadata": {
    "collapsed": false
   },
   "id": "2ca71202cb00d8ba"
  },
  {
   "cell_type": "code",
   "execution_count": 27,
   "outputs": [
    {
     "data": {
      "text/plain": "torch.Size([4, 3, 28, 28])"
     },
     "execution_count": 27,
     "metadata": {},
     "output_type": "execute_result"
    }
   ],
   "source": [
    "import torch\n",
    "\n",
    "# 测试数据\n",
    "a = torch.randn(4,3,28,28) # 4张3通道28*28的图片\n",
    "a.shape"
   ],
   "metadata": {
    "collapsed": false,
    "ExecuteTime": {
     "end_time": "2023-11-27T05:36:25.111569600Z",
     "start_time": "2023-11-27T05:36:25.107568700Z"
    }
   },
   "id": "63aed1ea095800bc"
  },
  {
   "cell_type": "code",
   "execution_count": 30,
   "outputs": [
    {
     "name": "stdout",
     "output_type": "stream",
     "text": [
      "torch.Size([3, 28, 28])\n",
      "torch.Size([28, 28])\n",
      "torch.Size([28])\n",
      "torch.Size([])\n"
     ]
    }
   ],
   "source": [
    "# 直接索引\n",
    "# 查看第一张图片‘\n",
    "print(a[0].shape)\n",
    "# 查看第一张图片的第二个通道\n",
    "print(a[0,1].shape)\n",
    "# 查看第一张图片的第二个通道的第三行\n",
    "print(a[0,1,2].shape)\n",
    "# 查看第一张图片的第二个通道的第三行的第四个元素\n",
    "print(a[0,1,2,3].shape)"
   ],
   "metadata": {
    "collapsed": false,
    "ExecuteTime": {
     "end_time": "2023-11-27T05:38:34.262972800Z",
     "start_time": "2023-11-27T05:38:34.261967600Z"
    }
   },
   "id": "a6a04516180cf7c5"
  },
  {
   "cell_type": "code",
   "execution_count": 31,
   "outputs": [
    {
     "name": "stdout",
     "output_type": "stream",
     "text": [
      "torch.Size([2, 3, 28, 28])\n",
      "torch.Size([2, 2, 28, 28])\n",
      "torch.Size([2, 2, 2, 28])\n",
      "torch.Size([2, 2, 14, 14])\n"
     ]
    }
   ],
   "source": [
    "# 切片索引\n",
    "# 查看0-1张图片\n",
    "print(a[:2].shape)\n",
    "# 查看0-1张图片的第1-2个通道\n",
    "print(a[:2,1:3].shape)\n",
    "# 查看0-1张图片的第1-2个通道的第3-4行\n",
    "print(a[:2,1:3,2:4].shape)\n",
    "# 有间隔的切片\n",
    "print(a[:2,1:3,::2,::2].shape)"
   ],
   "metadata": {
    "collapsed": false,
    "ExecuteTime": {
     "end_time": "2023-11-27T05:39:29.047593600Z",
     "start_time": "2023-11-27T05:39:29.045297200Z"
    }
   },
   "id": "1d839eee26009e35"
  },
  {
   "cell_type": "code",
   "execution_count": 32,
   "outputs": [
    {
     "name": "stdout",
     "output_type": "stream",
     "text": [
      "torch.Size([2, 3, 28, 2])\n",
      "torch.Size([3, 28, 28])\n"
     ]
    }
   ],
   "source": [
    "# 用...代替多个:\n",
    "# 取前两张图片的0-2列\n",
    "print(a[:2,...,0:2].shape)\n",
    "# 取第二张图片\n",
    "print(a[1,...].shape)"
   ],
   "metadata": {
    "collapsed": false,
    "ExecuteTime": {
     "end_time": "2023-11-27T05:41:17.433329700Z",
     "start_time": "2023-11-27T05:41:17.427773500Z"
    }
   },
   "id": "be814f227affe8c"
  },
  {
   "cell_type": "markdown",
   "source": [
    "## tensor的维度变换"
   ],
   "metadata": {
    "collapsed": false
   },
   "id": "76c9c8ceb34c43af"
  },
  {
   "cell_type": "code",
   "execution_count": 33,
   "outputs": [
    {
     "name": "stdout",
     "output_type": "stream",
     "text": [
      "torch.Size([4, 1, 28, 28])\n",
      "torch.Size([4, 28, 28])\n",
      "torch.Size([4, 784])\n",
      "torch.Size([4, 784])\n"
     ]
    }
   ],
   "source": [
    "# view\n",
    "a = torch.rand(4,1,28,28)\n",
    "print(a.shape)\n",
    "# 转换为4*28*28维度，展开通道\n",
    "print(a.view(4,28,28).shape)\n",
    "# 转换为4*784维度，打平图片\n",
    "print(a.view(4,784).shape)\n",
    "# reshape和view一样\n",
    "print(a.reshape(4,784).shape)"
   ],
   "metadata": {
    "collapsed": false,
    "ExecuteTime": {
     "end_time": "2023-11-27T05:44:38.156646500Z",
     "start_time": "2023-11-27T05:44:38.151309800Z"
    }
   },
   "id": "7474a48f3411fda1"
  },
  {
   "cell_type": "code",
   "execution_count": 34,
   "outputs": [
    {
     "name": "stdout",
     "output_type": "stream",
     "text": [
      "torch.Size([2, 2])\n",
      "torch.Size([1, 2, 2])\n",
      "torch.Size([2, 2, 1])\n"
     ]
    }
   ],
   "source": [
    "# unsqueeze\n",
    "\n",
    "# 2*2的tensor\n",
    "a = torch.randn(2,2)\n",
    "print(a.shape)\n",
    "\n",
    "# 在第0维增加一个维度\n",
    "print(a.unsqueeze(0).shape)\n",
    "\n",
    "# 在倒数1维增加一个维度\n",
    "print(a.unsqueeze(-1).shape)"
   ],
   "metadata": {
    "collapsed": false,
    "ExecuteTime": {
     "end_time": "2023-11-27T05:46:18.418529500Z",
     "start_time": "2023-11-27T05:46:18.414519300Z"
    }
   },
   "id": "25716bb76c3fece3"
  },
  {
   "cell_type": "code",
   "execution_count": 35,
   "outputs": [
    {
     "name": "stdout",
     "output_type": "stream",
     "text": [
      "torch.Size([1, 2, 1, 3])\n",
      "torch.Size([2, 1, 3])\n",
      "torch.Size([1, 2, 3])\n",
      "torch.Size([2, 3])\n"
     ]
    }
   ],
   "source": [
    "# squeeze\n",
    " \n",
    "# 1*2*1*3的tensor\n",
    "a = torch.randn(1,2,1,3)\n",
    "print(a.shape)\n",
    "\n",
    "# 去掉第0维\n",
    "print(a.squeeze(0).shape)\n",
    "\n",
    "# 去掉倒数第1维\n",
    "print(a.squeeze(-2).shape)\n",
    "\n",
    "# 去掉所有维度为1的维度\n",
    "print(a.squeeze().shape) "
   ],
   "metadata": {
    "collapsed": false,
    "ExecuteTime": {
     "end_time": "2023-11-27T05:47:15.596879500Z",
     "start_time": "2023-11-27T05:47:15.589698600Z"
    }
   },
   "id": "d761cbf9e06a2246"
  },
  {
   "cell_type": "code",
   "execution_count": 4,
   "outputs": [
    {
     "name": "stdout",
     "output_type": "stream",
     "text": [
      "torch.Size([4, 6])\n"
     ]
    }
   ],
   "source": [
    "# repeat\n",
    "\n",
    "# 分别复制2次和3次\n",
    "print(torch.randn(2,2).repeat(2,3).shape)"
   ],
   "metadata": {
    "collapsed": false,
    "ExecuteTime": {
     "end_time": "2023-11-27T07:12:07.130245600Z",
     "start_time": "2023-11-27T07:12:07.117288400Z"
    }
   },
   "id": "491d459c8dccf7cb"
  },
  {
   "cell_type": "code",
   "execution_count": 5,
   "outputs": [
    {
     "name": "stdout",
     "output_type": "stream",
     "text": [
      "torch.Size([3, 2])\n",
      "torch.Size([2, 4, 3])\n",
      "torch.Size([4, 2, 3])\n"
     ]
    }
   ],
   "source": [
    "# 维度交换\n",
    "\n",
    "# t转秩，只能操作2维tensor\n",
    "print(torch.randn(2,3).t().shape)\n",
    "\n",
    "# transpose，可以操作多维tensor,只能交换两个维度\n",
    "print(torch.randn(2,3,4).transpose(1,2).shape)\n",
    "\n",
    "# permute，可以操作多维tensor，可以交换多个维度\n",
    "print(torch.randn(2,3,4).permute(2,0,1).shape)"
   ],
   "metadata": {
    "collapsed": false,
    "ExecuteTime": {
     "end_time": "2023-11-27T07:13:58.971097500Z",
     "start_time": "2023-11-27T07:13:58.957357400Z"
    }
   },
   "id": "3c98173d791518db"
  },
  {
   "cell_type": "markdown",
   "source": [
    "## Broadcast"
   ],
   "metadata": {
    "collapsed": false
   },
   "id": "78855befde272f83"
  },
  {
   "cell_type": "code",
   "execution_count": 6,
   "outputs": [
    {
     "name": "stdout",
     "output_type": "stream",
     "text": [
      "torch.Size([2, 3])\n",
      "torch.Size([2, 3])\n",
      "torch.Size([2, 3])\n",
      "torch.Size([2, 3])\n"
     ]
    }
   ],
   "source": [
    "import torch\n",
    "# 自动broadcast\n",
    "a = torch.randn(2,3)\n",
    "b = torch.randn(1,3)\n",
    "c = torch.randn(1)\n",
    "\n",
    "print((a+b).shape)\n",
    "print((a+c).shape)\n",
    "\n",
    "# 手动broadcast\n",
    "print((b.expand_as(a)).shape)\n",
    "print((c.expand_as(a)).shape)"
   ],
   "metadata": {
    "collapsed": false,
    "ExecuteTime": {
     "end_time": "2023-11-27T07:17:17.466231300Z",
     "start_time": "2023-11-27T07:17:17.457088200Z"
    }
   },
   "id": "623645e5df08f6c4"
  },
  {
   "cell_type": "markdown",
   "source": [
    "## tensor的拼接和拆分"
   ],
   "metadata": {
    "collapsed": false
   },
   "id": "1d92bc6bde976b6b"
  },
  {
   "cell_type": "code",
   "execution_count": 7,
   "outputs": [
    {
     "name": "stdout",
     "output_type": "stream",
     "text": [
      "torch.Size([4, 3])\n"
     ]
    }
   ],
   "source": [
    "import torch\n",
    "\n",
    "a = torch.rand(2,3)\n",
    "b = torch.rand(2,3)\n",
    "\n",
    "# cat拼接,dim=0表示在第0维拼接\n",
    "print(torch.cat([a,b],dim=0).shape)"
   ],
   "metadata": {
    "collapsed": false,
    "ExecuteTime": {
     "end_time": "2023-11-27T07:20:25.585618300Z",
     "start_time": "2023-11-27T07:20:25.580629300Z"
    }
   },
   "id": "d87cb468cfec911a"
  },
  {
   "cell_type": "code",
   "execution_count": 8,
   "outputs": [
    {
     "name": "stdout",
     "output_type": "stream",
     "text": [
      "torch.Size([2, 2, 3])\n"
     ]
    }
   ],
   "source": [
    "a = torch.rand(2,3)\n",
    "b = torch.rand(2,3)\n",
    "\n",
    "# stack拼接,会增加一个维度，用于区分a和b\n",
    "print(torch.stack([a,b],dim=0).shape)"
   ],
   "metadata": {
    "collapsed": false,
    "ExecuteTime": {
     "end_time": "2023-11-27T07:20:47.348142500Z",
     "start_time": "2023-11-27T07:20:47.339242100Z"
    }
   },
   "id": "62804742f814d0cd"
  },
  {
   "cell_type": "code",
   "execution_count": 9,
   "outputs": [
    {
     "name": "stdout",
     "output_type": "stream",
     "text": [
      "torch.Size([1, 3]) torch.Size([1, 3])\n",
      "torch.Size([1, 3]) torch.Size([1, 3])\n"
     ]
    }
   ],
   "source": [
    "a = torch.rand(2,3)\n",
    "\n",
    "# split拆分，在维度0上拆分成2份\n",
    "_1,_2 = torch.split(a,1,dim=0)\n",
    "print(_1.shape,_2.shape)\n",
    "\n",
    "# split拆分，按照长度拆分\n",
    "_1,_2 = torch.split(a,[1,1],dim=0)\n",
    "print(_1.shape,_2.shape)"
   ],
   "metadata": {
    "collapsed": false,
    "ExecuteTime": {
     "end_time": "2023-11-27T07:23:43.860121800Z",
     "start_time": "2023-11-27T07:23:43.854402500Z"
    }
   },
   "id": "83ed2818fd8024d5"
  },
  {
   "cell_type": "code",
   "execution_count": 10,
   "outputs": [
    {
     "name": "stdout",
     "output_type": "stream",
     "text": [
      "torch.Size([1, 3, 4]) torch.Size([1, 3, 4])\n"
     ]
    }
   ],
   "source": [
    "a = torch.rand(2,3,4)\n",
    "\n",
    "# chunk拆分，按照数量拆分\n",
    "_1,_2 = torch.chunk(a,2,dim=0)\n",
    "print(_1.shape,_2.shape)"
   ],
   "metadata": {
    "collapsed": false,
    "ExecuteTime": {
     "end_time": "2023-11-27T07:24:05.435223600Z",
     "start_time": "2023-11-27T07:24:05.432699700Z"
    }
   },
   "id": "685f27833f4e56a7"
  },
  {
   "cell_type": "markdown",
   "source": [
    "## 数学运算"
   ],
   "metadata": {
    "collapsed": false
   },
   "id": "e3688fa71dc8fcb0"
  },
  {
   "cell_type": "code",
   "execution_count": 13,
   "outputs": [
    {
     "data": {
      "text/plain": "(tensor([[1., 2., 3.],\n         [4., 5., 6.]]),\n tensor([1., 2., 3.]))"
     },
     "execution_count": 13,
     "metadata": {},
     "output_type": "execute_result"
    }
   ],
   "source": [
    "import torch\n",
    "\n",
    "# 测试数据\n",
    "a = torch.FloatTensor([[1,2,3],[4,5,6]])\n",
    "b = torch.FloatTensor([1,2,3])\n",
    "\n",
    "a,b"
   ],
   "metadata": {
    "collapsed": false,
    "ExecuteTime": {
     "end_time": "2023-11-27T07:26:58.647451300Z",
     "start_time": "2023-11-27T07:26:58.636759900Z"
    }
   },
   "id": "54f01d44b6ea3e3a"
  },
  {
   "cell_type": "code",
   "execution_count": 14,
   "outputs": [
    {
     "name": "stdout",
     "output_type": "stream",
     "text": [
      "tensor([[2., 4., 6.],\n",
      "        [5., 7., 9.]])\n",
      "tensor([[0., 0., 0.],\n",
      "        [3., 3., 3.]])\n",
      "tensor([[ 1.,  4.,  9.],\n",
      "        [ 4., 10., 18.]])\n",
      "tensor([[1.0000, 1.0000, 1.0000],\n",
      "        [4.0000, 2.5000, 2.0000]])\n"
     ]
    }
   ],
   "source": [
    "# 四则运算\n",
    "print(a+b)\n",
    "print(a-b)\n",
    "print(a*b)\n",
    "print(a/b)"
   ],
   "metadata": {
    "collapsed": false,
    "ExecuteTime": {
     "end_time": "2023-11-27T07:27:43.545753800Z",
     "start_time": "2023-11-27T07:27:43.540918600Z"
    }
   },
   "id": "51a4644272ef390c"
  },
  {
   "cell_type": "code",
   "execution_count": 15,
   "outputs": [
    {
     "name": "stdout",
     "output_type": "stream",
     "text": [
      "tensor([14., 32.])\n",
      "tensor([14., 32.])\n"
     ]
    }
   ],
   "source": [
    "# 矩阵乘法\n",
    "print(a@b)\n",
    "print(a.matmul(b))"
   ],
   "metadata": {
    "collapsed": false,
    "ExecuteTime": {
     "end_time": "2023-11-27T07:28:06.681216100Z",
     "start_time": "2023-11-27T07:28:06.667678900Z"
    }
   },
   "id": "1b8f0b3a8bbdede"
  },
  {
   "cell_type": "code",
   "execution_count": 16,
   "outputs": [
    {
     "name": "stdout",
     "output_type": "stream",
     "text": [
      "tensor([[ 1.,  4.,  9.],\n",
      "        [16., 25., 36.]])\n",
      "tensor([[1.0000, 1.4142, 1.7321],\n",
      "        [2.0000, 2.2361, 2.4495]])\n",
      "tensor([[  2.7183,   7.3891,  20.0855],\n",
      "        [ 54.5981, 148.4132, 403.4288]])\n",
      "tensor([[0.0000, 0.6931, 1.0986],\n",
      "        [1.3863, 1.6094, 1.7918]])\n",
      "tensor([[0.0000, 1.0000, 1.5850],\n",
      "        [2.0000, 2.3219, 2.5850]])\n"
     ]
    }
   ],
   "source": [
    "# 指数对数运算\n",
    "# 指数\n",
    "print(a**2)\n",
    "\n",
    "# 开方\n",
    "print(a.sqrt())\n",
    "\n",
    "# 求e的指数\n",
    "print(a.exp())\n",
    "\n",
    "# 求对数，以e为底\n",
    "print(a.log())\n",
    "\n",
    "# 求对数，以2为底\n",
    "print(a.log2())"
   ],
   "metadata": {
    "collapsed": false,
    "ExecuteTime": {
     "end_time": "2023-11-27T07:30:01.188909400Z",
     "start_time": "2023-11-27T07:30:01.179889700Z"
    }
   },
   "id": "89e04a2ba115db83"
  },
  {
   "cell_type": "code",
   "execution_count": 17,
   "outputs": [
    {
     "name": "stdout",
     "output_type": "stream",
     "text": [
      "tensor([[False, False, False],\n",
      "        [ True,  True,  True]])\n",
      "tensor([[False, False, False],\n",
      "        [False, False, False]])\n",
      "tensor([[ True,  True,  True],\n",
      "        [False, False, False]])\n",
      "tensor([[False, False, False],\n",
      "        [ True,  True,  True]])\n"
     ]
    }
   ],
   "source": [
    "# 逻辑运算\n",
    "# 大小比较\n",
    "print(a>b)\n",
    "print(a<b)\n",
    "print(a==b)\n",
    "print(a!=b)"
   ],
   "metadata": {
    "collapsed": false,
    "ExecuteTime": {
     "end_time": "2023-11-27T07:31:02.856649900Z",
     "start_time": "2023-11-27T07:31:02.853575Z"
    }
   },
   "id": "2ecac9be5704b72d"
  },
  {
   "cell_type": "code",
   "execution_count": 18,
   "outputs": [
    {
     "data": {
      "text/plain": "tensor([[1., 2., 2.],\n        [2., 2., 2.]])"
     },
     "execution_count": 18,
     "metadata": {},
     "output_type": "execute_result"
    }
   ],
   "source": [
    "# 裁剪,限制上下限\n",
    "a.clamp(0,2)"
   ],
   "metadata": {
    "collapsed": false,
    "ExecuteTime": {
     "end_time": "2023-11-27T07:31:58.853154Z",
     "start_time": "2023-11-27T07:31:58.848542300Z"
    }
   },
   "id": "a39f49a68090cc81"
  },
  {
   "cell_type": "code",
   "execution_count": 19,
   "outputs": [
    {
     "name": "stdout",
     "output_type": "stream",
     "text": [
      "tensor([1., 2., 3.])\n",
      "tensor([2., 3., 4.])\n",
      "tensor([1., 2., 4.])\n"
     ]
    }
   ],
   "source": [
    "# 四舍五入\n",
    "a = torch.FloatTensor([1.4,2.5,3.6])\n",
    "# 向下取整\n",
    "print(a.floor())\n",
    "# 向上取整\n",
    "print(a.ceil())\n",
    "# 四舍五入\n",
    "print(a.round())"
   ],
   "metadata": {
    "collapsed": false,
    "ExecuteTime": {
     "end_time": "2023-11-27T07:33:03.745254500Z",
     "start_time": "2023-11-27T07:33:03.740157400Z"
    }
   },
   "id": "99cb93232d7a7730"
  },
  {
   "cell_type": "markdown",
   "source": [
    "## 属性统计"
   ],
   "metadata": {
    "collapsed": false
   },
   "id": "2d5eb096e1c0358a"
  },
  {
   "cell_type": "code",
   "execution_count": 2,
   "outputs": [
    {
     "data": {
      "text/plain": "tensor([[1., 2., 3.],\n        [4., 5., 6.]])"
     },
     "execution_count": 2,
     "metadata": {},
     "output_type": "execute_result"
    }
   ],
   "source": [
    "import torch\n",
    "\n",
    "# 测试数据\n",
    "a = torch.FloatTensor([[1,2,3],[4,5,6]])\n",
    "a"
   ],
   "metadata": {
    "collapsed": false,
    "ExecuteTime": {
     "end_time": "2023-11-27T09:40:43.539359900Z",
     "start_time": "2023-11-27T09:40:39.432208800Z"
    }
   },
   "id": "faa4324f6515fdd1"
  },
  {
   "cell_type": "code",
   "execution_count": 21,
   "outputs": [
    {
     "name": "stdout",
     "output_type": "stream",
     "text": [
      "tensor(1.)\n",
      "tensor(6.)\n",
      "tensor(0)\n",
      "tensor(5)\n",
      "tensor(3.5000)\n",
      "tensor(720.)\n",
      "tensor(21.)\n"
     ]
    }
   ],
   "source": [
    "# 求最小\n",
    "print(a.min())\n",
    "# 求最大\n",
    "print(a.max())\n",
    "# 求最小值的索引\n",
    "print(a.argmin())\n",
    "# 求最大值的索引\n",
    "print(a.argmax())\n",
    "# 求平均值\n",
    "print(a.mean())\n",
    "# 求积\n",
    "print(a.prod())\n",
    "# 求和\n",
    "print(a.sum())"
   ],
   "metadata": {
    "collapsed": false,
    "ExecuteTime": {
     "end_time": "2023-11-27T07:35:32.518666800Z",
     "start_time": "2023-11-27T07:35:32.509391800Z"
    }
   },
   "id": "3d8fbf34ccf847ca"
  },
  {
   "cell_type": "code",
   "execution_count": 22,
   "outputs": [
    {
     "name": "stdout",
     "output_type": "stream",
     "text": [
      "torch.return_types.max(\n",
      "values=tensor([4., 5., 6.]),\n",
      "indices=tensor([1, 1, 1]))\n"
     ]
    }
   ],
   "source": [
    "# 分维度求最大\n",
    "print(a.max(dim=0))"
   ],
   "metadata": {
    "collapsed": false,
    "ExecuteTime": {
     "end_time": "2023-11-27T07:36:06.628635Z",
     "start_time": "2023-11-27T07:36:06.621468300Z"
    }
   },
   "id": "caa2f16b9ad3bc0"
  },
  {
   "cell_type": "code",
   "execution_count": 23,
   "outputs": [
    {
     "name": "stdout",
     "output_type": "stream",
     "text": [
      "tensor([1, 1, 1])\n"
     ]
    }
   ],
   "source": [
    "# 分维度求最大值的索引\n",
    "print(a.argmax(dim=0))"
   ],
   "metadata": {
    "collapsed": false,
    "ExecuteTime": {
     "end_time": "2023-11-27T07:36:20.376982600Z",
     "start_time": "2023-11-27T07:36:20.373472400Z"
    }
   },
   "id": "53d5733d61caeef8"
  },
  {
   "cell_type": "code",
   "execution_count": 3,
   "outputs": [
    {
     "name": "stdout",
     "output_type": "stream",
     "text": [
      "tensor(21.)\n",
      "tensor([5., 7., 9.])\n",
      "tensor(9.5394)\n",
      "tensor([4.1231, 5.3852, 6.7082])\n"
     ]
    }
   ],
   "source": [
    "# 求1范数\n",
    "print(a.norm(1))\n",
    "print(a.norm(1,dim=0))\n",
    "\n",
    "# 求2范数\n",
    "print(a.norm(2))\n",
    "print(a.norm(2,dim=0))"
   ],
   "metadata": {
    "collapsed": false,
    "ExecuteTime": {
     "end_time": "2023-11-27T09:40:43.547346100Z",
     "start_time": "2023-11-27T09:40:43.537367Z"
    }
   },
   "id": "a573f2112d7ac75c"
  },
  {
   "cell_type": "code",
   "execution_count": 5,
   "outputs": [
    {
     "name": "stdout",
     "output_type": "stream",
     "text": [
      "torch.return_types.topk(\n",
      "values=tensor([[3., 2.],\n",
      "        [6., 5.]]),\n",
      "indices=tensor([[2, 1],\n",
      "        [2, 1]]))\n"
     ]
    }
   ],
   "source": [
    "# 求前2个最大值\n",
    "print(a.topk(2,dim=1,largest=True))"
   ],
   "metadata": {
    "collapsed": false,
    "ExecuteTime": {
     "end_time": "2023-11-27T09:42:05.624195600Z",
     "start_time": "2023-11-27T09:42:05.619520100Z"
    }
   },
   "id": "17c49ba7499204dc"
  },
  {
   "cell_type": "code",
   "execution_count": 6,
   "outputs": [
    {
     "name": "stdout",
     "output_type": "stream",
     "text": [
      "torch.return_types.kthvalue(\n",
      "values=tensor([2., 5.]),\n",
      "indices=tensor([1, 1]))\n"
     ]
    }
   ],
   "source": [
    "# 求第2个最小值\n",
    "print(a.kthvalue(2,dim=1))"
   ],
   "metadata": {
    "collapsed": false,
    "ExecuteTime": {
     "end_time": "2023-11-27T09:42:30.340622200Z",
     "start_time": "2023-11-27T09:42:30.334627Z"
    }
   },
   "id": "2122979b183e878e"
  }
 ],
 "metadata": {
  "kernelspec": {
   "display_name": "Python 3",
   "language": "python",
   "name": "python3"
  },
  "language_info": {
   "codemirror_mode": {
    "name": "ipython",
    "version": 2
   },
   "file_extension": ".py",
   "mimetype": "text/x-python",
   "name": "python",
   "nbconvert_exporter": "python",
   "pygments_lexer": "ipython2",
   "version": "2.7.6"
  }
 },
 "nbformat": 4,
 "nbformat_minor": 5
}
