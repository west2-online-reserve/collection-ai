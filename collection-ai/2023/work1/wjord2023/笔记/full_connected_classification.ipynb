{
 "cells": [
  {
   "cell_type": "markdown",
   "source": [
    "## 分类（矩形是胖的还是瘦的）"
   ],
   "metadata": {
    "collapsed": false
   },
   "id": "b5673db553e4d957"
  },
  {
   "cell_type": "markdown",
   "source": [
    "## 1. 生成数据"
   ],
   "metadata": {
    "collapsed": false
   },
   "id": "52b5e8609ec0174f"
  },
  {
   "cell_type": "code",
   "execution_count": 5,
   "outputs": [
    {
     "data": {
      "text/plain": "(0.41554273917008755, 0.15227609329823955, 1)"
     },
     "execution_count": 5,
     "metadata": {},
     "output_type": "execute_result"
    }
   ],
   "source": [
    "# 生成矩形数据的函数\n",
    "def get_rectangle():\n",
    "    import random\n",
    "    width, height = random.random(), random.random()\n",
    "    fat = int(width >= height)\n",
    "    return width, height, fat\n",
    "\n",
    "get_rectangle() "
   ],
   "metadata": {
    "collapsed": false,
    "ExecuteTime": {
     "end_time": "2023-11-27T09:47:18.010870300Z",
     "start_time": "2023-11-27T09:47:18.002079200Z"
    }
   },
   "id": "2a9987712d91cddf"
  },
  {
   "cell_type": "markdown",
   "source": [
    "## 2. 定义数据集"
   ],
   "metadata": {
    "collapsed": false
   },
   "id": "9d13701a1974b7df"
  },
  {
   "cell_type": "code",
   "execution_count": 6,
   "outputs": [
    {
     "data": {
      "text/plain": "(10000, (tensor([0.2583, 0.8427]), 0))"
     },
     "execution_count": 6,
     "metadata": {},
     "output_type": "execute_result"
    }
   ],
   "source": [
    "import torch\n",
    "\n",
    "class Dataset(torch.utils.data.Dataset):\n",
    "    \n",
    "    #正常应该在这里执行数据的加载，处理等操作\n",
    "    def __init__(self):\n",
    "        pass\n",
    "    \n",
    "    #定义数据的条数\n",
    "    def __len__(self):\n",
    "        return 10000\n",
    "    \n",
    "    #根据序号i，获取数据\n",
    "    def __getitem__(self, i):\n",
    "        width, height, fat = get_rectangle()\n",
    "        x = torch.FloatTensor([width, height])\n",
    "        y = fat\n",
    "        return x, y\n",
    "    \n",
    "dataset = Dataset()\n",
    "\n",
    "len(dataset), dataset[0]"
   ],
   "metadata": {
    "collapsed": false,
    "ExecuteTime": {
     "end_time": "2023-11-27T09:52:12.956741700Z",
     "start_time": "2023-11-27T09:52:09.894694600Z"
    }
   },
   "id": "8f9c65a11e831a6a"
  },
  {
   "cell_type": "markdown",
   "source": [
    "## 3. 定义Loader 数据遍历器"
   ],
   "metadata": {
    "collapsed": false
   },
   "id": "8077a02f1d73a772"
  },
  {
   "cell_type": "code",
   "execution_count": 7,
   "outputs": [
    {
     "data": {
      "text/plain": "(1250,\n [tensor([[0.2350, 0.5281],\n          [0.4245, 0.1665],\n          [0.8516, 0.7542],\n          [0.5544, 0.7940],\n          [0.3912, 0.7144],\n          [0.8413, 0.9484],\n          [0.8172, 0.4960],\n          [0.8866, 0.4358]]),\n  tensor([0, 1, 1, 0, 0, 0, 1, 1])])"
     },
     "execution_count": 7,
     "metadata": {},
     "output_type": "execute_result"
    }
   ],
   "source": [
    "#数据集加载器，每8条数据组成一个batch，打乱顺序，不足的舍弃\n",
    "loader = torch.utils.data.DataLoader(dataset=dataset, batch_size=8, shuffle=True, drop_last=True)\n",
    "(len(loader), next(iter(loader))) #查看loader的长度，以及第一个batch的数据"
   ],
   "metadata": {
    "collapsed": false,
    "ExecuteTime": {
     "end_time": "2023-11-27T09:55:14.112363300Z",
     "start_time": "2023-11-27T09:55:14.102209600Z"
    }
   },
   "id": "935ab4db4ae42b0f"
  },
  {
   "cell_type": "markdown",
   "source": [
    "## 4. 定义神经网络模型"
   ],
   "metadata": {
    "collapsed": false
   },
   "id": "12c6f167d467d8c4"
  },
  {
   "cell_type": "code",
   "execution_count": 8,
   "outputs": [
    {
     "data": {
      "text/plain": "torch.Size([8, 2])"
     },
     "execution_count": 8,
     "metadata": {},
     "output_type": "execute_result"
    }
   ],
   "source": [
    "# 全连接神经网络\n",
    "class Model(torch.nn.Module):\n",
    "    #初始化\n",
    "    def __init__(self):\n",
    "        super().__init__()\n",
    "        \n",
    "        #定义网络结构\n",
    "        self.fc = torch.nn.Sequential(\n",
    "            torch.nn.Linear(in_features=2, out_features=32),\n",
    "            torch.nn.ReLU(),\n",
    "            torch.nn.Linear(in_features=32, out_features=32),\n",
    "            torch.nn.ReLU(),\n",
    "            torch.nn.Linear(in_features=32, out_features=2),\n",
    "            torch.nn.Softmax(dim=1)\n",
    "        )\n",
    "        \n",
    "    # 定义神经网络计算过程\n",
    "    def forward(self, x):\n",
    "        return self.fc(x)\n",
    "    \n",
    "model = Model()\n",
    "\n",
    "model(torch.randn(8,2)).shape"
   ],
   "metadata": {
    "collapsed": false,
    "ExecuteTime": {
     "end_time": "2023-11-27T10:02:29.185586900Z",
     "start_time": "2023-11-27T10:02:29.170874100Z"
    }
   },
   "id": "8a288c83b3e2d190"
  },
  {
   "cell_type": "markdown",
   "source": [
    "## 5.训练模型"
   ],
   "metadata": {
    "collapsed": false
   },
   "id": "4b6a0c78af46ee08"
  },
  {
   "cell_type": "code",
   "execution_count": 11,
   "outputs": [
    {
     "name": "stdout",
     "output_type": "stream",
     "text": [
      "epoch:0, loss:0.4264, acc:1.0000\n",
      "epoch:20, loss:0.3234, acc:1.0000\n",
      "epoch:40, loss:0.3236, acc:1.0000\n",
      "epoch:60, loss:0.3133, acc:1.0000\n",
      "epoch:80, loss:0.3487, acc:1.0000\n"
     ]
    }
   ],
   "source": [
    "def train():\n",
    "    #定义优化器,根据梯度更新参数\n",
    "    optimizer = torch.optim.Adam(model.parameters(), lr=1e-4)\n",
    "    \n",
    "    #定义损失函数\n",
    "    loss_func = torch.nn.CrossEntropyLoss()\n",
    "    \n",
    "    #开始训练，启动模型的训练模式，启动dropout等\n",
    "    model.train()\n",
    "    \n",
    "    #全量数据训练100轮\n",
    "    for epoch in range(100):\n",
    "        \n",
    "        #按批次遍历loader中的数据\n",
    "        for i, (x,y) in enumerate(loader):\n",
    "            \n",
    "            # 模型计算\n",
    "            out = model(x)\n",
    "            \n",
    "            # 计算损失\n",
    "            loss = loss_func(out, y)\n",
    "            \n",
    "            #根据损失，计算梯度\n",
    "            loss.backward()\n",
    "            \n",
    "            # 根据损失，更新参数\n",
    "            optimizer.step()\n",
    "            \n",
    "            # 清空梯度,准备下一轮训练\n",
    "            optimizer.zero_grad()\n",
    "        \n",
    "        if epoch % 20 == 0:\n",
    "            # 计算准确率\n",
    "            acc = (out.argmax(dim=1) == y).sum().item() / len(y)\n",
    "            print(f'epoch:{epoch}, loss:{loss.item():.4f}, acc:{acc:.4f}')\n",
    "            \n",
    "    # 保存模型到磁盘\n",
    "    torch.save(model.state_dict(), 'model.pth')\n",
    "    \n",
    "train()"
   ],
   "metadata": {
    "collapsed": false,
    "ExecuteTime": {
     "end_time": "2023-11-27T10:21:13.259939200Z",
     "start_time": "2023-11-27T10:19:40.549516Z"
    }
   },
   "id": "62e1b3c99d710b0a"
  },
  {
   "cell_type": "markdown",
   "source": [
    "## 6. 测试模型"
   ],
   "metadata": {
    "collapsed": false
   },
   "id": "3cbf5d5ea176ab2f"
  },
  {
   "cell_type": "code",
   "execution_count": 12,
   "outputs": [
    {
     "name": "stdout",
     "output_type": "stream",
     "text": [
      "预测结果： tensor([1, 1, 0, 1, 1, 1, 1, 1])\n",
      "真实结果： tensor([1, 1, 0, 1, 1, 1, 1, 1])\n",
      "tensor([True, True, True, True, True, True, True, True])\n"
     ]
    }
   ],
   "source": [
    "# 测试\n",
    "# 注释的表明不计算梯度，节省计算资源\n",
    "@torch.no_grad()\n",
    "def test():\n",
    "    # 加载模型\n",
    "    model.load_state_dict(torch.load('model.pth'))\n",
    "    \n",
    "    # 启动测试模式，不启动dropout等\n",
    "    model.eval()\n",
    "    \n",
    "    # 生成测试数据\n",
    "    x, y = next(iter(loader))\n",
    "    \n",
    "    # 模型计算\n",
    "    out = model(x).argmax(dim=1)\n",
    "    \n",
    "    print('预测结果：', out)\n",
    "    print('真实结果：', y)\n",
    "    print(out == y)\n",
    "    \n",
    "test()"
   ],
   "metadata": {
    "collapsed": false,
    "ExecuteTime": {
     "end_time": "2023-11-27T10:24:19.544673Z",
     "start_time": "2023-11-27T10:24:19.532587Z"
    }
   },
   "id": "1b356b60acc4b8c2"
  }
 ],
 "metadata": {
  "kernelspec": {
   "display_name": "Python 3",
   "language": "python",
   "name": "python3"
  },
  "language_info": {
   "codemirror_mode": {
    "name": "ipython",
    "version": 2
   },
   "file_extension": ".py",
   "mimetype": "text/x-python",
   "name": "python",
   "nbconvert_exporter": "python",
   "pygments_lexer": "ipython2",
   "version": "2.7.6"
  }
 },
 "nbformat": 4,
 "nbformat_minor": 5
}
