{
 "cells": [
  {
   "cell_type": "markdown",
   "source": [
    "## 分类声音"
   ],
   "metadata": {
    "collapsed": false
   },
   "id": "b7948f8a930f67c9"
  },
  {
   "cell_type": "code",
   "execution_count": 90,
   "outputs": [
    {
     "ename": "RuntimeError",
     "evalue": "Couldn't find appropriate backend to handle uri data/superb/1_20905.wav and format None.",
     "output_type": "error",
     "traceback": [
      "\u001B[1;31m---------------------------------------------------------------------------\u001B[0m",
      "\u001B[1;31mRuntimeError\u001B[0m                              Traceback (most recent call last)",
      "Cell \u001B[1;32mIn[90], line 25\u001B[0m\n\u001B[0;32m     21\u001B[0m         ys\u001B[38;5;241m.\u001B[39mappend(y)\n\u001B[0;32m     23\u001B[0m     \u001B[38;5;28;01mreturn\u001B[39;00m xs,ys\n\u001B[1;32m---> 25\u001B[0m xs,ys \u001B[38;5;241m=\u001B[39m load_data()\n\u001B[0;32m     27\u001B[0m \u001B[38;5;28mlen\u001B[39m(xs), \u001B[38;5;28mlen\u001B[39m(ys), xs[\u001B[38;5;241m0\u001B[39m]\u001B[38;5;241m.\u001B[39mshape, ys[\u001B[38;5;241m0\u001B[39m]\n",
      "Cell \u001B[1;32mIn[90], line 15\u001B[0m, in \u001B[0;36mload_data\u001B[1;34m()\u001B[0m\n\u001B[0;32m     12\u001B[0m \u001B[38;5;28;01mif\u001B[39;00m \u001B[38;5;129;01mnot\u001B[39;00m filename\u001B[38;5;241m.\u001B[39mendswith(\u001B[38;5;124m'\u001B[39m\u001B[38;5;124m.wav\u001B[39m\u001B[38;5;124m'\u001B[39m):\n\u001B[0;32m     13\u001B[0m     \u001B[38;5;28;01mcontinue\u001B[39;00m\n\u001B[1;32m---> 15\u001B[0m x \u001B[38;5;241m=\u001B[39m torchaudio\u001B[38;5;241m.\u001B[39mload(\u001B[38;5;124m'\u001B[39m\u001B[38;5;124mdata/superb/\u001B[39m\u001B[38;5;132;01m%s\u001B[39;00m\u001B[38;5;124m'\u001B[39m \u001B[38;5;241m%\u001B[39m filename)[\u001B[38;5;241m0\u001B[39m]\n\u001B[0;32m     16\u001B[0m x \u001B[38;5;241m=\u001B[39m x\u001B[38;5;241m.\u001B[39mreshape(\u001B[38;5;241m-\u001B[39m\u001B[38;5;241m1\u001B[39m,\u001B[38;5;241m1\u001B[39m)\n\u001B[0;32m     18\u001B[0m y \u001B[38;5;241m=\u001B[39m \u001B[38;5;28mint\u001B[39m(filename[\u001B[38;5;241m0\u001B[39m])\n",
      "File \u001B[1;32mD:\\Anaconda\\envs\\pytorch_gpu\\Lib\\site-packages\\torchaudio\\_backend\\utils.py:203\u001B[0m, in \u001B[0;36mget_load_func.<locals>.load\u001B[1;34m(uri, frame_offset, num_frames, normalize, channels_first, format, buffer_size, backend)\u001B[0m\n\u001B[0;32m    117\u001B[0m \u001B[38;5;28;01mdef\u001B[39;00m \u001B[38;5;21mload\u001B[39m(\n\u001B[0;32m    118\u001B[0m     uri: Union[BinaryIO, \u001B[38;5;28mstr\u001B[39m, os\u001B[38;5;241m.\u001B[39mPathLike],\n\u001B[0;32m    119\u001B[0m     frame_offset: \u001B[38;5;28mint\u001B[39m \u001B[38;5;241m=\u001B[39m \u001B[38;5;241m0\u001B[39m,\n\u001B[1;32m   (...)\u001B[0m\n\u001B[0;32m    125\u001B[0m     backend: Optional[\u001B[38;5;28mstr\u001B[39m] \u001B[38;5;241m=\u001B[39m \u001B[38;5;28;01mNone\u001B[39;00m,\n\u001B[0;32m    126\u001B[0m ) \u001B[38;5;241m-\u001B[39m\u001B[38;5;241m>\u001B[39m Tuple[torch\u001B[38;5;241m.\u001B[39mTensor, \u001B[38;5;28mint\u001B[39m]:\n\u001B[0;32m    127\u001B[0m \u001B[38;5;250m    \u001B[39m\u001B[38;5;124;03m\"\"\"Load audio data from source.\u001B[39;00m\n\u001B[0;32m    128\u001B[0m \n\u001B[0;32m    129\u001B[0m \u001B[38;5;124;03m    By default (``normalize=True``, ``channels_first=True``), this function returns Tensor with\u001B[39;00m\n\u001B[1;32m   (...)\u001B[0m\n\u001B[0;32m    201\u001B[0m \u001B[38;5;124;03m            `[channel, time]` else `[time, channel]`.\u001B[39;00m\n\u001B[0;32m    202\u001B[0m \u001B[38;5;124;03m    \"\"\"\u001B[39;00m\n\u001B[1;32m--> 203\u001B[0m     backend \u001B[38;5;241m=\u001B[39m dispatcher(uri, \u001B[38;5;28mformat\u001B[39m, backend)\n\u001B[0;32m    204\u001B[0m     \u001B[38;5;28;01mreturn\u001B[39;00m backend\u001B[38;5;241m.\u001B[39mload(uri, frame_offset, num_frames, normalize, channels_first, \u001B[38;5;28mformat\u001B[39m, buffer_size)\n",
      "File \u001B[1;32mD:\\Anaconda\\envs\\pytorch_gpu\\Lib\\site-packages\\torchaudio\\_backend\\utils.py:115\u001B[0m, in \u001B[0;36mget_load_func.<locals>.dispatcher\u001B[1;34m(uri, format, backend_name)\u001B[0m\n\u001B[0;32m    113\u001B[0m     \u001B[38;5;28;01mif\u001B[39;00m backend\u001B[38;5;241m.\u001B[39mcan_decode(uri, \u001B[38;5;28mformat\u001B[39m):\n\u001B[0;32m    114\u001B[0m         \u001B[38;5;28;01mreturn\u001B[39;00m backend\n\u001B[1;32m--> 115\u001B[0m \u001B[38;5;28;01mraise\u001B[39;00m \u001B[38;5;167;01mRuntimeError\u001B[39;00m(\u001B[38;5;124mf\u001B[39m\u001B[38;5;124m\"\u001B[39m\u001B[38;5;124mCouldn\u001B[39m\u001B[38;5;124m'\u001B[39m\u001B[38;5;124mt find appropriate backend to handle uri \u001B[39m\u001B[38;5;132;01m{\u001B[39;00muri\u001B[38;5;132;01m}\u001B[39;00m\u001B[38;5;124m and format \u001B[39m\u001B[38;5;132;01m{\u001B[39;00m\u001B[38;5;28mformat\u001B[39m\u001B[38;5;132;01m}\u001B[39;00m\u001B[38;5;124m.\u001B[39m\u001B[38;5;124m\"\u001B[39m)\n",
      "\u001B[1;31mRuntimeError\u001B[0m: Couldn't find appropriate backend to handle uri data/superb/1_20905.wav and format None."
     ]
    }
   ],
   "source": [
    "import torch\n",
    "\n",
    "def load_data():\n",
    "    import os\n",
    "    import torchaudio\n",
    "\n",
    "    \n",
    "    xs = []\n",
    "    ys = []\n",
    "    \n",
    "    for filename in os.listdir('data/superb'):\n",
    "        if not filename.endswith('.wav'):\n",
    "            continue\n",
    "            \n",
    "        x = torchaudio.load('data/superb/%s' % filename)[0]\n",
    "        x = x.reshape(-1,1)\n",
    "            \n",
    "        y = int(filename[0])\n",
    "        \n",
    "        xs.append(x)\n",
    "        ys.append(y)\n",
    "        \n",
    "    return xs,ys\n",
    "\n",
    "xs,ys = load_data()\n",
    "\n",
    "len(xs), len(ys), xs[0].shape, ys[0]"
   ],
   "metadata": {
    "collapsed": false,
    "ExecuteTime": {
     "end_time": "2023-11-28T10:18:58.790729500Z",
     "start_time": "2023-11-28T10:18:58.756545500Z"
    }
   },
   "id": "93af23d95fd7ea08"
  },
  {
   "cell_type": "code",
   "execution_count": null,
   "outputs": [],
   "source": [
    "loader = torch.utils.data.DataLoader(dataset=dataset,\n",
    "                                     batch_size = 8,\n",
    "                                     shuffle = True,\n",
    "                                     drop_list = True)\n",
    "x,y = next(item(loader))\n",
    "\n",
    "len(loader),x.shape,y"
   ],
   "metadata": {
    "collapsed": false
   },
   "id": "89d9edec508412c4"
  },
  {
   "cell_type": "code",
   "execution_count": 29,
   "outputs": [
    {
     "data": {
      "text/plain": "torch.Size([8, 40])"
     },
     "execution_count": 29,
     "metadata": {},
     "output_type": "execute_result"
    }
   ],
   "source": [
    "#RNN神经网络层\n",
    "class Model(torch.nn.Module):\n",
    "    \n",
    "    def __init__(self):\n",
    "        super().__init__()\n",
    "        \n",
    "        #循环层\n",
    "        self.rnn1 = torch.nn.RNN(input_size=1,hidden_size=16,batch_first=True)\n",
    "        self.rnn2 = torch.nn.RNN(input_size=16,hidden_size=32,batch_first=True)\n",
    "        self.rnn3 = torch.nn.RNN(input_size=32,hidden_size=64,batch_first=True)\n",
    "        self.rnn4 = torch.nn.RNN(input_size=64,hidden_size=128,batch_first=True)\n",
    "        \n",
    "        #激活函数\n",
    "        self.relu = torch.nn.ReLU()\n",
    "        \n",
    "        #池化层\n",
    "        self.pool = torch.nn.AvgPool1d(kernel_size=7,stride=5)\n",
    "        \n",
    "        #线性输出\n",
    "        self.fc = torch.nn.Linear(in_features=640,out_features=10)\n",
    "        \n",
    "    def forward(self,x):\n",
    "        \n",
    "        x,_ = self.rnn1(x)\n",
    "        x = self.relu(x)\n",
    "        \n",
    "        x = x.permute(0,2,1)\n",
    "        x = self.pool(x)\n",
    "        x = x.permute(0,2,1)\n",
    "        \n",
    "        x,_ = self.rnn2(x)\n",
    "        x = self.relu(x)\n",
    "        x = x.permute(0,2,1)\n",
    "        x = self.pool(x)\n",
    "        x = x.permute(0,2,1)\n",
    "        \n",
    "        x, _ =self.rnn3(x)\n",
    "        x = self.relu(x)\n",
    "        x = x.permute(0,2,1)\n",
    "        x = self.pool(x)\n",
    "        x = x.permute(0,2,1)\n",
    "        \n",
    "        x, _ =self.rnn4(x)\n",
    "        x = self.relu(x)\n",
    "        x = x.permute(0,2,1)\n",
    "        x = self.pool(x)\n",
    "        x = x.permute(0,2,1)\n",
    "        \n",
    "        x = x.flatten(start_dim=1)\n",
    "        \n",
    "        return self.fc(x)\n",
    "    \n",
    "model = Model()\n",
    "\n",
    "model(torch.randn(8,4000,1)).shape"
   ],
   "metadata": {
    "collapsed": false,
    "ExecuteTime": {
     "end_time": "2023-11-28T09:34:07.986883300Z",
     "start_time": "2023-11-28T09:34:07.898499Z"
    }
   },
   "id": "d024b626a2692457"
  },
  {
   "cell_type": "code",
   "execution_count": 31,
   "outputs": [
    {
     "ename": "RuntimeError",
     "evalue": "Couldn't find appropriate backend to handle uri ./data_audio\\SpeechCommands\\speech_commands_v0.02\\three\\a04817c2_nohash_4.wav and format None.",
     "output_type": "error",
     "traceback": [
      "\u001B[1;31m---------------------------------------------------------------------------\u001B[0m",
      "\u001B[1;31mRuntimeError\u001B[0m                              Traceback (most recent call last)",
      "Cell \u001B[1;32mIn[31], line 21\u001B[0m\n\u001B[0;32m     17\u001B[0m                 \u001B[38;5;28mprint\u001B[39m(epoch,i,loss\u001B[38;5;241m.\u001B[39mitem(),acc)\n\u001B[0;32m     19\u001B[0m     torch\u001B[38;5;241m.\u001B[39msave(model,\u001B[38;5;124m'\u001B[39m\u001B[38;5;124mmodel3.model\u001B[39m\u001B[38;5;124m'\u001B[39m)\n\u001B[1;32m---> 21\u001B[0m train()\n",
      "Cell \u001B[1;32mIn[31], line 7\u001B[0m, in \u001B[0;36mtrain\u001B[1;34m()\u001B[0m\n\u001B[0;32m      4\u001B[0m model\u001B[38;5;241m.\u001B[39mtrain()\n\u001B[0;32m      6\u001B[0m \u001B[38;5;28;01mfor\u001B[39;00m epoch \u001B[38;5;129;01min\u001B[39;00m \u001B[38;5;28mrange\u001B[39m(\u001B[38;5;241m5\u001B[39m):\n\u001B[1;32m----> 7\u001B[0m     \u001B[38;5;28;01mfor\u001B[39;00m i, (x,y) \u001B[38;5;129;01min\u001B[39;00m \u001B[38;5;28menumerate\u001B[39m(train_loader):\n\u001B[0;32m      8\u001B[0m         out \u001B[38;5;241m=\u001B[39m model(x)\n\u001B[0;32m      9\u001B[0m         loss \u001B[38;5;241m=\u001B[39m loss_fun(out,y)\n",
      "File \u001B[1;32mD:\\Anaconda\\envs\\pytorch_gpu\\Lib\\site-packages\\torch\\utils\\data\\dataloader.py:630\u001B[0m, in \u001B[0;36m_BaseDataLoaderIter.__next__\u001B[1;34m(self)\u001B[0m\n\u001B[0;32m    627\u001B[0m \u001B[38;5;28;01mif\u001B[39;00m \u001B[38;5;28mself\u001B[39m\u001B[38;5;241m.\u001B[39m_sampler_iter \u001B[38;5;129;01mis\u001B[39;00m \u001B[38;5;28;01mNone\u001B[39;00m:\n\u001B[0;32m    628\u001B[0m     \u001B[38;5;66;03m# TODO(https://github.com/pytorch/pytorch/issues/76750)\u001B[39;00m\n\u001B[0;32m    629\u001B[0m     \u001B[38;5;28mself\u001B[39m\u001B[38;5;241m.\u001B[39m_reset()  \u001B[38;5;66;03m# type: ignore[call-arg]\u001B[39;00m\n\u001B[1;32m--> 630\u001B[0m data \u001B[38;5;241m=\u001B[39m \u001B[38;5;28mself\u001B[39m\u001B[38;5;241m.\u001B[39m_next_data()\n\u001B[0;32m    631\u001B[0m \u001B[38;5;28mself\u001B[39m\u001B[38;5;241m.\u001B[39m_num_yielded \u001B[38;5;241m+\u001B[39m\u001B[38;5;241m=\u001B[39m \u001B[38;5;241m1\u001B[39m\n\u001B[0;32m    632\u001B[0m \u001B[38;5;28;01mif\u001B[39;00m \u001B[38;5;28mself\u001B[39m\u001B[38;5;241m.\u001B[39m_dataset_kind \u001B[38;5;241m==\u001B[39m _DatasetKind\u001B[38;5;241m.\u001B[39mIterable \u001B[38;5;129;01mand\u001B[39;00m \\\n\u001B[0;32m    633\u001B[0m         \u001B[38;5;28mself\u001B[39m\u001B[38;5;241m.\u001B[39m_IterableDataset_len_called \u001B[38;5;129;01mis\u001B[39;00m \u001B[38;5;129;01mnot\u001B[39;00m \u001B[38;5;28;01mNone\u001B[39;00m \u001B[38;5;129;01mand\u001B[39;00m \\\n\u001B[0;32m    634\u001B[0m         \u001B[38;5;28mself\u001B[39m\u001B[38;5;241m.\u001B[39m_num_yielded \u001B[38;5;241m>\u001B[39m \u001B[38;5;28mself\u001B[39m\u001B[38;5;241m.\u001B[39m_IterableDataset_len_called:\n",
      "File \u001B[1;32mD:\\Anaconda\\envs\\pytorch_gpu\\Lib\\site-packages\\torch\\utils\\data\\dataloader.py:674\u001B[0m, in \u001B[0;36m_SingleProcessDataLoaderIter._next_data\u001B[1;34m(self)\u001B[0m\n\u001B[0;32m    672\u001B[0m \u001B[38;5;28;01mdef\u001B[39;00m \u001B[38;5;21m_next_data\u001B[39m(\u001B[38;5;28mself\u001B[39m):\n\u001B[0;32m    673\u001B[0m     index \u001B[38;5;241m=\u001B[39m \u001B[38;5;28mself\u001B[39m\u001B[38;5;241m.\u001B[39m_next_index()  \u001B[38;5;66;03m# may raise StopIteration\u001B[39;00m\n\u001B[1;32m--> 674\u001B[0m     data \u001B[38;5;241m=\u001B[39m \u001B[38;5;28mself\u001B[39m\u001B[38;5;241m.\u001B[39m_dataset_fetcher\u001B[38;5;241m.\u001B[39mfetch(index)  \u001B[38;5;66;03m# may raise StopIteration\u001B[39;00m\n\u001B[0;32m    675\u001B[0m     \u001B[38;5;28;01mif\u001B[39;00m \u001B[38;5;28mself\u001B[39m\u001B[38;5;241m.\u001B[39m_pin_memory:\n\u001B[0;32m    676\u001B[0m         data \u001B[38;5;241m=\u001B[39m _utils\u001B[38;5;241m.\u001B[39mpin_memory\u001B[38;5;241m.\u001B[39mpin_memory(data, \u001B[38;5;28mself\u001B[39m\u001B[38;5;241m.\u001B[39m_pin_memory_device)\n",
      "File \u001B[1;32mD:\\Anaconda\\envs\\pytorch_gpu\\Lib\\site-packages\\torch\\utils\\data\\_utils\\fetch.py:51\u001B[0m, in \u001B[0;36m_MapDatasetFetcher.fetch\u001B[1;34m(self, possibly_batched_index)\u001B[0m\n\u001B[0;32m     49\u001B[0m         data \u001B[38;5;241m=\u001B[39m \u001B[38;5;28mself\u001B[39m\u001B[38;5;241m.\u001B[39mdataset\u001B[38;5;241m.\u001B[39m__getitems__(possibly_batched_index)\n\u001B[0;32m     50\u001B[0m     \u001B[38;5;28;01melse\u001B[39;00m:\n\u001B[1;32m---> 51\u001B[0m         data \u001B[38;5;241m=\u001B[39m [\u001B[38;5;28mself\u001B[39m\u001B[38;5;241m.\u001B[39mdataset[idx] \u001B[38;5;28;01mfor\u001B[39;00m idx \u001B[38;5;129;01min\u001B[39;00m possibly_batched_index]\n\u001B[0;32m     52\u001B[0m \u001B[38;5;28;01melse\u001B[39;00m:\n\u001B[0;32m     53\u001B[0m     data \u001B[38;5;241m=\u001B[39m \u001B[38;5;28mself\u001B[39m\u001B[38;5;241m.\u001B[39mdataset[possibly_batched_index]\n",
      "File \u001B[1;32mD:\\Anaconda\\envs\\pytorch_gpu\\Lib\\site-packages\\torch\\utils\\data\\_utils\\fetch.py:51\u001B[0m, in \u001B[0;36m<listcomp>\u001B[1;34m(.0)\u001B[0m\n\u001B[0;32m     49\u001B[0m         data \u001B[38;5;241m=\u001B[39m \u001B[38;5;28mself\u001B[39m\u001B[38;5;241m.\u001B[39mdataset\u001B[38;5;241m.\u001B[39m__getitems__(possibly_batched_index)\n\u001B[0;32m     50\u001B[0m     \u001B[38;5;28;01melse\u001B[39;00m:\n\u001B[1;32m---> 51\u001B[0m         data \u001B[38;5;241m=\u001B[39m [\u001B[38;5;28mself\u001B[39m\u001B[38;5;241m.\u001B[39mdataset[idx] \u001B[38;5;28;01mfor\u001B[39;00m idx \u001B[38;5;129;01min\u001B[39;00m possibly_batched_index]\n\u001B[0;32m     52\u001B[0m \u001B[38;5;28;01melse\u001B[39;00m:\n\u001B[0;32m     53\u001B[0m     data \u001B[38;5;241m=\u001B[39m \u001B[38;5;28mself\u001B[39m\u001B[38;5;241m.\u001B[39mdataset[possibly_batched_index]\n",
      "File \u001B[1;32mD:\\Anaconda\\envs\\pytorch_gpu\\Lib\\site-packages\\torchaudio\\datasets\\speechcommands.py:179\u001B[0m, in \u001B[0;36mSPEECHCOMMANDS.__getitem__\u001B[1;34m(self, n)\u001B[0m\n\u001B[0;32m    159\u001B[0m \u001B[38;5;250m\u001B[39m\u001B[38;5;124;03m\"\"\"Load the n-th sample from the dataset.\u001B[39;00m\n\u001B[0;32m    160\u001B[0m \n\u001B[0;32m    161\u001B[0m \u001B[38;5;124;03mArgs:\u001B[39;00m\n\u001B[1;32m   (...)\u001B[0m\n\u001B[0;32m    176\u001B[0m \u001B[38;5;124;03m        Utterance number\u001B[39;00m\n\u001B[0;32m    177\u001B[0m \u001B[38;5;124;03m\"\"\"\u001B[39;00m\n\u001B[0;32m    178\u001B[0m metadata \u001B[38;5;241m=\u001B[39m \u001B[38;5;28mself\u001B[39m\u001B[38;5;241m.\u001B[39mget_metadata(n)\n\u001B[1;32m--> 179\u001B[0m waveform \u001B[38;5;241m=\u001B[39m _load_waveform(\u001B[38;5;28mself\u001B[39m\u001B[38;5;241m.\u001B[39m_archive, metadata[\u001B[38;5;241m0\u001B[39m], metadata[\u001B[38;5;241m1\u001B[39m])\n\u001B[0;32m    180\u001B[0m \u001B[38;5;28;01mreturn\u001B[39;00m (waveform,) \u001B[38;5;241m+\u001B[39m metadata[\u001B[38;5;241m1\u001B[39m:]\n",
      "File \u001B[1;32mD:\\Anaconda\\envs\\pytorch_gpu\\Lib\\site-packages\\torchaudio\\datasets\\utils.py:51\u001B[0m, in \u001B[0;36m_load_waveform\u001B[1;34m(root, filename, exp_sample_rate)\u001B[0m\n\u001B[0;32m     45\u001B[0m \u001B[38;5;28;01mdef\u001B[39;00m \u001B[38;5;21m_load_waveform\u001B[39m(\n\u001B[0;32m     46\u001B[0m     root: \u001B[38;5;28mstr\u001B[39m,\n\u001B[0;32m     47\u001B[0m     filename: \u001B[38;5;28mstr\u001B[39m,\n\u001B[0;32m     48\u001B[0m     exp_sample_rate: \u001B[38;5;28mint\u001B[39m,\n\u001B[0;32m     49\u001B[0m ):\n\u001B[0;32m     50\u001B[0m     path \u001B[38;5;241m=\u001B[39m os\u001B[38;5;241m.\u001B[39mpath\u001B[38;5;241m.\u001B[39mjoin(root, filename)\n\u001B[1;32m---> 51\u001B[0m     waveform, sample_rate \u001B[38;5;241m=\u001B[39m torchaudio\u001B[38;5;241m.\u001B[39mload(path)\n\u001B[0;32m     52\u001B[0m     \u001B[38;5;28;01mif\u001B[39;00m exp_sample_rate \u001B[38;5;241m!=\u001B[39m sample_rate:\n\u001B[0;32m     53\u001B[0m         \u001B[38;5;28;01mraise\u001B[39;00m \u001B[38;5;167;01mValueError\u001B[39;00m(\u001B[38;5;124mf\u001B[39m\u001B[38;5;124m\"\u001B[39m\u001B[38;5;124msample rate should be \u001B[39m\u001B[38;5;132;01m{\u001B[39;00mexp_sample_rate\u001B[38;5;132;01m}\u001B[39;00m\u001B[38;5;124m, but got \u001B[39m\u001B[38;5;132;01m{\u001B[39;00msample_rate\u001B[38;5;132;01m}\u001B[39;00m\u001B[38;5;124m\"\u001B[39m)\n",
      "File \u001B[1;32mD:\\Anaconda\\envs\\pytorch_gpu\\Lib\\site-packages\\torchaudio\\_backend\\utils.py:203\u001B[0m, in \u001B[0;36mget_load_func.<locals>.load\u001B[1;34m(uri, frame_offset, num_frames, normalize, channels_first, format, buffer_size, backend)\u001B[0m\n\u001B[0;32m    117\u001B[0m \u001B[38;5;28;01mdef\u001B[39;00m \u001B[38;5;21mload\u001B[39m(\n\u001B[0;32m    118\u001B[0m     uri: Union[BinaryIO, \u001B[38;5;28mstr\u001B[39m, os\u001B[38;5;241m.\u001B[39mPathLike],\n\u001B[0;32m    119\u001B[0m     frame_offset: \u001B[38;5;28mint\u001B[39m \u001B[38;5;241m=\u001B[39m \u001B[38;5;241m0\u001B[39m,\n\u001B[1;32m   (...)\u001B[0m\n\u001B[0;32m    125\u001B[0m     backend: Optional[\u001B[38;5;28mstr\u001B[39m] \u001B[38;5;241m=\u001B[39m \u001B[38;5;28;01mNone\u001B[39;00m,\n\u001B[0;32m    126\u001B[0m ) \u001B[38;5;241m-\u001B[39m\u001B[38;5;241m>\u001B[39m Tuple[torch\u001B[38;5;241m.\u001B[39mTensor, \u001B[38;5;28mint\u001B[39m]:\n\u001B[0;32m    127\u001B[0m \u001B[38;5;250m    \u001B[39m\u001B[38;5;124;03m\"\"\"Load audio data from source.\u001B[39;00m\n\u001B[0;32m    128\u001B[0m \n\u001B[0;32m    129\u001B[0m \u001B[38;5;124;03m    By default (``normalize=True``, ``channels_first=True``), this function returns Tensor with\u001B[39;00m\n\u001B[1;32m   (...)\u001B[0m\n\u001B[0;32m    201\u001B[0m \u001B[38;5;124;03m            `[channel, time]` else `[time, channel]`.\u001B[39;00m\n\u001B[0;32m    202\u001B[0m \u001B[38;5;124;03m    \"\"\"\u001B[39;00m\n\u001B[1;32m--> 203\u001B[0m     backend \u001B[38;5;241m=\u001B[39m dispatcher(uri, \u001B[38;5;28mformat\u001B[39m, backend)\n\u001B[0;32m    204\u001B[0m     \u001B[38;5;28;01mreturn\u001B[39;00m backend\u001B[38;5;241m.\u001B[39mload(uri, frame_offset, num_frames, normalize, channels_first, \u001B[38;5;28mformat\u001B[39m, buffer_size)\n",
      "File \u001B[1;32mD:\\Anaconda\\envs\\pytorch_gpu\\Lib\\site-packages\\torchaudio\\_backend\\utils.py:115\u001B[0m, in \u001B[0;36mget_load_func.<locals>.dispatcher\u001B[1;34m(uri, format, backend_name)\u001B[0m\n\u001B[0;32m    113\u001B[0m     \u001B[38;5;28;01mif\u001B[39;00m backend\u001B[38;5;241m.\u001B[39mcan_decode(uri, \u001B[38;5;28mformat\u001B[39m):\n\u001B[0;32m    114\u001B[0m         \u001B[38;5;28;01mreturn\u001B[39;00m backend\n\u001B[1;32m--> 115\u001B[0m \u001B[38;5;28;01mraise\u001B[39;00m \u001B[38;5;167;01mRuntimeError\u001B[39;00m(\u001B[38;5;124mf\u001B[39m\u001B[38;5;124m\"\u001B[39m\u001B[38;5;124mCouldn\u001B[39m\u001B[38;5;124m'\u001B[39m\u001B[38;5;124mt find appropriate backend to handle uri \u001B[39m\u001B[38;5;132;01m{\u001B[39;00muri\u001B[38;5;132;01m}\u001B[39;00m\u001B[38;5;124m and format \u001B[39m\u001B[38;5;132;01m{\u001B[39;00m\u001B[38;5;28mformat\u001B[39m\u001B[38;5;132;01m}\u001B[39;00m\u001B[38;5;124m.\u001B[39m\u001B[38;5;124m\"\u001B[39m)\n",
      "\u001B[1;31mRuntimeError\u001B[0m: Couldn't find appropriate backend to handle uri ./data_audio\\SpeechCommands\\speech_commands_v0.02\\three\\a04817c2_nohash_4.wav and format None."
     ]
    }
   ],
   "source": [
    "def train():\n",
    "    optimizer = torch.optim.Adam(model.parameters(),lr=1e-3)\n",
    "    loss_fun = torch.nn.CrossEntropyLoss()\n",
    "    model.train()\n",
    "    \n",
    "    for epoch in range(5):\n",
    "        for i, (x,y) in enumerate(train_loader):\n",
    "            out = model(x)\n",
    "            loss = loss_fun(out,y)\n",
    "            \n",
    "            loss.backward\n",
    "            optimizer.step()\n",
    "            optimizer.zero_grad()\n",
    "            \n",
    "            if i%1000 == 0:\n",
    "                acc = (out.argmax(dim=1)==y).sum().item()/len(y)\n",
    "                print(epoch,i,loss.item(),acc)\n",
    "                    \n",
    "    torch.save(model,'model3.model')\n",
    "    \n",
    "train()"
   ],
   "metadata": {
    "collapsed": false,
    "ExecuteTime": {
     "end_time": "2023-11-28T09:34:37.261534900Z",
     "start_time": "2023-11-28T09:34:37.213489200Z"
    }
   },
   "id": "7bfa45814747dfb1"
  }
 ],
 "metadata": {
  "kernelspec": {
   "display_name": "Python 3",
   "language": "python",
   "name": "python3"
  },
  "language_info": {
   "codemirror_mode": {
    "name": "ipython",
    "version": 2
   },
   "file_extension": ".py",
   "mimetype": "text/x-python",
   "name": "python",
   "nbconvert_exporter": "python",
   "pygments_lexer": "ipython2",
   "version": "2.7.6"
  }
 },
 "nbformat": 4,
 "nbformat_minor": 5
}
