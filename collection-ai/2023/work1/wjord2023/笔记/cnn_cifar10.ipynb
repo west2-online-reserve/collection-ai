{
 "cells": [
  {
   "cell_type": "markdown",
   "source": [
    "## 分类图像"
   ],
   "metadata": {
    "collapsed": false
   },
   "id": "ab351e291ed445e4"
  },
  {
   "cell_type": "code",
   "execution_count": 83,
   "outputs": [
    {
     "name": "stdout",
     "output_type": "stream",
     "text": [
      "Files already downloaded and verified\n",
      "Files already downloaded and verified\n",
      "训练集的长度:50000\n",
      "测试集的长度:10000\n"
     ]
    }
   ],
   "source": [
    "import torch\n",
    "import torchvision\n",
    "from torch.utils.data import DataLoader\n",
    "# 准备数据集\n",
    "train_data = torchvision.datasets.CIFAR10(root='data', train=True, transform=torchvision.transforms.ToTensor(),download=True)\n",
    "test_data = torchvision.datasets.CIFAR10(root='data', train=False, transform=torchvision.transforms.ToTensor(),download=True)\n",
    "\n",
    "print(\"训练集的长度:{}\".format(len(train_data)))\n",
    "print(\"测试集的长度:{}\".format(len(test_data)))"
   ],
   "metadata": {
    "collapsed": false,
    "ExecuteTime": {
     "end_time": "2023-11-28T08:25:20.777298200Z",
     "start_time": "2023-11-28T08:25:19.631761300Z"
    }
   },
   "id": "441c4e7cacd875df"
  },
  {
   "cell_type": "code",
   "execution_count": 61,
   "outputs": [
    {
     "data": {
      "text/plain": "(torch.Size([8, 3, 32, 32]), tensor([6, 9, 9, 4, 1, 1, 2, 7]))"
     },
     "execution_count": 61,
     "metadata": {},
     "output_type": "execute_result"
    }
   ],
   "source": [
    "# DataLoader加载数据集\n",
    "train_dataloader = DataLoader(train_data, batch_size=8)\n",
    "test_dataloader = DataLoader(test_data, batch_size=8)\n",
    "\n",
    "x, y = next(iter(train_dataloader))\n",
    "len(train_dataloader)\n",
    "x.shape, y"
   ],
   "metadata": {
    "collapsed": false,
    "ExecuteTime": {
     "start_time": "2023-11-28T08:01:43.991836Z"
    }
   },
   "id": "675acfde98a2c47e"
  },
  {
   "cell_type": "code",
   "execution_count": 78,
   "outputs": [
    {
     "data": {
      "text/plain": "torch.Size([8, 10])"
     },
     "execution_count": 78,
     "metadata": {},
     "output_type": "execute_result"
    }
   ],
   "source": [
    "# 定义cnn模型\n",
    "class Model(torch.nn.Module):\n",
    "    \n",
    "    def __init__(self):\n",
    "        super(Model, self).__init__()\n",
    "        \n",
    "        #520的卷积层\n",
    "        self.cnn1 = torch.nn.Conv2d(in_channels=3,\n",
    "                                    out_channels=16,\n",
    "                                    kernel_size=5,\n",
    "                                    stride=2,\n",
    "                                    padding=0)\n",
    "        #311的卷积层\n",
    "        self.cnn2 = torch.nn.Conv2d(in_channels=16,\n",
    "                                    out_channels=32,\n",
    "                                    kernel_size=3,\n",
    "                                    stride=1,\n",
    "                                    padding=1)\n",
    "        #710的卷积层\n",
    "        self.cnn3 = torch.nn.Conv2d(in_channels=32,\n",
    "                                    out_channels=128,\n",
    "                                    kernel_size=7,\n",
    "                                    stride=1,\n",
    "                                    padding=0)\n",
    "        #池化层\n",
    "        self.pool = torch.nn.MaxPool2d(kernel_size=2,stride=2)\n",
    "        \n",
    "        #激活函数\n",
    "        self.relu = torch.nn.ReLU()\n",
    "        \n",
    "        #全连接层\n",
    "        self.fc = torch.nn.Linear(in_features=128,out_features=10)\n",
    "        \n",
    "            #定义模型计算部分\n",
    "    def forward(self,x):\n",
    "        \n",
    "        # 第一次，卷积变换可以推演\n",
    "        #[8,3,32,32] -> [8,16,14,14]\n",
    "        x = self.cnn1(x)\n",
    "        x = self.relu(x)\n",
    "        \n",
    "        # 第二次,因为是311的卷积，所有尺寸不变\n",
    "        #[8,16,14,14] -> [8,32,14,14]\n",
    "        x = self.cnn2(x)\n",
    "        x = self.relu(x)\n",
    "        \n",
    "        #池化，尺寸变为一半\n",
    "        #[8,32,14,14] -> [8,32,7,7]\n",
    "        x = self.pool(x)\n",
    "        \n",
    "        # 第三次，710的卷积，尺寸变为3\n",
    "        #[8,32,7,7] -> [8,128,1,1]\n",
    "        x = self.cnn3(x)\n",
    "        x = self.relu(x)\n",
    "        \n",
    "        #将数据展平,便于线性运算，也先当于把图像变成向量\n",
    "        #[8,128,1,1] -> [8,128]\n",
    "        x = x.flatten(start_dim=1)\n",
    "        \n",
    "        #线性运算\n",
    "        #[8,128] -> [8,10]\n",
    "        return self.fc(x)\n",
    "    \n",
    "model = Model()\n",
    "\n",
    "model(torch.randn(8,3,32,32)).shape"
   ],
   "metadata": {
    "collapsed": false,
    "ExecuteTime": {
     "end_time": "2023-11-28T08:12:13.199613400Z",
     "start_time": "2023-11-28T08:12:13.187627100Z"
    }
   },
   "id": "996967e4156e81f9"
  },
  {
   "cell_type": "code",
   "execution_count": 80,
   "outputs": [
    {
     "name": "stdout",
     "output_type": "stream",
     "text": [
      "epoch:0, step:0, loss:2.305931806564331, acc:0.125\n",
      "epoch:0, step:1000, loss:1.5132529735565186, acc:0.125\n",
      "epoch:0, step:2000, loss:1.7923462390899658, acc:0.375\n",
      "epoch:0, step:3000, loss:1.3619712591171265, acc:0.5\n",
      "epoch:0, step:4000, loss:1.3302316665649414, acc:0.5\n",
      "epoch:0, step:5000, loss:0.9700559377670288, acc:0.75\n",
      "epoch:0, step:6000, loss:2.20335054397583, acc:0.375\n",
      "epoch:1, step:0, loss:0.6032549738883972, acc:0.875\n",
      "epoch:1, step:1000, loss:0.9141734838485718, acc:0.75\n",
      "epoch:1, step:2000, loss:1.3747743368148804, acc:0.75\n",
      "epoch:1, step:3000, loss:1.1171748638153076, acc:0.5\n",
      "epoch:1, step:4000, loss:1.032057762145996, acc:0.75\n",
      "epoch:1, step:5000, loss:0.935653567314148, acc:0.75\n",
      "epoch:1, step:6000, loss:1.7614184617996216, acc:0.375\n",
      "epoch:2, step:0, loss:0.3983888030052185, acc:0.875\n",
      "epoch:2, step:1000, loss:0.8888397216796875, acc:0.875\n",
      "epoch:2, step:2000, loss:1.4221217632293701, acc:0.625\n",
      "epoch:2, step:3000, loss:0.8549391627311707, acc:0.5\n",
      "epoch:2, step:4000, loss:0.962639331817627, acc:0.75\n",
      "epoch:2, step:5000, loss:0.8086132407188416, acc:0.75\n",
      "epoch:2, step:6000, loss:1.0528109073638916, acc:0.5\n",
      "epoch:3, step:0, loss:0.34744253754615784, acc:0.875\n",
      "epoch:3, step:1000, loss:0.9106470346450806, acc:0.75\n",
      "epoch:3, step:2000, loss:1.380962610244751, acc:0.75\n",
      "epoch:3, step:3000, loss:0.9748671650886536, acc:0.5\n",
      "epoch:3, step:4000, loss:1.131237268447876, acc:0.625\n",
      "epoch:3, step:5000, loss:0.656531810760498, acc:0.75\n",
      "epoch:3, step:6000, loss:0.6879848837852478, acc:0.75\n",
      "epoch:4, step:0, loss:0.2569413185119629, acc:0.875\n",
      "epoch:4, step:1000, loss:0.7719889283180237, acc:0.75\n",
      "epoch:4, step:2000, loss:1.1346031427383423, acc:0.75\n",
      "epoch:4, step:3000, loss:0.8223880529403687, acc:0.75\n",
      "epoch:4, step:4000, loss:1.0769176483154297, acc:0.875\n",
      "epoch:4, step:5000, loss:0.4537889361381531, acc:0.75\n",
      "epoch:4, step:6000, loss:0.48514190316200256, acc:0.875\n"
     ]
    }
   ],
   "source": [
    "#训练模型\n",
    "def train():\n",
    "    optimizier = torch.optim.Adam(model.parameters(),lr=1e-3)\n",
    "    loss_func = torch.nn.CrossEntropyLoss()\n",
    "    model.train()\n",
    "    \n",
    "    for epoch in range(5):\n",
    "        for i, (x,y) in enumerate(train_dataloader):\n",
    "            out = model(x)\n",
    "            loss = loss_func(out,y)\n",
    "            \n",
    "            loss.backward()\n",
    "            optimizier.step()\n",
    "            optimizier.zero_grad()\n",
    "            \n",
    "            if i % 1000 == 0:\n",
    "                acc = (out.argmax(dim=1) == y).sum().item() / len(y)\n",
    "                print(\"epoch:{}, step:{}, loss:{}, acc:{}\".format(epoch, i, loss.item(), acc))\n",
    "            \n",
    "        torch.save(model, \"model2.model\")\n",
    "        \n",
    "train()"
   ],
   "metadata": {
    "collapsed": false,
    "ExecuteTime": {
     "end_time": "2023-11-28T08:21:56.006009600Z",
     "start_time": "2023-11-28T08:17:16.599339400Z"
    }
   },
   "id": "d179ed4c7c3b9277"
  },
  {
   "cell_type": "code",
   "execution_count": 82,
   "outputs": [
    {
     "name": "stdout",
     "output_type": "stream",
     "text": [
      "acc:0.6352\n"
     ]
    }
   ],
   "source": [
    "#测试模型\n",
    "@torch.no_grad()\n",
    "def test():\n",
    "    model = torch.load(\"model2.model\")\n",
    "    model.eval()\n",
    "    \n",
    "    total_num = 0\n",
    "    total_correct = 0\n",
    "    \n",
    "    for x,y in test_dataloader:\n",
    "        out = model(x)\n",
    "        pred = out.argmax(dim=1)\n",
    "        total_correct += (pred == y).sum().item()\n",
    "        total_num += len(y)\n",
    "        \n",
    "    print(\"acc:{}\".format(total_correct / total_num))\n",
    "\n",
    "test()"
   ],
   "metadata": {
    "collapsed": false,
    "ExecuteTime": {
     "end_time": "2023-11-28T08:23:30.139297500Z",
     "start_time": "2023-11-28T08:23:28.369763300Z"
    }
   },
   "id": "7cddef1f32de4656"
  }
 ],
 "metadata": {
  "kernelspec": {
   "display_name": "Python 3",
   "language": "python",
   "name": "python3"
  },
  "language_info": {
   "codemirror_mode": {
    "name": "ipython",
    "version": 2
   },
   "file_extension": ".py",
   "mimetype": "text/x-python",
   "name": "python",
   "nbconvert_exporter": "python",
   "pygments_lexer": "ipython2",
   "version": "2.7.6"
  }
 },
 "nbformat": 4,
 "nbformat_minor": 5
}
