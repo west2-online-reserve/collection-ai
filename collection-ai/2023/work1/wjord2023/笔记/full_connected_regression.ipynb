{
 "cells": [
  {
   "cell_type": "markdown",
   "source": [
    "## 生成数据的函数"
   ],
   "metadata": {
    "collapsed": false
   },
   "id": "cbeb64c5a9e5c71d"
  },
  {
   "cell_type": "code",
   "execution_count": 2,
   "outputs": [
    {
     "data": {
      "text/plain": "(0.02898062171287108, 0.18676513013189078, 0.005412569585507466)"
     },
     "execution_count": 2,
     "metadata": {},
     "output_type": "execute_result"
    }
   ],
   "source": [
    "def get_rectangle():\n",
    "    import random\n",
    "    width = random.random() \n",
    "    height = random.random()\n",
    "    s = width * height\n",
    "    return width, height, s\n",
    "\n",
    "get_rectangle()"
   ],
   "metadata": {
    "collapsed": false,
    "ExecuteTime": {
     "end_time": "2023-11-28T06:15:23.846548500Z",
     "start_time": "2023-11-28T06:15:23.824646400Z"
    }
   },
   "id": "be6baae6a8edd6a6"
  },
  {
   "cell_type": "markdown",
   "source": [
    "## 定义数据集"
   ],
   "metadata": {
    "collapsed": false
   },
   "id": "93602261e4c8c44d"
  },
  {
   "cell_type": "code",
   "execution_count": 3,
   "outputs": [
    {
     "data": {
      "text/plain": "(500, (tensor([0.3813, 0.1216]), tensor([0.0464])))"
     },
     "execution_count": 3,
     "metadata": {},
     "output_type": "execute_result"
    }
   ],
   "source": [
    "import torch\n",
    "\n",
    "class Dataset(torch.utils.data.Dataset):\n",
    "    \n",
    "    def __init__(self):\n",
    "        pass\n",
    "    \n",
    "    def __len__(self):\n",
    "        return 500\n",
    "    \n",
    "    def __getitem__(self, i):\n",
    "        \n",
    "        width, height, s = get_rectangle()\n",
    "        \n",
    "        x = torch.FloatTensor([width, height])\n",
    "        y = torch.FloatTensor([s])\n",
    "        \n",
    "        return x, y\n",
    "    \n",
    "dataset = Dataset()\n",
    "\n",
    "len(dataset), dataset[0]"
   ],
   "metadata": {
    "collapsed": false,
    "ExecuteTime": {
     "end_time": "2023-11-28T06:16:08.305227Z",
     "start_time": "2023-11-28T06:16:08.280978700Z"
    }
   },
   "id": "12417e2d99824047"
  },
  {
   "cell_type": "markdown",
   "source": [
    "## Loader数据遍历工具"
   ],
   "metadata": {
    "collapsed": false
   },
   "id": "904b78ecd1fd1696"
  },
  {
   "cell_type": "code",
   "execution_count": 10,
   "outputs": [
    {
     "data": {
      "text/plain": "(62,\n [tensor([[0.9506, 0.1355],\n          [0.7047, 0.5434],\n          [0.9479, 0.8158],\n          [0.0732, 0.0904],\n          [0.7432, 0.4849],\n          [0.6078, 0.2221],\n          [0.0312, 0.4173],\n          [0.4079, 0.5259]]),\n  tensor([[0.1288],\n          [0.3830],\n          [0.7734],\n          [0.0066],\n          [0.3604],\n          [0.1350],\n          [0.0130],\n          [0.2145]])])"
     },
     "execution_count": 10,
     "metadata": {},
     "output_type": "execute_result"
    }
   ],
   "source": [
    "loader = torch.utils.data.DataLoader(dataset=dataset,\n",
    "                                     batch_size=8,\n",
    "                                     shuffle=True,\n",
    "                                     drop_last=True)\n",
    "\n",
    "len(loader),next(iter(loader))"
   ],
   "metadata": {
    "collapsed": false,
    "ExecuteTime": {
     "end_time": "2023-11-28T06:27:11.368704900Z",
     "start_time": "2023-11-28T06:27:11.361617300Z"
    }
   },
   "id": "c135b46b67a09854"
  },
  {
   "cell_type": "markdown",
   "source": [
    "## 定义神经网络模型"
   ],
   "metadata": {
    "collapsed": false
   },
   "id": "2054ef1f04b40bb3"
  },
  {
   "cell_type": "code",
   "execution_count": 11,
   "outputs": [
    {
     "data": {
      "text/plain": "torch.Size([8, 1])"
     },
     "execution_count": 11,
     "metadata": {},
     "output_type": "execute_result"
    }
   ],
   "source": [
    "class Model(torch.nn.Module):\n",
    "    \n",
    "    def __init__(self):\n",
    "        super().__init__()\n",
    "        \n",
    "        self.fc = torch.nn.Sequential(\n",
    "            torch.nn.Linear(in_features=2,out_features=32),\n",
    "            torch.nn.ReLU(),\n",
    "            torch.nn.Linear(in_features=32,out_features=32),\n",
    "            torch.nn.ReLU(),\n",
    "            torch.nn.Linear(in_features=32,out_features=1),\n",
    "        )\n",
    "        \n",
    "    def forward(self,x):\n",
    "            return self.fc(x)\n",
    "        \n",
    "model = Model()\n",
    "\n",
    "model(torch.randn(8,2)).shape"
   ],
   "metadata": {
    "collapsed": false,
    "ExecuteTime": {
     "end_time": "2023-11-28T06:28:43.302871Z",
     "start_time": "2023-11-28T06:28:43.295374Z"
    }
   },
   "id": "732d05f38c2df26"
  },
  {
   "cell_type": "code",
   "execution_count": 19,
   "outputs": [
    {
     "name": "stdout",
     "output_type": "stream",
     "text": [
      "0 6.74090042593889e-05\n",
      "20 3.11159819830209e-05\n",
      "40 3.498894511722028e-05\n",
      "60 1.2907215932500549e-05\n",
      "80 1.879504634416662e-05\n"
     ]
    }
   ],
   "source": [
    "def train():\n",
    "    optimizer = torch.optim.Adam(model.parameters(),lr=1e-4)\n",
    "    \n",
    "    # MSE_loss差的平方求平均，适合要完全相等的模型\n",
    "    loss_fun = torch.nn.MSELoss()\n",
    "    \n",
    "    model.train()\n",
    "    \n",
    "    for epoch in range(100):\n",
    "        \n",
    "        for i, (x,y) in enumerate(loader):\n",
    "            \n",
    "            out = model(x)\n",
    "            \n",
    "            loss = loss_fun(out,y)\n",
    "            \n",
    "            loss.backward()\n",
    "            \n",
    "            optimizer.step()\n",
    "            \n",
    "            optimizer.zero_grad()\n",
    "            \n",
    "        if epoch%20 == 0:\n",
    "            print(epoch,loss.item())\n",
    "            \n",
    "    torch.save(model.state_dict(), 'model1.pth')\n",
    "    \n",
    "train()"
   ],
   "metadata": {
    "collapsed": false,
    "ExecuteTime": {
     "end_time": "2023-11-28T06:40:19.598253700Z",
     "start_time": "2023-11-28T06:40:16.191706700Z"
    }
   },
   "id": "9d3bf740d109bb5c"
  },
  {
   "cell_type": "code",
   "execution_count": 23,
   "outputs": [
    {
     "name": "stdout",
     "output_type": "stream",
     "text": [
      "tensor([[0.6756, 0.6707],\n",
      "        [0.3611, 0.3595],\n",
      "        [0.5066, 0.5038],\n",
      "        [0.3818, 0.3875],\n",
      "        [0.1678, 0.1620],\n",
      "        [0.4522, 0.4537],\n",
      "        [0.0065, 0.0060],\n",
      "        [0.0437, 0.0362]])\n"
     ]
    }
   ],
   "source": [
    "@torch.no_grad()\n",
    "def test():\n",
    "    model.load_state_dict(torch.load('model1.pth'))\n",
    "    model.eval()\n",
    "    x, y = next(iter(loader))\n",
    "    out = model(x)\n",
    "    print(torch.cat([out,y],dim=1))\n",
    "    \n",
    "test()"
   ],
   "metadata": {
    "collapsed": false,
    "ExecuteTime": {
     "end_time": "2023-11-28T06:44:30.357719200Z",
     "start_time": "2023-11-28T06:44:30.350966300Z"
    }
   },
   "id": "67cc1ccaa927713d"
  }
 ],
 "metadata": {
  "kernelspec": {
   "display_name": "Python 3",
   "language": "python",
   "name": "python3"
  },
  "language_info": {
   "codemirror_mode": {
    "name": "ipython",
    "version": 2
   },
   "file_extension": ".py",
   "mimetype": "text/x-python",
   "name": "python",
   "nbconvert_exporter": "python",
   "pygments_lexer": "ipython2",
   "version": "2.7.6"
  }
 },
 "nbformat": 4,
 "nbformat_minor": 5
}
