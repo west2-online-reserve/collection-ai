{
 "cells": [
  {
   "cell_type": "code",
   "execution_count": 7,
   "id": "97894587",
   "metadata": {},
   "outputs": [
    {
     "name": "stdout",
     "output_type": "stream",
     "text": [
      "原始数据为：\n",
      "[[ 0.4 -0.8]\n",
      " [-0.7 -0.5]\n",
      " [-1.3  1.4]\n",
      " [ 0.1  0.3]]\n",
      "转换后的数据为：\n",
      "[[0.76852478 0.23147522]\n",
      " [0.450166   0.549834  ]\n",
      " [0.06297336 0.93702664]\n",
      " [0.450166   0.549834  ]]\n"
     ]
    }
   ],
   "source": [
    "import numpy as np\n",
    "\n",
    "def softmax(arr):\n",
    "    \n",
    "    #求出原始数据的最大值，用原始数据减去那个最大值，使数据数据向左平移，此时数据小于等于0，这样子就能保证数据转为指数时不会出现指数爆炸，能保证数据更加稳定\n",
    "    max=np.max(arr,axis=1,keepdims=True)\n",
    "    exp_values=np.exp(arr-max)\n",
    "    \n",
    "    #输出相加的结果\n",
    "    exp_sum=np.sum(exp_values,axis=1,keepdims=True)\n",
    "    \n",
    "    return exp_values/exp_sum\n",
    "\n",
    "\n",
    "#测试\n",
    "arr=np.array([[0.4,-0.8],\n",
    "             [-0.7,-0.5],\n",
    "             [-1.3,1.4],\n",
    "             [0.1,0.3]])\n",
    "print(\"原始数据为：\")\n",
    "print(arr)\n",
    "print(\"转换后的数据为：\")\n",
    "print(softmax(arr))\n",
    "    "
   ]
  }
 ],
 "metadata": {
  "kernelspec": {
   "display_name": "Python 3 (ipykernel)",
   "language": "python",
   "name": "python3"
  },
  "language_info": {
   "codemirror_mode": {
    "name": "ipython",
    "version": 3
   },
   "file_extension": ".py",
   "mimetype": "text/x-python",
   "name": "python",
   "nbconvert_exporter": "python",
   "pygments_lexer": "ipython3",
   "version": "3.9.13"
  }
 },
 "nbformat": 4,
 "nbformat_minor": 5
}
