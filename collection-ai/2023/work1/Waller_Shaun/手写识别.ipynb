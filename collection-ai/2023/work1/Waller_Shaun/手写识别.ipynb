{
 "cells": [
  {
   "cell_type": "markdown",
   "id": "1ecd3ee3-470e-426a-a127-85c302f80826",
   "metadata": {},
   "source": [
    "#1.定义学习率\n",
    "#2.构建transforms，对图像做变换\n",
    "#3.下载，加载数据集MNIST\n",
    "#4.构建网络模型\n",
    "#5.定义训练方法\n",
    "#6.定义测试方法\n",
    "#7.开始训练模型，输出预测结果"
   ]
  },
  {
   "cell_type": "code",
   "execution_count": 1,
   "id": "6723e175-9754-4698-9c39-bd3883c3f2a7",
   "metadata": {},
   "outputs": [],
   "source": [
    "#加载必要的库\n",
    "import torch\n",
    "import torch.nn as nn\n",
    "import torch.nn.functional as F\n",
    "import torch.optim as optim\n",
    "from torchvision import datasets, transforms"
   ]
  },
  {
   "cell_type": "code",
   "execution_count": 2,
   "id": "1cdb0602-504a-4c72-973a-29636cba1755",
   "metadata": {},
   "outputs": [],
   "source": [
    "#定义超参数\n",
    "BATCH_SIZE = 128 # 每批次处理的数据\n",
    "DEVICE = torch.device(\"cuda\" if torch.cuda.is_available() else \"cpu\") #是否用gpu训练\n",
    "EPOCHS = 20 #训练数据集的轮次"
   ]
  },
  {
   "cell_type": "code",
   "execution_count": 3,
   "id": "4ee86a5d-83b7-4d20-a726-50e4ca6d9ecc",
   "metadata": {},
   "outputs": [],
   "source": [
    "#构建pipeline，处理图像\n",
    "pipeline = transforms.Compose([\n",
    "    transforms.ToTensor(),#将图片转换为Tensor\n",
    "    transforms.Normalize((0.1307,),(0.3081, ))#标准化，降低复杂度\n",
    "])"
   ]
  },
  {
   "cell_type": "code",
   "execution_count": 4,
   "id": "5b2a3af9-23ca-4375-a346-535d265d072e",
   "metadata": {},
   "outputs": [],
   "source": [
    "#加载数据\n",
    "from torch.utils.data import DataLoader\n",
    "#下载\n",
    "train_set = datasets.MNIST(\"data\",train=True, download=True, transform=pipeline) #训练集\n",
    "\n",
    "test_set = datasets.MNIST(\"data\",train=False, download=True, transform=pipeline) #测试集\n",
    "\n",
    "#加载数据\n",
    "train_loader = DataLoader(train_set , batch_size=BATCH_SIZE, shuffle=True)\n",
    "test_loader = DataLoader(test_set , batch_size=BATCH_SIZE, shuffle=True)\n"
   ]
  },
  {
   "cell_type": "code",
   "execution_count": 5,
   "id": "b379a6fa-df57-40d9-97cc-5f2c9457dae6",
   "metadata": {},
   "outputs": [],
   "source": [
    "#显示图片\n",
    "with open(\"./data/MNIST/raw/t10k-images-idx3-ubyte\",\"rb\") as f:\n",
    "    file = f.read()"
   ]
  },
  {
   "cell_type": "code",
   "execution_count": 6,
   "id": "b1400975-5f5f-4ecf-9c06-9f44400d76b4",
   "metadata": {},
   "outputs": [],
   "source": [
    "imagel = [int(str(item).encode('ascii'),16)for item in file[16:16+784]] #用来保存图片"
   ]
  },
  {
   "cell_type": "code",
   "execution_count": 7,
   "id": "0f62adf6-4517-44b5-9380-c26374e0ff8a",
   "metadata": {},
   "outputs": [
    {
     "name": "stdout",
     "output_type": "stream",
     "text": [
      "(28, 28, 1)\n"
     ]
    }
   ],
   "source": [
    "import cv2\n",
    "import numpy as np\n",
    "\n",
    "imagel_np = np.array(imagel,dtype=np.uint8).reshape(28,28,1)\n",
    "print(imagel_np.shape)"
   ]
  },
  {
   "cell_type": "code",
   "execution_count": 8,
   "id": "2a1ed757-3438-4a87-8e73-704385aa0ca6",
   "metadata": {},
   "outputs": [
    {
     "data": {
      "text/plain": [
       "True"
      ]
     },
     "execution_count": 8,
     "metadata": {},
     "output_type": "execute_result"
    }
   ],
   "source": [
    "cv2.imwrite(\"digit.jpg\",imagel_np)"
   ]
  },
  {
   "cell_type": "code",
   "execution_count": 9,
   "id": "73752d6b-138d-4fc1-9227-96ee91a62d7a",
   "metadata": {},
   "outputs": [],
   "source": [
    "#构建网络模型\n",
    "class Digit(nn.Module):\n",
    "    def __init__(self):\n",
    "        super().__init__()\n",
    "        self.conv1 = nn.Conv2d(1,10,5) # 1灰度图片的通道 10输出通道 5：kernel卷积核\n",
    "        self.conv2 = nn.Conv2d(10,20,3) #10:输入通道 20：输出通道 3：kernel\n",
    "        #全连接层\n",
    "        self.fc1 =nn.Linear(20*10*10,500) #20*10*10:输入通道，500：输出通道\n",
    "        self.fc2 = nn.Linear(500,10)#500:输入通道，10：输出通道\n",
    "\n",
    "    def forward(self,x):\n",
    "        input_size = x.size(0) #batch_size x 1(灰度） x 28 x 28（像素）\n",
    "        x = self.conv1(x) #输入：batch*1*28*28，输出：batch*10*24*24（28-5+1=24）\n",
    "        x = F.relu(x)#激活函数 保持形状不变 输出：batch*10*24*24\n",
    "        x = F.max_pool2d(x,2,2)#池化层 ,把x变成分块矩阵，找其中的最大值（提取图片最明显的特征，忽略小细节）\n",
    "                                #输入batch*10*24*24 输出：batch*10*12*12 （步长为2，减半）\n",
    "        x = self.conv2(x) #输入batch*10*12*12 输出：batch*20*10*10（12-3+1=10）\n",
    "        x = F.relu(x)\n",
    "        \n",
    "        x = x.view(input_size,-1)# 拉平，-1自动计算维度，20*10*10=2000 \n",
    "        x = self.fc1(x) #输入：batch*2000 输出：batch*500（全连接层定义500）\n",
    "        x = F.relu(x) # 保持shape不变\n",
    "\n",
    "        x = self.fc2(x) #输入：Batch*500 输出：batch*10\n",
    "\n",
    "        output = F.log_softmax(x,dim=1) #计算分类后，每个数字的概率值\n",
    "        return output"
   ]
  },
  {
   "cell_type": "code",
   "execution_count": 10,
   "id": "530fd420-6725-4760-a32b-b2d38ce65a9c",
   "metadata": {},
   "outputs": [],
   "source": [
    "#定义优化器\n",
    "model = Digit().to(DEVICE)\n",
    "\n",
    "optimizer = optim.Adam(model.parameters())#优化器，用adam每个训练参数的学习率可以自适应变化"
   ]
  },
  {
   "cell_type": "code",
   "execution_count": 11,
   "id": "1ca7251e-0183-4bdc-b3ee-5b4ec9039077",
   "metadata": {},
   "outputs": [],
   "source": [
    "#定义训练方法\n",
    "def train_model(model, device, train_loader, optimizer, epoch):\n",
    "    #模型训练\n",
    "    model.train()\n",
    "    for batch_index,(data,target) in enumerate(train_loader):\n",
    "        #部署到device上\n",
    "        data, target = data.to(device), target.to(device)\n",
    "        #梯度初始化\n",
    "        optimizer.zero_grad()\n",
    "        #预测 训练后的结果\n",
    "        output = model(data)\n",
    "        #计算损失\n",
    "        loss = F.cross_entropy(output,target)#交叉熵损失，针对多分类任务\n",
    "        #反向传播 更新权重，神经元参数\n",
    "        loss.backward()\n",
    "        #参数优化\n",
    "        optimizer.step()\n",
    "        if batch_index % 3000 ==0:\n",
    "            print(\"Train Epoch:{}\\t Loss:{:.6f}\\n\".format(epoch,loss.item()))\n",
    "        \n",
    "        "
   ]
  },
  {
   "cell_type": "code",
   "execution_count": 12,
   "id": "bfbb4d57-51b8-49ea-9823-cff1d864151c",
   "metadata": {},
   "outputs": [],
   "source": [
    "#定义测试方法\n",
    "def test_model(model, device, test_loader):\n",
    "    #模型验证\n",
    "    model.eval()\n",
    "    #正确率\n",
    "    correct = 0.0\n",
    "    #测试损失\n",
    "    test_loss = 0.0\n",
    "    with torch.no_grad(): #不会计算梯度，也不进行反向传播\n",
    "        for data, target in test_loader:\n",
    "            #部署\n",
    "            data,target = data.to(device), target.to(device)\n",
    "            #测试数据\n",
    "            output = model(data)\n",
    "            #计算损失\n",
    "            test_loss += F.cross_entropy(output,target).item()\n",
    "            #找出最大值下标\n",
    "            pred = output.argmax(dim=1)\n",
    "            #累计正确率\n",
    "            correct += pred.eq(target.view_as(pred)).sum().item()\n",
    "        test_loss /= len(test_loader.dataset)\n",
    "        accuracy = 100.0*correct / len(test_loader.dataset)\n",
    "        print(\"Test_Average Loss:{:.4f}\\t Accuracy:{:.3f}%\\n\".format(test_loss,accuracy))"
   ]
  },
  {
   "cell_type": "code",
   "execution_count": null,
   "id": "2710b131-91b1-46de-ba69-f786de423dd8",
   "metadata": {},
   "outputs": [
    {
     "name": "stdout",
     "output_type": "stream",
     "text": [
      "Train Epoch:1\t Loss:2.303189\n",
      "\n",
      "Test_Average Loss:0.0009\t Accuracy:98.250%\n",
      "\n",
      "Train Epoch:2\t Loss:0.019744\n",
      "\n",
      "Test_Average Loss:0.0008\t Accuracy:98.410%\n",
      "\n",
      "Train Epoch:3\t Loss:0.010082\n",
      "\n",
      "Test_Average Loss:0.0007\t Accuracy:98.560%\n",
      "\n",
      "Train Epoch:4\t Loss:0.063900\n",
      "\n",
      "Test_Average Loss:0.0007\t Accuracy:98.610%\n",
      "\n",
      "Train Epoch:5\t Loss:0.011997\n",
      "\n",
      "Test_Average Loss:0.0005\t Accuracy:98.930%\n",
      "\n",
      "Train Epoch:6\t Loss:0.000366\n",
      "\n",
      "Test_Average Loss:0.0008\t Accuracy:98.660%\n",
      "\n",
      "Train Epoch:7\t Loss:0.000621\n",
      "\n",
      "Test_Average Loss:0.0009\t Accuracy:98.700%\n",
      "\n",
      "Train Epoch:8\t Loss:0.009907\n",
      "\n",
      "Test_Average Loss:0.0006\t Accuracy:99.010%\n",
      "\n",
      "Train Epoch:9\t Loss:0.019513\n",
      "\n",
      "Test_Average Loss:0.0007\t Accuracy:98.940%\n",
      "\n",
      "Train Epoch:10\t Loss:0.020159\n",
      "\n",
      "Test_Average Loss:0.0007\t Accuracy:98.980%\n",
      "\n",
      "Train Epoch:11\t Loss:0.034819\n",
      "\n",
      "Test_Average Loss:0.0007\t Accuracy:99.000%\n",
      "\n",
      "Train Epoch:12\t Loss:0.000521\n",
      "\n",
      "Test_Average Loss:0.0011\t Accuracy:98.740%\n",
      "\n",
      "Train Epoch:13\t Loss:0.000002\n",
      "\n",
      "Test_Average Loss:0.0008\t Accuracy:98.980%\n",
      "\n",
      "Train Epoch:14\t Loss:0.000102\n",
      "\n",
      "Test_Average Loss:0.0009\t Accuracy:98.980%\n",
      "\n",
      "Train Epoch:15\t Loss:0.010192\n",
      "\n",
      "Test_Average Loss:0.0009\t Accuracy:99.050%\n",
      "\n",
      "Train Epoch:16\t Loss:0.000209\n",
      "\n",
      "Test_Average Loss:0.0010\t Accuracy:98.890%\n",
      "\n",
      "Train Epoch:17\t Loss:0.000553\n",
      "\n",
      "Test_Average Loss:0.0009\t Accuracy:98.910%\n",
      "\n",
      "Train Epoch:18\t Loss:0.000000\n",
      "\n",
      "Test_Average Loss:0.0010\t Accuracy:98.820%\n",
      "\n",
      "Train Epoch:19\t Loss:0.000492\n",
      "\n",
      "Test_Average Loss:0.0010\t Accuracy:99.050%\n",
      "\n",
      "Train Epoch:20\t Loss:0.005116\n",
      "\n"
     ]
    }
   ],
   "source": [
    "#调用方法，输出结果\n",
    "for epoch in range(1,EPOCHS+1):\n",
    "    train_model(model,DEVICE,train_loader,optimizer,epoch)\n",
    "    test_result = test_model(model,DEVICE,test_loader)"
   ]
  }
 ],
 "metadata": {
  "kernelspec": {
   "display_name": "Python 3 (ipykernel)",
   "language": "python",
   "name": "python3"
  },
  "language_info": {
   "codemirror_mode": {
    "name": "ipython",
    "version": 3
   },
   "file_extension": ".py",
   "mimetype": "text/x-python",
   "name": "python",
   "nbconvert_exporter": "python",
   "pygments_lexer": "ipython3",
   "version": "3.10.6"
  }
 },
 "nbformat": 4,
 "nbformat_minor": 5
}
