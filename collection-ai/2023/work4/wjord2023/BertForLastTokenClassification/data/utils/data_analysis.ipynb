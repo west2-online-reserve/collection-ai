{
 "cells": [
  {
   "cell_type": "markdown",
   "metadata": {},
   "source": [
    "### 数据预处理"
   ]
  },
  {
   "cell_type": "code",
   "execution_count": 4,
   "metadata": {},
   "outputs": [
    {
     "data": {
      "text/html": [
       "<div>\n",
       "<style scoped>\n",
       "    .dataframe tbody tr th:only-of-type {\n",
       "        vertical-align: middle;\n",
       "    }\n",
       "\n",
       "    .dataframe tbody tr th {\n",
       "        vertical-align: top;\n",
       "    }\n",
       "\n",
       "    .dataframe thead th {\n",
       "        text-align: right;\n",
       "    }\n",
       "</style>\n",
       "<table border=\"1\" class=\"dataframe\">\n",
       "  <thead>\n",
       "    <tr style=\"text-align: right;\">\n",
       "      <th></th>\n",
       "      <th>book_name</th>\n",
       "      <th>book_type</th>\n",
       "      <th>chapter_name</th>\n",
       "      <th>chapter_index</th>\n",
       "      <th>split_book_text_1</th>\n",
       "      <th>split_book_text_2</th>\n",
       "    </tr>\n",
       "  </thead>\n",
       "  <tbody>\n",
       "    <tr>\n",
       "      <th>0</th>\n",
       "      <td>NBA：打架带个球没毛病吧！</td>\n",
       "      <td>女生</td>\n",
       "      <td>带着没有开苞的系统去参加选秀！</td>\n",
       "      <td>1</td>\n",
       "      <td>叶轻尘接到这个任务的时候，内心是崩溃的。\\n别人穿越都是满级号开局。\\n系统有是有，但是不能</td>\n",
       "      <td>说一无是处吧，只能说是毫无用处。\\n虽然说无限体能十分的牛逼，但是在NCAA的赛场上他也没有...</td>\n",
       "    </tr>\n",
       "    <tr>\n",
       "      <th>1</th>\n",
       "      <td>NBA：打架带个球没毛病吧！</td>\n",
       "      <td>女生</td>\n",
       "      <td>带着没有开苞的系统去参加选秀！</td>\n",
       "      <td>1</td>\n",
       "      <td>所以，叶轻尘在这一年的时间里，基本上没怎么展示过这两个技能。\\n所以说，叶轻尘唯一能够让人感...</td>\n",
       "      <td>不多。\\n反正也就是一个蓝领球员，这样的球员根本没有什么值得好关注的。\\n甚至，在平时的球队...</td>\n",
       "    </tr>\n",
       "    <tr>\n",
       "      <th>2</th>\n",
       "      <td>NBA：打架带个球没毛病吧！</td>\n",
       "      <td>女生</td>\n",
       "      <td>带着没有开苞的系统去参加选秀！</td>\n",
       "      <td>1</td>\n",
       "      <td>当他穿上球衣的时候，那一双麒麟臂，看上去是真的相当的吓唬人的。\\n约翰汤普森每次看到叶轻尘</td>\n",
       "      <td>的这一身鸡肉，都是相当的满意的。\\n这就是约翰汤普森对叶轻尘说的原话。\\n对于约翰汤普森的这...</td>\n",
       "    </tr>\n",
       "    <tr>\n",
       "      <th>3</th>\n",
       "      <td>NBA：打架带个球没毛病吧！</td>\n",
       "      <td>女生</td>\n",
       "      <td>参加选秀前的一些往事</td>\n",
       "      <td>2</td>\n",
       "      <td>莫宁对于叶轻尘的嘲讽，叶轻尘脸色变得阴沉了一些。\\n叶轻尘对于莫宁已经是</td>\n",
       "      <td>产生了厌恶了。\\n并且，虽然是同一个队伍的队友。\\n但是莫宁始终都没有正眼对待过叶轻尘。\\n...</td>\n",
       "    </tr>\n",
       "    <tr>\n",
       "      <th>4</th>\n",
       "      <td>NBA：打架带个球没毛病吧！</td>\n",
       "      <td>女生</td>\n",
       "      <td>参加选秀前的一些往事</td>\n",
       "      <td>2</td>\n",
       "      <td>就连莫宁自己，都没有准备在这一年参加选秀。\\n懂球的都知道，莫宁是在1992年参加选秀的。\\...</td>\n",
       "      <td>有拉里约翰逊。\\n日后联盟人送外号“大妈”。\\n所以，莫宁对于叶轻尘的嘲笑，似乎是没有什么毛...</td>\n",
       "    </tr>\n",
       "    <tr>\n",
       "      <th>...</th>\n",
       "      <td>...</td>\n",
       "      <td>...</td>\n",
       "      <td>...</td>\n",
       "      <td>...</td>\n",
       "      <td>...</td>\n",
       "      <td>...</td>\n",
       "    </tr>\n",
       "    <tr>\n",
       "      <th>387654</th>\n",
       "      <td>龙血至尊</td>\n",
       "      <td>女生</td>\n",
       "      <td>又救错了下</td>\n",
       "      <td>30</td>\n",
       "      <td>“既然这样，那你们的伤情我们包了，走，我们去看伤去，这医药费归我们！”楚飞心中还是有些不好意...</td>\n",
       "      <td>一起看病去了，其实上两人也并没有受什么严重的内伤，来到了药店，也就拿了一些皮外伤药而已，并没...</td>\n",
       "    </tr>\n",
       "    <tr>\n",
       "      <th>387655</th>\n",
       "      <td>龙血至尊</td>\n",
       "      <td>女生</td>\n",
       "      <td>结拜兄弟上</td>\n",
       "      <td>31</td>\n",
       "      <td>“爽快！”用力的拍了一下曹松，楚飞高兴的笑了起来。\\n“不行！”这个时候，两个反对地声音却齐...</td>\n",
       "      <td>楚飞和曹松又头痛了，更害怕两人一吵又没完没了，他们赶紧劝住了两人继续，分别递了一个眼神，一人...</td>\n",
       "    </tr>\n",
       "    <tr>\n",
       "      <th>387656</th>\n",
       "      <td>龙血至尊</td>\n",
       "      <td>女生</td>\n",
       "      <td>结拜兄弟上</td>\n",
       "      <td>31</td>\n",
       "      <td>“哼，你那是被她的美色制住了！”</td>\n",
       "      <td>有些不满，就是不肯同意结拜。\\n“反正我就是不愿意跟女人结拜，你说什么都没有用！”很是坚定思...</td>\n",
       "    </tr>\n",
       "    <tr>\n",
       "      <th>387657</th>\n",
       "      <td>龙血至尊</td>\n",
       "      <td>女生</td>\n",
       "      <td>结拜兄弟上</td>\n",
       "      <td>31</td>\n",
       "      <td>“哥，我看到那个娘娘腔就烦，而且他还老是针对我，我才不要跟他结</td>\n",
       "      <td>拜呢！”曹颖这么说着，心中却是难消对唐诗的恼恨之意，他居然敢说自己这引以为傲的身材会是男人的...</td>\n",
       "    </tr>\n",
       "    <tr>\n",
       "      <th>387658</th>\n",
       "      <td>龙血至尊</td>\n",
       "      <td>女生</td>\n",
       "      <td>结拜兄弟下</td>\n",
       "      <td>32</td>\n",
       "      <td>“嘘，小声一点，诗诗，你不是讨厌那个女人吗？我们晚上偷偷结拜，不带她玩，</td>\n",
       "      <td>你说这样好吗？”楚飞旧计重施，面对半夜时分依然一副没有睡醒样子的唐诗偷偷坏笑道。\\n不管怎么...</td>\n",
       "    </tr>\n",
       "  </tbody>\n",
       "</table>\n",
       "<p>387659 rows × 6 columns</p>\n",
       "</div>"
      ],
      "text/plain": [
       "             book_name book_type     chapter_name  chapter_index  \\\n",
       "0       NBA：打架带个球没毛病吧！        女生  带着没有开苞的系统去参加选秀！              1   \n",
       "1       NBA：打架带个球没毛病吧！        女生  带着没有开苞的系统去参加选秀！              1   \n",
       "2       NBA：打架带个球没毛病吧！        女生  带着没有开苞的系统去参加选秀！              1   \n",
       "3       NBA：打架带个球没毛病吧！        女生       参加选秀前的一些往事              2   \n",
       "4       NBA：打架带个球没毛病吧！        女生       参加选秀前的一些往事              2   \n",
       "...                ...       ...              ...            ...   \n",
       "387654            龙血至尊        女生            又救错了下             30   \n",
       "387655            龙血至尊        女生            结拜兄弟上             31   \n",
       "387656            龙血至尊        女生            结拜兄弟上             31   \n",
       "387657            龙血至尊        女生            结拜兄弟上             31   \n",
       "387658            龙血至尊        女生            结拜兄弟下             32   \n",
       "\n",
       "                                        split_book_text_1  \\\n",
       "0          叶轻尘接到这个任务的时候，内心是崩溃的。\\n别人穿越都是满级号开局。\\n系统有是有，但是不能   \n",
       "1       所以，叶轻尘在这一年的时间里，基本上没怎么展示过这两个技能。\\n所以说，叶轻尘唯一能够让人感...   \n",
       "2           当他穿上球衣的时候，那一双麒麟臂，看上去是真的相当的吓唬人的。\\n约翰汤普森每次看到叶轻尘   \n",
       "3                    莫宁对于叶轻尘的嘲讽，叶轻尘脸色变得阴沉了一些。\\n叶轻尘对于莫宁已经是   \n",
       "4       就连莫宁自己，都没有准备在这一年参加选秀。\\n懂球的都知道，莫宁是在1992年参加选秀的。\\...   \n",
       "...                                                   ...   \n",
       "387654  “既然这样，那你们的伤情我们包了，走，我们去看伤去，这医药费归我们！”楚飞心中还是有些不好意...   \n",
       "387655  “爽快！”用力的拍了一下曹松，楚飞高兴的笑了起来。\\n“不行！”这个时候，两个反对地声音却齐...   \n",
       "387656                                   “哼，你那是被她的美色制住了！”   \n",
       "387657                    “哥，我看到那个娘娘腔就烦，而且他还老是针对我，我才不要跟他结   \n",
       "387658               “嘘，小声一点，诗诗，你不是讨厌那个女人吗？我们晚上偷偷结拜，不带她玩，   \n",
       "\n",
       "                                        split_book_text_2  \n",
       "0       说一无是处吧，只能说是毫无用处。\\n虽然说无限体能十分的牛逼，但是在NCAA的赛场上他也没有...  \n",
       "1       不多。\\n反正也就是一个蓝领球员，这样的球员根本没有什么值得好关注的。\\n甚至，在平时的球队...  \n",
       "2       的这一身鸡肉，都是相当的满意的。\\n这就是约翰汤普森对叶轻尘说的原话。\\n对于约翰汤普森的这...  \n",
       "3       产生了厌恶了。\\n并且，虽然是同一个队伍的队友。\\n但是莫宁始终都没有正眼对待过叶轻尘。\\n...  \n",
       "4       有拉里约翰逊。\\n日后联盟人送外号“大妈”。\\n所以，莫宁对于叶轻尘的嘲笑，似乎是没有什么毛...  \n",
       "...                                                   ...  \n",
       "387654  一起看病去了，其实上两人也并没有受什么严重的内伤，来到了药店，也就拿了一些皮外伤药而已，并没...  \n",
       "387655  楚飞和曹松又头痛了，更害怕两人一吵又没完没了，他们赶紧劝住了两人继续，分别递了一个眼神，一人...  \n",
       "387656  有些不满，就是不肯同意结拜。\\n“反正我就是不愿意跟女人结拜，你说什么都没有用！”很是坚定思...  \n",
       "387657  拜呢！”曹颖这么说着，心中却是难消对唐诗的恼恨之意，他居然敢说自己这引以为傲的身材会是男人的...  \n",
       "387658  你说这样好吗？”楚飞旧计重施，面对半夜时分依然一副没有睡醒样子的唐诗偷偷坏笑道。\\n不管怎么...  \n",
       "\n",
       "[387659 rows x 6 columns]"
      ]
     },
     "execution_count": 4,
     "metadata": {},
     "output_type": "execute_result"
    }
   ],
   "source": [
    "import pandas as pd\n",
    "df = pd.read_json('../data_json.json', orient='records', lines=True)\n",
    "df"
   ]
  },
  {
   "cell_type": "code",
   "execution_count": 5,
   "metadata": {},
   "outputs": [
    {
     "data": {
      "text/plain": [
       "(252, 255)"
      ]
     },
     "execution_count": 5,
     "metadata": {},
     "output_type": "execute_result"
    }
   ],
   "source": [
    "df['split_book_text_1'].str.len().max(), df['split_book_text_2'].str.len().max()"
   ]
  },
  {
   "cell_type": "code",
   "execution_count": 9,
   "metadata": {},
   "outputs": [
    {
     "data": {
      "text/plain": [
       "278"
      ]
     },
     "execution_count": 9,
     "metadata": {},
     "output_type": "execute_result"
    }
   ],
   "source": [
    "df[['book_name', 'book_type', 'chapter_name', 'split_book_text_1']].apply(lambda row: sum([len(x) for x in row]), axis=1).max()"
   ]
  },
  {
   "cell_type": "code",
   "execution_count": 6,
   "metadata": {},
   "outputs": [
    {
     "data": {
      "text/plain": [
       "book_type\n",
       "女生    200349\n",
       "都市     76553\n",
       "玄幻     55878\n",
       "武侠     22061\n",
       "历史     12644\n",
       "网游     12251\n",
       "科幻      4533\n",
       "同人      3390\n",
       "Name: count, dtype: int64"
      ]
     },
     "execution_count": 6,
     "metadata": {},
     "output_type": "execute_result"
    }
   ],
   "source": [
    "df['book_type'].value_counts()"
   ]
  }
 ],
 "metadata": {
  "kernelspec": {
   "display_name": ".venv",
   "language": "python",
   "name": "python3"
  },
  "language_info": {
   "codemirror_mode": {
    "name": "ipython",
    "version": 3
   },
   "file_extension": ".py",
   "mimetype": "text/x-python",
   "name": "python",
   "nbconvert_exporter": "python",
   "pygments_lexer": "ipython3",
   "version": "3.12.2"
  }
 },
 "nbformat": 4,
 "nbformat_minor": 2
}
