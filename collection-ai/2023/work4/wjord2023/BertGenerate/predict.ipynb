{
 "cells": [
  {
   "cell_type": "code",
   "execution_count": 2,
   "metadata": {},
   "outputs": [
    {
     "name": "stderr",
     "output_type": "stream",
     "text": [
      "/usr/local/miniconda3/lib/python3.8/site-packages/tqdm/auto.py:21: TqdmWarning: IProgress not found. Please update jupyter and ipywidgets. See https://ipywidgets.readthedocs.io/en/stable/user_install.html\n",
      "  from .autonotebook import tqdm as notebook_tqdm\n"
     ]
    },
    {
     "data": {
      "text/plain": [
       "'，他们的时候，他们的时候，他们的时候，他'"
      ]
     },
     "execution_count": 2,
     "metadata": {},
     "output_type": "execute_result"
    }
   ],
   "source": [
    "import torch\n",
    "from src.predict import predict_seq2seq\n",
    "from src.model import BertGenerate\n",
    "from transformers import BertTokenizer\n",
    "\n",
    "model = BertGenerate()\n",
    "model.load_state_dict(torch.load('model1/model_2_10019.pth'))\n",
    "model.to('cpu')\n",
    "\n",
    "tokenizer = BertTokenizer.from_pretrained('bert-base-chinese')\n",
    "src_sentence = \"书名：NBA：打架带个球没毛病吧！，类型：女生，章节名：莫宁对叶轻尘肤色的嘲讽？不能再低调，内容：很多参加选秀的球员也开始了他们各自的规划。\\n所以，现在的球馆根本没有什么多余的人在。\\n当然除了球馆的工作人员。\\n此时的他们也是察觉到了这边似乎发生了口角。\\n纷纷停下了手中的动作，进行观望。\\n这些球馆的工作人员，虽然好奇，但是却是不敢靠近的。\\n虽然篮球队的球员都是大学生。\\n但是很多时候，他们的行事已经不能算的上是大学生了。\\n甚至可以用嚣张跋扈来形容。\\n现在球员之间发生口角，他们当然是不敢过去凑热闹。\\n只能远远的做一个吃瓜群众。\\n当他们看到球队的当家球星莫宁率先动手的时候，也是有些明白了其中的\"\n",
    "out_put = predict_seq2seq(model, src_sentence, tokenizer, 20, 'cpu')\n",
    "''.join(out_put)"
   ]
  }
 ],
 "metadata": {
  "kernelspec": {
   "display_name": "base",
   "language": "python",
   "name": "python3"
  },
  "language_info": {
   "codemirror_mode": {
    "name": "ipython",
    "version": 3
   },
   "file_extension": ".py",
   "mimetype": "text/x-python",
   "name": "python",
   "nbconvert_exporter": "python",
   "pygments_lexer": "ipython3",
   "version": "3.8.10"
  }
 },
 "nbformat": 4,
 "nbformat_minor": 2
}
