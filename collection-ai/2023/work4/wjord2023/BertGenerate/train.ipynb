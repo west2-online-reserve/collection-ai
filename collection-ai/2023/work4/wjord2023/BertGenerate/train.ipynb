{
 "cells": [
  {
   "cell_type": "code",
   "execution_count": 1,
   "metadata": {},
   "outputs": [
    {
     "name": "stderr",
     "output_type": "stream",
     "text": [
      "100%|██████████| 10/10 [00:00<00:00, 582.44it/s]\n"
     ]
    },
    {
     "name": "stdout",
     "output_type": "stream",
     "text": [
      "Total number of parameters:  248088968\n",
      "Using device:  cuda\n"
     ]
    },
    {
     "name": "stderr",
     "output_type": "stream",
     "text": [
      "EP_train:0: 100%|██████████| 4/4 [00:04<00:00,  1.17s/it]\n"
     ]
    },
    {
     "name": "stdout",
     "output_type": "stream",
     "text": [
      "EP_train:0 avg_loss:15.4664\n"
     ]
    },
    {
     "name": "stderr",
     "output_type": "stream",
     "text": [
      "EP_train:1: 100%|██████████| 4/4 [00:00<00:00,  4.51it/s]\n"
     ]
    },
    {
     "name": "stdout",
     "output_type": "stream",
     "text": [
      "EP_train:1 avg_loss:15.5947\n"
     ]
    },
    {
     "name": "stderr",
     "output_type": "stream",
     "text": [
      "EP_train:2: 100%|██████████| 4/4 [00:00<00:00,  5.29it/s]\n"
     ]
    },
    {
     "name": "stdout",
     "output_type": "stream",
     "text": [
      "EP_train:2 avg_loss:15.3642\n"
     ]
    },
    {
     "name": "stderr",
     "output_type": "stream",
     "text": [
      "EP_train:3: 100%|██████████| 4/4 [00:00<00:00,  4.82it/s]\n"
     ]
    },
    {
     "name": "stdout",
     "output_type": "stream",
     "text": [
      "EP_train:3 avg_loss:14.4406\n"
     ]
    },
    {
     "name": "stderr",
     "output_type": "stream",
     "text": [
      "EP_train:4: 100%|██████████| 4/4 [00:00<00:00,  4.82it/s]\n"
     ]
    },
    {
     "name": "stdout",
     "output_type": "stream",
     "text": [
      "EP_train:4 avg_loss:14.6792\n"
     ]
    },
    {
     "name": "stderr",
     "output_type": "stream",
     "text": [
      "EP_train:5: 100%|██████████| 4/4 [00:00<00:00,  4.50it/s]\n"
     ]
    },
    {
     "name": "stdout",
     "output_type": "stream",
     "text": [
      "EP_train:5 avg_loss:14.5216\n"
     ]
    },
    {
     "name": "stderr",
     "output_type": "stream",
     "text": [
      "EP_train:6: 100%|██████████| 4/4 [00:00<00:00,  4.61it/s]\n"
     ]
    },
    {
     "name": "stdout",
     "output_type": "stream",
     "text": [
      "EP_train:6 avg_loss:14.5091\n"
     ]
    },
    {
     "name": "stderr",
     "output_type": "stream",
     "text": [
      "EP_train:7: 100%|██████████| 4/4 [00:00<00:00,  4.38it/s]\n"
     ]
    },
    {
     "name": "stdout",
     "output_type": "stream",
     "text": [
      "EP_train:7 avg_loss:14.3598\n"
     ]
    },
    {
     "name": "stderr",
     "output_type": "stream",
     "text": [
      "EP_train:8: 100%|██████████| 4/4 [00:00<00:00,  4.49it/s]\n"
     ]
    },
    {
     "name": "stdout",
     "output_type": "stream",
     "text": [
      "EP_train:8 avg_loss:15.4915\n"
     ]
    },
    {
     "name": "stderr",
     "output_type": "stream",
     "text": [
      "EP_train:9: 100%|██████████| 4/4 [00:00<00:00,  4.90it/s]"
     ]
    },
    {
     "name": "stdout",
     "output_type": "stream",
     "text": [
      "EP_train:9 avg_loss:15.1087\n"
     ]
    },
    {
     "name": "stderr",
     "output_type": "stream",
     "text": [
      "\n"
     ]
    }
   ],
   "source": [
    "from src.dataset import BertGenerateDataset\n",
    "from torch.utils.data import DataLoader\n",
    "from sklearn.model_selection import train_test_split\n",
    "from torch.nn.utils.rnn import pad_sequence\n",
    "from src.model import BertGenerate\n",
    "import torch\n",
    "from general_trainer.loss import MaskedSoftmaxCELoss\n",
    "from transformers import BertTokenizer, BertConfig\n",
    "from general_trainer.trainer import GeneralTrainer\n",
    "from general_trainer.optim_schedule import ScheduleOptim\n",
    "\n",
    "device = 'cuda'\n",
    "def collate_fn(batch):\n",
    "    sorted_batch = sorted(batch, key=lambda x: len(x[0]), reverse=True)\n",
    "    input_ids, input_valid_lens, label_ids, label_valid_lens = zip(*sorted_batch)\n",
    "    input_ids = pad_sequence(input_ids, batch_first=True, padding_value=0).to(device)\n",
    "    label_ids = pad_sequence(label_ids, batch_first=True, padding_value=0).to(device)\n",
    "    input_valid_lens = torch.LongTensor(input_valid_lens).to(device)\n",
    "    label_valid_lens = torch.LongTensor(label_valid_lens).to(device)\n",
    "    return input_ids, input_valid_lens, label_ids, label_valid_lens\n",
    "\n",
    "dataset = BertGenerateDataset('data_.json')\n",
    "train_data, test_data = train_test_split(dataset, test_size=0.2)\n",
    "train_loader = DataLoader(train_data, batch_size=2, shuffle=True, collate_fn=collate_fn)\n",
    "test_loader = DataLoader(test_data, batch_size=2, shuffle=False, collate_fn=collate_fn)\n",
    "\n",
    "model = BertGenerate()\n",
    "model.to(device)\n",
    "\n",
    "loss = MaskedSoftmaxCELoss()\n",
    "tokenize = BertTokenizer.from_pretrained('bert-base-chinese')\n",
    "tgt_vocab = tokenize.vocab\n",
    "def cal_loss(data, model):\n",
    "    X, X_valid_len, Y, Y_valid_len = data\n",
    "    bos = torch.tensor([tgt_vocab['[SEP]']] * Y.shape[0],\n",
    "                        device=device).reshape(-1, 1)\n",
    "    dec_input = torch.cat([bos, Y[:, :-1]], 1)  # Teacher forcing\n",
    "    Y_hat, _ = model(X, dec_input, X_valid_len)\n",
    "    return loss(Y_hat, Y, Y_valid_len).sum()\n",
    "config = BertConfig.from_pretrained('bert-base-chinese')\n",
    "\n",
    "optimizer = torch.optim.Adam(model.parameters(), 5e-5)\n",
    "scheduler = ScheduleOptim(optimizer, config.hidden_size, 10000)\n",
    "trainer = GeneralTrainer(model, MaskedSoftmaxCELoss, train_loader, test_loader, scheduler=scheduler, cal_loss=cal_loss)\n",
    "trainer.training()"
   ]
  }
 ],
 "metadata": {
  "kernelspec": {
   "display_name": "pytorch_gpu",
   "language": "python",
   "name": "python3"
  },
  "language_info": {
   "codemirror_mode": {
    "name": "ipython",
    "version": 3
   },
   "file_extension": ".py",
   "mimetype": "text/x-python",
   "name": "python",
   "nbconvert_exporter": "python",
   "pygments_lexer": "ipython3",
   "version": "3.12.2"
  }
 },
 "nbformat": 4,
 "nbformat_minor": 2
}
