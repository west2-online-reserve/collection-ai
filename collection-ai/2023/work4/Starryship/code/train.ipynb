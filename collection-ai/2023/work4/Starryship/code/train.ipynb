{
 "cells": [
  {
   "cell_type": "code",
   "execution_count": 1,
   "id": "c2d25658-0a6c-42fe-837e-fdccc3be3e59",
   "metadata": {},
   "outputs": [],
   "source": [
    "import os\n",
    "import glob\n",
    "import json\n",
    "import sys\n",
    "import cv2\n",
    "import math\n",
    "import datetime\n",
    "import torch.backends.cudnn as cudnn\n",
    "import torch.distributed as dist\n",
    "import numpy as np\n",
    "import torch\n",
    "import torch.nn as nn\n",
    "import torch.nn.functional as F\n",
    "import scipy.signal\n",
    "import shutil\n",
    "import torch.optim as optim\n",
    "import operator\n",
    "import matplotlib\n",
    "matplotlib.use('Agg')\n",
    "\n",
    "from matplotlib import pyplot as plt\n",
    "from copy import deepcopy\n",
    "from functools import partial\n",
    "from torchvision.ops import nms\n",
    "from PIL import Image\n",
    "from tqdm import tqdm\n",
    "from torch.utils.data import DataLoader\n",
    "\n",
    "from dataset import YoloDataset\n",
    "from yolov8m_Swin_transfomer import YoloBody\n",
    "from utils import get_lr_scheduler,set_optimizer_lr,get_classes,yolo_dataset_collate,get_lr\n",
    "from class_utils import DecodeBox,EvalCallback,BboxLoss,TaskAlignedAssigner,Loss,ModelEMA,LossHistory"
   ]
  },
  {
   "cell_type": "code",
   "execution_count": 2,
   "id": "5c96bb38-70d4-4732-a8af-40698470b818",
   "metadata": {},
   "outputs": [
    {
     "name": "stderr",
     "output_type": "stream",
     "text": [
      "/root/miniconda3/lib/python3.10/site-packages/torch/functional.py:504: UserWarning: torch.meshgrid: in an upcoming release, it will be required to pass the indexing argument. (Triggered internally at ../aten/src/ATen/native/TensorShape.cpp:3526.)\n",
      "  return _VF.meshgrid(tensors, **kwargs)  # type: ignore[attr-defined]\n"
     ]
    },
    {
     "name": "stdout",
     "output_type": "stream",
     "text": [
      "initialize network with normal type\n"
     ]
    }
   ],
   "source": [
    "if __name__ == \"__main__\":\n",
    "    #---------------------------------#\n",
    "    #   Cuda    是否使用Cuda\n",
    "    #           没有GPU可以设置成False\n",
    "    #---------------------------------#\n",
    "    Cuda            = True\n",
    "    #---------------------------------------------------------------------#\n",
    "    #   classes_path    指向VOCdata下的txt，与自己训练的数据集相关 \n",
    "    #---------------------------------------------------------------------#\n",
    "    classes_path    = 'VOCdata/classes.txt'\n",
    "    \n",
    "    #------------------------------------------------------#\n",
    "    #   input_shape     输入的shape大小，一定要是32的倍数\n",
    "    #------------------------------------------------------#\n",
    "    input_shape     = [640, 640]\n",
    "    \n",
    "    #------------------------------------------------------#\n",
    "    #   phi             所使用到的yolov8的版本\n",
    "    #                   n : 对应yolov8_n\n",
    "    #                   s : 对应yolov8_s\n",
    "    #                   m : 对应yolov8_m\n",
    "    #                   l : 对应yolov8_l\n",
    "    #                   x : 对应yolov8_x\n",
    "    #------------------------------------------------------#\n",
    "    phi             = 'm'\n",
    "    \n",
    "    #------------------------------------------------------------------#\n",
    "    #   mosaic              马赛克数据增强。\n",
    "    #   mosaic_prob         每个step有多少概率使用mosaic数据增强，默认50%。\n",
    "    #\n",
    "    #   mixup               是否使用mixup数据增强，仅在mosaic=True时有效。\n",
    "    #                       只会对mosaic增强后的图片进行mixup的处理。\n",
    "    #   mixup_prob          有多少概率在mosaic后使用mixup数据增强，默认50%。\n",
    "    #                       总的mixup概率为mosaic_prob * mixup_prob。\n",
    "    #------------------------------------------------------------------#\n",
    "    mosaic              = True\n",
    "    mosaic_prob         = 0.5\n",
    "    mixup               = True\n",
    "    mixup_prob          = 0.5\n",
    "\n",
    "    #------------------------------------------------------------------#\n",
    "    #   解冻阶段训练参数\n",
    "    #   此时模型的主干不被冻结了，特征提取网络会发生改变\n",
    "    #   占用的显存较大，网络所有的参数都会发生改变\n",
    "    #   Epoch          模型总共训练的轮次\n",
    "    #   batch_size     模型训练批次的大小\n",
    "    #------------------------------------------------------------------#\n",
    "    Epoch      = 100\n",
    "    batch_size= 16\n",
    "\n",
    "    #------------------------------------------------------------------#\n",
    "    #   Init_lr         模型的最大学习率\n",
    "    #   Min_lr          模型的最小学习率，默认为最大学习率的0.01\n",
    "    #------------------------------------------------------------------#\n",
    "    Init_lr             = 1e-2\n",
    "    Min_lr              = Init_lr * 0.01\n",
    "    #------------------------------------------------------------------#\n",
    "    #   momentum        优化器内部使用到的momentum参数\n",
    "    #   weight_decay    权值衰减，可防止过拟合\n",
    "    #                   adam会导致weight_decay错误，使用adam时建议设置为0。\n",
    "    #------------------------------------------------------------------#\n",
    "    momentum            = 0.937\n",
    "    weight_decay        = 0\n",
    "    \n",
    "    #------------------------------------------------------------------#\n",
    "    #   save_period     多少个epoch保存一次权值\n",
    "    #------------------------------------------------------------------#\n",
    "    save_period         = 10\n",
    "    \n",
    "    #------------------------------------------------------------------#\n",
    "    #   save_dir        权值与日志文件保存的文件夹\n",
    "    #------------------------------------------------------------------#\n",
    "    save_dir            = 'logs'\n",
    "    \n",
    "    #------------------------------------------------------------------#\n",
    "    #   eval_flag       是否在训练时进行评估，评估对象为验证集\n",
    "    #   eval_period     代表多少个epoch评估一次，不建议频繁的评估\n",
    "    #                   评估需要消耗较多的时间，频繁评估会导致训练非常慢\n",
    "    #   此处获得的mAP会与get_map.py获得的会有所不同，原因有二：\n",
    "    #   （一）此处获得的mAP为验证集的mAP。\n",
    "    #   （二）此处设置评估参数较为保守，目的是加快评估速度。\n",
    "    #------------------------------------------------------------------#\n",
    "    eval_flag           = True\n",
    "    eval_period         = 10\n",
    "    \n",
    "    #------------------------------------------------------------------#\n",
    "    #   num_workers     用于设置是否使用多线程读取数据\n",
    "    #                   开启后会加快数据读取速度，但是会占用更多内存\n",
    "    #------------------------------------------------------------------#\n",
    "    num_workers         = 4\n",
    "\n",
    "    #------------------------------------------------------#\n",
    "    #   train_annotation_path   训练图片路径和标签\n",
    "    #   val_annotation_path     验证图片路径和标签\n",
    "    #------------------------------------------------------#\n",
    "    train_annotation_path   = './VOCdata/2012_train.txt'\n",
    "    val_annotation_path     = './VOCdata/2012_val.txt'\n",
    "\n",
    "    #------------------------------------------------------#\n",
    "    #   获取classes和anchor\n",
    "    #------------------------------------------------------#\n",
    "    class_names, num_classes = get_classes(classes_path)\n",
    "\n",
    "    #------------------------------------------------------#\n",
    "    #   创建yolo模型\n",
    "    #------------------------------------------------------#\n",
    "    model = YoloBody(input_shape, num_classes, phi,pretrained=False)\n",
    "\n",
    "    #------------------------------------------------------#\n",
    "    #   设置用到的显卡\n",
    "    #------------------------------------------------------#\n",
    "    device          = torch.device('cuda' if torch.cuda.is_available() else 'cpu')\n",
    "    local_rank      = 0\n",
    "    \n",
    "    #----------------------#\n",
    "    #   使用显卡训练\n",
    "    #----------------------#\n",
    "    model_train     = model.train()\n",
    "    if Cuda:\n",
    "        model_train = torch.nn.DataParallel(model)\n",
    "        cudnn.benchmark = True\n",
    "        model_train = model_train.cuda()\n",
    "    \n",
    "    #----------------------#\n",
    "    #   获得损失函数\n",
    "    #----------------------#\n",
    "    yolo_loss = Loss(model)\n",
    "    \n",
    "    #----------------------#\n",
    "    #   是否对dataset和dataloader数据进行打乱处理\n",
    "    #----------------------#\n",
    "    shuffle         = True\n",
    "    \n",
    "    #----------------------#\n",
    "    #   记录Loss\n",
    "    #----------------------#\n",
    "    time_str        = datetime.datetime.strftime(datetime.datetime.now(),'%Y_%m_%d_%H_%M_%S')\n",
    "    log_dir         = os.path.join(save_dir, \"loss_\" + str(time_str))\n",
    "    loss_history    = LossHistory(log_dir, model, input_shape=input_shape)\n",
    "\n",
    "    #----------------------------#\n",
    "    #   权值平滑\n",
    "    #----------------------------#\n",
    "    ema = ModelEMA(model_train)\n",
    "\n",
    "    #-------------------------------------------------------------------#\n",
    "    #   判断当前batch_size，自适应调整学习率\n",
    "    #-------------------------------------------------------------------#\n",
    "    nbs             = batch_size\n",
    "    lr_limit_max    = 1e-3\n",
    "    lr_limit_min    = 3e-4\n",
    "    Init_lr_fit     = min(max(batch_size / nbs * Init_lr, lr_limit_min), lr_limit_max)\n",
    "    Min_lr_fit      = min(max(batch_size / nbs * Min_lr, lr_limit_min * 1e-2), lr_limit_max * 1e-2)\n",
    "    lr_scheduler_func = get_lr_scheduler(Init_lr_fit, Min_lr_fit, Epoch)\n",
    "    \n",
    "    #---------------------------#\n",
    "    #   读取数据集对应的txt\n",
    "    #---------------------------#\n",
    "    with open(train_annotation_path, encoding='utf-8') as f:\n",
    "        train_lines = f.readlines()\n",
    "    with open(val_annotation_path, encoding='utf-8') as f:\n",
    "        val_lines   = f.readlines()\n",
    "    num_train   = len(train_lines)\n",
    "    num_val     = len(val_lines)\n",
    "    \n",
    "    #---------------------------------------#\n",
    "    #   定义优化器\n",
    "    #---------------------------------------#     \n",
    "    pg0, pg1, pg2 = [], [], []  \n",
    "    for k, v in model.named_modules():\n",
    "        if hasattr(v, \"bias\") and isinstance(v.bias, nn.Parameter):\n",
    "            pg2.append(v.bias)    \n",
    "        if isinstance(v, nn.BatchNorm2d) or \"bn\" in k:\n",
    "            pg0.append(v.weight)    \n",
    "        elif hasattr(v, \"weight\") and isinstance(v.weight, nn.Parameter):\n",
    "            pg1.append(v.weight)   \n",
    "    optimizer =optim.Adam(pg0, Init_lr_fit, betas = (momentum, 0.999))\n",
    "    optimizer.add_param_group({\"params\": pg1, \"weight_decay\": weight_decay})\n",
    "    optimizer.add_param_group({\"params\": pg2})\n",
    "\n",
    "\n",
    "    #---------------------------------------#\n",
    "    #   判断每一个epoch的长度\n",
    "    #---------------------------------------#\n",
    "    epoch_step      = num_train // batch_size\n",
    "    epoch_step_val  = num_val // batch_size\n",
    "\n",
    "    #---------------------------------------#\n",
    "    #   构建数据集加载器。\n",
    "    #---------------------------------------#\n",
    "    train_dataset   = YoloDataset(train_lines, input_shape, num_classes,\\\n",
    "                                    mosaic=mosaic, mixup=mixup, mosaic_prob=mosaic_prob, mixup_prob=mixup_prob, train=True)\n",
    "    val_dataset     = YoloDataset(val_lines, input_shape, num_classes,\\\n",
    "                                    mosaic=False, mixup=False, mosaic_prob=0, mixup_prob=0, train=False)\n",
    "\n",
    "    gen             = DataLoader(train_dataset, shuffle = shuffle, batch_size = batch_size, num_workers = num_workers, pin_memory=True,\n",
    "                                drop_last=True, collate_fn=yolo_dataset_collate)\n",
    "    gen_val         = DataLoader(val_dataset  , shuffle = shuffle, batch_size = batch_size, num_workers = num_workers, pin_memory=True, \n",
    "                                drop_last=True, collate_fn=yolo_dataset_collate)\n",
    "\n",
    "    #----------------------#\n",
    "    #   记录eval的map曲线\n",
    "    #----------------------#\n",
    "    eval_callback   = EvalCallback(model, input_shape, class_names, num_classes, val_lines, log_dir, Cuda, \\\n",
    "                                    eval_flag=eval_flag, period=eval_period)\n",
    "\n",
    "\n"
   ]
  },
  {
   "cell_type": "code",
   "execution_count": 3,
   "id": "ad5accce-2335-4b86-84df-7c81cc9e36b5",
   "metadata": {
    "scrolled": true
   },
   "outputs": [
    {
     "name": "stdout",
     "output_type": "stream",
     "text": [
      "Start Train\n"
     ]
    },
    {
     "name": "stderr",
     "output_type": "stream",
     "text": [
      "Epoch 1/100:   0%|          | 0/866 [00:00<?, ?it/s<class 'dict'>]/root/Untitled Folder/utils.py:862: UserWarning: To copy construct from a tensor, it is recommended to use sourceTensor.clone().detach() or sourceTensor.clone().detach().requires_grad_(True), rather than torch.tensor(sourceTensor).\n",
      "  b1_x1, b1_y1, b1_x2, b1_y2 = torch.chunk(torch.tensor(box1), 4, dim=-1)\n",
      "/root/Untitled Folder/utils.py:863: UserWarning: To copy construct from a tensor, it is recommended to use sourceTensor.clone().detach() or sourceTensor.clone().detach().requires_grad_(True), rather than torch.tensor(sourceTensor).\n",
      "  b2_x1, b2_y1, b2_x2, b2_y2 = torch.chunk(torch.tensor(box2), 4, dim=-1)\n",
      "Epoch 1/100: 100%|██████████| 866/866 [03:11<00:00,  4.53it/s, loss=98.3, lr=0.001]   \n"
     ]
    },
    {
     "name": "stdout",
     "output_type": "stream",
     "text": [
      "Finish Train\n",
      "Start Validation\n"
     ]
    },
    {
     "name": "stderr",
     "output_type": "stream",
     "text": [
      "Epoch 1/100: 100%|██████████| 96/96 [00:08<00:00, 11.16it/s, val_loss=11.9]\n"
     ]
    },
    {
     "name": "stdout",
     "output_type": "stream",
     "text": [
      "Finish Validation\n",
      "Epoch:1/100\n",
      "Total Loss: 98.349 || Val Loss: 11.927 \n",
      "Save best model to best_epoch_weights.pth\n",
      "Start Train\n"
     ]
    },
    {
     "name": "stderr",
     "output_type": "stream",
     "text": [
      "Epoch 2/100: 100%|██████████| 866/866 [03:06<00:00,  4.66it/s, loss=10.3, lr=0.001]\n"
     ]
    },
    {
     "name": "stdout",
     "output_type": "stream",
     "text": [
      "Finish Train\n",
      "Start Validation\n"
     ]
    },
    {
     "name": "stderr",
     "output_type": "stream",
     "text": [
      "Epoch 2/100: 100%|██████████| 96/96 [00:08<00:00, 10.70it/s, val_loss=10.2]\n"
     ]
    },
    {
     "name": "stdout",
     "output_type": "stream",
     "text": [
      "Finish Validation\n",
      "Epoch:2/100\n",
      "Total Loss: 10.292 || Val Loss: 10.219 \n",
      "Save best model to best_epoch_weights.pth\n",
      "Start Train\n"
     ]
    },
    {
     "name": "stderr",
     "output_type": "stream",
     "text": [
      "Epoch 3/100: 100%|██████████| 866/866 [03:05<00:00,  4.66it/s, loss=9.4, lr=0.001] \n"
     ]
    },
    {
     "name": "stdout",
     "output_type": "stream",
     "text": [
      "Finish Train\n",
      "Start Validation\n"
     ]
    },
    {
     "name": "stderr",
     "output_type": "stream",
     "text": [
      "Epoch 3/100: 100%|██████████| 96/96 [00:08<00:00, 11.57it/s, val_loss=9.39]\n"
     ]
    },
    {
     "name": "stdout",
     "output_type": "stream",
     "text": [
      "Finish Validation\n",
      "Epoch:3/100\n",
      "Total Loss: 9.401 || Val Loss: 9.389 \n",
      "Save best model to best_epoch_weights.pth\n",
      "Start Train\n"
     ]
    },
    {
     "name": "stderr",
     "output_type": "stream",
     "text": [
      "Epoch 4/100: 100%|██████████| 866/866 [03:05<00:00,  4.66it/s, loss=8.77, lr=0.001]\n"
     ]
    },
    {
     "name": "stdout",
     "output_type": "stream",
     "text": [
      "Finish Train\n",
      "Start Validation\n"
     ]
    },
    {
     "name": "stderr",
     "output_type": "stream",
     "text": [
      "Epoch 4/100: 100%|██████████| 96/96 [00:08<00:00, 11.98it/s, val_loss=8.56]\n"
     ]
    },
    {
     "name": "stdout",
     "output_type": "stream",
     "text": [
      "Finish Validation\n",
      "Epoch:4/100\n",
      "Total Loss: 8.766 || Val Loss: 8.562 \n",
      "Save best model to best_epoch_weights.pth\n",
      "Start Train\n"
     ]
    },
    {
     "name": "stderr",
     "output_type": "stream",
     "text": [
      "Epoch 5/100: 100%|██████████| 866/866 [03:05<00:00,  4.66it/s, loss=8.27, lr=0.001]\n"
     ]
    },
    {
     "name": "stdout",
     "output_type": "stream",
     "text": [
      "Finish Train\n",
      "Start Validation\n"
     ]
    },
    {
     "name": "stderr",
     "output_type": "stream",
     "text": [
      "Epoch 5/100: 100%|██████████| 96/96 [00:08<00:00, 10.96it/s, val_loss=8.04]\n"
     ]
    },
    {
     "name": "stdout",
     "output_type": "stream",
     "text": [
      "Finish Validation\n",
      "Epoch:5/100\n",
      "Total Loss: 8.268 || Val Loss: 8.044 \n",
      "Save best model to best_epoch_weights.pth\n",
      "Start Train\n"
     ]
    },
    {
     "name": "stderr",
     "output_type": "stream",
     "text": [
      "Epoch 6/100: 100%|██████████| 866/866 [03:07<00:00,  4.63it/s, loss=7.94, lr=0.001]\n"
     ]
    },
    {
     "name": "stdout",
     "output_type": "stream",
     "text": [
      "Finish Train\n",
      "Start Validation\n"
     ]
    },
    {
     "name": "stderr",
     "output_type": "stream",
     "text": [
      "Epoch 6/100: 100%|██████████| 96/96 [00:08<00:00, 10.84it/s, val_loss=7.68]\n"
     ]
    },
    {
     "name": "stdout",
     "output_type": "stream",
     "text": [
      "Finish Validation\n",
      "Epoch:6/100\n",
      "Total Loss: 7.940 || Val Loss: 7.682 \n",
      "Save best model to best_epoch_weights.pth\n",
      "Start Train\n"
     ]
    },
    {
     "name": "stderr",
     "output_type": "stream",
     "text": [
      "Epoch 7/100: 100%|██████████| 866/866 [03:05<00:00,  4.66it/s, loss=7.7, lr=0.001] \n"
     ]
    },
    {
     "name": "stdout",
     "output_type": "stream",
     "text": [
      "Finish Train\n",
      "Start Validation\n"
     ]
    },
    {
     "name": "stderr",
     "output_type": "stream",
     "text": [
      "Epoch 7/100: 100%|██████████| 96/96 [00:08<00:00, 11.36it/s, val_loss=7.36]\n"
     ]
    },
    {
     "name": "stdout",
     "output_type": "stream",
     "text": [
      "Finish Validation\n",
      "Epoch:7/100\n",
      "Total Loss: 7.704 || Val Loss: 7.355 \n",
      "Save best model to best_epoch_weights.pth\n",
      "Start Train\n"
     ]
    },
    {
     "name": "stderr",
     "output_type": "stream",
     "text": [
      "Epoch 8/100: 100%|██████████| 866/866 [03:06<00:00,  4.65it/s, loss=7.53, lr=0.001]\n"
     ]
    },
    {
     "name": "stdout",
     "output_type": "stream",
     "text": [
      "Finish Train\n",
      "Start Validation\n"
     ]
    },
    {
     "name": "stderr",
     "output_type": "stream",
     "text": [
      "Epoch 8/100: 100%|██████████| 96/96 [00:08<00:00, 11.44it/s, val_loss=7.18]\n"
     ]
    },
    {
     "name": "stdout",
     "output_type": "stream",
     "text": [
      "Finish Validation\n",
      "Epoch:8/100\n",
      "Total Loss: 7.534 || Val Loss: 7.181 \n",
      "Save best model to best_epoch_weights.pth\n",
      "Start Train\n"
     ]
    },
    {
     "name": "stderr",
     "output_type": "stream",
     "text": [
      "Epoch 9/100: 100%|██████████| 866/866 [03:05<00:00,  4.66it/s, loss=7.42, lr=0.001]\n"
     ]
    },
    {
     "name": "stdout",
     "output_type": "stream",
     "text": [
      "Finish Train\n",
      "Start Validation\n"
     ]
    },
    {
     "name": "stderr",
     "output_type": "stream",
     "text": [
      "Epoch 9/100: 100%|██████████| 96/96 [00:08<00:00, 11.23it/s, val_loss=7.14]\n"
     ]
    },
    {
     "name": "stdout",
     "output_type": "stream",
     "text": [
      "Finish Validation\n",
      "Epoch:9/100\n",
      "Total Loss: 7.419 || Val Loss: 7.140 \n",
      "Save best model to best_epoch_weights.pth\n",
      "Start Train\n"
     ]
    },
    {
     "name": "stderr",
     "output_type": "stream",
     "text": [
      "Epoch 10/100: 100%|██████████| 866/866 [03:05<00:00,  4.67it/s, loss=7.31, lr=0.001]\n"
     ]
    },
    {
     "name": "stdout",
     "output_type": "stream",
     "text": [
      "Finish Train\n",
      "Start Validation\n"
     ]
    },
    {
     "name": "stderr",
     "output_type": "stream",
     "text": [
      "Epoch 10/100: 100%|██████████| 96/96 [00:07<00:00, 12.68it/s, val_loss=6.81]\n"
     ]
    },
    {
     "name": "stdout",
     "output_type": "stream",
     "text": [
      "Finish Validation\n",
      "Get map.\n"
     ]
    },
    {
     "name": "stderr",
     "output_type": "stream",
     "text": [
      "100%|██████████| 1542/1542 [00:41<00:00, 37.59it/s]\n"
     ]
    },
    {
     "name": "stdout",
     "output_type": "stream",
     "text": [
      "Calculate Map.\n",
      "29.78% = aeroplane AP \t||\tscore_threhold=0.5 : F1=0.03 ; Recall=1.37% ; Precision=100.00%\n",
      "0.00% = bicycle AP \t||\tscore_threhold=0.5 : F1=0.00 ; Recall=0.00% ; Precision=0.00%\n",
      "1.25% = bird AP \t||\tscore_threhold=0.5 : F1=0.02 ; Recall=1.25% ; Precision=100.00%\n",
      "0.00% = boat AP \t||\tscore_threhold=0.5 : F1=0.00% ; Recall=0.00% ; Precision=0.00%\n",
      "0.00% = bottle AP \t||\tscore_threhold=0.5 : F1=0.00 ; Recall=0.00% ; Precision=0.00%\n",
      "20.40% = bus AP \t||\tscore_threhold=0.5 : F1=0.00 ; Recall=0.00% ; Precision=0.00%\n",
      "17.05% = car AP \t||\tscore_threhold=0.5 : F1=0.01 ; Recall=0.54% ; Precision=100.00%\n",
      "9.55% = cat AP \t||\tscore_threhold=0.5 : F1=0.02 ; Recall=0.83% ; Precision=100.00%\n",
      "0.00% = chair AP \t||\tscore_threhold=0.5 : F1=0.00% ; Recall=0.00% ; Precision=0.00%\n",
      "0.00% = cow AP \t||\tscore_threhold=0.5 : F1=0.00 ; Recall=0.00% ; Precision=0.00%\n",
      "0.00% = diningtable AP \t||\tscore_threhold=0.5 : F1=0.00% ; Recall=0.00% ; Precision=0.00%\n",
      "9.33% = dog AP \t||\tscore_threhold=0.5 : F1=0.00 ; Recall=0.00% ; Precision=0.00%\n",
      "0.00% = horse AP \t||\tscore_threhold=0.5 : F1=0.00% ; Recall=0.00% ; Precision=0.00%\n",
      "10.14% = motorbike AP \t||\tscore_threhold=0.5 : F1=0.00 ; Recall=0.00% ; Precision=0.00%\n",
      "38.51% = person AP \t||\tscore_threhold=0.5 : F1=0.04 ; Recall=2.16% ; Precision=75.61%\n",
      "0.00% = pottedplant AP \t||\tscore_threhold=0.5 : F1=0.00% ; Recall=0.00% ; Precision=0.00%\n",
      "1.16% = sheep AP \t||\tscore_threhold=0.5 : F1=0.02 ; Recall=1.16% ; Precision=100.00%\n",
      "0.00% = sofa AP \t||\tscore_threhold=0.5 : F1=0.00% ; Recall=0.00% ; Precision=0.00%\n",
      "0.00% = train AP \t||\tscore_threhold=0.5 : F1=0.00 ; Recall=0.00% ; Precision=0.00%\n",
      "8.13% = tvmonitor AP \t||\tscore_threhold=0.5 : F1=0.00 ; Recall=0.00% ; Precision=0.00%\n",
      "mAP = 7.27%\n",
      "Get map done.\n",
      "Epoch:10/100\n",
      "Total Loss: 7.309 || Val Loss: 6.812 \n",
      "Save best model to best_epoch_weights.pth\n",
      "Start Train\n"
     ]
    },
    {
     "name": "stderr",
     "output_type": "stream",
     "text": [
      "Epoch 11/100:   0%|          | 0/866 [00:00<?, ?it/s<class 'dict'>]/root/Untitled Folder/utils.py:862: UserWarning: To copy construct from a tensor, it is recommended to use sourceTensor.clone().detach() or sourceTensor.clone().detach().requires_grad_(True), rather than torch.tensor(sourceTensor).\n",
      "  b1_x1, b1_y1, b1_x2, b1_y2 = torch.chunk(torch.tensor(box1), 4, dim=-1)\n",
      "/root/Untitled Folder/utils.py:863: UserWarning: To copy construct from a tensor, it is recommended to use sourceTensor.clone().detach() or sourceTensor.clone().detach().requires_grad_(True), rather than torch.tensor(sourceTensor).\n",
      "  b2_x1, b2_y1, b2_x2, b2_y2 = torch.chunk(torch.tensor(box2), 4, dim=-1)\n",
      "Epoch 11/100: 100%|██████████| 866/866 [03:05<00:00,  4.67it/s, loss=7.21, lr=0.001]\n"
     ]
    },
    {
     "name": "stdout",
     "output_type": "stream",
     "text": [
      "Finish Train\n",
      "Start Validation\n"
     ]
    },
    {
     "name": "stderr",
     "output_type": "stream",
     "text": [
      "Epoch 11/100: 100%|██████████| 96/96 [00:09<00:00, 10.57it/s, val_loss=6.61]\n"
     ]
    },
    {
     "name": "stdout",
     "output_type": "stream",
     "text": [
      "Finish Validation\n",
      "Epoch:11/100\n",
      "Total Loss: 7.215 || Val Loss: 6.611 \n",
      "Save best model to best_epoch_weights.pth\n",
      "Start Train\n"
     ]
    },
    {
     "name": "stderr",
     "output_type": "stream",
     "text": [
      "Epoch 12/100: 100%|██████████| 866/866 [03:05<00:00,  4.66it/s, loss=7.1, lr=0.001] \n"
     ]
    },
    {
     "name": "stdout",
     "output_type": "stream",
     "text": [
      "Finish Train\n",
      "Start Validation\n"
     ]
    },
    {
     "name": "stderr",
     "output_type": "stream",
     "text": [
      "Epoch 12/100: 100%|██████████| 96/96 [00:08<00:00, 11.17it/s, val_loss=6.47]\n"
     ]
    },
    {
     "name": "stdout",
     "output_type": "stream",
     "text": [
      "Finish Validation\n",
      "Epoch:12/100\n",
      "Total Loss: 7.105 || Val Loss: 6.474 \n",
      "Save best model to best_epoch_weights.pth\n",
      "Start Train\n"
     ]
    },
    {
     "name": "stderr",
     "output_type": "stream",
     "text": [
      "Epoch 13/100: 100%|██████████| 866/866 [03:04<00:00,  4.70it/s, loss=7.05, lr=0.001]\n"
     ]
    },
    {
     "name": "stdout",
     "output_type": "stream",
     "text": [
      "Finish Train\n",
      "Start Validation\n"
     ]
    },
    {
     "name": "stderr",
     "output_type": "stream",
     "text": [
      "Epoch 13/100: 100%|██████████| 96/96 [00:08<00:00, 10.86it/s, val_loss=6.4] \n"
     ]
    },
    {
     "name": "stdout",
     "output_type": "stream",
     "text": [
      "Finish Validation\n",
      "Epoch:13/100\n",
      "Total Loss: 7.047 || Val Loss: 6.400 \n",
      "Save best model to best_epoch_weights.pth\n",
      "Start Train\n"
     ]
    },
    {
     "name": "stderr",
     "output_type": "stream",
     "text": [
      "Epoch 14/100: 100%|██████████| 866/866 [03:05<00:00,  4.68it/s, loss=6.97, lr=0.001]\n"
     ]
    },
    {
     "name": "stdout",
     "output_type": "stream",
     "text": [
      "Finish Train\n",
      "Start Validation\n"
     ]
    },
    {
     "name": "stderr",
     "output_type": "stream",
     "text": [
      "Epoch 14/100: 100%|██████████| 96/96 [00:08<00:00, 11.84it/s, val_loss=6.31]\n"
     ]
    },
    {
     "name": "stdout",
     "output_type": "stream",
     "text": [
      "Finish Validation\n",
      "Epoch:14/100\n",
      "Total Loss: 6.967 || Val Loss: 6.313 \n",
      "Save best model to best_epoch_weights.pth\n",
      "Start Train\n"
     ]
    },
    {
     "name": "stderr",
     "output_type": "stream",
     "text": [
      "Epoch 15/100: 100%|██████████| 866/866 [03:05<00:00,  4.67it/s, loss=6.89, lr=0.001]\n"
     ]
    },
    {
     "name": "stdout",
     "output_type": "stream",
     "text": [
      "Finish Train\n",
      "Start Validation\n"
     ]
    },
    {
     "name": "stderr",
     "output_type": "stream",
     "text": [
      "Epoch 15/100: 100%|██████████| 96/96 [00:07<00:00, 12.01it/s, val_loss=6.23]\n"
     ]
    },
    {
     "name": "stdout",
     "output_type": "stream",
     "text": [
      "Finish Validation\n",
      "Epoch:15/100\n",
      "Total Loss: 6.890 || Val Loss: 6.228 \n",
      "Save best model to best_epoch_weights.pth\n",
      "Start Train\n"
     ]
    },
    {
     "name": "stderr",
     "output_type": "stream",
     "text": [
      "Epoch 16/100: 100%|██████████| 866/866 [03:05<00:00,  4.66it/s, loss=6.85, lr=0.001]\n"
     ]
    },
    {
     "name": "stdout",
     "output_type": "stream",
     "text": [
      "Finish Train\n",
      "Start Validation\n"
     ]
    },
    {
     "name": "stderr",
     "output_type": "stream",
     "text": [
      "Epoch 16/100: 100%|██████████| 96/96 [00:08<00:00, 10.67it/s, val_loss=6.19]\n"
     ]
    },
    {
     "name": "stdout",
     "output_type": "stream",
     "text": [
      "Finish Validation\n",
      "Epoch:16/100\n",
      "Total Loss: 6.847 || Val Loss: 6.191 \n",
      "Save best model to best_epoch_weights.pth\n",
      "Start Train\n"
     ]
    },
    {
     "name": "stderr",
     "output_type": "stream",
     "text": [
      "Epoch 17/100: 100%|██████████| 866/866 [03:05<00:00,  4.68it/s, loss=6.78, lr=0.001]\n"
     ]
    },
    {
     "name": "stdout",
     "output_type": "stream",
     "text": [
      "Finish Train\n",
      "Start Validation\n"
     ]
    },
    {
     "name": "stderr",
     "output_type": "stream",
     "text": [
      "Epoch 17/100: 100%|██████████| 96/96 [00:08<00:00, 11.65it/s, val_loss=6.13]\n"
     ]
    },
    {
     "name": "stdout",
     "output_type": "stream",
     "text": [
      "Finish Validation\n",
      "Epoch:17/100\n",
      "Total Loss: 6.779 || Val Loss: 6.135 \n",
      "Save best model to best_epoch_weights.pth\n",
      "Start Train\n"
     ]
    },
    {
     "name": "stderr",
     "output_type": "stream",
     "text": [
      "Epoch 18/100: 100%|██████████| 866/866 [03:05<00:00,  4.66it/s, loss=6.72, lr=0.001]\n"
     ]
    },
    {
     "name": "stdout",
     "output_type": "stream",
     "text": [
      "Finish Train\n",
      "Start Validation\n"
     ]
    },
    {
     "name": "stderr",
     "output_type": "stream",
     "text": [
      "Epoch 18/100: 100%|██████████| 96/96 [00:08<00:00, 11.60it/s, val_loss=6.09]\n"
     ]
    },
    {
     "name": "stdout",
     "output_type": "stream",
     "text": [
      "Finish Validation\n",
      "Epoch:18/100\n",
      "Total Loss: 6.715 || Val Loss: 6.090 \n",
      "Save best model to best_epoch_weights.pth\n",
      "Start Train\n"
     ]
    },
    {
     "name": "stderr",
     "output_type": "stream",
     "text": [
      "Epoch 19/100: 100%|██████████| 866/866 [03:05<00:00,  4.66it/s, loss=6.66, lr=0.001]\n"
     ]
    },
    {
     "name": "stdout",
     "output_type": "stream",
     "text": [
      "Finish Train\n",
      "Start Validation\n"
     ]
    },
    {
     "name": "stderr",
     "output_type": "stream",
     "text": [
      "Epoch 19/100: 100%|██████████| 96/96 [00:08<00:00, 11.65it/s, val_loss=6.06]\n"
     ]
    },
    {
     "name": "stdout",
     "output_type": "stream",
     "text": [
      "Finish Validation\n",
      "Epoch:19/100\n",
      "Total Loss: 6.657 || Val Loss: 6.058 \n",
      "Save best model to best_epoch_weights.pth\n",
      "Start Train\n"
     ]
    },
    {
     "name": "stderr",
     "output_type": "stream",
     "text": [
      "Epoch 20/100: 100%|██████████| 866/866 [03:05<00:00,  4.67it/s, loss=6.6, lr=0.001] \n"
     ]
    },
    {
     "name": "stdout",
     "output_type": "stream",
     "text": [
      "Finish Train\n",
      "Start Validation\n"
     ]
    },
    {
     "name": "stderr",
     "output_type": "stream",
     "text": [
      "Epoch 20/100: 100%|██████████| 96/96 [00:08<00:00, 11.73it/s, val_loss=6.02]\n"
     ]
    },
    {
     "name": "stdout",
     "output_type": "stream",
     "text": [
      "Finish Validation\n",
      "Get map.\n"
     ]
    },
    {
     "name": "stderr",
     "output_type": "stream",
     "text": [
      "100%|██████████| 1542/1542 [00:38<00:00, 39.97it/s]\n"
     ]
    },
    {
     "name": "stdout",
     "output_type": "stream",
     "text": [
      "Calculate Map.\n",
      "44.08% = aeroplane AP \t||\tscore_threhold=0.5 : F1=0.36 ; Recall=21.92% ; Precision=100.00%\n",
      "23.67% = bicycle AP \t||\tscore_threhold=0.5 : F1=0.06 ; Recall=3.12% ; Precision=100.00%\n",
      "4.32% = bird AP \t||\tscore_threhold=0.5 : F1=0.00 ; Recall=0.00% ; Precision=0.00%\n",
      "1.39% = boat AP \t||\tscore_threhold=0.5 : F1=0.00 ; Recall=0.00% ; Precision=0.00%\n",
      "1.67% = bottle AP \t||\tscore_threhold=0.5 : F1=0.01 ; Recall=0.58% ; Precision=100.00%\n",
      "49.09% = bus AP \t||\tscore_threhold=0.5 : F1=0.42 ; Recall=27.42% ; Precision=94.44%\n",
      "33.76% = car AP \t||\tscore_threhold=0.5 : F1=0.23 ; Recall=13.44% ; Precision=92.59%\n",
      "20.70% = cat AP \t||\tscore_threhold=0.5 : F1=0.00 ; Recall=0.00% ; Precision=0.00%\n",
      "1.74% = chair AP \t||\tscore_threhold=0.5 : F1=0.00 ; Recall=0.00% ; Precision=0.00%\n",
      "0.50% = cow AP \t||\tscore_threhold=0.5 : F1=0.00 ; Recall=0.00% ; Precision=0.00%\n",
      "4.69% = diningtable AP \t||\tscore_threhold=0.5 : F1=0.03 ; Recall=1.56% ; Precision=100.00%\n",
      "14.08% = dog AP \t||\tscore_threhold=0.5 : F1=0.00 ; Recall=0.00% ; Precision=0.00%\n",
      "12.70% = horse AP \t||\tscore_threhold=0.5 : F1=0.00 ; Recall=0.00% ; Precision=0.00%\n",
      "27.55% = motorbike AP \t||\tscore_threhold=0.5 : F1=0.07 ; Recall=3.85% ; Precision=50.00%\n",
      "53.20% = person AP \t||\tscore_threhold=0.5 : F1=0.31 ; Recall=19.02% ; Precision=84.26%\n",
      "0.00% = pottedplant AP \t||\tscore_threhold=0.5 : F1=0.00% ; Recall=0.00% ; Precision=0.00%\n",
      "20.72% = sheep AP \t||\tscore_threhold=0.5 : F1=0.02 ; Recall=1.16% ; Precision=100.00%\n",
      "1.45% = sofa AP \t||\tscore_threhold=0.5 : F1=0.00 ; Recall=0.00% ; Precision=0.00%\n",
      "27.58% = train AP \t||\tscore_threhold=0.5 : F1=0.04 ; Recall=2.00% ; Precision=100.00%\n",
      "23.64% = tvmonitor AP \t||\tscore_threhold=0.5 : F1=0.02 ; Recall=1.19% ; Precision=50.00%\n",
      "mAP = 18.33%\n",
      "Get map done.\n",
      "Epoch:20/100\n",
      "Total Loss: 6.601 || Val Loss: 6.019 \n",
      "Save best model to best_epoch_weights.pth\n",
      "Start Train\n"
     ]
    },
    {
     "name": "stderr",
     "output_type": "stream",
     "text": [
      "Epoch 21/100:   0%|          | 0/866 [00:00<?, ?it/s<class 'dict'>]/root/Untitled Folder/utils.py:862: UserWarning: To copy construct from a tensor, it is recommended to use sourceTensor.clone().detach() or sourceTensor.clone().detach().requires_grad_(True), rather than torch.tensor(sourceTensor).\n",
      "  b1_x1, b1_y1, b1_x2, b1_y2 = torch.chunk(torch.tensor(box1), 4, dim=-1)\n",
      "/root/Untitled Folder/utils.py:863: UserWarning: To copy construct from a tensor, it is recommended to use sourceTensor.clone().detach() or sourceTensor.clone().detach().requires_grad_(True), rather than torch.tensor(sourceTensor).\n",
      "  b2_x1, b2_y1, b2_x2, b2_y2 = torch.chunk(torch.tensor(box2), 4, dim=-1)\n",
      "Epoch 21/100: 100%|██████████| 866/866 [03:04<00:00,  4.68it/s, loss=6.57, lr=0.001]\n"
     ]
    },
    {
     "name": "stdout",
     "output_type": "stream",
     "text": [
      "Finish Train\n",
      "Start Validation\n"
     ]
    },
    {
     "name": "stderr",
     "output_type": "stream",
     "text": [
      "Epoch 21/100: 100%|██████████| 96/96 [00:08<00:00, 11.68it/s, val_loss=5.97]\n"
     ]
    },
    {
     "name": "stdout",
     "output_type": "stream",
     "text": [
      "Finish Validation\n",
      "Epoch:21/100\n",
      "Total Loss: 6.572 || Val Loss: 5.972 \n",
      "Save best model to best_epoch_weights.pth\n",
      "Start Train\n"
     ]
    },
    {
     "name": "stderr",
     "output_type": "stream",
     "text": [
      "Epoch 22/100: 100%|██████████| 866/866 [03:05<00:00,  4.67it/s, loss=6.52, lr=0.001]\n"
     ]
    },
    {
     "name": "stdout",
     "output_type": "stream",
     "text": [
      "Finish Train\n",
      "Start Validation\n"
     ]
    },
    {
     "name": "stderr",
     "output_type": "stream",
     "text": [
      "Epoch 22/100: 100%|██████████| 96/96 [00:07<00:00, 12.19it/s, val_loss=5.93]\n"
     ]
    },
    {
     "name": "stdout",
     "output_type": "stream",
     "text": [
      "Finish Validation\n",
      "Epoch:22/100\n",
      "Total Loss: 6.519 || Val Loss: 5.933 \n",
      "Save best model to best_epoch_weights.pth\n",
      "Start Train\n"
     ]
    },
    {
     "name": "stderr",
     "output_type": "stream",
     "text": [
      "Epoch 23/100: 100%|██████████| 866/866 [03:05<00:00,  4.66it/s, loss=6.49, lr=0.001]\n"
     ]
    },
    {
     "name": "stdout",
     "output_type": "stream",
     "text": [
      "Finish Train\n",
      "Start Validation\n"
     ]
    },
    {
     "name": "stderr",
     "output_type": "stream",
     "text": [
      "Epoch 23/100: 100%|██████████| 96/96 [00:08<00:00, 11.76it/s, val_loss=5.92]\n"
     ]
    },
    {
     "name": "stdout",
     "output_type": "stream",
     "text": [
      "Finish Validation\n",
      "Epoch:23/100\n",
      "Total Loss: 6.489 || Val Loss: 5.919 \n",
      "Save best model to best_epoch_weights.pth\n",
      "Start Train\n"
     ]
    },
    {
     "name": "stderr",
     "output_type": "stream",
     "text": [
      "Epoch 24/100: 100%|██████████| 866/866 [03:04<00:00,  4.68it/s, loss=6.45, lr=0.001]\n"
     ]
    },
    {
     "name": "stdout",
     "output_type": "stream",
     "text": [
      "Finish Train\n",
      "Start Validation\n"
     ]
    },
    {
     "name": "stderr",
     "output_type": "stream",
     "text": [
      "Epoch 24/100: 100%|██████████| 96/96 [00:07<00:00, 12.21it/s, val_loss=5.88]\n"
     ]
    },
    {
     "name": "stdout",
     "output_type": "stream",
     "text": [
      "Finish Validation\n",
      "Epoch:24/100\n",
      "Total Loss: 6.451 || Val Loss: 5.882 \n",
      "Save best model to best_epoch_weights.pth\n",
      "Start Train\n"
     ]
    },
    {
     "name": "stderr",
     "output_type": "stream",
     "text": [
      "Epoch 25/100: 100%|██████████| 866/866 [03:04<00:00,  4.69it/s, loss=6.41, lr=0.001]\n"
     ]
    },
    {
     "name": "stdout",
     "output_type": "stream",
     "text": [
      "Finish Train\n",
      "Start Validation\n"
     ]
    },
    {
     "name": "stderr",
     "output_type": "stream",
     "text": [
      "Epoch 25/100: 100%|██████████| 96/96 [00:08<00:00, 11.15it/s, val_loss=5.87]\n"
     ]
    },
    {
     "name": "stdout",
     "output_type": "stream",
     "text": [
      "Finish Validation\n",
      "Epoch:25/100\n",
      "Total Loss: 6.409 || Val Loss: 5.866 \n",
      "Save best model to best_epoch_weights.pth\n",
      "Start Train\n"
     ]
    },
    {
     "name": "stderr",
     "output_type": "stream",
     "text": [
      "Epoch 26/100: 100%|██████████| 866/866 [03:04<00:00,  4.69it/s, loss=6.37, lr=0.001]\n"
     ]
    },
    {
     "name": "stdout",
     "output_type": "stream",
     "text": [
      "Finish Train\n",
      "Start Validation\n"
     ]
    },
    {
     "name": "stderr",
     "output_type": "stream",
     "text": [
      "Epoch 26/100: 100%|██████████| 96/96 [00:07<00:00, 12.95it/s, val_loss=5.85]\n"
     ]
    },
    {
     "name": "stdout",
     "output_type": "stream",
     "text": [
      "Finish Validation\n",
      "Epoch:26/100\n",
      "Total Loss: 6.373 || Val Loss: 5.852 \n",
      "Save best model to best_epoch_weights.pth\n",
      "Start Train\n"
     ]
    },
    {
     "name": "stderr",
     "output_type": "stream",
     "text": [
      "Epoch 27/100: 100%|██████████| 866/866 [03:05<00:00,  4.67it/s, loss=6.33, lr=0.001]\n"
     ]
    },
    {
     "name": "stdout",
     "output_type": "stream",
     "text": [
      "Finish Train\n",
      "Start Validation\n"
     ]
    },
    {
     "name": "stderr",
     "output_type": "stream",
     "text": [
      "Epoch 27/100: 100%|██████████| 96/96 [00:08<00:00, 11.84it/s, val_loss=5.83]\n"
     ]
    },
    {
     "name": "stdout",
     "output_type": "stream",
     "text": [
      "Finish Validation\n",
      "Epoch:27/100\n",
      "Total Loss: 6.330 || Val Loss: 5.826 \n",
      "Save best model to best_epoch_weights.pth\n",
      "Start Train\n"
     ]
    },
    {
     "name": "stderr",
     "output_type": "stream",
     "text": [
      "Epoch 28/100: 100%|██████████| 866/866 [03:05<00:00,  4.67it/s, loss=6.29, lr=0.001]\n"
     ]
    },
    {
     "name": "stdout",
     "output_type": "stream",
     "text": [
      "Finish Train\n",
      "Start Validation\n"
     ]
    },
    {
     "name": "stderr",
     "output_type": "stream",
     "text": [
      "Epoch 28/100: 100%|██████████| 96/96 [00:08<00:00, 11.76it/s, val_loss=5.79]\n"
     ]
    },
    {
     "name": "stdout",
     "output_type": "stream",
     "text": [
      "Finish Validation\n",
      "Epoch:28/100\n",
      "Total Loss: 6.294 || Val Loss: 5.788 \n",
      "Save best model to best_epoch_weights.pth\n",
      "Start Train\n"
     ]
    },
    {
     "name": "stderr",
     "output_type": "stream",
     "text": [
      "Epoch 29/100: 100%|██████████| 866/866 [03:04<00:00,  4.69it/s, loss=6.28, lr=0.001]\n"
     ]
    },
    {
     "name": "stdout",
     "output_type": "stream",
     "text": [
      "Finish Train\n",
      "Start Validation\n"
     ]
    },
    {
     "name": "stderr",
     "output_type": "stream",
     "text": [
      "Epoch 29/100: 100%|██████████| 96/96 [00:07<00:00, 12.02it/s, val_loss=5.77]\n"
     ]
    },
    {
     "name": "stdout",
     "output_type": "stream",
     "text": [
      "Finish Validation\n",
      "Epoch:29/100\n",
      "Total Loss: 6.284 || Val Loss: 5.770 \n",
      "Save best model to best_epoch_weights.pth\n",
      "Start Train\n"
     ]
    },
    {
     "name": "stderr",
     "output_type": "stream",
     "text": [
      "Epoch 30/100: 100%|██████████| 866/866 [03:04<00:00,  4.69it/s, loss=6.27, lr=0.001]\n"
     ]
    },
    {
     "name": "stdout",
     "output_type": "stream",
     "text": [
      "Finish Train\n",
      "Start Validation\n"
     ]
    },
    {
     "name": "stderr",
     "output_type": "stream",
     "text": [
      "Epoch 30/100: 100%|██████████| 96/96 [00:08<00:00, 11.53it/s, val_loss=5.72]\n"
     ]
    },
    {
     "name": "stdout",
     "output_type": "stream",
     "text": [
      "Finish Validation\n",
      "Get map.\n"
     ]
    },
    {
     "name": "stderr",
     "output_type": "stream",
     "text": [
      "100%|██████████| 1542/1542 [00:39<00:00, 38.68it/s]\n"
     ]
    },
    {
     "name": "stdout",
     "output_type": "stream",
     "text": [
      "Calculate Map.\n",
      "49.34% = aeroplane AP \t||\tscore_threhold=0.5 : F1=0.40 ; Recall=24.66% ; Precision=100.00%\n",
      "21.78% = bicycle AP \t||\tscore_threhold=0.5 : F1=0.03 ; Recall=1.56% ; Precision=50.00%\n",
      "11.05% = bird AP \t||\tscore_threhold=0.5 : F1=0.00 ; Recall=0.00% ; Precision=0.00%\n",
      "3.20% = boat AP \t||\tscore_threhold=0.5 : F1=0.03 ; Recall=1.39% ; Precision=100.00%\n",
      "2.12% = bottle AP \t||\tscore_threhold=0.5 : F1=0.01 ; Recall=0.58% ; Precision=100.00%\n",
      "53.36% = bus AP \t||\tscore_threhold=0.5 : F1=0.47 ; Recall=30.65% ; Precision=100.00%\n",
      "37.67% = car AP \t||\tscore_threhold=0.5 : F1=0.34 ; Recall=20.43% ; Precision=95.00%\n",
      "24.51% = cat AP \t||\tscore_threhold=0.5 : F1=0.02 ; Recall=0.83% ; Precision=100.00%\n",
      "4.92% = chair AP \t||\tscore_threhold=0.5 : F1=0.01 ; Recall=0.40% ; Precision=100.00%\n",
      "3.62% = cow AP \t||\tscore_threhold=0.5 : F1=0.00 ; Recall=0.00% ; Precision=0.00%\n",
      "10.21% = diningtable AP \t||\tscore_threhold=0.5 : F1=0.03 ; Recall=1.56% ; Precision=100.00%\n",
      "20.31% = dog AP \t||\tscore_threhold=0.5 : F1=0.01 ; Recall=0.71% ; Precision=100.00%\n",
      "18.08% = horse AP \t||\tscore_threhold=0.5 : F1=0.03 ; Recall=1.47% ; Precision=100.00%\n",
      "31.72% = motorbike AP \t||\tscore_threhold=0.5 : F1=0.16 ; Recall=8.97% ; Precision=70.00%\n",
      "55.82% = person AP \t||\tscore_threhold=0.5 : F1=0.36 ; Recall=23.07% ; Precision=84.44%\n",
      "0.85% = pottedplant AP \t||\tscore_threhold=0.5 : F1=0.00 ; Recall=0.00% ; Precision=0.00%\n",
      "22.52% = sheep AP \t||\tscore_threhold=0.5 : F1=0.05 ; Recall=2.33% ; Precision=100.00%\n",
      "12.45% = sofa AP \t||\tscore_threhold=0.5 : F1=0.04 ; Recall=1.82% ; Precision=100.00%\n",
      "36.51% = train AP \t||\tscore_threhold=0.5 : F1=0.08 ; Recall=4.00% ; Precision=100.00%\n",
      "35.67% = tvmonitor AP \t||\tscore_threhold=0.5 : F1=0.21 ; Recall=11.90% ; Precision=90.91%\n",
      "mAP = 22.79%\n",
      "Get map done.\n",
      "Epoch:30/100\n",
      "Total Loss: 6.268 || Val Loss: 5.719 \n",
      "Save best model to best_epoch_weights.pth\n",
      "Start Train\n"
     ]
    },
    {
     "name": "stderr",
     "output_type": "stream",
     "text": [
      "Epoch 31/100:   0%|          | 0/866 [00:00<?, ?it/s<class 'dict'>]/root/Untitled Folder/utils.py:862: UserWarning: To copy construct from a tensor, it is recommended to use sourceTensor.clone().detach() or sourceTensor.clone().detach().requires_grad_(True), rather than torch.tensor(sourceTensor).\n",
      "  b1_x1, b1_y1, b1_x2, b1_y2 = torch.chunk(torch.tensor(box1), 4, dim=-1)\n",
      "/root/Untitled Folder/utils.py:863: UserWarning: To copy construct from a tensor, it is recommended to use sourceTensor.clone().detach() or sourceTensor.clone().detach().requires_grad_(True), rather than torch.tensor(sourceTensor).\n",
      "  b2_x1, b2_y1, b2_x2, b2_y2 = torch.chunk(torch.tensor(box2), 4, dim=-1)\n",
      "Epoch 31/100: 100%|██████████| 866/866 [03:05<00:00,  4.68it/s, loss=6.22, lr=0.001]\n"
     ]
    },
    {
     "name": "stdout",
     "output_type": "stream",
     "text": [
      "Finish Train\n",
      "Start Validation\n"
     ]
    },
    {
     "name": "stderr",
     "output_type": "stream",
     "text": [
      "Epoch 31/100: 100%|██████████| 96/96 [00:08<00:00, 11.50it/s, val_loss=5.7] \n"
     ]
    },
    {
     "name": "stdout",
     "output_type": "stream",
     "text": [
      "Finish Validation\n",
      "Epoch:31/100\n",
      "Total Loss: 6.217 || Val Loss: 5.704 \n",
      "Save best model to best_epoch_weights.pth\n",
      "Start Train\n"
     ]
    },
    {
     "name": "stderr",
     "output_type": "stream",
     "text": [
      "Epoch 32/100: 100%|██████████| 866/866 [03:05<00:00,  4.68it/s, loss=6.2, lr=0.001] \n"
     ]
    },
    {
     "name": "stdout",
     "output_type": "stream",
     "text": [
      "Finish Train\n",
      "Start Validation\n"
     ]
    },
    {
     "name": "stderr",
     "output_type": "stream",
     "text": [
      "Epoch 32/100: 100%|██████████| 96/96 [00:08<00:00, 11.91it/s, val_loss=5.68]\n"
     ]
    },
    {
     "name": "stdout",
     "output_type": "stream",
     "text": [
      "Finish Validation\n",
      "Epoch:32/100\n",
      "Total Loss: 6.199 || Val Loss: 5.685 \n",
      "Save best model to best_epoch_weights.pth\n",
      "Start Train\n"
     ]
    },
    {
     "name": "stderr",
     "output_type": "stream",
     "text": [
      "Epoch 33/100: 100%|██████████| 866/866 [03:05<00:00,  4.67it/s, loss=6.2, lr=0.001] \n"
     ]
    },
    {
     "name": "stdout",
     "output_type": "stream",
     "text": [
      "Finish Train\n",
      "Start Validation\n"
     ]
    },
    {
     "name": "stderr",
     "output_type": "stream",
     "text": [
      "Epoch 33/100: 100%|██████████| 96/96 [00:08<00:00, 11.70it/s, val_loss=5.66]\n"
     ]
    },
    {
     "name": "stdout",
     "output_type": "stream",
     "text": [
      "Finish Validation\n",
      "Epoch:33/100\n",
      "Total Loss: 6.198 || Val Loss: 5.657 \n",
      "Save best model to best_epoch_weights.pth\n",
      "Start Train\n"
     ]
    },
    {
     "name": "stderr",
     "output_type": "stream",
     "text": [
      "Epoch 34/100: 100%|██████████| 866/866 [03:04<00:00,  4.69it/s, loss=6.17, lr=0.001]\n"
     ]
    },
    {
     "name": "stdout",
     "output_type": "stream",
     "text": [
      "Finish Train\n",
      "Start Validation\n"
     ]
    },
    {
     "name": "stderr",
     "output_type": "stream",
     "text": [
      "Epoch 34/100: 100%|██████████| 96/96 [00:08<00:00, 11.41it/s, val_loss=5.62]\n"
     ]
    },
    {
     "name": "stdout",
     "output_type": "stream",
     "text": [
      "Finish Validation\n",
      "Epoch:34/100\n",
      "Total Loss: 6.169 || Val Loss: 5.615 \n",
      "Save best model to best_epoch_weights.pth\n",
      "Start Train\n"
     ]
    },
    {
     "name": "stderr",
     "output_type": "stream",
     "text": [
      "Epoch 35/100: 100%|██████████| 866/866 [03:05<00:00,  4.67it/s, loss=6.24, lr=0.001]\n"
     ]
    },
    {
     "name": "stdout",
     "output_type": "stream",
     "text": [
      "Finish Train\n",
      "Start Validation\n"
     ]
    },
    {
     "name": "stderr",
     "output_type": "stream",
     "text": [
      "Epoch 35/100: 100%|██████████| 96/96 [00:07<00:00, 12.40it/s, val_loss=5.61]\n"
     ]
    },
    {
     "name": "stdout",
     "output_type": "stream",
     "text": [
      "Finish Validation\n",
      "Epoch:35/100\n",
      "Total Loss: 6.244 || Val Loss: 5.612 \n",
      "Save best model to best_epoch_weights.pth\n",
      "Start Train\n"
     ]
    },
    {
     "name": "stderr",
     "output_type": "stream",
     "text": [
      "Epoch 36/100: 100%|██████████| 866/866 [03:04<00:00,  4.69it/s, loss=6.29, lr=0.001]\n"
     ]
    },
    {
     "name": "stdout",
     "output_type": "stream",
     "text": [
      "Finish Train\n",
      "Start Validation\n"
     ]
    },
    {
     "name": "stderr",
     "output_type": "stream",
     "text": [
      "Epoch 36/100: 100%|██████████| 96/96 [00:09<00:00, 10.56it/s, val_loss=5.6] \n"
     ]
    },
    {
     "name": "stdout",
     "output_type": "stream",
     "text": [
      "Finish Validation\n",
      "Epoch:36/100\n",
      "Total Loss: 6.293 || Val Loss: 5.597 \n",
      "Save best model to best_epoch_weights.pth\n",
      "Start Train\n"
     ]
    },
    {
     "name": "stderr",
     "output_type": "stream",
     "text": [
      "Epoch 37/100: 100%|██████████| 866/866 [03:03<00:00,  4.71it/s, loss=6.39, lr=0.001]\n"
     ]
    },
    {
     "name": "stdout",
     "output_type": "stream",
     "text": [
      "Finish Train\n",
      "Start Validation\n"
     ]
    },
    {
     "name": "stderr",
     "output_type": "stream",
     "text": [
      "Epoch 37/100: 100%|██████████| 96/96 [00:07<00:00, 12.45it/s, val_loss=5.6] \n"
     ]
    },
    {
     "name": "stdout",
     "output_type": "stream",
     "text": [
      "Finish Validation\n",
      "Epoch:37/100\n",
      "Total Loss: 6.390 || Val Loss: 5.601 \n",
      "Start Train\n"
     ]
    },
    {
     "name": "stderr",
     "output_type": "stream",
     "text": [
      "Epoch 38/100: 100%|██████████| 866/866 [03:05<00:00,  4.68it/s, loss=6.32, lr=0.001]\n"
     ]
    },
    {
     "name": "stdout",
     "output_type": "stream",
     "text": [
      "Finish Train\n",
      "Start Validation\n"
     ]
    },
    {
     "name": "stderr",
     "output_type": "stream",
     "text": [
      "Epoch 38/100: 100%|██████████| 96/96 [00:07<00:00, 12.62it/s, val_loss=5.61]\n"
     ]
    },
    {
     "name": "stdout",
     "output_type": "stream",
     "text": [
      "Finish Validation\n",
      "Epoch:38/100\n",
      "Total Loss: 6.316 || Val Loss: 5.612 \n",
      "Start Train\n"
     ]
    },
    {
     "name": "stderr",
     "output_type": "stream",
     "text": [
      "Epoch 39/100: 100%|██████████| 866/866 [03:05<00:00,  4.66it/s, loss=6.21, lr=0.001]\n"
     ]
    },
    {
     "name": "stdout",
     "output_type": "stream",
     "text": [
      "Finish Train\n",
      "Start Validation\n"
     ]
    },
    {
     "name": "stderr",
     "output_type": "stream",
     "text": [
      "Epoch 39/100: 100%|██████████| 96/96 [00:08<00:00, 11.65it/s, val_loss=5.64]\n"
     ]
    },
    {
     "name": "stdout",
     "output_type": "stream",
     "text": [
      "Finish Validation\n",
      "Epoch:39/100\n",
      "Total Loss: 6.212 || Val Loss: 5.641 \n",
      "Start Train\n"
     ]
    },
    {
     "name": "stderr",
     "output_type": "stream",
     "text": [
      "Epoch 40/100: 100%|██████████| 866/866 [03:06<00:00,  4.63it/s, loss=6.12, lr=0.001]\n"
     ]
    },
    {
     "name": "stdout",
     "output_type": "stream",
     "text": [
      "Finish Train\n",
      "Start Validation\n"
     ]
    },
    {
     "name": "stderr",
     "output_type": "stream",
     "text": [
      "Epoch 40/100: 100%|██████████| 96/96 [00:07<00:00, 12.16it/s, val_loss=5.63]\n"
     ]
    },
    {
     "name": "stdout",
     "output_type": "stream",
     "text": [
      "Finish Validation\n",
      "Get map.\n"
     ]
    },
    {
     "name": "stderr",
     "output_type": "stream",
     "text": [
      "100%|██████████| 1542/1542 [00:43<00:00, 35.85it/s]\n"
     ]
    },
    {
     "name": "stdout",
     "output_type": "stream",
     "text": [
      "Calculate Map.\n",
      "48.70% = aeroplane AP \t||\tscore_threhold=0.5 : F1=0.30 ; Recall=17.81% ; Precision=100.00%\n",
      "25.22% = bicycle AP \t||\tscore_threhold=0.5 : F1=0.14 ; Recall=7.81% ; Precision=83.33%\n",
      "17.16% = bird AP \t||\tscore_threhold=0.5 : F1=0.05 ; Recall=2.50% ; Precision=50.00%\n",
      "8.17% = boat AP \t||\tscore_threhold=0.5 : F1=0.03 ; Recall=1.39% ; Precision=100.00%\n",
      "3.78% = bottle AP \t||\tscore_threhold=0.5 : F1=0.01 ; Recall=0.58% ; Precision=100.00%\n",
      "53.24% = bus AP \t||\tscore_threhold=0.5 : F1=0.52 ; Recall=35.48% ; Precision=100.00%\n",
      "40.51% = car AP \t||\tscore_threhold=0.5 : F1=0.35 ; Recall=21.51% ; Precision=93.02%\n",
      "32.13% = cat AP \t||\tscore_threhold=0.5 : F1=0.02 ; Recall=0.83% ; Precision=100.00%\n",
      "8.24% = chair AP \t||\tscore_threhold=0.5 : F1=0.02 ; Recall=0.80% ; Precision=100.00%\n",
      "10.74% = cow AP \t||\tscore_threhold=0.5 : F1=0.04 ; Recall=2.00% ; Precision=100.00%\n",
      "10.95% = diningtable AP \t||\tscore_threhold=0.5 : F1=0.03 ; Recall=1.56% ; Precision=100.00%\n",
      "21.31% = dog AP \t||\tscore_threhold=0.5 : F1=0.01 ; Recall=0.71% ; Precision=100.00%\n",
      "22.50% = horse AP \t||\tscore_threhold=0.5 : F1=0.03 ; Recall=1.47% ; Precision=100.00%\n",
      "36.16% = motorbike AP \t||\tscore_threhold=0.5 : F1=0.18 ; Recall=10.26% ; Precision=72.73%\n",
      "55.31% = person AP \t||\tscore_threhold=0.5 : F1=0.38 ; Recall=24.60% ; Precision=85.89%\n",
      "4.03% = pottedplant AP \t||\tscore_threhold=0.5 : F1=0.03 ; Recall=1.69% ; Precision=100.00%\n",
      "16.74% = sheep AP \t||\tscore_threhold=0.5 : F1=0.05 ; Recall=2.33% ; Precision=100.00%\n",
      "21.64% = sofa AP \t||\tscore_threhold=0.5 : F1=0.04 ; Recall=1.82% ; Precision=100.00%\n",
      "35.18% = train AP \t||\tscore_threhold=0.5 : F1=0.18 ; Recall=10.00% ; Precision=100.00%\n",
      "39.69% = tvmonitor AP \t||\tscore_threhold=0.5 : F1=0.13 ; Recall=7.14% ; Precision=66.67%\n",
      "mAP = 25.57%\n",
      "Get map done.\n",
      "Epoch:40/100\n",
      "Total Loss: 6.123 || Val Loss: 5.626 \n",
      "Start Train\n"
     ]
    },
    {
     "name": "stderr",
     "output_type": "stream",
     "text": [
      "Epoch 41/100:   0%|          | 0/866 [00:00<?, ?it/s<class 'dict'>]/root/Untitled Folder/utils.py:862: UserWarning: To copy construct from a tensor, it is recommended to use sourceTensor.clone().detach() or sourceTensor.clone().detach().requires_grad_(True), rather than torch.tensor(sourceTensor).\n",
      "  b1_x1, b1_y1, b1_x2, b1_y2 = torch.chunk(torch.tensor(box1), 4, dim=-1)\n",
      "/root/Untitled Folder/utils.py:863: UserWarning: To copy construct from a tensor, it is recommended to use sourceTensor.clone().detach() or sourceTensor.clone().detach().requires_grad_(True), rather than torch.tensor(sourceTensor).\n",
      "  b2_x1, b2_y1, b2_x2, b2_y2 = torch.chunk(torch.tensor(box2), 4, dim=-1)\n",
      "Epoch 41/100: 100%|██████████| 866/866 [03:05<00:00,  4.66it/s, loss=6.07, lr=0.001]\n"
     ]
    },
    {
     "name": "stdout",
     "output_type": "stream",
     "text": [
      "Finish Train\n",
      "Start Validation\n"
     ]
    },
    {
     "name": "stderr",
     "output_type": "stream",
     "text": [
      "Epoch 41/100: 100%|██████████| 96/96 [00:08<00:00, 11.70it/s, val_loss=5.59]\n"
     ]
    },
    {
     "name": "stdout",
     "output_type": "stream",
     "text": [
      "Finish Validation\n",
      "Epoch:41/100\n",
      "Total Loss: 6.074 || Val Loss: 5.588 \n",
      "Save best model to best_epoch_weights.pth\n",
      "Start Train\n"
     ]
    },
    {
     "name": "stderr",
     "output_type": "stream",
     "text": [
      "Epoch 42/100: 100%|██████████| 866/866 [03:05<00:00,  4.67it/s, loss=6, lr=0.001]   \n"
     ]
    },
    {
     "name": "stdout",
     "output_type": "stream",
     "text": [
      "Finish Train\n",
      "Start Validation\n"
     ]
    },
    {
     "name": "stderr",
     "output_type": "stream",
     "text": [
      "Epoch 42/100: 100%|██████████| 96/96 [00:08<00:00, 11.74it/s, val_loss=5.58]\n"
     ]
    },
    {
     "name": "stdout",
     "output_type": "stream",
     "text": [
      "Finish Validation\n",
      "Epoch:42/100\n",
      "Total Loss: 6.002 || Val Loss: 5.577 \n",
      "Save best model to best_epoch_weights.pth\n",
      "Start Train\n"
     ]
    },
    {
     "name": "stderr",
     "output_type": "stream",
     "text": [
      "Epoch 43/100: 100%|██████████| 866/866 [03:04<00:00,  4.68it/s, loss=5.97, lr=0.001]\n"
     ]
    },
    {
     "name": "stdout",
     "output_type": "stream",
     "text": [
      "Finish Train\n",
      "Start Validation\n"
     ]
    },
    {
     "name": "stderr",
     "output_type": "stream",
     "text": [
      "Epoch 43/100: 100%|██████████| 96/96 [00:08<00:00, 11.59it/s, val_loss=5.56]\n"
     ]
    },
    {
     "name": "stdout",
     "output_type": "stream",
     "text": [
      "Finish Validation\n",
      "Epoch:43/100\n",
      "Total Loss: 5.974 || Val Loss: 5.555 \n",
      "Save best model to best_epoch_weights.pth\n",
      "Start Train\n"
     ]
    },
    {
     "name": "stderr",
     "output_type": "stream",
     "text": [
      "Epoch 44/100: 100%|██████████| 866/866 [03:05<00:00,  4.67it/s, loss=5.97, lr=0.001]\n"
     ]
    },
    {
     "name": "stdout",
     "output_type": "stream",
     "text": [
      "Finish Train\n",
      "Start Validation\n"
     ]
    },
    {
     "name": "stderr",
     "output_type": "stream",
     "text": [
      "Epoch 44/100: 100%|██████████| 96/96 [00:08<00:00, 11.60it/s, val_loss=5.51]\n"
     ]
    },
    {
     "name": "stdout",
     "output_type": "stream",
     "text": [
      "Finish Validation\n",
      "Epoch:44/100\n",
      "Total Loss: 5.967 || Val Loss: 5.507 \n",
      "Save best model to best_epoch_weights.pth\n",
      "Start Train\n"
     ]
    },
    {
     "name": "stderr",
     "output_type": "stream",
     "text": [
      "Epoch 45/100: 100%|██████████| 866/866 [03:05<00:00,  4.67it/s, loss=5.96, lr=0.001]\n"
     ]
    },
    {
     "name": "stdout",
     "output_type": "stream",
     "text": [
      "Finish Train\n",
      "Start Validation\n"
     ]
    },
    {
     "name": "stderr",
     "output_type": "stream",
     "text": [
      "Epoch 45/100: 100%|██████████| 96/96 [00:08<00:00, 11.75it/s, val_loss=5.53]\n"
     ]
    },
    {
     "name": "stdout",
     "output_type": "stream",
     "text": [
      "Finish Validation\n",
      "Epoch:45/100\n",
      "Total Loss: 5.962 || Val Loss: 5.529 \n",
      "Start Train\n"
     ]
    },
    {
     "name": "stderr",
     "output_type": "stream",
     "text": [
      "Epoch 46/100: 100%|██████████| 866/866 [03:05<00:00,  4.66it/s, loss=5.91, lr=0.001]\n"
     ]
    },
    {
     "name": "stdout",
     "output_type": "stream",
     "text": [
      "Finish Train\n",
      "Start Validation\n"
     ]
    },
    {
     "name": "stderr",
     "output_type": "stream",
     "text": [
      "Epoch 46/100: 100%|██████████| 96/96 [00:07<00:00, 12.09it/s, val_loss=5.53]\n"
     ]
    },
    {
     "name": "stdout",
     "output_type": "stream",
     "text": [
      "Finish Validation\n",
      "Epoch:46/100\n",
      "Total Loss: 5.907 || Val Loss: 5.532 \n",
      "Start Train\n"
     ]
    },
    {
     "name": "stderr",
     "output_type": "stream",
     "text": [
      "Epoch 47/100: 100%|██████████| 866/866 [03:05<00:00,  4.66it/s, loss=5.9, lr=0.001] \n"
     ]
    },
    {
     "name": "stdout",
     "output_type": "stream",
     "text": [
      "Finish Train\n",
      "Start Validation\n"
     ]
    },
    {
     "name": "stderr",
     "output_type": "stream",
     "text": [
      "Epoch 47/100: 100%|██████████| 96/96 [00:08<00:00, 11.47it/s, val_loss=5.55]\n"
     ]
    },
    {
     "name": "stdout",
     "output_type": "stream",
     "text": [
      "Finish Validation\n",
      "Epoch:47/100\n",
      "Total Loss: 5.898 || Val Loss: 5.549 \n",
      "Start Train\n"
     ]
    },
    {
     "name": "stderr",
     "output_type": "stream",
     "text": [
      "Epoch 48/100: 100%|██████████| 866/866 [03:05<00:00,  4.68it/s, loss=5.89, lr=0.001]\n"
     ]
    },
    {
     "name": "stdout",
     "output_type": "stream",
     "text": [
      "Finish Train\n",
      "Start Validation\n"
     ]
    },
    {
     "name": "stderr",
     "output_type": "stream",
     "text": [
      "Epoch 48/100: 100%|██████████| 96/96 [00:08<00:00, 11.76it/s, val_loss=5.53]\n"
     ]
    },
    {
     "name": "stdout",
     "output_type": "stream",
     "text": [
      "Finish Validation\n",
      "Epoch:48/100\n",
      "Total Loss: 5.894 || Val Loss: 5.529 \n",
      "Start Train\n"
     ]
    },
    {
     "name": "stderr",
     "output_type": "stream",
     "text": [
      "Epoch 49/100: 100%|██████████| 866/866 [03:05<00:00,  4.67it/s, loss=5.86, lr=0.001]\n"
     ]
    },
    {
     "name": "stdout",
     "output_type": "stream",
     "text": [
      "Finish Train\n",
      "Start Validation\n"
     ]
    },
    {
     "name": "stderr",
     "output_type": "stream",
     "text": [
      "Epoch 49/100: 100%|██████████| 96/96 [00:07<00:00, 12.12it/s, val_loss=5.51]\n"
     ]
    },
    {
     "name": "stdout",
     "output_type": "stream",
     "text": [
      "Finish Validation\n",
      "Epoch:49/100\n",
      "Total Loss: 5.862 || Val Loss: 5.514 \n",
      "Start Train\n"
     ]
    },
    {
     "name": "stderr",
     "output_type": "stream",
     "text": [
      "Epoch 50/100: 100%|██████████| 866/866 [03:05<00:00,  4.66it/s, loss=5.83, lr=0.001]\n"
     ]
    },
    {
     "name": "stdout",
     "output_type": "stream",
     "text": [
      "Finish Train\n",
      "Start Validation\n"
     ]
    },
    {
     "name": "stderr",
     "output_type": "stream",
     "text": [
      "Epoch 50/100: 100%|██████████| 96/96 [00:08<00:00, 10.85it/s, val_loss=5.49]\n"
     ]
    },
    {
     "name": "stdout",
     "output_type": "stream",
     "text": [
      "Finish Validation\n",
      "Get map.\n"
     ]
    },
    {
     "name": "stderr",
     "output_type": "stream",
     "text": [
      "100%|██████████| 1542/1542 [00:42<00:00, 35.97it/s]\n"
     ]
    },
    {
     "name": "stdout",
     "output_type": "stream",
     "text": [
      "Calculate Map.\n",
      "55.97% = aeroplane AP \t||\tscore_threhold=0.5 : F1=0.53 ; Recall=35.62% ; Precision=100.00%\n",
      "30.81% = bicycle AP \t||\tscore_threhold=0.5 : F1=0.34 ; Recall=21.88% ; Precision=73.68%\n",
      "24.26% = bird AP \t||\tscore_threhold=0.5 : F1=0.07 ; Recall=3.75% ; Precision=100.00%\n",
      "13.31% = boat AP \t||\tscore_threhold=0.5 : F1=0.03 ; Recall=1.39% ; Precision=100.00%\n",
      "5.79% = bottle AP \t||\tscore_threhold=0.5 : F1=0.03 ; Recall=1.75% ; Precision=100.00%\n",
      "54.07% = bus AP \t||\tscore_threhold=0.5 : F1=0.50 ; Recall=33.87% ; Precision=95.45%\n",
      "44.44% = car AP \t||\tscore_threhold=0.5 : F1=0.42 ; Recall=27.42% ; Precision=92.73%\n",
      "35.99% = cat AP \t||\tscore_threhold=0.5 : F1=0.03 ; Recall=1.67% ; Precision=100.00%\n",
      "11.77% = chair AP \t||\tscore_threhold=0.5 : F1=0.03 ; Recall=1.59% ; Precision=80.00%\n",
      "10.21% = cow AP \t||\tscore_threhold=0.5 : F1=0.00 ; Recall=0.00% ; Precision=0.00%\n",
      "15.09% = diningtable AP \t||\tscore_threhold=0.5 : F1=0.03 ; Recall=1.56% ; Precision=100.00%\n",
      "21.17% = dog AP \t||\tscore_threhold=0.5 : F1=0.01 ; Recall=0.71% ; Precision=100.00%\n",
      "24.30% = horse AP \t||\tscore_threhold=0.5 : F1=0.03 ; Recall=1.47% ; Precision=100.00%\n",
      "40.70% = motorbike AP \t||\tscore_threhold=0.5 : F1=0.31 ; Recall=19.23% ; Precision=83.33%\n",
      "56.11% = person AP \t||\tscore_threhold=0.5 : F1=0.41 ; Recall=26.83% ; Precision=85.94%\n",
      "7.14% = pottedplant AP \t||\tscore_threhold=0.5 : F1=0.03 ; Recall=1.69% ; Precision=100.00%\n",
      "14.66% = sheep AP \t||\tscore_threhold=0.5 : F1=0.05 ; Recall=2.33% ; Precision=100.00%\n",
      "24.43% = sofa AP \t||\tscore_threhold=0.5 : F1=0.04 ; Recall=1.82% ; Precision=100.00%\n",
      "43.96% = train AP \t||\tscore_threhold=0.5 : F1=0.27 ; Recall=16.00% ; Precision=88.89%\n",
      "43.80% = tvmonitor AP \t||\tscore_threhold=0.5 : F1=0.24 ; Recall=14.29% ; Precision=85.71%\n",
      "mAP = 28.90%\n",
      "Get map done.\n",
      "Epoch:50/100\n",
      "Total Loss: 5.825 || Val Loss: 5.493 \n",
      "Save best model to best_epoch_weights.pth\n",
      "Start Train\n"
     ]
    },
    {
     "name": "stderr",
     "output_type": "stream",
     "text": [
      "Epoch 51/100:   0%|          | 0/866 [00:00<?, ?it/s<class 'dict'>]/root/Untitled Folder/utils.py:862: UserWarning: To copy construct from a tensor, it is recommended to use sourceTensor.clone().detach() or sourceTensor.clone().detach().requires_grad_(True), rather than torch.tensor(sourceTensor).\n",
      "  b1_x1, b1_y1, b1_x2, b1_y2 = torch.chunk(torch.tensor(box1), 4, dim=-1)\n",
      "/root/Untitled Folder/utils.py:863: UserWarning: To copy construct from a tensor, it is recommended to use sourceTensor.clone().detach() or sourceTensor.clone().detach().requires_grad_(True), rather than torch.tensor(sourceTensor).\n",
      "  b2_x1, b2_y1, b2_x2, b2_y2 = torch.chunk(torch.tensor(box2), 4, dim=-1)\n",
      "Epoch 51/100: 100%|██████████| 866/866 [03:05<00:00,  4.66it/s, loss=5.78, lr=1e-5]\n"
     ]
    },
    {
     "name": "stdout",
     "output_type": "stream",
     "text": [
      "Finish Train\n",
      "Start Validation\n"
     ]
    },
    {
     "name": "stderr",
     "output_type": "stream",
     "text": [
      "Epoch 51/100: 100%|██████████| 96/96 [00:08<00:00, 11.99it/s, val_loss=5.46]\n"
     ]
    },
    {
     "name": "stdout",
     "output_type": "stream",
     "text": [
      "Finish Validation\n",
      "Epoch:51/100\n",
      "Total Loss: 5.779 || Val Loss: 5.458 \n",
      "Save best model to best_epoch_weights.pth\n",
      "Start Train\n"
     ]
    },
    {
     "name": "stderr",
     "output_type": "stream",
     "text": [
      "Epoch 52/100: 100%|██████████| 866/866 [03:04<00:00,  4.68it/s, loss=5.74, lr=1e-5]\n"
     ]
    },
    {
     "name": "stdout",
     "output_type": "stream",
     "text": [
      "Finish Train\n",
      "Start Validation\n"
     ]
    },
    {
     "name": "stderr",
     "output_type": "stream",
     "text": [
      "Epoch 52/100: 100%|██████████| 96/96 [00:08<00:00, 11.88it/s, val_loss=5.43]\n"
     ]
    },
    {
     "name": "stdout",
     "output_type": "stream",
     "text": [
      "Finish Validation\n",
      "Epoch:52/100\n",
      "Total Loss: 5.735 || Val Loss: 5.426 \n",
      "Save best model to best_epoch_weights.pth\n",
      "Start Train\n"
     ]
    },
    {
     "name": "stderr",
     "output_type": "stream",
     "text": [
      "Epoch 53/100: 100%|██████████| 866/866 [03:05<00:00,  4.67it/s, loss=5.71, lr=1e-5]\n"
     ]
    },
    {
     "name": "stdout",
     "output_type": "stream",
     "text": [
      "Finish Train\n",
      "Start Validation\n"
     ]
    },
    {
     "name": "stderr",
     "output_type": "stream",
     "text": [
      "Epoch 53/100: 100%|██████████| 96/96 [00:08<00:00, 10.93it/s, val_loss=5.4] \n"
     ]
    },
    {
     "name": "stdout",
     "output_type": "stream",
     "text": [
      "Finish Validation\n",
      "Epoch:53/100\n",
      "Total Loss: 5.713 || Val Loss: 5.395 \n",
      "Save best model to best_epoch_weights.pth\n",
      "Start Train\n"
     ]
    },
    {
     "name": "stderr",
     "output_type": "stream",
     "text": [
      "Epoch 54/100: 100%|██████████| 866/866 [03:05<00:00,  4.66it/s, loss=5.7, lr=1e-5] \n"
     ]
    },
    {
     "name": "stdout",
     "output_type": "stream",
     "text": [
      "Finish Train\n",
      "Start Validation\n"
     ]
    },
    {
     "name": "stderr",
     "output_type": "stream",
     "text": [
      "Epoch 54/100: 100%|██████████| 96/96 [00:08<00:00, 11.10it/s, val_loss=5.37]\n"
     ]
    },
    {
     "name": "stdout",
     "output_type": "stream",
     "text": [
      "Finish Validation\n",
      "Epoch:54/100\n",
      "Total Loss: 5.696 || Val Loss: 5.371 \n",
      "Save best model to best_epoch_weights.pth\n",
      "Start Train\n"
     ]
    },
    {
     "name": "stderr",
     "output_type": "stream",
     "text": [
      "Epoch 55/100: 100%|██████████| 866/866 [03:05<00:00,  4.67it/s, loss=5.69, lr=1e-5]\n"
     ]
    },
    {
     "name": "stdout",
     "output_type": "stream",
     "text": [
      "Finish Train\n",
      "Start Validation\n"
     ]
    },
    {
     "name": "stderr",
     "output_type": "stream",
     "text": [
      "Epoch 55/100: 100%|██████████| 96/96 [00:07<00:00, 12.04it/s, val_loss=5.34]\n"
     ]
    },
    {
     "name": "stdout",
     "output_type": "stream",
     "text": [
      "Finish Validation\n",
      "Epoch:55/100\n",
      "Total Loss: 5.690 || Val Loss: 5.338 \n",
      "Save best model to best_epoch_weights.pth\n",
      "Start Train\n"
     ]
    },
    {
     "name": "stderr",
     "output_type": "stream",
     "text": [
      "Epoch 56/100: 100%|██████████| 866/866 [03:05<00:00,  4.67it/s, loss=5.67, lr=1e-5]\n"
     ]
    },
    {
     "name": "stdout",
     "output_type": "stream",
     "text": [
      "Finish Train\n",
      "Start Validation\n"
     ]
    },
    {
     "name": "stderr",
     "output_type": "stream",
     "text": [
      "Epoch 56/100: 100%|██████████| 96/96 [00:08<00:00, 11.56it/s, val_loss=5.31]\n"
     ]
    },
    {
     "name": "stdout",
     "output_type": "stream",
     "text": [
      "Finish Validation\n",
      "Epoch:56/100\n",
      "Total Loss: 5.671 || Val Loss: 5.305 \n",
      "Save best model to best_epoch_weights.pth\n",
      "Start Train\n"
     ]
    },
    {
     "name": "stderr",
     "output_type": "stream",
     "text": [
      "Epoch 57/100: 100%|██████████| 866/866 [03:05<00:00,  4.67it/s, loss=5.66, lr=1e-5]\n"
     ]
    },
    {
     "name": "stdout",
     "output_type": "stream",
     "text": [
      "Finish Train\n",
      "Start Validation\n"
     ]
    },
    {
     "name": "stderr",
     "output_type": "stream",
     "text": [
      "Epoch 57/100: 100%|██████████| 96/96 [00:07<00:00, 12.14it/s, val_loss=5.27]\n"
     ]
    },
    {
     "name": "stdout",
     "output_type": "stream",
     "text": [
      "Finish Validation\n",
      "Epoch:57/100\n",
      "Total Loss: 5.659 || Val Loss: 5.268 \n",
      "Save best model to best_epoch_weights.pth\n",
      "Start Train\n"
     ]
    },
    {
     "name": "stderr",
     "output_type": "stream",
     "text": [
      "Epoch 58/100: 100%|██████████| 866/866 [03:05<00:00,  4.67it/s, loss=5.67, lr=1e-5]\n"
     ]
    },
    {
     "name": "stdout",
     "output_type": "stream",
     "text": [
      "Finish Train\n",
      "Start Validation\n"
     ]
    },
    {
     "name": "stderr",
     "output_type": "stream",
     "text": [
      "Epoch 58/100: 100%|██████████| 96/96 [00:08<00:00, 11.75it/s, val_loss=5.25]\n"
     ]
    },
    {
     "name": "stdout",
     "output_type": "stream",
     "text": [
      "Finish Validation\n",
      "Epoch:58/100\n",
      "Total Loss: 5.670 || Val Loss: 5.247 \n",
      "Save best model to best_epoch_weights.pth\n",
      "Start Train\n"
     ]
    },
    {
     "name": "stderr",
     "output_type": "stream",
     "text": [
      "Epoch 59/100: 100%|██████████| 866/866 [03:05<00:00,  4.68it/s, loss=5.67, lr=1e-5]\n"
     ]
    },
    {
     "name": "stdout",
     "output_type": "stream",
     "text": [
      "Finish Train\n",
      "Start Validation\n"
     ]
    },
    {
     "name": "stderr",
     "output_type": "stream",
     "text": [
      "Epoch 59/100: 100%|██████████| 96/96 [00:08<00:00, 11.57it/s, val_loss=5.23]\n"
     ]
    },
    {
     "name": "stdout",
     "output_type": "stream",
     "text": [
      "Finish Validation\n",
      "Epoch:59/100\n",
      "Total Loss: 5.672 || Val Loss: 5.231 \n",
      "Save best model to best_epoch_weights.pth\n",
      "Start Train\n"
     ]
    },
    {
     "name": "stderr",
     "output_type": "stream",
     "text": [
      "Epoch 60/100: 100%|██████████| 866/866 [03:05<00:00,  4.66it/s, loss=5.65, lr=1e-5]\n"
     ]
    },
    {
     "name": "stdout",
     "output_type": "stream",
     "text": [
      "Finish Train\n",
      "Start Validation\n"
     ]
    },
    {
     "name": "stderr",
     "output_type": "stream",
     "text": [
      "Epoch 60/100: 100%|██████████| 96/96 [00:07<00:00, 12.18it/s, val_loss=5.19]\n"
     ]
    },
    {
     "name": "stdout",
     "output_type": "stream",
     "text": [
      "Finish Validation\n",
      "Get map.\n"
     ]
    },
    {
     "name": "stderr",
     "output_type": "stream",
     "text": [
      "100%|██████████| 1542/1542 [00:40<00:00, 37.89it/s]\n"
     ]
    },
    {
     "name": "stdout",
     "output_type": "stream",
     "text": [
      "Calculate Map.\n",
      "60.16% = aeroplane AP \t||\tscore_threhold=0.5 : F1=0.58 ; Recall=41.10% ; Precision=96.77%\n",
      "36.11% = bicycle AP \t||\tscore_threhold=0.5 : F1=0.35 ; Recall=25.00% ; Precision=57.14%\n",
      "32.39% = bird AP \t||\tscore_threhold=0.5 : F1=0.16 ; Recall=8.75% ; Precision=77.78%\n",
      "13.12% = boat AP \t||\tscore_threhold=0.5 : F1=0.03 ; Recall=1.39% ; Precision=50.00%\n",
      "6.24% = bottle AP \t||\tscore_threhold=0.5 : F1=0.05 ; Recall=2.34% ; Precision=100.00%\n",
      "59.86% = bus AP \t||\tscore_threhold=0.5 : F1=0.60 ; Recall=43.55% ; Precision=96.43%\n",
      "47.94% = car AP \t||\tscore_threhold=0.5 : F1=0.50 ; Recall=33.87% ; Precision=94.03%\n",
      "43.70% = cat AP \t||\tscore_threhold=0.5 : F1=0.18 ; Recall=10.00% ; Precision=92.31%\n",
      "15.74% = chair AP \t||\tscore_threhold=0.5 : F1=0.05 ; Recall=2.39% ; Precision=60.00%\n",
      "9.82% = cow AP \t||\tscore_threhold=0.5 : F1=0.00 ; Recall=0.00% ; Precision=0.00%\n",
      "19.56% = diningtable AP \t||\tscore_threhold=0.5 : F1=0.06 ; Recall=3.12% ; Precision=100.00%\n",
      "32.42% = dog AP \t||\tscore_threhold=0.5 : F1=0.12 ; Recall=6.43% ; Precision=100.00%\n",
      "28.10% = horse AP \t||\tscore_threhold=0.5 : F1=0.03 ; Recall=1.47% ; Precision=50.00%\n",
      "41.03% = motorbike AP \t||\tscore_threhold=0.5 : F1=0.34 ; Recall=21.79% ; Precision=80.95%\n",
      "59.45% = person AP \t||\tscore_threhold=0.5 : F1=0.48 ; Recall=33.52% ; Precision=85.13%\n",
      "6.93% = pottedplant AP \t||\tscore_threhold=0.5 : F1=0.06 ; Recall=3.39% ; Precision=66.67%\n",
      "24.59% = sheep AP \t||\tscore_threhold=0.5 : F1=0.11 ; Recall=5.81% ; Precision=100.00%\n",
      "32.56% = sofa AP \t||\tscore_threhold=0.5 : F1=0.16 ; Recall=9.09% ; Precision=83.33%\n",
      "55.43% = train AP \t||\tscore_threhold=0.5 : F1=0.41 ; Recall=26.00% ; Precision=100.00%\n",
      "43.00% = tvmonitor AP \t||\tscore_threhold=0.5 : F1=0.24 ; Recall=14.29% ; Precision=70.59%\n",
      "mAP = 33.41%\n",
      "Get map done.\n",
      "Epoch:60/100\n",
      "Total Loss: 5.654 || Val Loss: 5.194 \n",
      "Save best model to best_epoch_weights.pth\n",
      "Start Train\n"
     ]
    },
    {
     "name": "stderr",
     "output_type": "stream",
     "text": [
      "Epoch 61/100:   0%|          | 0/866 [00:00<?, ?it/s<class 'dict'>]/root/Untitled Folder/utils.py:862: UserWarning: To copy construct from a tensor, it is recommended to use sourceTensor.clone().detach() or sourceTensor.clone().detach().requires_grad_(True), rather than torch.tensor(sourceTensor).\n",
      "  b1_x1, b1_y1, b1_x2, b1_y2 = torch.chunk(torch.tensor(box1), 4, dim=-1)\n",
      "/root/Untitled Folder/utils.py:863: UserWarning: To copy construct from a tensor, it is recommended to use sourceTensor.clone().detach() or sourceTensor.clone().detach().requires_grad_(True), rather than torch.tensor(sourceTensor).\n",
      "  b2_x1, b2_y1, b2_x2, b2_y2 = torch.chunk(torch.tensor(box2), 4, dim=-1)\n",
      "Epoch 61/100: 100%|██████████| 866/866 [03:05<00:00,  4.67it/s, loss=5.64, lr=1e-5]\n"
     ]
    },
    {
     "name": "stdout",
     "output_type": "stream",
     "text": [
      "Finish Train\n",
      "Start Validation\n"
     ]
    },
    {
     "name": "stderr",
     "output_type": "stream",
     "text": [
      "Epoch 61/100: 100%|██████████| 96/96 [00:07<00:00, 12.11it/s, val_loss=5.19]\n"
     ]
    },
    {
     "name": "stdout",
     "output_type": "stream",
     "text": [
      "Finish Validation\n",
      "Epoch:61/100\n",
      "Total Loss: 5.644 || Val Loss: 5.193 \n",
      "Save best model to best_epoch_weights.pth\n",
      "Start Train\n"
     ]
    },
    {
     "name": "stderr",
     "output_type": "stream",
     "text": [
      "Epoch 62/100: 100%|██████████| 866/866 [03:06<00:00,  4.65it/s, loss=5.66, lr=1e-5]\n"
     ]
    },
    {
     "name": "stdout",
     "output_type": "stream",
     "text": [
      "Finish Train\n",
      "Start Validation\n"
     ]
    },
    {
     "name": "stderr",
     "output_type": "stream",
     "text": [
      "Epoch 62/100: 100%|██████████| 96/96 [00:08<00:00, 11.72it/s, val_loss=5.18]\n"
     ]
    },
    {
     "name": "stdout",
     "output_type": "stream",
     "text": [
      "Finish Validation\n",
      "Epoch:62/100\n",
      "Total Loss: 5.659 || Val Loss: 5.180 \n",
      "Save best model to best_epoch_weights.pth\n",
      "Start Train\n"
     ]
    },
    {
     "name": "stderr",
     "output_type": "stream",
     "text": [
      "Epoch 63/100: 100%|██████████| 866/866 [03:05<00:00,  4.67it/s, loss=5.66, lr=1e-5]\n"
     ]
    },
    {
     "name": "stdout",
     "output_type": "stream",
     "text": [
      "Finish Train\n",
      "Start Validation\n"
     ]
    },
    {
     "name": "stderr",
     "output_type": "stream",
     "text": [
      "Epoch 63/100: 100%|██████████| 96/96 [00:08<00:00, 11.86it/s, val_loss=5.14]\n"
     ]
    },
    {
     "name": "stdout",
     "output_type": "stream",
     "text": [
      "Finish Validation\n",
      "Epoch:63/100\n",
      "Total Loss: 5.656 || Val Loss: 5.135 \n",
      "Save best model to best_epoch_weights.pth\n",
      "Start Train\n"
     ]
    },
    {
     "name": "stderr",
     "output_type": "stream",
     "text": [
      "Epoch 64/100: 100%|██████████| 866/866 [03:05<00:00,  4.67it/s, loss=5.63, lr=1e-5]\n"
     ]
    },
    {
     "name": "stdout",
     "output_type": "stream",
     "text": [
      "Finish Train\n",
      "Start Validation\n"
     ]
    },
    {
     "name": "stderr",
     "output_type": "stream",
     "text": [
      "Epoch 64/100: 100%|██████████| 96/96 [00:08<00:00, 11.39it/s, val_loss=5.16]\n"
     ]
    },
    {
     "name": "stdout",
     "output_type": "stream",
     "text": [
      "Finish Validation\n",
      "Epoch:64/100\n",
      "Total Loss: 5.628 || Val Loss: 5.160 \n",
      "Start Train\n"
     ]
    },
    {
     "name": "stderr",
     "output_type": "stream",
     "text": [
      "Epoch 65/100: 100%|██████████| 866/866 [03:05<00:00,  4.67it/s, loss=5.64, lr=1e-5]\n"
     ]
    },
    {
     "name": "stdout",
     "output_type": "stream",
     "text": [
      "Finish Train\n",
      "Start Validation\n"
     ]
    },
    {
     "name": "stderr",
     "output_type": "stream",
     "text": [
      "Epoch 65/100: 100%|██████████| 96/96 [00:07<00:00, 12.29it/s, val_loss=5.13]\n"
     ]
    },
    {
     "name": "stdout",
     "output_type": "stream",
     "text": [
      "Finish Validation\n",
      "Epoch:65/100\n",
      "Total Loss: 5.636 || Val Loss: 5.132 \n",
      "Save best model to best_epoch_weights.pth\n",
      "Start Train\n"
     ]
    },
    {
     "name": "stderr",
     "output_type": "stream",
     "text": [
      "Epoch 66/100: 100%|██████████| 866/866 [03:05<00:00,  4.67it/s, loss=5.65, lr=1e-5]\n"
     ]
    },
    {
     "name": "stdout",
     "output_type": "stream",
     "text": [
      "Finish Train\n",
      "Start Validation\n"
     ]
    },
    {
     "name": "stderr",
     "output_type": "stream",
     "text": [
      "Epoch 66/100: 100%|██████████| 96/96 [00:08<00:00, 10.86it/s, val_loss=5.13]\n"
     ]
    },
    {
     "name": "stdout",
     "output_type": "stream",
     "text": [
      "Finish Validation\n",
      "Epoch:66/100\n",
      "Total Loss: 5.646 || Val Loss: 5.132 \n",
      "Start Train\n"
     ]
    },
    {
     "name": "stderr",
     "output_type": "stream",
     "text": [
      "Epoch 67/100: 100%|██████████| 866/866 [03:05<00:00,  4.66it/s, loss=5.65, lr=1e-5]\n"
     ]
    },
    {
     "name": "stdout",
     "output_type": "stream",
     "text": [
      "Finish Train\n",
      "Start Validation\n"
     ]
    },
    {
     "name": "stderr",
     "output_type": "stream",
     "text": [
      "Epoch 67/100: 100%|██████████| 96/96 [00:08<00:00, 11.24it/s, val_loss=5.12]\n"
     ]
    },
    {
     "name": "stdout",
     "output_type": "stream",
     "text": [
      "Finish Validation\n",
      "Epoch:67/100\n",
      "Total Loss: 5.647 || Val Loss: 5.120 \n",
      "Save best model to best_epoch_weights.pth\n",
      "Start Train\n"
     ]
    },
    {
     "name": "stderr",
     "output_type": "stream",
     "text": [
      "Epoch 68/100: 100%|██████████| 866/866 [03:05<00:00,  4.68it/s, loss=5.64, lr=1e-5]\n"
     ]
    },
    {
     "name": "stdout",
     "output_type": "stream",
     "text": [
      "Finish Train\n",
      "Start Validation\n"
     ]
    },
    {
     "name": "stderr",
     "output_type": "stream",
     "text": [
      "Epoch 68/100: 100%|██████████| 96/96 [00:07<00:00, 12.03it/s, val_loss=5.11]\n"
     ]
    },
    {
     "name": "stdout",
     "output_type": "stream",
     "text": [
      "Finish Validation\n",
      "Epoch:68/100\n",
      "Total Loss: 5.642 || Val Loss: 5.111 \n",
      "Save best model to best_epoch_weights.pth\n",
      "Start Train\n"
     ]
    },
    {
     "name": "stderr",
     "output_type": "stream",
     "text": [
      "Epoch 69/100: 100%|██████████| 866/866 [03:04<00:00,  4.68it/s, loss=5.63, lr=1e-5]\n"
     ]
    },
    {
     "name": "stdout",
     "output_type": "stream",
     "text": [
      "Finish Train\n",
      "Start Validation\n"
     ]
    },
    {
     "name": "stderr",
     "output_type": "stream",
     "text": [
      "Epoch 69/100: 100%|██████████| 96/96 [00:07<00:00, 12.31it/s, val_loss=5.09]\n"
     ]
    },
    {
     "name": "stdout",
     "output_type": "stream",
     "text": [
      "Finish Validation\n",
      "Epoch:69/100\n",
      "Total Loss: 5.625 || Val Loss: 5.090 \n",
      "Save best model to best_epoch_weights.pth\n",
      "Start Train\n"
     ]
    },
    {
     "name": "stderr",
     "output_type": "stream",
     "text": [
      "Epoch 70/100: 100%|██████████| 866/866 [03:05<00:00,  4.68it/s, loss=5.64, lr=1e-5]\n"
     ]
    },
    {
     "name": "stdout",
     "output_type": "stream",
     "text": [
      "Finish Train\n",
      "Start Validation\n"
     ]
    },
    {
     "name": "stderr",
     "output_type": "stream",
     "text": [
      "Epoch 70/100: 100%|██████████| 96/96 [00:07<00:00, 12.29it/s, val_loss=5.09]\n"
     ]
    },
    {
     "name": "stdout",
     "output_type": "stream",
     "text": [
      "Finish Validation\n",
      "Get map.\n"
     ]
    },
    {
     "name": "stderr",
     "output_type": "stream",
     "text": [
      "100%|██████████| 1542/1542 [00:40<00:00, 37.68it/s]\n"
     ]
    },
    {
     "name": "stdout",
     "output_type": "stream",
     "text": [
      "Calculate Map.\n",
      "64.12% = aeroplane AP \t||\tscore_threhold=0.5 : F1=0.65 ; Recall=50.68% ; Precision=92.50%\n",
      "37.81% = bicycle AP \t||\tscore_threhold=0.5 : F1=0.40 ; Recall=28.12% ; Precision=72.00%\n",
      "34.25% = bird AP \t||\tscore_threhold=0.5 : F1=0.27 ; Recall=16.25% ; Precision=76.47%\n",
      "17.22% = boat AP \t||\tscore_threhold=0.5 : F1=0.03 ; Recall=1.39% ; Precision=50.00%\n",
      "6.96% = bottle AP \t||\tscore_threhold=0.5 : F1=0.06 ; Recall=2.92% ; Precision=83.33%\n",
      "62.02% = bus AP \t||\tscore_threhold=0.5 : F1=0.68 ; Recall=51.61% ; Precision=100.00%\n",
      "48.73% = car AP \t||\tscore_threhold=0.5 : F1=0.51 ; Recall=35.48% ; Precision=92.96%\n",
      "44.69% = cat AP \t||\tscore_threhold=0.5 : F1=0.29 ; Recall=17.50% ; Precision=80.77%\n",
      "18.90% = chair AP \t||\tscore_threhold=0.5 : F1=0.08 ; Recall=3.98% ; Precision=66.67%\n",
      "11.38% = cow AP \t||\tscore_threhold=0.5 : F1=0.00 ; Recall=0.00% ; Precision=0.00%\n",
      "19.55% = diningtable AP \t||\tscore_threhold=0.5 : F1=0.14 ; Recall=7.81% ; Precision=62.50%\n",
      "37.12% = dog AP \t||\tscore_threhold=0.5 : F1=0.20 ; Recall=11.43% ; Precision=88.89%\n",
      "29.52% = horse AP \t||\tscore_threhold=0.5 : F1=0.08 ; Recall=4.41% ; Precision=60.00%\n",
      "43.47% = motorbike AP \t||\tscore_threhold=0.5 : F1=0.42 ; Recall=28.21% ; Precision=84.62%\n",
      "61.56% = person AP \t||\tscore_threhold=0.5 : F1=0.50 ; Recall=35.82% ; Precision=85.52%\n",
      "8.89% = pottedplant AP \t||\tscore_threhold=0.5 : F1=0.06 ; Recall=3.39% ; Precision=66.67%\n",
      "29.70% = sheep AP \t||\tscore_threhold=0.5 : F1=0.24 ; Recall=13.95% ; Precision=75.00%\n",
      "34.10% = sofa AP \t||\tscore_threhold=0.5 : F1=0.27 ; Recall=16.36% ; Precision=81.82%\n",
      "58.09% = train AP \t||\tscore_threhold=0.5 : F1=0.44 ; Recall=28.00% ; Precision=100.00%\n",
      "45.75% = tvmonitor AP \t||\tscore_threhold=0.5 : F1=0.35 ; Recall=22.62% ; Precision=79.17%\n",
      "mAP = 35.69%\n",
      "Get map done.\n",
      "Epoch:70/100\n",
      "Total Loss: 5.642 || Val Loss: 5.087 \n",
      "Save best model to best_epoch_weights.pth\n",
      "Start Train\n"
     ]
    },
    {
     "name": "stderr",
     "output_type": "stream",
     "text": [
      "Epoch 71/100:   0%|          | 0/866 [00:00<?, ?it/s<class 'dict'>]/root/Untitled Folder/utils.py:862: UserWarning: To copy construct from a tensor, it is recommended to use sourceTensor.clone().detach() or sourceTensor.clone().detach().requires_grad_(True), rather than torch.tensor(sourceTensor).\n",
      "  b1_x1, b1_y1, b1_x2, b1_y2 = torch.chunk(torch.tensor(box1), 4, dim=-1)\n",
      "/root/Untitled Folder/utils.py:863: UserWarning: To copy construct from a tensor, it is recommended to use sourceTensor.clone().detach() or sourceTensor.clone().detach().requires_grad_(True), rather than torch.tensor(sourceTensor).\n",
      "  b2_x1, b2_y1, b2_x2, b2_y2 = torch.chunk(torch.tensor(box2), 4, dim=-1)\n",
      "Epoch 71/100: 100%|██████████| 866/866 [03:05<00:00,  4.66it/s, loss=5.62, lr=1e-5]\n"
     ]
    },
    {
     "name": "stdout",
     "output_type": "stream",
     "text": [
      "Finish Train\n",
      "Start Validation\n"
     ]
    },
    {
     "name": "stderr",
     "output_type": "stream",
     "text": [
      "Epoch 71/100: 100%|██████████| 96/96 [00:08<00:00, 10.67it/s, val_loss=5.07]\n"
     ]
    },
    {
     "name": "stdout",
     "output_type": "stream",
     "text": [
      "Finish Validation\n",
      "Epoch:71/100\n",
      "Total Loss: 5.624 || Val Loss: 5.071 \n",
      "Save best model to best_epoch_weights.pth\n",
      "Start Train\n"
     ]
    },
    {
     "name": "stderr",
     "output_type": "stream",
     "text": [
      "Epoch 72/100: 100%|██████████| 866/866 [03:05<00:00,  4.67it/s, loss=5.61, lr=1e-5]\n"
     ]
    },
    {
     "name": "stdout",
     "output_type": "stream",
     "text": [
      "Finish Train\n",
      "Start Validation\n"
     ]
    },
    {
     "name": "stderr",
     "output_type": "stream",
     "text": [
      "Epoch 72/100: 100%|██████████| 96/96 [00:08<00:00, 11.69it/s, val_loss=5.08]\n"
     ]
    },
    {
     "name": "stdout",
     "output_type": "stream",
     "text": [
      "Finish Validation\n",
      "Epoch:72/100\n",
      "Total Loss: 5.611 || Val Loss: 5.082 \n",
      "Start Train\n"
     ]
    },
    {
     "name": "stderr",
     "output_type": "stream",
     "text": [
      "Epoch 73/100: 100%|██████████| 866/866 [03:05<00:00,  4.68it/s, loss=5.61, lr=1e-5]\n"
     ]
    },
    {
     "name": "stdout",
     "output_type": "stream",
     "text": [
      "Finish Train\n",
      "Start Validation\n"
     ]
    },
    {
     "name": "stderr",
     "output_type": "stream",
     "text": [
      "Epoch 73/100: 100%|██████████| 96/96 [00:08<00:00, 11.40it/s, val_loss=5.08]\n"
     ]
    },
    {
     "name": "stdout",
     "output_type": "stream",
     "text": [
      "Finish Validation\n",
      "Epoch:73/100\n",
      "Total Loss: 5.612 || Val Loss: 5.080 \n",
      "Start Train\n"
     ]
    },
    {
     "name": "stderr",
     "output_type": "stream",
     "text": [
      "Epoch 74/100: 100%|██████████| 866/866 [03:05<00:00,  4.67it/s, loss=5.62, lr=1e-5]\n"
     ]
    },
    {
     "name": "stdout",
     "output_type": "stream",
     "text": [
      "Finish Train\n",
      "Start Validation\n"
     ]
    },
    {
     "name": "stderr",
     "output_type": "stream",
     "text": [
      "Epoch 74/100: 100%|██████████| 96/96 [00:08<00:00, 10.91it/s, val_loss=5.07]\n"
     ]
    },
    {
     "name": "stdout",
     "output_type": "stream",
     "text": [
      "Finish Validation\n",
      "Epoch:74/100\n",
      "Total Loss: 5.622 || Val Loss: 5.069 \n",
      "Save best model to best_epoch_weights.pth\n",
      "Start Train\n"
     ]
    },
    {
     "name": "stderr",
     "output_type": "stream",
     "text": [
      "Epoch 75/100: 100%|██████████| 866/866 [03:05<00:00,  4.68it/s, loss=5.62, lr=1e-5]\n"
     ]
    },
    {
     "name": "stdout",
     "output_type": "stream",
     "text": [
      "Finish Train\n",
      "Start Validation\n"
     ]
    },
    {
     "name": "stderr",
     "output_type": "stream",
     "text": [
      "Epoch 75/100: 100%|██████████| 96/96 [00:08<00:00, 11.40it/s, val_loss=5.07]\n"
     ]
    },
    {
     "name": "stdout",
     "output_type": "stream",
     "text": [
      "Finish Validation\n",
      "Epoch:75/100\n",
      "Total Loss: 5.622 || Val Loss: 5.072 \n",
      "Start Train\n"
     ]
    },
    {
     "name": "stderr",
     "output_type": "stream",
     "text": [
      "Epoch 76/100: 100%|██████████| 866/866 [03:05<00:00,  4.68it/s, loss=5.63, lr=1e-5]\n"
     ]
    },
    {
     "name": "stdout",
     "output_type": "stream",
     "text": [
      "Finish Train\n",
      "Start Validation\n"
     ]
    },
    {
     "name": "stderr",
     "output_type": "stream",
     "text": [
      "Epoch 76/100: 100%|██████████| 96/96 [00:08<00:00, 11.53it/s, val_loss=5.07]\n"
     ]
    },
    {
     "name": "stdout",
     "output_type": "stream",
     "text": [
      "Finish Validation\n",
      "Epoch:76/100\n",
      "Total Loss: 5.629 || Val Loss: 5.066 \n",
      "Save best model to best_epoch_weights.pth\n",
      "Start Train\n"
     ]
    },
    {
     "name": "stderr",
     "output_type": "stream",
     "text": [
      "Epoch 77/100: 100%|██████████| 866/866 [03:05<00:00,  4.67it/s, loss=5.62, lr=1e-5]\n"
     ]
    },
    {
     "name": "stdout",
     "output_type": "stream",
     "text": [
      "Finish Train\n",
      "Start Validation\n"
     ]
    },
    {
     "name": "stderr",
     "output_type": "stream",
     "text": [
      "Epoch 77/100: 100%|██████████| 96/96 [00:08<00:00, 11.35it/s, val_loss=5.06]\n"
     ]
    },
    {
     "name": "stdout",
     "output_type": "stream",
     "text": [
      "Finish Validation\n",
      "Epoch:77/100\n",
      "Total Loss: 5.616 || Val Loss: 5.060 \n",
      "Save best model to best_epoch_weights.pth\n",
      "Start Train\n"
     ]
    },
    {
     "name": "stderr",
     "output_type": "stream",
     "text": [
      "Epoch 78/100: 100%|██████████| 866/866 [03:05<00:00,  4.66it/s, loss=5.62, lr=1e-5]\n"
     ]
    },
    {
     "name": "stdout",
     "output_type": "stream",
     "text": [
      "Finish Train\n",
      "Start Validation\n"
     ]
    },
    {
     "name": "stderr",
     "output_type": "stream",
     "text": [
      "Epoch 78/100: 100%|██████████| 96/96 [00:08<00:00, 11.48it/s, val_loss=5.05]\n"
     ]
    },
    {
     "name": "stdout",
     "output_type": "stream",
     "text": [
      "Finish Validation\n",
      "Epoch:78/100\n",
      "Total Loss: 5.620 || Val Loss: 5.047 \n",
      "Save best model to best_epoch_weights.pth\n",
      "Start Train\n"
     ]
    },
    {
     "name": "stderr",
     "output_type": "stream",
     "text": [
      "Epoch 79/100: 100%|██████████| 866/866 [03:05<00:00,  4.66it/s, loss=5.63, lr=1e-5]\n"
     ]
    },
    {
     "name": "stdout",
     "output_type": "stream",
     "text": [
      "Finish Train\n",
      "Start Validation\n"
     ]
    },
    {
     "name": "stderr",
     "output_type": "stream",
     "text": [
      "Epoch 79/100: 100%|██████████| 96/96 [00:08<00:00, 11.33it/s, val_loss=5.05]\n"
     ]
    },
    {
     "name": "stdout",
     "output_type": "stream",
     "text": [
      "Finish Validation\n",
      "Epoch:79/100\n",
      "Total Loss: 5.626 || Val Loss: 5.048 \n",
      "Start Train\n"
     ]
    },
    {
     "name": "stderr",
     "output_type": "stream",
     "text": [
      "Epoch 80/100: 100%|██████████| 866/866 [03:05<00:00,  4.68it/s, loss=5.63, lr=1e-5]\n"
     ]
    },
    {
     "name": "stdout",
     "output_type": "stream",
     "text": [
      "Finish Train\n",
      "Start Validation\n"
     ]
    },
    {
     "name": "stderr",
     "output_type": "stream",
     "text": [
      "Epoch 80/100: 100%|██████████| 96/96 [00:08<00:00, 11.24it/s, val_loss=5.06]\n"
     ]
    },
    {
     "name": "stdout",
     "output_type": "stream",
     "text": [
      "Finish Validation\n",
      "Get map.\n"
     ]
    },
    {
     "name": "stderr",
     "output_type": "stream",
     "text": [
      "100%|██████████| 1542/1542 [00:43<00:00, 35.50it/s]\n"
     ]
    },
    {
     "name": "stdout",
     "output_type": "stream",
     "text": [
      "Calculate Map.\n",
      "63.91% = aeroplane AP \t||\tscore_threhold=0.5 : F1=0.66 ; Recall=52.05% ; Precision=90.48%\n",
      "35.55% = bicycle AP \t||\tscore_threhold=0.5 : F1=0.41 ; Recall=28.12% ; Precision=75.00%\n",
      "35.28% = bird AP \t||\tscore_threhold=0.5 : F1=0.34 ; Recall=21.25% ; Precision=85.00%\n",
      "16.83% = boat AP \t||\tscore_threhold=0.5 : F1=0.03 ; Recall=1.39% ; Precision=50.00%\n",
      "7.87% = bottle AP \t||\tscore_threhold=0.5 : F1=0.08 ; Recall=4.09% ; Precision=77.78%\n",
      "62.19% = bus AP \t||\tscore_threhold=0.5 : F1=0.69 ; Recall=53.23% ; Precision=100.00%\n",
      "50.12% = car AP \t||\tscore_threhold=0.5 : F1=0.50 ; Recall=34.41% ; Precision=90.14%\n",
      "47.13% = cat AP \t||\tscore_threhold=0.5 : F1=0.32 ; Recall=20.00% ; Precision=80.00%\n",
      "19.72% = chair AP \t||\tscore_threhold=0.5 : F1=0.08 ; Recall=4.38% ; Precision=61.11%\n",
      "11.86% = cow AP \t||\tscore_threhold=0.5 : F1=0.00 ; Recall=0.00% ; Precision=0.00%\n",
      "21.39% = diningtable AP \t||\tscore_threhold=0.5 : F1=0.19 ; Recall=10.94% ; Precision=63.64%\n",
      "39.89% = dog AP \t||\tscore_threhold=0.5 : F1=0.24 ; Recall=14.29% ; Precision=83.33%\n",
      "30.63% = horse AP \t||\tscore_threhold=0.5 : F1=0.13 ; Recall=7.35% ; Precision=71.43%\n",
      "45.12% = motorbike AP \t||\tscore_threhold=0.5 : F1=0.44 ; Recall=29.49% ; Precision=85.19%\n",
      "62.14% = person AP \t||\tscore_threhold=0.5 : F1=0.52 ; Recall=37.63% ; Precision=84.24%\n",
      "10.30% = pottedplant AP \t||\tscore_threhold=0.5 : F1=0.06 ; Recall=3.39% ; Precision=66.67%\n",
      "29.70% = sheep AP \t||\tscore_threhold=0.5 : F1=0.25 ; Recall=15.12% ; Precision=76.47%\n",
      "36.08% = sofa AP \t||\tscore_threhold=0.5 : F1=0.25 ; Recall=14.55% ; Precision=80.00%\n",
      "60.00% = train AP \t||\tscore_threhold=0.5 : F1=0.48 ; Recall=32.00% ; Precision=100.00%\n",
      "45.31% = tvmonitor AP \t||\tscore_threhold=0.5 : F1=0.38 ; Recall=25.00% ; Precision=80.77%\n",
      "mAP = 36.55%\n",
      "Get map done.\n",
      "Epoch:80/100\n",
      "Total Loss: 5.626 || Val Loss: 5.060 \n",
      "Start Train\n"
     ]
    },
    {
     "name": "stderr",
     "output_type": "stream",
     "text": [
      "Epoch 81/100:   0%|          | 0/866 [00:00<?, ?it/s<class 'dict'>]/root/Untitled Folder/utils.py:862: UserWarning: To copy construct from a tensor, it is recommended to use sourceTensor.clone().detach() or sourceTensor.clone().detach().requires_grad_(True), rather than torch.tensor(sourceTensor).\n",
      "  b1_x1, b1_y1, b1_x2, b1_y2 = torch.chunk(torch.tensor(box1), 4, dim=-1)\n",
      "/root/Untitled Folder/utils.py:863: UserWarning: To copy construct from a tensor, it is recommended to use sourceTensor.clone().detach() or sourceTensor.clone().detach().requires_grad_(True), rather than torch.tensor(sourceTensor).\n",
      "  b2_x1, b2_y1, b2_x2, b2_y2 = torch.chunk(torch.tensor(box2), 4, dim=-1)\n",
      "Epoch 81/100: 100%|██████████| 866/866 [03:03<00:00,  4.71it/s, loss=5.6, lr=1e-5] \n"
     ]
    },
    {
     "name": "stdout",
     "output_type": "stream",
     "text": [
      "Finish Train\n",
      "Start Validation\n"
     ]
    },
    {
     "name": "stderr",
     "output_type": "stream",
     "text": [
      "Epoch 81/100: 100%|██████████| 96/96 [00:07<00:00, 12.26it/s, val_loss=5.04]\n"
     ]
    },
    {
     "name": "stdout",
     "output_type": "stream",
     "text": [
      "Finish Validation\n",
      "Epoch:81/100\n",
      "Total Loss: 5.602 || Val Loss: 5.045 \n",
      "Save best model to best_epoch_weights.pth\n",
      "Start Train\n"
     ]
    },
    {
     "name": "stderr",
     "output_type": "stream",
     "text": [
      "Epoch 82/100: 100%|██████████| 866/866 [03:05<00:00,  4.66it/s, loss=5.63, lr=1e-5]\n"
     ]
    },
    {
     "name": "stdout",
     "output_type": "stream",
     "text": [
      "Finish Train\n",
      "Start Validation\n"
     ]
    },
    {
     "name": "stderr",
     "output_type": "stream",
     "text": [
      "Epoch 82/100: 100%|██████████| 96/96 [00:08<00:00, 11.91it/s, val_loss=5.06]\n"
     ]
    },
    {
     "name": "stdout",
     "output_type": "stream",
     "text": [
      "Finish Validation\n",
      "Epoch:82/100\n",
      "Total Loss: 5.629 || Val Loss: 5.059 \n",
      "Start Train\n"
     ]
    },
    {
     "name": "stderr",
     "output_type": "stream",
     "text": [
      "Epoch 83/100: 100%|██████████| 866/866 [03:06<00:00,  4.65it/s, loss=5.62, lr=1e-5]\n"
     ]
    },
    {
     "name": "stdout",
     "output_type": "stream",
     "text": [
      "Finish Train\n",
      "Start Validation\n"
     ]
    },
    {
     "name": "stderr",
     "output_type": "stream",
     "text": [
      "Epoch 83/100: 100%|██████████| 96/96 [00:08<00:00, 11.83it/s, val_loss=5.04]\n"
     ]
    },
    {
     "name": "stdout",
     "output_type": "stream",
     "text": [
      "Finish Validation\n",
      "Epoch:83/100\n",
      "Total Loss: 5.623 || Val Loss: 5.035 \n",
      "Save best model to best_epoch_weights.pth\n",
      "Start Train\n"
     ]
    },
    {
     "name": "stderr",
     "output_type": "stream",
     "text": [
      "Epoch 84/100: 100%|██████████| 866/866 [03:04<00:00,  4.69it/s, loss=5.61, lr=1e-5]\n"
     ]
    },
    {
     "name": "stdout",
     "output_type": "stream",
     "text": [
      "Finish Train\n",
      "Start Validation\n"
     ]
    },
    {
     "name": "stderr",
     "output_type": "stream",
     "text": [
      "Epoch 84/100: 100%|██████████| 96/96 [00:08<00:00, 11.28it/s, val_loss=5.05]\n"
     ]
    },
    {
     "name": "stdout",
     "output_type": "stream",
     "text": [
      "Finish Validation\n",
      "Epoch:84/100\n",
      "Total Loss: 5.612 || Val Loss: 5.052 \n",
      "Start Train\n"
     ]
    },
    {
     "name": "stderr",
     "output_type": "stream",
     "text": [
      "Epoch 85/100: 100%|██████████| 866/866 [03:03<00:00,  4.73it/s, loss=5.57, lr=1e-5]\n"
     ]
    },
    {
     "name": "stdout",
     "output_type": "stream",
     "text": [
      "Finish Train\n",
      "Start Validation\n"
     ]
    },
    {
     "name": "stderr",
     "output_type": "stream",
     "text": [
      "Epoch 85/100: 100%|██████████| 96/96 [00:08<00:00, 11.54it/s, val_loss=5.03]\n"
     ]
    },
    {
     "name": "stdout",
     "output_type": "stream",
     "text": [
      "Finish Validation\n",
      "Epoch:85/100\n",
      "Total Loss: 5.570 || Val Loss: 5.031 \n",
      "Save best model to best_epoch_weights.pth\n",
      "Start Train\n"
     ]
    },
    {
     "name": "stderr",
     "output_type": "stream",
     "text": [
      "Epoch 86/100: 100%|██████████| 866/866 [03:06<00:00,  4.65it/s, loss=5.62, lr=1e-5]\n"
     ]
    },
    {
     "name": "stdout",
     "output_type": "stream",
     "text": [
      "Finish Train\n",
      "Start Validation\n"
     ]
    },
    {
     "name": "stderr",
     "output_type": "stream",
     "text": [
      "Epoch 86/100: 100%|██████████| 96/96 [00:08<00:00, 11.57it/s, val_loss=5.02]\n"
     ]
    },
    {
     "name": "stdout",
     "output_type": "stream",
     "text": [
      "Finish Validation\n",
      "Epoch:86/100\n",
      "Total Loss: 5.616 || Val Loss: 5.024 \n",
      "Save best model to best_epoch_weights.pth\n",
      "Start Train\n"
     ]
    },
    {
     "name": "stderr",
     "output_type": "stream",
     "text": [
      "Epoch 87/100: 100%|██████████| 866/866 [03:05<00:00,  4.68it/s, loss=5.62, lr=1e-5]\n"
     ]
    },
    {
     "name": "stdout",
     "output_type": "stream",
     "text": [
      "Finish Train\n",
      "Start Validation\n"
     ]
    },
    {
     "name": "stderr",
     "output_type": "stream",
     "text": [
      "Epoch 87/100: 100%|██████████| 96/96 [00:08<00:00, 11.13it/s, val_loss=5.03]\n"
     ]
    },
    {
     "name": "stdout",
     "output_type": "stream",
     "text": [
      "Finish Validation\n",
      "Epoch:87/100\n",
      "Total Loss: 5.619 || Val Loss: 5.034 \n",
      "Start Train\n"
     ]
    },
    {
     "name": "stderr",
     "output_type": "stream",
     "text": [
      "Epoch 88/100: 100%|██████████| 866/866 [03:03<00:00,  4.71it/s, loss=5.62, lr=1e-5]\n"
     ]
    },
    {
     "name": "stdout",
     "output_type": "stream",
     "text": [
      "Finish Train\n",
      "Start Validation\n"
     ]
    },
    {
     "name": "stderr",
     "output_type": "stream",
     "text": [
      "Epoch 88/100: 100%|██████████| 96/96 [00:08<00:00, 11.83it/s, val_loss=5.04]\n"
     ]
    },
    {
     "name": "stdout",
     "output_type": "stream",
     "text": [
      "Finish Validation\n",
      "Epoch:88/100\n",
      "Total Loss: 5.616 || Val Loss: 5.040 \n",
      "Start Train\n"
     ]
    },
    {
     "name": "stderr",
     "output_type": "stream",
     "text": [
      "Epoch 89/100: 100%|██████████| 866/866 [03:05<00:00,  4.66it/s, loss=5.6, lr=1e-5] \n"
     ]
    },
    {
     "name": "stdout",
     "output_type": "stream",
     "text": [
      "Finish Train\n",
      "Start Validation\n"
     ]
    },
    {
     "name": "stderr",
     "output_type": "stream",
     "text": [
      "Epoch 89/100: 100%|██████████| 96/96 [00:08<00:00, 11.09it/s, val_loss=5.03]\n"
     ]
    },
    {
     "name": "stdout",
     "output_type": "stream",
     "text": [
      "Finish Validation\n",
      "Epoch:89/100\n",
      "Total Loss: 5.604 || Val Loss: 5.033 \n",
      "Start Train\n"
     ]
    },
    {
     "name": "stderr",
     "output_type": "stream",
     "text": [
      "Epoch 90/100: 100%|██████████| 866/866 [03:03<00:00,  4.72it/s, loss=5.61, lr=1e-5]\n"
     ]
    },
    {
     "name": "stdout",
     "output_type": "stream",
     "text": [
      "Finish Train\n",
      "Start Validation\n"
     ]
    },
    {
     "name": "stderr",
     "output_type": "stream",
     "text": [
      "Epoch 90/100: 100%|██████████| 96/96 [00:08<00:00, 11.51it/s, val_loss=5.03]\n"
     ]
    },
    {
     "name": "stdout",
     "output_type": "stream",
     "text": [
      "Finish Validation\n",
      "Get map.\n"
     ]
    },
    {
     "name": "stderr",
     "output_type": "stream",
     "text": [
      "100%|██████████| 1542/1542 [00:43<00:00, 35.44it/s]\n"
     ]
    },
    {
     "name": "stdout",
     "output_type": "stream",
     "text": [
      "Calculate Map.\n",
      "64.52% = aeroplane AP \t||\tscore_threhold=0.5 : F1=0.66 ; Recall=52.05% ; Precision=88.37%\n",
      "37.22% = bicycle AP \t||\tscore_threhold=0.5 : F1=0.37 ; Recall=25.00% ; Precision=69.57%\n",
      "35.79% = bird AP \t||\tscore_threhold=0.5 : F1=0.34 ; Recall=21.25% ; Precision=80.95%\n",
      "15.54% = boat AP \t||\tscore_threhold=0.5 : F1=0.03 ; Recall=1.39% ; Precision=50.00%\n",
      "8.16% = bottle AP \t||\tscore_threhold=0.5 : F1=0.08 ; Recall=4.09% ; Precision=77.78%\n",
      "62.04% = bus AP \t||\tscore_threhold=0.5 : F1=0.68 ; Recall=51.61% ; Precision=100.00%\n",
      "50.76% = car AP \t||\tscore_threhold=0.5 : F1=0.49 ; Recall=33.87% ; Precision=90.00%\n",
      "47.47% = cat AP \t||\tscore_threhold=0.5 : F1=0.34 ; Recall=21.67% ; Precision=74.29%\n",
      "20.09% = chair AP \t||\tscore_threhold=0.5 : F1=0.10 ; Recall=5.18% ; Precision=65.00%\n",
      "12.26% = cow AP \t||\tscore_threhold=0.5 : F1=0.00 ; Recall=0.00% ; Precision=0.00%\n",
      "22.78% = diningtable AP \t||\tscore_threhold=0.5 : F1=0.19 ; Recall=10.94% ; Precision=63.64%\n",
      "42.06% = dog AP \t||\tscore_threhold=0.5 : F1=0.27 ; Recall=16.43% ; Precision=79.31%\n",
      "32.16% = horse AP \t||\tscore_threhold=0.5 : F1=0.13 ; Recall=7.35% ; Precision=71.43%\n",
      "42.76% = motorbike AP \t||\tscore_threhold=0.5 : F1=0.42 ; Recall=28.21% ; Precision=81.48%\n",
      "62.54% = person AP \t||\tscore_threhold=0.5 : F1=0.53 ; Recall=38.19% ; Precision=84.31%\n",
      "10.71% = pottedplant AP \t||\tscore_threhold=0.5 : F1=0.10 ; Recall=5.08% ; Precision=75.00%\n",
      "29.95% = sheep AP \t||\tscore_threhold=0.5 : F1=0.27 ; Recall=16.28% ; Precision=82.35%\n",
      "36.45% = sofa AP \t||\tscore_threhold=0.5 : F1=0.25 ; Recall=14.55% ; Precision=80.00%\n",
      "60.97% = train AP \t||\tscore_threhold=0.5 : F1=0.53 ; Recall=36.00% ; Precision=100.00%\n",
      "44.63% = tvmonitor AP \t||\tscore_threhold=0.5 : F1=0.37 ; Recall=23.81% ; Precision=80.00%\n",
      "mAP = 36.94%\n",
      "Get map done.\n",
      "Epoch:90/100\n",
      "Total Loss: 5.606 || Val Loss: 5.031 \n",
      "Start Train\n"
     ]
    },
    {
     "name": "stderr",
     "output_type": "stream",
     "text": [
      "Epoch 91/100:   0%|          | 0/866 [00:00<?, ?it/s<class 'dict'>]/root/Untitled Folder/utils.py:862: UserWarning: To copy construct from a tensor, it is recommended to use sourceTensor.clone().detach() or sourceTensor.clone().detach().requires_grad_(True), rather than torch.tensor(sourceTensor).\n",
      "  b1_x1, b1_y1, b1_x2, b1_y2 = torch.chunk(torch.tensor(box1), 4, dim=-1)\n",
      "/root/Untitled Folder/utils.py:863: UserWarning: To copy construct from a tensor, it is recommended to use sourceTensor.clone().detach() or sourceTensor.clone().detach().requires_grad_(True), rather than torch.tensor(sourceTensor).\n",
      "  b2_x1, b2_y1, b2_x2, b2_y2 = torch.chunk(torch.tensor(box2), 4, dim=-1)\n",
      "Epoch 91/100: 100%|██████████| 866/866 [03:06<00:00,  4.65it/s, loss=5.6, lr=1e-5] \n"
     ]
    },
    {
     "name": "stdout",
     "output_type": "stream",
     "text": [
      "Finish Train\n",
      "Start Validation\n"
     ]
    },
    {
     "name": "stderr",
     "output_type": "stream",
     "text": [
      "Epoch 91/100: 100%|██████████| 96/96 [00:08<00:00, 11.43it/s, val_loss=5.03]\n"
     ]
    },
    {
     "name": "stdout",
     "output_type": "stream",
     "text": [
      "Finish Validation\n",
      "Epoch:91/100\n",
      "Total Loss: 5.603 || Val Loss: 5.026 \n",
      "Start Train\n"
     ]
    },
    {
     "name": "stderr",
     "output_type": "stream",
     "text": [
      "Epoch 92/100: 100%|██████████| 866/866 [03:04<00:00,  4.70it/s, loss=5.59, lr=1e-5]\n"
     ]
    },
    {
     "name": "stdout",
     "output_type": "stream",
     "text": [
      "Finish Train\n",
      "Start Validation\n"
     ]
    },
    {
     "name": "stderr",
     "output_type": "stream",
     "text": [
      "Epoch 92/100: 100%|██████████| 96/96 [00:08<00:00, 11.36it/s, val_loss=5.02]\n"
     ]
    },
    {
     "name": "stdout",
     "output_type": "stream",
     "text": [
      "Finish Validation\n",
      "Epoch:92/100\n",
      "Total Loss: 5.588 || Val Loss: 5.024 \n",
      "Start Train\n"
     ]
    },
    {
     "name": "stderr",
     "output_type": "stream",
     "text": [
      "Epoch 93/100: 100%|██████████| 866/866 [03:05<00:00,  4.66it/s, loss=5.61, lr=1e-5]\n"
     ]
    },
    {
     "name": "stdout",
     "output_type": "stream",
     "text": [
      "Finish Train\n",
      "Start Validation\n"
     ]
    },
    {
     "name": "stderr",
     "output_type": "stream",
     "text": [
      "Epoch 93/100: 100%|██████████| 96/96 [00:08<00:00, 11.33it/s, val_loss=5.02]\n"
     ]
    },
    {
     "name": "stdout",
     "output_type": "stream",
     "text": [
      "Finish Validation\n",
      "Epoch:93/100\n",
      "Total Loss: 5.613 || Val Loss: 5.015 \n",
      "Save best model to best_epoch_weights.pth\n",
      "Start Train\n"
     ]
    },
    {
     "name": "stderr",
     "output_type": "stream",
     "text": [
      "Epoch 94/100: 100%|██████████| 866/866 [03:05<00:00,  4.66it/s, loss=5.58, lr=1e-5]\n"
     ]
    },
    {
     "name": "stdout",
     "output_type": "stream",
     "text": [
      "Finish Train\n",
      "Start Validation\n"
     ]
    },
    {
     "name": "stderr",
     "output_type": "stream",
     "text": [
      "Epoch 94/100: 100%|██████████| 96/96 [00:08<00:00, 11.66it/s, val_loss=5.02]\n"
     ]
    },
    {
     "name": "stdout",
     "output_type": "stream",
     "text": [
      "Finish Validation\n",
      "Epoch:94/100\n",
      "Total Loss: 5.584 || Val Loss: 5.022 \n",
      "Start Train\n"
     ]
    },
    {
     "name": "stderr",
     "output_type": "stream",
     "text": [
      "Epoch 95/100: 100%|██████████| 866/866 [03:04<00:00,  4.68it/s, loss=5.59, lr=1e-5]\n"
     ]
    },
    {
     "name": "stdout",
     "output_type": "stream",
     "text": [
      "Finish Train\n",
      "Start Validation\n"
     ]
    },
    {
     "name": "stderr",
     "output_type": "stream",
     "text": [
      "Epoch 95/100: 100%|██████████| 96/96 [00:08<00:00, 11.39it/s, val_loss=5.03]\n"
     ]
    },
    {
     "name": "stdout",
     "output_type": "stream",
     "text": [
      "Finish Validation\n",
      "Epoch:95/100\n",
      "Total Loss: 5.592 || Val Loss: 5.026 \n",
      "Start Train\n"
     ]
    },
    {
     "name": "stderr",
     "output_type": "stream",
     "text": [
      "Epoch 96/100: 100%|██████████| 866/866 [03:04<00:00,  4.69it/s, loss=5.58, lr=1e-5]\n"
     ]
    },
    {
     "name": "stdout",
     "output_type": "stream",
     "text": [
      "Finish Train\n",
      "Start Validation\n"
     ]
    },
    {
     "name": "stderr",
     "output_type": "stream",
     "text": [
      "Epoch 96/100: 100%|██████████| 96/96 [00:07<00:00, 12.19it/s, val_loss=5.02]\n"
     ]
    },
    {
     "name": "stdout",
     "output_type": "stream",
     "text": [
      "Finish Validation\n",
      "Epoch:96/100\n",
      "Total Loss: 5.583 || Val Loss: 5.023 \n",
      "Start Train\n"
     ]
    },
    {
     "name": "stderr",
     "output_type": "stream",
     "text": [
      "Epoch 97/100: 100%|██████████| 866/866 [03:05<00:00,  4.67it/s, loss=5.6, lr=1e-5] \n"
     ]
    },
    {
     "name": "stdout",
     "output_type": "stream",
     "text": [
      "Finish Train\n",
      "Start Validation\n"
     ]
    },
    {
     "name": "stderr",
     "output_type": "stream",
     "text": [
      "Epoch 97/100: 100%|██████████| 96/96 [00:08<00:00, 11.93it/s, val_loss=5.03]\n"
     ]
    },
    {
     "name": "stdout",
     "output_type": "stream",
     "text": [
      "Finish Validation\n",
      "Epoch:97/100\n",
      "Total Loss: 5.600 || Val Loss: 5.031 \n",
      "Start Train\n"
     ]
    },
    {
     "name": "stderr",
     "output_type": "stream",
     "text": [
      "Epoch 98/100: 100%|██████████| 866/866 [03:05<00:00,  4.67it/s, loss=5.58, lr=1e-5]\n"
     ]
    },
    {
     "name": "stdout",
     "output_type": "stream",
     "text": [
      "Finish Train\n",
      "Start Validation\n"
     ]
    },
    {
     "name": "stderr",
     "output_type": "stream",
     "text": [
      "Epoch 98/100: 100%|██████████| 96/96 [00:08<00:00, 11.83it/s, val_loss=5.02]\n"
     ]
    },
    {
     "name": "stdout",
     "output_type": "stream",
     "text": [
      "Finish Validation\n",
      "Epoch:98/100\n",
      "Total Loss: 5.579 || Val Loss: 5.015 \n",
      "Start Train\n"
     ]
    },
    {
     "name": "stderr",
     "output_type": "stream",
     "text": [
      "Epoch 99/100: 100%|██████████| 866/866 [03:05<00:00,  4.68it/s, loss=5.59, lr=1e-5]\n"
     ]
    },
    {
     "name": "stdout",
     "output_type": "stream",
     "text": [
      "Finish Train\n",
      "Start Validation\n"
     ]
    },
    {
     "name": "stderr",
     "output_type": "stream",
     "text": [
      "Epoch 99/100: 100%|██████████| 96/96 [00:08<00:00, 11.72it/s, val_loss=5.02]\n"
     ]
    },
    {
     "name": "stdout",
     "output_type": "stream",
     "text": [
      "Finish Validation\n",
      "Epoch:99/100\n",
      "Total Loss: 5.593 || Val Loss: 5.021 \n",
      "Start Train\n"
     ]
    },
    {
     "name": "stderr",
     "output_type": "stream",
     "text": [
      "Epoch 100/100: 100%|██████████| 866/866 [03:05<00:00,  4.67it/s, loss=5.59, lr=1e-5]\n"
     ]
    },
    {
     "name": "stdout",
     "output_type": "stream",
     "text": [
      "Finish Train\n",
      "Start Validation\n"
     ]
    },
    {
     "name": "stderr",
     "output_type": "stream",
     "text": [
      "Epoch 100/100: 100%|██████████| 96/96 [00:08<00:00, 11.48it/s, val_loss=5]   \n"
     ]
    },
    {
     "name": "stdout",
     "output_type": "stream",
     "text": [
      "Finish Validation\n",
      "Get map.\n"
     ]
    },
    {
     "name": "stderr",
     "output_type": "stream",
     "text": [
      "100%|██████████| 1542/1542 [00:42<00:00, 36.68it/s]\n"
     ]
    },
    {
     "name": "stdout",
     "output_type": "stream",
     "text": [
      "Calculate Map.\n",
      "63.72% = aeroplane AP \t||\tscore_threhold=0.5 : F1=0.66 ; Recall=52.05% ; Precision=88.37%\n",
      "36.87% = bicycle AP \t||\tscore_threhold=0.5 : F1=0.37 ; Recall=25.00% ; Precision=69.57%\n",
      "35.69% = bird AP \t||\tscore_threhold=0.5 : F1=0.35 ; Recall=22.50% ; Precision=81.82%\n",
      "16.04% = boat AP \t||\tscore_threhold=0.5 : F1=0.05 ; Recall=2.78% ; Precision=66.67%\n",
      "7.38% = bottle AP \t||\tscore_threhold=0.5 : F1=0.09 ; Recall=4.68% ; Precision=72.73%\n",
      "62.18% = bus AP \t||\tscore_threhold=0.5 : F1=0.67 ; Recall=51.61% ; Precision=96.97%\n",
      "51.27% = car AP \t||\tscore_threhold=0.5 : F1=0.50 ; Recall=34.41% ; Precision=91.43%\n",
      "46.66% = cat AP \t||\tscore_threhold=0.5 : F1=0.38 ; Recall=25.00% ; Precision=78.95%\n",
      "20.31% = chair AP \t||\tscore_threhold=0.5 : F1=0.10 ; Recall=5.18% ; Precision=61.90%\n",
      "13.81% = cow AP \t||\tscore_threhold=0.5 : F1=0.00 ; Recall=0.00% ; Precision=0.00%\n",
      "23.35% = diningtable AP \t||\tscore_threhold=0.5 : F1=0.18 ; Recall=10.94% ; Precision=58.33%\n",
      "41.96% = dog AP \t||\tscore_threhold=0.5 : F1=0.27 ; Recall=16.43% ; Precision=74.19%\n",
      "33.37% = horse AP \t||\tscore_threhold=0.5 : F1=0.13 ; Recall=7.35% ; Precision=62.50%\n",
      "43.01% = motorbike AP \t||\tscore_threhold=0.5 : F1=0.39 ; Recall=25.64% ; Precision=80.00%\n",
      "62.68% = person AP \t||\tscore_threhold=0.5 : F1=0.53 ; Recall=39.09% ; Precision=84.23%\n",
      "10.34% = pottedplant AP \t||\tscore_threhold=0.5 : F1=0.10 ; Recall=5.08% ; Precision=75.00%\n",
      "30.47% = sheep AP \t||\tscore_threhold=0.5 : F1=0.27 ; Recall=16.28% ; Precision=82.35%\n",
      "36.44% = sofa AP \t||\tscore_threhold=0.5 : F1=0.25 ; Recall=14.55% ; Precision=88.89%\n",
      "57.80% = train AP \t||\tscore_threhold=0.5 : F1=0.52 ; Recall=36.00% ; Precision=94.74%\n",
      "42.56% = tvmonitor AP \t||\tscore_threhold=0.5 : F1=0.35 ; Recall=22.62% ; Precision=76.00%\n",
      "mAP = 36.80%\n",
      "Get map done.\n",
      "Epoch:100/100\n",
      "Total Loss: 5.589 || Val Loss: 5.001 \n",
      "Save best model to best_epoch_weights.pth\n"
     ]
    }
   ],
   "source": [
    "    if True:\n",
    "        #---------------------------------------#\n",
    "        #   开始模型训练\n",
    "        #---------------------------------------#\n",
    "        for epoch in range (Epoch):\n",
    "\n",
    "            \n",
    "            gen.dataset.epoch_now       = epoch\n",
    "            gen_val.dataset.epoch_now   = epoch\n",
    "\n",
    "\n",
    "            set_optimizer_lr(optimizer, lr_scheduler_func, epoch)\n",
    "            loss        = 0\n",
    "            val_loss    = 0\n",
    "        \n",
    "            if local_rank == 0:\n",
    "                print('Start Train')\n",
    "                pbar = tqdm(total=epoch_step,desc=f'Epoch {epoch + 1}/{Epoch}',postfix=dict,mininterval=0.3)\n",
    "            model_train.train()\n",
    "            for iteration, batch in enumerate(gen):\n",
    "                if iteration >= epoch_step:\n",
    "                    break\n",
    "        \n",
    "                images, bboxes = batch\n",
    "                with torch.no_grad():\n",
    "                    if Cuda:\n",
    "                        images = images.cuda(local_rank)\n",
    "                        bboxes = bboxes.cuda(local_rank)\n",
    "                #----------------------#\n",
    "                #   清零梯度\n",
    "                #----------------------#\n",
    "                optimizer.zero_grad()\n",
    "\n",
    "                #----------------------#\n",
    "                #   前向传播\n",
    "                #----------------------#\n",
    "                # dbox, cls, origin_cls, anchors, strides \n",
    "                outputs = model_train(images)\n",
    "                loss_value = yolo_loss(outputs, bboxes)\n",
    "                #----------------------#\n",
    "                #   反向传播\n",
    "                #----------------------#\n",
    "                loss_value.backward()\n",
    "                torch.nn.utils.clip_grad_norm_(model_train.parameters(), max_norm=10.0)  # clip gradients\n",
    "                optimizer.step()\n",
    "\n",
    "                if ema:\n",
    "                    ema.update(model_train)\n",
    "        \n",
    "                loss += loss_value.item()\n",
    "                \n",
    "                if local_rank == 0:\n",
    "                    pbar.set_postfix(**{'loss'  : loss / (iteration + 1), \n",
    "                                        'lr'    : get_lr(optimizer)})\n",
    "                    pbar.update(1)\n",
    "        \n",
    "            if local_rank == 0:\n",
    "                pbar.close()\n",
    "                print('Finish Train')\n",
    "                print('Start Validation')\n",
    "                pbar = tqdm(total=epoch_step_val, desc=f'Epoch {epoch + 1}/{Epoch}',postfix=dict,mininterval=0.3)\n",
    "        \n",
    "            if ema:\n",
    "                model_train_eval = ema.ema\n",
    "            else:\n",
    "                model_train_eval = model_train.eval()\n",
    "                \n",
    "            for iteration, batch in enumerate(gen_val):\n",
    "                if iteration >= epoch_step_val:\n",
    "                    break\n",
    "                images, bboxes = batch[0], batch[1]\n",
    "                with torch.no_grad():\n",
    "                    if Cuda:\n",
    "                        images = images.cuda(local_rank)\n",
    "                        bboxes = bboxes.cuda(local_rank)\n",
    "                    #----------------------#\n",
    "                    #   清零梯度\n",
    "                    #----------------------#\n",
    "                    optimizer.zero_grad()\n",
    "                    #----------------------#\n",
    "                    #   前向传播\n",
    "                    #----------------------#\n",
    "                    outputs     = model_train_eval(images)\n",
    "                    loss_value  = yolo_loss(outputs, bboxes)\n",
    "        \n",
    "                val_loss += loss_value.item()\n",
    "                if local_rank == 0:\n",
    "                    pbar.set_postfix(**{'val_loss': val_loss / (iteration + 1)})\n",
    "                    pbar.update(1)\n",
    "\n",
    "            if local_rank == 0:\n",
    "                pbar.close()\n",
    "                print('Finish Validation')\n",
    "                #记录训练和验证的损失值\n",
    "                loss_history.append_loss(epoch + 1, loss / epoch_step, val_loss / epoch_step_val)\n",
    "                #对模型进行评估，记录map的值\n",
    "                eval_callback.on_epoch_end(epoch + 1, model_train_eval)\n",
    "                print('Epoch:'+ str(epoch + 1) + '/' + str(Epoch))\n",
    "                print('Total Loss: %.3f || Val Loss: %.3f ' % (loss / epoch_step, val_loss / epoch_step_val))\n",
    "                \n",
    "                #-----------------------------------------------#\n",
    "                #   保存权值\n",
    "                #-----------------------------------------------#\n",
    "                if ema:\n",
    "                    save_state_dict = ema.ema.state_dict()\n",
    "                else:\n",
    "                    save_state_dict = model.state_dict()\n",
    "        \n",
    "                if (epoch + 1) % save_period == 0 or epoch + 1 == Epoch:\n",
    "                    torch.save(save_state_dict, os.path.join(save_dir, \"ep%03d-loss%.3f-val_loss%.3f.pth\" % (epoch + 1, loss / epoch_step, val_loss / epoch_step_val)))\n",
    "                    \n",
    "                if len(loss_history.val_loss) <= 1 or (val_loss / epoch_step_val) <= min(loss_history.val_loss):\n",
    "                    print('Save best model to best_epoch_weights.pth')\n",
    "                    torch.save(save_state_dict, os.path.join(save_dir, \"best_epoch_weights.pth\"))\n",
    "                    \n",
    "                torch.save(save_state_dict, os.path.join(save_dir, \"last_epoch_weights.pth\"))"
   ]
  },
  {
   "cell_type": "code",
   "execution_count": null,
   "id": "37a8e089-285b-4c37-b0d7-8dcee9e5afdc",
   "metadata": {},
   "outputs": [],
   "source": []
  }
 ],
 "metadata": {
  "kernelspec": {
   "display_name": "Python 3 (ipykernel)",
   "language": "python",
   "name": "python3"
  },
  "language_info": {
   "codemirror_mode": {
    "name": "ipython",
    "version": 3
   },
   "file_extension": ".py",
   "mimetype": "text/x-python",
   "name": "python",
   "nbconvert_exporter": "python",
   "pygments_lexer": "ipython3",
   "version": "3.10.8"
  }
 },
 "nbformat": 4,
 "nbformat_minor": 5
}
