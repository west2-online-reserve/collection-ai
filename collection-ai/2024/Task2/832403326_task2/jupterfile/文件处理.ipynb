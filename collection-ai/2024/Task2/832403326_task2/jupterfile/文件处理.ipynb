{
 "cells": [
  {
   "cell_type": "markdown",
   "metadata": {},
   "source": [
    "打开\n",
    "f:即文件对象\n",
    "open前两个参数用位置传参即可，而encolding用关键词传参，因为它不是第三个\n",
    "read 方法：1.read()不给参数默认读取全部内容  2.readlines()(读取全部行，封装到列表，每一个元素即为每一行)3.readline()\n",
    "若使用多次read,则第n次从第n-1次开始读，续接上次读取文件的方法\n",
    "\n",
    "for循环读取文件\n",
    "for line in f:\n",
    "    print(f\"每一行的数据是：{line}\")\n",
    "\n",
    "\n",
    "close方法：读完关闭一定要\n",
    "f.close\n",
    "\n",
    "with open(\"  \",\"r\") as f:  (自动关闭)\n",
    "    f.readlines()\n",
    "\n",
    "\n",
    "\n"
   ]
  }
 ],
 "metadata": {
  "language_info": {
   "name": "python"
  }
 },
 "nbformat": 4,
 "nbformat_minor": 2
}
