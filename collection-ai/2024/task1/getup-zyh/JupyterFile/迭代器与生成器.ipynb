{
 "cells": [
  {
   "cell_type": "markdown",
   "metadata": {},
   "source": [
    "## 迭代器\n",
    "### 引入\n",
    "有些无序的数据如dict,文件也能用for in遍历\n",
    "### 两个重要概念\n",
    "- 可迭代对象：iterable  要实现__iter__函数\n",
    "- 迭代器： iterator  要实现__next__函数\n",
    "通俗理解：当写一个for（）in iterable的时候，for loop首先做了一个从iterable里面拿iterator的操作（即在进行for循环时，iterable会先被取一个iterator的值，for loop则根据这个iterator来进行操作）\n"
   ]
  },
  {
   "cell_type": "code",
   "execution_count": null,
   "metadata": {},
   "outputs": [],
   "source": [
    "#for in 背后的秘密\n",
    "my_dict1 = {\"a\":1, \"b\":2}\n",
    "for i in my_dict1:\n",
    "    print(i)    \n",
    "\n",
    "\n",
    "with open(\"my.txt\") as f:\n",
    "    for i in f:\n",
    "        print(i)"
   ]
  },
  {
   "cell_type": "code",
   "execution_count": null,
   "metadata": {},
   "outputs": [],
   "source": [
    "for i in range(0, 10):\n",
    "    print(i)\n",
    "    i += 1"
   ]
  },
  {
   "cell_type": "code",
   "execution_count": null,
   "metadata": {},
   "outputs": [],
   "source": [
    "iterator = iter(range(0, 10))  # 创建迭代器\n",
    "while True:\n",
    "    try:\n",
    "        i = next(iterator)  # 获取下一个值\n",
    "        print(i)            # 打印当前值\n",
    "        i += 1              # 修改 i，但不会影响迭代器\n",
    "    except StopIteration:\n",
    "        break"
   ]
  },
  {
   "cell_type": "markdown",
   "metadata": {},
   "source": [
    "迭代器状态与循环变量的独立性\n",
    "\t•\t迭代器的状态：\n",
    "\t•\trange 的迭代器内部维护着一个状态，记录当前迭代的位置。\n",
    "\t•\t每次调用 next(iterator)，迭代器返回当前位置的值，并将内部状态移动到下一个值。\n",
    "\t•\t循环变量的状态：\n",
    "\t•\t循环变量 i 是一个独立的变量，它只是用于存储 next(iterator) 返回的值。\n",
    "\t•\t手动修改 i 的值，并不会改变迭代器的内部状态。"
   ]
  },
  {
   "cell_type": "code",
   "execution_count": null,
   "metadata": {},
   "outputs": [],
   "source": [
    "range_iter = iter(range(0, 10))\n",
    "\n",
    "for i in range_iter:\n",
    "    print(f\"Original i: {i}\")\n",
    "    i += 1\n",
    "    print(f\"Modified i: {i}\")"
   ]
  },
  {
   "cell_type": "code",
   "execution_count": 3,
   "metadata": {},
   "outputs": [
    {
     "name": "stdout",
     "output_type": "stream",
     "text": [
      "Current item: 1, List: [1, 2, 4, 6]\n",
      "Current item: 2, List: [1, 4, 6]\n",
      "Current item: 6, List: [1, 4]\n"
     ]
    }
   ],
   "source": [
    "my_list = [1, 2, 4, 6]\n",
    "for item in my_list:\n",
    "    if item % 2 == 0:\n",
    "        my_list.remove(item)  # 在遍历过程中修改原列表\n",
    "    print(f\"Current item: {item}, List: {my_list}\")"
   ]
  },
  {
   "cell_type": "code",
   "execution_count": 4,
   "metadata": {},
   "outputs": [
    {
     "data": {
      "text/plain": [
       "[2, 3, 4]"
      ]
     },
     "execution_count": 4,
     "metadata": {},
     "output_type": "execute_result"
    }
   ],
   "source": [
    "def list_remove(list:list):\n",
    "    list.remove(1)\n",
    "    return list\n",
    "    \n",
    "my_list = [1,2,3,4]\n",
    "list_remove(my_list)"
   ]
  }
 ],
 "metadata": {
  "kernelspec": {
   "display_name": "Python 3",
   "language": "python",
   "name": "python3"
  },
  "language_info": {
   "codemirror_mode": {
    "name": "ipython",
    "version": 3
   },
   "file_extension": ".py",
   "mimetype": "text/x-python",
   "name": "python",
   "nbconvert_exporter": "python",
   "pygments_lexer": "ipython3",
   "version": "3.12.5"
  }
 },
 "nbformat": 4,
 "nbformat_minor": 2
}
