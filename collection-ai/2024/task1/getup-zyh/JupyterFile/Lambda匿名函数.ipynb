{
 "cells": [
  {
   "cell_type": "markdown",
   "metadata": {},
   "source": [
    "# lambda \n",
    "- 使用一次的函数\n",
    "## 应用场景 \n",
    "- 简化代码"
   ]
  },
  {
   "cell_type": "code",
   "execution_count": null,
   "metadata": {},
   "outputs": [],
   "source": [
    "def quadratic(a,b,c):\n",
    "    return lambda x: a*x*x + b*x + c\n",
    "\n",
    "print(quadratic(1,-1,2)(5))"
   ]
  },
  {
   "cell_type": "code",
   "execution_count": 8,
   "metadata": {},
   "outputs": [
    {
     "name": "stdout",
     "output_type": "stream",
     "text": [
      "[1, 4, 9, 16]\n"
     ]
    },
    {
     "data": {
      "text/plain": [
       "4"
      ]
     },
     "execution_count": 8,
     "metadata": {},
     "output_type": "execute_result"
    }
   ],
   "source": [
    "my_list = [1,2,3,4]\n",
    "new_list = list(map(lambda x:x**2, my_list))\n",
    "print(new_list)\n",
    "lambda_function=lambda x:x**2\n",
    "lambda_function(2)\n"
   ]
  },
  {
   "cell_type": "code",
   "execution_count": 10,
   "metadata": {},
   "outputs": [
    {
     "name": "stdout",
     "output_type": "stream",
     "text": [
      "55\n"
     ]
    }
   ],
   "source": [
    "class User:\n",
    "    def __init__(self, level: int, credits: int):\n",
    "        self.level = level\n",
    "        self.credits = credits\n",
    "        \n",
    "\n",
    "def user_logging(user: User):\n",
    "    \"\"\"\n",
    "    根据用户的等级（level）对其积分（credits）进行加成。\n",
    "    \"\"\"\n",
    "    level_credit_map = {\n",
    "        1: lambda x: x + 2,  # 等级1: 积分 +2\n",
    "        2: lambda x: x + 5,  # 等级2: 积分 +5\n",
    "        3: lambda x: x + 10, # 等级3: 积分 +10\n",
    "        4: lambda x: x + 20  # 等级4: 积分 +20\n",
    "    }\n",
    "    \n",
    "    if user.level not in level_credit_map:\n",
    "        raise ValueError(f\"Invalid level: {user.level}\")\n",
    "    \n",
    "    user.credits = level_credit_map[user.level](user.credits)\n",
    "\n",
    "\n",
    "# 测试代码\n",
    "user = User(level=2, credits=50)\n",
    "user_logging(user)\n",
    "print(user.credits)  # 输出: 55"
   ]
  },
  {
   "cell_type": "code",
   "execution_count": 11,
   "metadata": {},
   "outputs": [
    {
     "name": "stdout",
     "output_type": "stream",
     "text": [
      "<function <lambda> at 0x1077a13a0>\n"
     ]
    },
    {
     "name": "stderr",
     "output_type": "stream",
     "text": [
      "<>:3: SyntaxWarning: 'int' object is not callable; perhaps you missed a comma?\n",
      "<>:3: SyntaxWarning: 'int' object is not callable; perhaps you missed a comma?\n",
      "/var/folders/lf/cnhvd4nx4253fr5dfj6_01pr0000gn/T/ipykernel_33122/2632658724.py:3: SyntaxWarning: 'int' object is not callable; perhaps you missed a comma?\n",
      "  outcome = lambda x:x+100(3)  # 输出: 103\n"
     ]
    }
   ],
   "source": [
    "lambda x:x+100\n",
    "\n",
    "outcome = lambda x:x+100(3)  # 输出: 103\n",
    "\n",
    "print(outcome)"
   ]
  },
  {
   "cell_type": "code",
   "execution_count": 12,
   "metadata": {},
   "outputs": [
    {
     "name": "stdout",
     "output_type": "stream",
     "text": [
      "103\n"
     ]
    }
   ],
   "source": [
    "add_100 =lambda x:x+100\n",
    "\n",
    "outcome = add_100(3)  # 输出: 103\n",
    "\n",
    "print(outcome)"
   ]
  }
 ],
 "metadata": {
  "kernelspec": {
   "display_name": "Python 3",
   "language": "python",
   "name": "python3"
  },
  "language_info": {
   "codemirror_mode": {
    "name": "ipython",
    "version": 3
   },
   "file_extension": ".py",
   "mimetype": "text/x-python",
   "name": "python",
   "nbconvert_exporter": "python",
   "pygments_lexer": "ipython3",
   "version": "3.12.5"
  }
 },
 "nbformat": 4,
 "nbformat_minor": 2
}
