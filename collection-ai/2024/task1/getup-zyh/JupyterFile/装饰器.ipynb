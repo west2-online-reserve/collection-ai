{
 "cells": [
  {
   "cell_type": "markdown",
   "metadata": {},
   "source": [
    "# 装饰器"
   ]
  },
  {
   "cell_type": "markdown",
   "metadata": {},
   "source": [
    "### 函数本质\n",
    "   + python里所有东西都是objiect,函数本质是object,函数对象是callable(后面可以跟一个小括号，然后去调用它)"
   ]
  },
  {
   "cell_type": "code",
   "execution_count": null,
   "metadata": {},
   "outputs": [
    {
     "name": "stdout",
     "output_type": "stream",
     "text": [
      "6\n",
      "9\n"
     ]
    }
   ],
   "source": [
    "def double(x):\n",
    "    return x * 2\n",
    "\n",
    "def triple(x):\n",
    "    return x * 3\n",
    "\n",
    "def calc_number(func, x):\n",
    "    print(func(x))\n",
    "\n",
    "calc_number(double, 3)\n",
    "calc_number(triple, 3)"
   ]
  },
  {
   "cell_type": "markdown",
   "metadata": {},
   "source": [
    "### 闭包特性\n",
    "- 如下，返回的 multiple 函数形成了一个闭包，即它仍然保留了对外部函数 get_multiple_func 中 n 的引用，即使外部函数已经结束执行。这样你可以通过调用返回的 multiple 函数，利用它来执行 n * x 的操作。\n"
   ]
  },
  {
   "cell_type": "code",
   "execution_count": null,
   "metadata": {},
   "outputs": [],
   "source": [
    "def get_multiple_func(n):\n",
    "    \"\"\"\n",
    "    这是一个接受参数n的函数。它内部定义了一个嵌套函数multile(x),该函数接受参数x,并返回 n * x 的结果\n",
    "    :return: 将multiple作为函数返回,当调用get_multiple_func(n)函数,并不会立即执行multiplr函数,而是返回这个函数的引用\n",
    "    \"\"\"\n",
    "    \n",
    "    def multiple(x):\n",
    "        return n * x\n",
    "    \n",
    "    #套函数只有在外部函数返注意若没写这一行，会显示未存储 multiple,因为没有调用或返回内部函数multiple,嵌回它，或在外部函数调用它，才会被执行或保存\n",
    "    return multiple         \n",
    "    \n",
    "\n",
    "double = get_multiple_func(2)\n",
    "triple = get_multiple_func(3)\n",
    "\n",
    "print(double(3))\n",
    "print(triple(3))"
   ]
  },
  {
   "cell_type": "markdown",
   "metadata": {},
   "source": [
    "### Decorator\n",
    "- Decorator本身就是一个 callable（简单理解为就是一个函数，@dec定义dec,是一个输入和输出都是函数的函数\n"
   ]
  },
  {
   "cell_type": "code",
   "execution_count": null,
   "metadata": {},
   "outputs": [],
   "source": [
    "def dec(f):\n",
    "    pass\n",
    "\n",
    "@dec\n",
    "def double(x):\n",
    "    return x * 2\n",
    "\n",
    "#完全等价\n",
    "double = dec(double)"
   ]
  },
  {
   "cell_type": "markdown",
   "metadata": {},
   "source": [
    "- ps:输出不一定是函数，下面是一个极端的例子"
   ]
  },
  {
   "cell_type": "code",
   "execution_count": 1,
   "metadata": {},
   "outputs": [
    {
     "name": "stdout",
     "output_type": "stream",
     "text": [
      "1\n"
     ]
    }
   ],
   "source": [
    "def dec(f):\n",
    "    return 1\n",
    "\n",
    "@ dec\n",
    "def double(x):\n",
    "    return x * 2\n",
    "\n",
    "print(double)"
   ]
  },
  {
   "cell_type": "markdown",
   "metadata": {},
   "source": [
    "### *arg **kwargs\n",
    "- 允许变长的参数"
   ]
  },
  {
   "cell_type": "code",
   "execution_count": 2,
   "metadata": {},
   "outputs": [
    {
     "name": "stdout",
     "output_type": "stream",
     "text": [
      "9.5367431640625e-07\n",
      "5\n"
     ]
    }
   ],
   "source": [
    "import time\n",
    "\n",
    "def timeit(f):\n",
    "    \"\"\"定义一个装饰器\"\"\"\n",
    "    \n",
    "\n",
    "    def wrapper(*args, **kwargs):\n",
    "        start = time.time()\n",
    "        ret = f(*args, **kwargs)\n",
    "        print(time.time() - start)\n",
    "        return ret\n",
    "    \n",
    "    return wrapper\n",
    "\n",
    "@timeit\n",
    "def my_func(x):\n",
    "    time.sleep(x)\n",
    "\n",
    "@timeit\n",
    "def add(x, y):\n",
    "    return x + y\n",
    "\n",
    "print(add(2, 3))"
   ]
  },
  {
   "cell_type": "markdown",
   "metadata": {},
   "source": [
    "### 带参数的decorator"
   ]
  },
  {
   "cell_type": "code",
   "execution_count": 7,
   "metadata": {},
   "outputs": [
    {
     "data": {
      "text/plain": [
       "4"
      ]
     },
     "execution_count": 7,
     "metadata": {},
     "output_type": "execute_result"
    }
   ],
   "source": [
    "import time\n",
    "\n",
    "def timeit(iteration):\n",
    "\n",
    "    def inner(f):\n",
    "\n",
    "        def wrapper(*args,**kwargs):\n",
    "            start = time.time()\n",
    "            for _ in range(iteration):\n",
    "                ret = f(*args,**kwargs)\n",
    "                return ret\n",
    "            print(time.time() - ret)\n",
    "        return wrapper\n",
    "    \n",
    "    return inner\n",
    "\n",
    "@timeit(1000)\n",
    "def double(x):\n",
    "    return 2 * x\n",
    "\n",
    "double(2)\n"
   ]
  }
 ],
 "metadata": {
  "kernelspec": {
   "display_name": "Python 3",
   "language": "python",
   "name": "python3"
  },
  "language_info": {
   "codemirror_mode": {
    "name": "ipython",
    "version": 3
   },
   "file_extension": ".py",
   "mimetype": "text/x-python",
   "name": "python",
   "nbconvert_exporter": "python",
   "pygments_lexer": "ipython3",
   "version": "3.12.5"
  }
 },
 "nbformat": 4,
 "nbformat_minor": 2
}
