{
 "cells": [
  {
   "cell_type": "markdown",
   "metadata": {},
   "source": [
    "## 异常捕获处理\n",
    "写代码会出bug,故需要捕获异常，防止终端程序\n",
    "\n",
    "### 异常可能出现位置\n",
    "- 语法错误（例如忘记关闭括号）\n",
    "- 运行时错误\n",
    "\n",
    "### 语法\n",
    "try:\n",
    "    可能出现异常的代码\n",
    "except exception as e:\n",
    "    出现异常的话要执行的代码\n",
    "finaly:\n",
    "    无论出没出异常，做什么\n",
    "\n",
    "\n",
    "(若用if,则需要考虑用户所有的情况，比较麻烦)\n",
    "\n",
    "### **指定**的异常\n",
    "- FileNotFoundError\n",
    "- EOFFrror\n",
    "- ImporError\n",
    "- IndexError\n",
    "- KeyError：试图访问不存在的字典是引发\n",
    "- KeyboardInterrupt\n",
    "- NameError\n",
    "- SyntaxError\n",
    "- ValueError\n",
    "\n",
    "### Exception\n",
    "\n",
    "### 异常具有传递性\n",
    "              "
   ]
  },
  {
   "cell_type": "code",
   "execution_count": 3,
   "metadata": {},
   "outputs": [
    {
     "ename": "IndexError",
     "evalue": "list index out of range",
     "output_type": "error",
     "traceback": [
      "\u001b[0;31m---------------------------------------------------------------------------\u001b[0m",
      "\u001b[0;31mIndexError\u001b[0m                                Traceback (most recent call last)",
      "Cell \u001b[0;32mIn[3], line 2\u001b[0m\n\u001b[1;32m      1\u001b[0m my_list \u001b[38;5;241m=\u001b[39m [\u001b[38;5;241m1\u001b[39m,\u001b[38;5;241m2\u001b[39m,\u001b[38;5;241m3\u001b[39m,\u001b[38;5;241m4\u001b[39m,\u001b[38;5;241m5\u001b[39m]\u001b[38;5;66;03m#list可能爬虫从网上获取，可能是一个黑箱，\u001b[39;00m\n\u001b[0;32m----> 2\u001b[0m \u001b[43mmy_list\u001b[49m\u001b[43m[\u001b[49m\u001b[38;5;241;43m20\u001b[39;49m\u001b[43m]\u001b[49m\n",
      "\u001b[0;31mIndexError\u001b[0m: list index out of range"
     ]
    }
   ],
   "source": [
    "my_list = [1,2,3,4,5]#list可能爬虫从网上获取，可能是一个黑箱。又例如一个自动化程序，import os ...\n",
    "my_list[20]"
   ]
  },
  {
   "cell_type": "code",
   "execution_count": 4,
   "metadata": {},
   "outputs": [
    {
     "ename": "ModuleNotFoundError",
     "evalue": "No module named 'pandas'",
     "output_type": "error",
     "traceback": [
      "\u001b[0;31m---------------------------------------------------------------------------\u001b[0m",
      "\u001b[0;31mModuleNotFoundError\u001b[0m                       Traceback (most recent call last)",
      "Cell \u001b[0;32mIn[4], line 1\u001b[0m\n\u001b[0;32m----> 1\u001b[0m \u001b[38;5;28;01mimport\u001b[39;00m \u001b[38;5;21;01mpandas\u001b[39;00m \u001b[38;5;28;01mas\u001b[39;00m \u001b[38;5;21;01mpd\u001b[39;00m\n",
      "\u001b[0;31mModuleNotFoundError\u001b[0m: No module named 'pandas'"
     ]
    }
   ],
   "source": []
  },
  {
   "cell_type": "code",
   "execution_count": 5,
   "metadata": {},
   "outputs": [
    {
     "name": "stdout",
     "output_type": "stream",
     "text": [
      "不是，哥们?出错了:division by zero\n"
     ]
    }
   ],
   "source": [
    "def divide(a,b):\n",
    "    return a/b\n",
    "def divide_twice(a,b):\n",
    "    result = divide(a,b)\n",
    "    return divide(result,b)\n",
    "\n",
    "def calculate(a,b,operation): #函数作为参数传递\n",
    "    try:\n",
    "        result = operation(a,b)\n",
    "    except Exception as e:\n",
    "        print(f\"不是，哥们?出错了:{e}\")\n",
    "        return\n",
    "    return result  \n",
    "\n",
    "calculate(10,0,divide)"
   ]
  },
  {
   "cell_type": "code",
   "execution_count": 7,
   "metadata": {},
   "outputs": [
    {
     "name": "stdout",
     "output_type": "stream",
     "text": [
      "不是？哥们？出错了：division by zero\n",
      "不是？哥们？出错了：unsupported operand type(s) for /: 'NoneType' and 'int'\n"
     ]
    }
   ],
   "source": [
    "#异常具有传递性 \n",
    "def divide(a,b):\n",
    "    try:\n",
    "        return a/b\n",
    "    except Exception as e:\n",
    "        print(f\"不是？哥们？出错了：{e}\")\n",
    "        return\n",
    "    \n",
    "def divide_twice(a,b):\n",
    "    result = divide(a,b)\n",
    "    return divide(result,b)\n",
    "\n",
    "def calculate(a,b,operation): #函数作为参数传递\n",
    "    #try:\n",
    "        result = operation(a,b)\n",
    "    #except Exception as e:\n",
    "        #print(f\"不是，哥们?出错了:{e}\")\n",
    "        return result\n",
    "    #return result \n",
    "\n",
    "calculate(10,0,divide_twice)"
   ]
  }
 ],
 "metadata": {
  "kernelspec": {
   "display_name": "Python 3",
   "language": "python",
   "name": "python3"
  },
  "language_info": {
   "codemirror_mode": {
    "name": "ipython",
    "version": 3
   },
   "file_extension": ".py",
   "mimetype": "text/x-python",
   "name": "python",
   "nbconvert_exporter": "python",
   "pygments_lexer": "ipython3",
   "version": "3.12.5"
  }
 },
 "nbformat": 4,
 "nbformat_minor": 2
}
