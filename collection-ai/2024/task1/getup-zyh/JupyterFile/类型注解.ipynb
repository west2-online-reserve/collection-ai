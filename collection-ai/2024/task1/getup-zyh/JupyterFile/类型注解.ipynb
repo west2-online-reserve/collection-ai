{
 "cells": [
  {
   "cell_type": "markdown",
   "metadata": {},
   "source": [
    "# 类型注解\n",
    "方便静态类型检查工具，IDE等第三方工具。仅仅是提示性的并非决定性的，类型注解仅仅相当于备注\n",
    "- 场景：在代码中涉及数据交互的地方，提供数据类型的注解（显示的说明）\n",
    "- 主要功能\n",
    "  1. 帮助第三方IDE工具对代码进行类型推断，协助做代码提示\n",
    "  2. 帮助开发者自身对变量进行类型注释\n",
    "- 支持\n",
    "  1. 变量类型注解\n",
    "  2. 函数（方法）形参列表和返回值的类型\n",
    "\n",
    "## 变量的类型注解\n",
    "\n",
    "## 函数方法类型注解\n",
    "- 形参\n",
    "- 返回值\n",
    "\n",
    "## Union类型联合类型注解"
   ]
  },
  {
   "cell_type": "code",
   "execution_count": null,
   "metadata": {},
   "outputs": [],
   "source": [
    "import random\n",
    "# 基础数据类型注解\n",
    "var_1: int = 10\n",
    "var_2: str = \"zks666\"\n",
    "var_3: bool = True\n",
    "\n",
    "#类对象类型注解\n",
    "class Student:\n",
    "    pass\n",
    "stu: Student = Student()\n",
    "\n",
    "#基础容器类型注解\n",
    "my_list: list = [1,2,3]\n",
    "my_tuple: tuple = (1,2,3)\n",
    "my_dict: dict = {\"zks666\":666}\n",
    "\n",
    "#容器类型详细注解\n",
    "my_list: list[int] =[1,2,3]\n",
    "my_tuple: tuple[int, str, bool] = (1, \"zks666\", True)\n",
    "my_dict: dict[str, int] = {\"zks666\":666}\n",
    "\n",
    "#在注释中进行类型注释\n",
    "var_4 = random.randint(1, 10)  # type: int\n",
    "var_2 = json.loads('(\"name\": \"zhangsan\")')  #type: dict[str,str]\n",
    "\n",
    "def func():\n",
    "    return 10\n",
    "var_3 = func()  # type: int\n"
   ]
  },
  {
   "cell_type": "code",
   "execution_count": null,
   "metadata": {},
   "outputs": [],
   "source": [
    "def add(x: int, y: int):\n",
    "    return x + y\n",
    "add()\n",
    "\n",
    "#返回值(箭头)\n",
    "def func(data:list) -> list:\n",
    "    return data\n"
   ]
  },
  {
   "cell_type": "code",
   "execution_count": null,
   "metadata": {},
   "outputs": [],
   "source": [
    "##一定先导包\n",
    "from typing import Union\n",
    "\n",
    "my_list1: list[Union[str, int]] = [1,2,\"zks666\",\"zyh\"]\n",
    "my_dict1: dict[str,Union[str, int]] = {\"name\":\"周杰伦\", \"age\": 31}\n",
    "\n",
    "def func(data: Union[int, str]) -> Union[int, str]:\n",
    "    pass"
   ]
  }
 ],
 "metadata": {
  "language_info": {
   "name": "python"
  }
 },
 "nbformat": 4,
 "nbformat_minor": 2
}
