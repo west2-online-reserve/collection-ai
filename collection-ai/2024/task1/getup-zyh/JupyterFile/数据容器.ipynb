{
    "cells": [
        {
            "cell_type": "markdown",
            "metadata": {},
            "source": [
                "# 数据容器\n",
                "- 数据容器，数据类型其实就是类"
            ]
        },
        {
            "cell_type": "markdown",
            "metadata": {},
            "source": [
                "### 列表 （应用广泛，若想强调顺序，则通常列表里嵌套字典）\n",
                "#### 特点\n",
                "- 有序\n",
                "- 可变\n",
                "##### 创建一个To-Do List应用程序，能够 *****添加任务，删除任务，修改任务以及查看当前的任务清单*****"
            ]
        },
        {
            "cell_type": "markdown",
            "metadata": {},
            "source": [
                "###### 访问，修改元素"
            ]
        },
        {
            "cell_type": "code",
            "execution_count": 2,
            "metadata": {},
            "outputs": [
                {
                    "name": "stdout",
                    "output_type": "stream",
                    "text": [
                        "['吃饭', '睡觉', '打豆豆']\n",
                        "['不吃饭', '睡觉', '打豆豆']\n"
                    ]
                },
                {
                    "ename": "IndexError",
                    "evalue": "list index out of range",
                    "output_type": "error",
                    "traceback": [
                        "\u001b[0;31m---------------------------------------------------------------------------\u001b[0m",
                        "\u001b[0;31mIndexError\u001b[0m                                Traceback (most recent call last)",
                        "Cell \u001b[0;32mIn[2], line 10\u001b[0m\n\u001b[1;32m      6\u001b[0m to_do_list[\u001b[38;5;241m0\u001b[39m] \u001b[38;5;241m=\u001b[39m \u001b[38;5;124m\"\u001b[39m\u001b[38;5;124m不吃饭\u001b[39m\u001b[38;5;124m\"\u001b[39m\n\u001b[1;32m      8\u001b[0m \u001b[38;5;28mprint\u001b[39m(to_do_list)\n\u001b[0;32m---> 10\u001b[0m \u001b[43mto_do_list\u001b[49m\u001b[43m[\u001b[49m\u001b[38;5;241;43m7\u001b[39;49m\u001b[43m]\u001b[49m\n",
                        "\u001b[0;31mIndexError\u001b[0m: list index out of range"
                    ]
                }
            ],
            "source": [
                "to_do_list = [\"吃饭\", \"睡觉\", \"打豆豆\"]\n",
                "todo_list2 = list()   ##类似于str(),float(),int()\n",
                "\n",
                "print(to_do_list)\n",
                "\n",
                "to_do_list[0] = \"不吃饭\"\n",
                "\n",
                "print(to_do_list)\n",
                "\n",
                "to_do_list[7]\n",
                "\n",
                "\n",
                "\n",
                "\n",
                "\n"
            ]
        },
        {
            "cell_type": "markdown",
            "metadata": {},
            "source": [
                "###### 可以为任何值，包括函数"
            ]
        },
        {
            "cell_type": "code",
            "execution_count": 3,
            "metadata": {},
            "outputs": [
                {
                    "name": "stdout",
                    "output_type": "stream",
                    "text": [
                        "我是一个函数\n"
                    ]
                }
            ],
            "source": [
                "def function_1():\n",
                "    print(\"我是一个函数\")\n",
                "my_list = [88,\"睡觉\",8.889,6+6j,True,[\"打游戏\",\"上课\"],function_1]\n",
                "\n",
                "\n",
                "my_list[-1]()"
            ]
        },
        {
            "cell_type": "markdown",
            "metadata": {},
            "source": [
                "###### 点操作，方法  .index(元素)  .count(元素)    len(列表) #用于可迭代对象，序列对象，数据容器大小  .insert(下标，元素)   .append()  .extend(列表)\n"
            ]
        },
        {
            "cell_type": "code",
            "execution_count": null,
            "metadata": {},
            "outputs": [],
            "source": [
                "my_list = [88,\"睡觉\",8.889,6+6j,True,[\"打游戏\",\"上课\"],function_1]\n",
                "my_list2 = [\"跑步\",\"学习\"]\n",
                "my_list.extend(my_list2)#相当于my_list += my_list2,会改变my_list\n",
                "# 不会改变原列表\n",
                "my_list3 = my_list + my_list2\n"
            ]
        },
        {
            "cell_type": "markdown",
            "metadata": {},
            "source": [
                "###### 删除系列\n",
                "- 删除指定元素 .remove(元素)  eg:my_list.remove(\"刷短视频“)\n",
                "- 删除指定下标元素 .pop(下标)  or   del list(下标)\n",
                "- 清除列表 .clear()"
            ]
        },
        {
            "cell_type": "code",
            "execution_count": 7,
            "metadata": {},
            "outputs": [
                {
                    "name": "stdout",
                    "output_type": "stream",
                    "text": [
                        "None\n"
                    ]
                },
                {
                    "ename": "IndexError",
                    "evalue": "pop from empty list",
                    "output_type": "error",
                    "traceback": [
                        "\u001b[0;31m---------------------------------------------------------------------------\u001b[0m",
                        "\u001b[0;31mIndexError\u001b[0m                                Traceback (most recent call last)",
                        "Cell \u001b[0;32mIn[7], line 5\u001b[0m\n\u001b[1;32m      1\u001b[0m my_list \u001b[38;5;241m=\u001b[39m [\u001b[38;5;241m88\u001b[39m,\u001b[38;5;124m\"\u001b[39m\u001b[38;5;124m睡觉\u001b[39m\u001b[38;5;124m\"\u001b[39m,\u001b[38;5;241m8.889\u001b[39m,\u001b[38;5;241m6\u001b[39m\u001b[38;5;241m+\u001b[39m\u001b[38;5;241m6\u001b[39mj,\u001b[38;5;28;01mTrue\u001b[39;00m,[\u001b[38;5;124m\"\u001b[39m\u001b[38;5;124m打游戏\u001b[39m\u001b[38;5;124m\"\u001b[39m,\u001b[38;5;124m\"\u001b[39m\u001b[38;5;124m上课\u001b[39m\u001b[38;5;124m\"\u001b[39m],function_1]\n\u001b[1;32m      3\u001b[0m \u001b[38;5;28mprint\u001b[39m(my_list\u001b[38;5;241m.\u001b[39mclear())\n\u001b[0;32m----> 5\u001b[0m \u001b[38;5;28mprint\u001b[39m(\u001b[43mmy_list\u001b[49m\u001b[38;5;241;43m.\u001b[39;49m\u001b[43mpop\u001b[49m\u001b[43m(\u001b[49m\u001b[38;5;241;43m0\u001b[39;49m\u001b[43m)\u001b[49m)\n",
                        "\u001b[0;31mIndexError\u001b[0m: pop from empty list"
                    ]
                }
            ],
            "source": [
                "my_list = [88,\"睡觉\",8.889,6+6j,True,[\"打游戏\",\"上课\"],function_1]\n",
                "\n",
                "print(my_list.clear())\n",
                "\n",
                "print(my_list.pop(0))##已经清空了"
            ]
        },
        {
            "cell_type": "code",
            "execution_count": 4,
            "metadata": {},
            "outputs": [
                {
                    "name": "stdout",
                    "output_type": "stream",
                    "text": [
                        "88\n"
                    ]
                }
            ],
            "source": [
                "my_list = [88,\"睡觉\",8.889,6+6j,True,[\"打游戏\",\"上课\"],function_1]\n",
                "\n",
                "print(my_list.pop(0))#有返回值 ps:判断有没有返回值，可将鼠标置于函数上面，如此操作pop，你可以看到Any,因为被删除列表元素可以是任意"
            ]
        },
        {
            "cell_type": "markdown",
            "metadata": {},
            "source": [
                "###### 列表循环"
            ]
        },
        {
            "cell_type": "code",
            "execution_count": null,
            "metadata": {},
            "outputs": [],
            "source": [
                "#while 循环\n",
                "my_list = [88,\"睡觉\",8.889,6+6j,True,[\"打游戏\",\"上课\"],function_1]\n",
                "index = 0\n",
                "while index < len(my_list):##注意若<=也会报错\n",
                "    print(my_list[index])\n",
                "    index += 1\n",
                "\n"
            ]
        },
        {
            "cell_type": "code",
            "execution_count": null,
            "metadata": {},
            "outputs": [],
            "source": [
                "#for 循环更好，毕竟是遍历，不容易出现无限循环\n",
                "my_list = [88,\"睡觉\",8.889,6+6j,True,[\"打游戏\",\"上课\"],function_1]\n",
                "for item in my_list:\n",
                "    print(item)"
            ]
        },
        {
            "cell_type": "markdown",
            "metadata": {},
            "source": [
                "### 元组 （应用场景：保护数据）\n",
                "函数多返回值返回的就是元组\n",
                "#### 特点\n",
                "- 不可变的，一旦被创建，就不能添加，修改，替换（**保护数据，函数返回值的本身是元组，不因该被修改**）\n",
                "- 括号里的元素也可以是任意类型\n",
                "#### 方法\n",
                "- 查找某元素下标 .index(元素) \n",
                "- 统计某元素数量 .count(元素)\n",
                "- 查看元组元素数量 len(元组)\n",
                "- 解包元组\n",
                "\n"
            ]
        },
        {
            "cell_type": "code",
            "execution_count": null,
            "metadata": {},
            "outputs": [],
            "source": [
                "#解包元素\n",
                "my_tuple = (\"早晨跑步\", \"打游戏\",\"学习\")\n",
                "a,b,c = my_tuple\n",
                "print(a)\n",
                "print(b)\n",
                "print(c)"
            ]
        },
        {
            "cell_type": "markdown",
            "metadata": {},
            "source": [
                "### 元组列表对比\n",
                "***只有括号不一样，以及元组不可改，但场景几乎遇不到，函数多返回值是个元组"
            ]
        },
        {
            "cell_type": "markdown",
            "metadata": {},
            "source": [
                "### 字符串 （只要是个字符，都有应用场景）\n",
                "本质上也为数据容器\n",
                "#### 方法\n",
                "- 查找 .index(字符)  \n",
                "- 统计 .count(字符)\n",
                "- 查看元组元素数量 len(字符串)\n",
                "- **特有方法 .replace(要替换的字符，替换成的字符)，但字符串本身不能被修改，需要一个新的新的字符串去接收\n",
                "- 分割方法 .split() 结果列表 = 字符串.split(分割字符串)\n",
                "- 规整 .strip()"
            ]
        },
        {
            "cell_type": "code",
            "execution_count": 1,
            "metadata": {},
            "outputs": [
                {
                    "name": "stdout",
                    "output_type": "stream",
                    "text": [
                        "HelloJoeBiden,mynameisTrump\n"
                    ]
                }
            ],
            "source": [
                "my_str = \"Hello Joe Biden,my name is Trump\"\n",
                "new_str = my_str.replace(\" \",\"\")#字符串本身不能被修改\n",
                "print(new_str)       \n"
            ]
        },
        {
            "cell_type": "code",
            "execution_count": 2,
            "metadata": {},
            "outputs": [
                {
                    "name": "stdout",
                    "output_type": "stream",
                    "text": [
                        "['H', 'llo Jo', ' Bid', 'n,my nam', ' is Trump']\n"
                    ]
                }
            ],
            "source": [
                "my_str = \"Hello Joe Biden,my name is Trump\"\n",
                "my_str_list = my_str.split(\"e\")\n",
                "print(my_str_list)"
            ]
        },
        {
            "cell_type": "code",
            "execution_count": 9,
            "metadata": {},
            "outputs": [
                {
                    "name": "stdout",
                    "output_type": "stream",
                    "text": [
                        "['Hello', 'Joe', 'Biden,my', 'name', 'is', 'Trump']\n"
                    ]
                }
            ],
            "source": [
                "\n",
                "my_str = \"Hello Joe Biden,my name is Trump\"\n",
                "my_str_list = my_str.split(\" \") #若什么都不传，默认是空格，但不能传空字符串“”\n",
                "print(my_str_list) \n",
                "\n"
            ]
        },
        {
            "cell_type": "markdown",
            "metadata": {},
            "source": [
                "### 序列总结\n",
                "- 列表，元组，字符串都是序列\n",
                "##### 特点\n",
                "- 连续，有序，可顺序访问\n",
                "- 可用下标索引\n",
                "- 可迭代\n",
                "- 支持切片 语法：序列[start :stop:step],同样前取后不取"
            ]
        },
        {
            "cell_type": "code",
            "execution_count": 10,
            "metadata": {},
            "outputs": [
                {
                    "name": "stdout",
                    "output_type": "stream",
                    "text": [
                        "pmurT si eman ym,nediB eoJ olleH\n"
                    ]
                }
            ],
            "source": [
                "my_str = \"Hello Joe Biden,my name is Trump\"\n",
                "print(my_str[::-1])#倒序输出"
            ]
        },
        {
            "cell_type": "markdown",
            "metadata": {},
            "source": [
                "### 集合  （应用场景：数学上的运算，**给数列去重**）\n",
                "##### 定义\n",
                "##### 特点\n",
                "- 不重复\n",
                "- 无序\n",
                "- 可以修改\n",
                "##### 方法\n",
                "- 增加系列  .set\n",
                "- 删除系列 注意删除随机元素.pop() 因为无下标索引\n",
                "##### 运算\n",
                "- 并集\n",
                "- 交集\n",
                "- 差级\n",
                "##### 统计元素个数 len(my_set)\n",
                "##### 遍历集合 for set_item in my set:\n",
                "***不能用while循环，因为无下标***"
            ]
        },
        {
            "cell_type": "code",
            "execution_count": 15,
            "metadata": {},
            "outputs": [
                {
                    "name": "stdout",
                    "output_type": "stream",
                    "text": [
                        "{'orange', 'banana', 'cherry', 'apple'}\n"
                    ]
                }
            ],
            "source": [
                "my_set = {\"apple\",\"banana\",\"cherry\"}\n",
                "\n",
                "my_set.add(\"orange\")\n",
                "my_set.add(\"orange\")\n",
                "my_set.add(\"orange\")\n",
                "\n",
                "print(my_set)  #无顺序概念，且不可重复\n"
            ]
        },
        {
            "cell_type": "code",
            "execution_count": 16,
            "metadata": {},
            "outputs": [
                {
                    "name": "stdout",
                    "output_type": "stream",
                    "text": [
                        "{1, 2}\n"
                    ]
                }
            ],
            "source": [
                "set1 = {1,2,3}\n",
                "set2 = {3,4,5}\n",
                "\n",
                "#set3 = set1.union(set2)\n",
                "#set3 = set1 | set2\n",
                "\n",
                "#set3 = set1 set2\n",
                "#set3 = set1.intersection(set2)\n",
                "\n",
                "set3 = set1 - set2\n",
                "#set3 = set1.difference(set2)\n",
                "print(set3)"
            ]
        },
        {
            "cell_type": "code",
            "execution_count": null,
            "metadata": {},
            "outputs": [],
            "source": [
                "##应用场景-给列表查重，卑微"
            ]
        },
        {
            "cell_type": "code",
            "execution_count": 35,
            "metadata": {},
            "outputs": [
                {
                    "ename": "TypeError",
                    "evalue": "unhashable type: 'list'",
                    "output_type": "error",
                    "traceback": [
                        "\u001b[0;31m---------------------------------------------------------------------------\u001b[0m",
                        "\u001b[0;31mTypeError\u001b[0m                                 Traceback (most recent call last)",
                        "Cell \u001b[0;32mIn[35], line 2\u001b[0m\n\u001b[1;32m      1\u001b[0m my_list \u001b[38;5;241m=\u001b[39m [\u001b[38;5;241m88\u001b[39m,\u001b[38;5;124m\"\u001b[39m\u001b[38;5;124m睡觉\u001b[39m\u001b[38;5;124m\"\u001b[39m, \u001b[38;5;124m\"\u001b[39m\u001b[38;5;124m睡觉\u001b[39m\u001b[38;5;124m\"\u001b[39m , \u001b[38;5;241m8.889\u001b[39m,\u001b[38;5;241m6\u001b[39m\u001b[38;5;241m+\u001b[39m\u001b[38;5;241m6\u001b[39mj,\u001b[38;5;28;01mTrue\u001b[39;00m,[\u001b[38;5;124m\"\u001b[39m\u001b[38;5;124m打游戏\u001b[39m\u001b[38;5;124m\"\u001b[39m,\u001b[38;5;124m\"\u001b[39m\u001b[38;5;124m上课\u001b[39m\u001b[38;5;124m\"\u001b[39m]]\n\u001b[0;32m----> 2\u001b[0m my_list \u001b[38;5;241m=\u001b[39m \u001b[38;5;28mlist\u001b[39m(\u001b[38;5;28;43mset\u001b[39;49m\u001b[43m(\u001b[49m\u001b[43mmy_list\u001b[49m\u001b[43m)\u001b[49m)\n\u001b[1;32m      3\u001b[0m \u001b[38;5;28mprint\u001b[39m(my_list)   \u001b[38;5;66;03m#############?????????????????????????????????????????/\u001b[39;00m\n",
                        "\u001b[0;31mTypeError\u001b[0m: unhashable type: 'list'"
                    ]
                }
            ],
            "source": [
                "my_list = [88,\"睡觉\", \"睡觉\" , 8.889,6+6j,True,[\"打游戏\",\"上课\"]]\n",
                "my_list = list(set(my_list))\n",
                "print(my_list)   #############?????????????????????????????????????????/"
            ]
        },
        {
            "cell_type": "markdown",
            "metadata": {},
            "source": [
                "### 字典\n",
                "##### 定义\n",
                "- 与集合一样，都是花括号，eg score_dict = (ket:value)\n",
                "##### 特点\n",
                "- 无下标索引\n",
                "- key和value可以是任意数据结构（key不能是字典）\n",
                "- key通常是唯一的，但真实场景同名人多\n",
                "##### 方法\n",
                "- 取值（访问） score_dict[key]\n",
                "- 新增 score_dict[key] = value\n",
                "- 修改字典指定key的value score_dict[key] = new_value\n",
                "- 删除字典中指定的元素 score_dict.pop(key)\n",
                "- 清空字典 score_dict.clear()\n",
                "- 获取字典的元素个数 len(score_dict)\n",
                "##### 遍历 score_dict.keys()获取键  score_dict.values()获取值  score_dict.items()获取键与值，但打印出的是元组\n",
                "##### 解包\n"
            ]
        },
        {
            "cell_type": "code",
            "execution_count": 7,
            "metadata": {},
            "outputs": [
                {
                    "name": "stdout",
                    "output_type": "stream",
                    "text": [
                        "656\n",
                        "张三 656\n",
                        "李四 555\n",
                        "王五 444\n"
                    ]
                }
            ],
            "source": [
                "score_dict = {\n",
                "    \"张三\": 656,\n",
                "    \"李四\": 555,\n",
                "    \"王五\": 444,\n",
                "}\n",
                "print(score_dict[\"张三\"])\n",
                "for key in score_dict.keys():\n",
                "    print(key,score_dict[key])"
            ]
        },
        {
            "cell_type": "code",
            "execution_count": 37,
            "metadata": {},
            "outputs": [
                {
                    "name": "stdout",
                    "output_type": "stream",
                    "text": [
                        "张三\n",
                        "李四\n",
                        "王五\n"
                    ]
                }
            ],
            "source": [
                "for key in score_dict:\n",
                "    print(key)"
            ]
        },
        {
            "cell_type": "code",
            "execution_count": 38,
            "metadata": {},
            "outputs": [
                {
                    "name": "stdout",
                    "output_type": "stream",
                    "text": [
                        "656\n",
                        "555\n",
                        "444\n"
                    ]
                }
            ],
            "source": [
                "for key in score_dict:\n",
                "    print(score_dict[key])"
            ]
        },
        {
            "cell_type": "code",
            "execution_count": 39,
            "metadata": {},
            "outputs": [
                {
                    "name": "stdout",
                    "output_type": "stream",
                    "text": [
                        "[656, 555, 444]\n"
                    ]
                }
            ],
            "source": [
                "#转数列\n",
                "print(list(score_dict.values()))"
            ]
        },
        {
            "cell_type": "code",
            "execution_count": 40,
            "metadata": {},
            "outputs": [
                {
                    "name": "stdout",
                    "output_type": "stream",
                    "text": [
                        "('张三', 656)\n",
                        "('李四', 555)\n",
                        "('王五', 444)\n"
                    ]
                }
            ],
            "source": [
                "for item in score_dict.items():\n",
                "    print(item)#打印出的是元组"
            ]
        },
        {
            "cell_type": "code",
            "execution_count": 8,
            "metadata": {},
            "outputs": [
                {
                    "name": "stdout",
                    "output_type": "stream",
                    "text": [
                        "张三 656\n",
                        "李四 555\n",
                        "王五 444\n"
                    ]
                }
            ],
            "source": [
                "for key,value in score_dict.items():#解包\n",
                "    print(key,value)"
            ]
        },
        {
            "cell_type": "markdown",
            "metadata": {},
            "source": [
                "## 总结\n",
                "- 下标索引：有序，序列（除集合，字典）\n",
                "- 支持重复：（除集合，字典）\n",
                "- 可修改：（除元组，字符串）\n",
                "- "
            ]
        }
    ],
    "metadata": {
        "kernelspec": {
            "display_name": "Python 3",
            "language": "python",
            "name": "python3"
        },
        "language_info": {
            "codemirror_mode": {
                "name": "ipython",
                "version": 3
            },
            "file_extension": ".py",
            "mimetype": "text/x-python",
            "name": "python",
            "nbconvert_exporter": "python",
            "pygments_lexer": "ipython3",
            "version": "3.12.5"
        }
    },
    "nbformat": 4,
    "nbformat_minor": 2
}
