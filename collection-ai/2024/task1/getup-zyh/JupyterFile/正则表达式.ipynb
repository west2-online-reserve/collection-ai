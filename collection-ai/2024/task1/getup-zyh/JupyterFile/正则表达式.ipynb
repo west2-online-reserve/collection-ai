{
 "cells": [
  {
   "cell_type": "markdown",
   "metadata": {
    "vscode": {
     "languageId": "latex"
    }
   },
   "source": [
    "# 正则表达式\n",
    "规则的定义，验证规则\n",
    "### 方法\n",
    ".match \n",
    ".search\n",
    ".findall\n",
    "### 原字符匹配\n",
    "- 单字符匹配\n",
    "- 数量匹配\n",
    "- 边界匹配\n",
    "- 分组匹"
   ]
  },
  {
   "cell_type": "code",
   "execution_count": 10,
   "metadata": {},
   "outputs": [
    {
     "name": "stdout",
     "output_type": "stream",
     "text": [
      "None\n"
     ]
    },
    {
     "ename": "AttributeError",
     "evalue": "'NoneType' object has no attribute 'span'",
     "output_type": "error",
     "traceback": [
      "\u001b[0;31m---------------------------------------------------------------------------\u001b[0m",
      "\u001b[0;31mAttributeError\u001b[0m                            Traceback (most recent call last)",
      "Cell \u001b[0;32mIn[10], line 6\u001b[0m\n\u001b[1;32m      4\u001b[0m result \u001b[38;5;241m=\u001b[39m re\u001b[38;5;241m.\u001b[39mmatch(\u001b[38;5;124m\"\u001b[39m\u001b[38;5;124mlei\u001b[39m\u001b[38;5;124m\"\u001b[39m, s)\n\u001b[1;32m      5\u001b[0m \u001b[38;5;28mprint\u001b[39m(result)\n\u001b[0;32m----> 6\u001b[0m \u001b[38;5;28mprint\u001b[39m(\u001b[43mresult\u001b[49m\u001b[38;5;241;43m.\u001b[39;49m\u001b[43mspan\u001b[49m)\n\u001b[1;32m      7\u001b[0m \u001b[38;5;28mprint\u001b[39m(result\u001b[38;5;241m.\u001b[39mgroup)\n",
      "\u001b[0;31mAttributeError\u001b[0m: 'NoneType' object has no attribute 'span'"
     ]
    }
   ],
   "source": [
    "###为什么只能匹配第一个wo,从头部匹配后面不理会是什么意思,换成search又可以？ 应该是从头部匹配，而不是全局匹配\n",
    "import re\n",
    "s = \"wo hao lei\"\n",
    "result = re.match(\"lei\", s)\n",
    "print(result)\n",
    "print(result.span)\n",
    "print(result.group)"
   ]
  },
  {
   "cell_type": "code",
   "execution_count": 12,
   "metadata": {},
   "outputs": [
    {
     "name": "stdout",
     "output_type": "stream",
     "text": [
      "<re.Match object; span=(7, 10), match='lei'>\n",
      "<built-in method span of re.Match object at 0x1110e48c0>\n",
      "<built-in method group of re.Match object at 0x1110e48c0>\n"
     ]
    }
   ],
   "source": [
    "## 找到第一个后任然不会再找下去\n",
    "import re\n",
    "s = \"wo hao lei lei\"\n",
    "result = re.search(\"lei\", s)\n",
    "print(result)\n",
    "print(result.span)\n",
    "print(result.group)"
   ]
  },
  {
   "cell_type": "code",
   "execution_count": 14,
   "metadata": {},
   "outputs": [
    {
     "name": "stdout",
     "output_type": "stream",
     "text": [
      "['lei', 'lei', 'lei', 'lei']\n"
     ]
    }
   ],
   "source": [
    "import re\n",
    "s = \"wo hao lei lei lei lei\"\n",
    "result = re.findall(\"lei\", s)\n",
    "print(result)\n",
    "#print(result.span)\n",
    "#print(result.group)\n"
   ]
  },
  {
   "cell_type": "code",
   "execution_count": 16,
   "metadata": {},
   "outputs": [
    {
     "name": "stdout",
     "output_type": "stream",
     "text": [
      "['1', '2', '3', '6', '6', '6', '1', '2', '3', '2', '2', '3', '3', '9']\n"
     ]
    }
   ],
   "source": [
    "s = \"# **wo1 hao2 lei3 @ 666 123 2 2 339yyy!!!!**\"\n",
    "result = re.findall(r'\\d',s)\n",
    "print(result)"
   ]
  },
  {
   "cell_type": "code",
   "execution_count": 26,
   "metadata": {},
   "outputs": [
    {
     "name": "stdout",
     "output_type": "stream",
     "text": [
      "['#', ' ', '*', '*', ' ', ' ', ' ', '@', ' ', ' ', ' ', ' ', ' ', '!', '!', '!', '!', '*', '*']\n"
     ]
    }
   ],
   "source": [
    "#好像是大写W，匹配特殊字符\n",
    "s = \"# **Wo1 Hao2 Lei3 @ 666 123 2 2 339YyY!!!!**\"\n",
    "result = re.findall(r'\\W',s)\n",
    "print(result)"
   ]
  },
  {
   "cell_type": "code",
   "execution_count": 28,
   "metadata": {},
   "outputs": [
    {
     "name": "stdout",
     "output_type": "stream",
     "text": [
      "['o', 'a', 'o', 'e', 'i', 'y']\n",
      "['1', '2', '3', '6', '6', '6', '1', '2', '3', '2', '2', '3', '3', '9']\n"
     ]
    }
   ],
   "source": [
    "# [a-zA-Z0-9]\n",
    "s = \"# **Wo1 Hao2 Lei3 @ 666 123 2 2 339YyY!!!!**\"\n",
    "result = re.findall(r'[a-z]',s)\n",
    "print(result)\n",
    "\n",
    "r = '[0-9]'\n",
    "result2 = re.findall(r,s)\n",
    "print(result2)\n"
   ]
  },
  {
   "cell_type": "markdown",
   "metadata": {},
   "source": [
    "### 案例1：匹配账号，只能由字母和数字组成，长度为6-8位"
   ]
  },
  {
   "cell_type": "code",
   "execution_count": 43,
   "metadata": {},
   "outputs": [
    {
     "name": "stdout",
     "output_type": "stream",
     "text": [
      "['123456']\n"
     ]
    }
   ],
   "source": [
    "r = '^[0-9a-zA-Z]{6,10}$'\n",
    "s = '123456'\n",
    "print(re.findall(r,s))"
   ]
  },
  {
   "cell_type": "markdown",
   "metadata": {},
   "source": [
    "### 案例2:匹配QQ号，要求纯数字，长度5-11，第一位不为零"
   ]
  },
  {
   "cell_type": "code",
   "execution_count": 52,
   "metadata": {},
   "outputs": [
    {
     "name": "stdout",
     "output_type": "stream",
     "text": [
      "['12345678']\n"
     ]
    }
   ],
   "source": [
    "r = '^[1-9][0-9]{4,10}$'\n",
    "s = '12345678'\n",
    "print(re.findall(r,s))\n"
   ]
  },
  {
   "cell_type": "markdown",
   "metadata": {},
   "source": [
    "### 案例3:匹配邮箱地址，只允许qq,163,gimail"
   ]
  },
  {
   "cell_type": "code",
   "execution_count": 74,
   "metadata": {},
   "outputs": [
    {
     "name": "stdout",
     "output_type": "stream",
     "text": [
      "[]\n"
     ]
    },
    {
     "name": "stderr",
     "output_type": "stream",
     "text": [
      "<>:3: SyntaxWarning: invalid escape sequence '\\w'\n",
      "<>:3: SyntaxWarning: invalid escape sequence '\\w'\n",
      "/var/folders/lf/cnhvd4nx4253fr5dfj6_01pr0000gn/T/ipykernel_6239/3610918966.py:3: SyntaxWarning: invalid escape sequence '\\w'\n",
      "  r = '(^[\\w-]+(\\.[\\w-]+)*@(qq|163|gmai)(\\.[\\w-]+)+$)'\n"
     ]
    }
   ],
   "source": [
    "#### \n",
    "import re\n",
    "r = '(^[\\w-]+(\\.[\\w-]+)*@(qq|163|gmai)(\\.[\\w-]+)+$)'\n",
    "s = 'a.s.d.f.g.h.j.j@qq.com.q.w.e.r.'\n",
    "print(re.findall(r,s))\n",
    "\n",
    "\n"
   ]
  }
 ],
 "metadata": {
  "kernelspec": {
   "display_name": "Python 3",
   "language": "python",
   "name": "python3"
  },
  "language_info": {
   "codemirror_mode": {
    "name": "ipython",
    "version": 3
   },
   "file_extension": ".py",
   "mimetype": "text/x-python",
   "name": "python",
   "nbconvert_exporter": "python",
   "pygments_lexer": "ipython3",
   "version": "3.12.5"
  }
 },
 "nbformat": 4,
 "nbformat_minor": 2
}
